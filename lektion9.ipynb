{
 "cells": [
  {
   "cell_type": "markdown",
   "metadata": {},
   "source": [
    "# Computergestützte Mathematik zur Analysis\n",
    "\n",
    "13.12.2018\n",
    "\n",
    "&copy; Rüdiger W. Braun 2018"
   ]
  },
  {
   "cell_type": "markdown",
   "metadata": {
    "slideshow": {
     "slide_type": "slide"
    }
   },
   "source": [
    "* Gruppe 1: Mo 14:30 - 16:00\n",
    "* Gruppe 2: Di 12:30 - 14:00\n",
    "* Gruppe 3: Mi 10:30 - 12:00\n",
    "* Gruppe 4: Do 12:30 - 14:00\n",
    "* Gruppe 5: Fr 8:30 - 10:00"
   ]
  },
  {
   "cell_type": "code",
   "execution_count": 1,
   "metadata": {
    "slideshow": {
     "slide_type": "slide"
    }
   },
   "outputs": [],
   "source": [
    "from sympy import *\n",
    "init_printing()\n",
    "%matplotlib qt\n",
    "import numpy as np\n",
    "import matplotlib.pyplot as plt"
   ]
  },
  {
   "cell_type": "markdown",
   "metadata": {
    "slideshow": {
     "slide_type": "slide"
    }
   },
   "source": [
    "Ungleichungen"
   ]
  },
  {
   "cell_type": "code",
   "execution_count": 2,
   "metadata": {},
   "outputs": [],
   "source": [
    "x = Symbol('x')\n",
    "y = Symbol('y')\n",
    "a = Symbol('a')"
   ]
  },
  {
   "cell_type": "code",
   "execution_count": 3,
   "metadata": {},
   "outputs": [
    {
     "data": {
      "image/png": "[encoded data removed]",
      "text/latex": [
       "$$\\left ( x^{2} + x + 1, \\quad 2 x^{2}\\right )$$"
      ],
      "text/plain": [
       "⎛ 2             2⎞\n",
       "⎝x  + x + 1, 2⋅x ⎠"
      ]
     },
     "execution_count": 3,
     "metadata": {},
     "output_type": "execute_result"
    }
   ],
   "source": [
    "f = x**2 + x + 1\n",
    "g = 2*x**2\n",
    "f, g"
   ]
  },
  {
   "cell_type": "code",
   "execution_count": 4,
   "metadata": {
    "slideshow": {
     "slide_type": "slide"
    }
   },
   "outputs": [
    {
     "data": {
      "image/png": "[encoded data removed]",
      "text/latex": [
       "$$\\left(- \\frac{\\sqrt{5}}{2} + \\frac{1}{2}, \\frac{1}{2} + \\frac{\\sqrt{5}}{2}\\right)$$"
      ],
      "text/plain": [
       "⎛  √5   1  1   √5⎞\n",
       "⎜- ── + ─, ─ + ──⎟\n",
       "⎝  2    2  2   2 ⎠"
      ]
     },
     "execution_count": 4,
     "metadata": {},
     "output_type": "execute_result"
    }
   ],
   "source": [
    "solveset(f>g, domain=Reals)"
   ]
  },
  {
   "cell_type": "code",
   "execution_count": 5,
   "metadata": {},
   "outputs": [
    {
     "name": "stdout",
     "output_type": "stream",
     "text": [
      "Interval.open(-sqrt(5)/2 + 1/2, 1/2 + sqrt(5)/2)\n"
     ]
    }
   ],
   "source": [
    "print(_)"
   ]
  },
  {
   "cell_type": "code",
   "execution_count": 8,
   "metadata": {
    "slideshow": {
     "slide_type": "fragment"
    }
   },
   "outputs": [
    {
     "data": {
      "image/png": "[encoded data removed]",
      "text/latex": [
       "$$\\left(\\frac{\\pi}{4}, \\frac{5 \\pi}{4}\\right)$$"
      ],
      "text/plain": [
       "⎛π  5⋅π⎞\n",
       "⎜─, ───⎟\n",
       "⎝4   4 ⎠"
      ]
     },
     "execution_count": 8,
     "metadata": {},
     "output_type": "execute_result"
    }
   ],
   "source": [
    "solveset(sin(x) > cos(x), domain=Reals)"
   ]
  },
  {
   "cell_type": "markdown",
   "metadata": {},
   "source": [
    "Die korrekte Lösungsmenge ist allerdings periodisch."
   ]
  },
  {
   "cell_type": "code",
   "execution_count": 9,
   "metadata": {
    "slideshow": {
     "slide_type": "fragment"
    }
   },
   "outputs": [
    {
     "data": {
      "image/png": "[encoded data removed]",
      "text/latex": [
       "$$\\frac{\\pi}{4} < x \\wedge x < \\frac{5 \\pi}{4}$$"
      ],
      "text/plain": [
       "π           5⋅π\n",
       "─ < x ∧ x < ───\n",
       "4            4 "
      ]
     },
     "execution_count": 9,
     "metadata": {},
     "output_type": "execute_result"
    }
   ],
   "source": [
    "solve(sin(x) > cos(x), x)"
   ]
  },
  {
   "cell_type": "markdown",
   "metadata": {
    "slideshow": {
     "slide_type": "slide"
    }
   },
   "source": [
    "Die `LambertW`-Funktion"
   ]
  },
  {
   "cell_type": "code",
   "execution_count": 11,
   "metadata": {},
   "outputs": [
    {
     "data": {
      "image/png": "[encoded data removed]",
      "text/latex": [
       "$$x e^{x} = y$$"
      ],
      "text/plain": [
       "   x    \n",
       "x⋅ℯ  = y"
      ]
     },
     "execution_count": 11,
     "metadata": {},
     "output_type": "execute_result"
    }
   ],
   "source": [
    "f = x*exp(x)\n",
    "glg = Eq(f, y)\n",
    "glg"
   ]
  },
  {
   "cell_type": "code",
   "execution_count": 12,
   "metadata": {
    "slideshow": {
     "slide_type": "fragment"
    }
   },
   "outputs": [
    {
     "data": {
      "image/png": "[encoded data removed]",
      "text/latex": [
       "$$\\left\\{x \\mid x \\in \\mathbb{C} \\wedge x e^{x} - y = 0 \\right\\}$$"
      ],
      "text/plain": [
       "⎧               x        ⎫\n",
       "⎨x | x ∊ ℂ ∧ x⋅ℯ  - y = 0⎬\n",
       "⎩                        ⎭"
      ]
     },
     "execution_count": 12,
     "metadata": {},
     "output_type": "execute_result"
    }
   ],
   "source": [
    "solveset(glg, x)"
   ]
  },
  {
   "cell_type": "code",
   "execution_count": 13,
   "metadata": {
    "slideshow": {
     "slide_type": "fragment"
    }
   },
   "outputs": [
    {
     "data": {
      "image/png": "[encoded data removed]",
      "text/latex": [
       "$$\\left [ \\operatorname{LambertW}{\\left (y \\right )}\\right ]$$"
      ],
      "text/plain": [
       "[LambertW(y)]"
      ]
     },
     "execution_count": 13,
     "metadata": {},
     "output_type": "execute_result"
    }
   ],
   "source": [
    "solve(glg, x)"
   ]
  },
  {
   "cell_type": "markdown",
   "metadata": {
    "slideshow": {
     "slide_type": "slide"
    }
   },
   "source": [
    "Wir schauen uns die Funktion $xe^x$ genauer an"
   ]
  },
  {
   "cell_type": "code",
   "execution_count": 14,
   "metadata": {},
   "outputs": [],
   "source": [
    "xn = np.linspace(-5, 1.5)\n",
    "fn = lambdify(x, f, 'numpy')"
   ]
  },
  {
   "cell_type": "code",
   "execution_count": 15,
   "metadata": {},
   "outputs": [],
   "source": [
    "plt.plot(xn, fn(xn));"
   ]
  },
  {
   "cell_type": "markdown",
   "metadata": {
    "slideshow": {
     "slide_type": "slide"
    }
   },
   "source": [
    "$f$ ist offenbar nicht injektiv.  Wo ist die Minimalstelle?"
   ]
  },
  {
   "cell_type": "code",
   "execution_count": 16,
   "metadata": {},
   "outputs": [
    {
     "data": {
      "image/png": "[encoded data removed]",
      "text/latex": [
       "$$x e^{x}$$"
      ],
      "text/plain": [
       "   x\n",
       "x⋅ℯ "
      ]
     },
     "execution_count": 16,
     "metadata": {},
     "output_type": "execute_result"
    }
   ],
   "source": [
    "f"
   ]
  },
  {
   "cell_type": "code",
   "execution_count": 17,
   "metadata": {},
   "outputs": [
    {
     "data": {
      "image/png": "[encoded data removed]",
      "text/latex": [
       "$$x e^{x} + e^{x}$$"
      ],
      "text/plain": [
       "   x    x\n",
       "x⋅ℯ  + ℯ "
      ]
     },
     "execution_count": 17,
     "metadata": {},
     "output_type": "execute_result"
    }
   ],
   "source": [
    "df = f.diff(x)\n",
    "df"
   ]
  },
  {
   "cell_type": "code",
   "execution_count": 18,
   "metadata": {},
   "outputs": [
    {
     "data": {
      "image/png": "[encoded data removed]",
      "text/latex": [
       "$$\\left [ -1\\right ]$$"
      ],
      "text/plain": [
       "[-1]"
      ]
     },
     "execution_count": 18,
     "metadata": {},
     "output_type": "execute_result"
    }
   ],
   "source": [
    "solve(df)"
   ]
  },
  {
   "cell_type": "code",
   "execution_count": 19,
   "metadata": {
    "slideshow": {
     "slide_type": "slide"
    }
   },
   "outputs": [],
   "source": [
    "x0 = solve(df)[0]"
   ]
  },
  {
   "cell_type": "code",
   "execution_count": 22,
   "metadata": {},
   "outputs": [],
   "source": [
    "# y0 = fn(x0)\n",
    "# AttributeError"
   ]
  },
  {
   "cell_type": "code",
   "execution_count": 23,
   "metadata": {
    "slideshow": {
     "slide_type": "fragment"
    }
   },
   "outputs": [
    {
     "data": {
      "text/plain": [
       "sympy.core.numbers.NegativeOne"
      ]
     },
     "execution_count": 23,
     "metadata": {},
     "output_type": "execute_result"
    }
   ],
   "source": [
    "type(x0)"
   ]
  },
  {
   "cell_type": "markdown",
   "metadata": {},
   "source": [
    "Das hätte man in der Renaissance genauso gesehen.\n",
    "\n",
    "Eigentlich hätten wir $y_0$ aber auch lieber symbolisch."
   ]
  },
  {
   "cell_type": "code",
   "execution_count": 24,
   "metadata": {
    "slideshow": {
     "slide_type": "slide"
    }
   },
   "outputs": [
    {
     "data": {
      "image/png": "[encoded data removed]",
      "text/latex": [
       "$$\\left ( -1, \\quad - \\frac{1}{e}\\right )$$"
      ],
      "text/plain": [
       "⎛      -1⎞\n",
       "⎝-1, -ℯ  ⎠"
      ]
     },
     "execution_count": 24,
     "metadata": {},
     "output_type": "execute_result"
    }
   ],
   "source": [
    "y0 = f.subs(x,x0)\n",
    "x0, y0"
   ]
  },
  {
   "cell_type": "code",
   "execution_count": 26,
   "metadata": {},
   "outputs": [],
   "source": [
    "xn = np.linspace(float(y0)+.000001, 7, 300) "
   ]
  },
  {
   "cell_type": "markdown",
   "metadata": {
    "slideshow": {
     "slide_type": "slide"
    }
   },
   "source": [
    "Jetzt zeichnen wir den Hauptzweig der `LambertW`-Funktion.  \n",
    "\n",
    "Es gibt drei Bibliotheken für Mathefunktionen:\n",
    "\n",
    "* `numpy`:  elemetare Funktionen als ufunc mit doppelter Genauigkeit\n",
    "* `scipy.special`:  spezielle Funktionen als ufunc mit doppelter Genauigkeit\n",
    "* `mpmath`:  elementare und spezielle Funktionen mit beliebiger Genauigkeit, aber nicht als ufunc\n",
    "\n",
    "`Lambertw` ist in `mpmath` und in `scipy.special` (als `lambertw`)"
   ]
  },
  {
   "cell_type": "markdown",
   "metadata": {
    "slideshow": {
     "slide_type": "slide"
    }
   },
   "source": [
    "Wir nutzen `lambdify`, obwohl das in diesem einfachen Fall nicht sinnvoll ist."
   ]
  },
  {
   "cell_type": "markdown",
   "metadata": {
    "slideshow": {
     "slide_type": "slide"
    }
   },
   "source": [
    "erste Möglichkeit: List Comprehension"
   ]
  },
  {
   "cell_type": "code",
   "execution_count": 27,
   "metadata": {},
   "outputs": [],
   "source": [
    "fn1 = lambdify(y, LambertW(y), 'mpmath')"
   ]
  },
  {
   "cell_type": "code",
   "execution_count": 28,
   "metadata": {},
   "outputs": [
    {
     "data": {
      "text/plain": [
       "mpf('0.85260550201372554')"
      ]
     },
     "execution_count": 28,
     "metadata": {},
     "output_type": "execute_result"
    }
   ],
   "source": [
    "fn1(2)"
   ]
  },
  {
   "cell_type": "code",
   "execution_count": 29,
   "metadata": {
    "slideshow": {
     "slide_type": "slide"
    }
   },
   "outputs": [],
   "source": [
    "yn1 = [fn1(xx) for xx in xn]"
   ]
  },
  {
   "cell_type": "code",
   "execution_count": 30,
   "metadata": {
    "slideshow": {
     "slide_type": ""
    }
   },
   "outputs": [],
   "source": [
    "plt.figure()\n",
    "plt.plot(xn, yn1);"
   ]
  },
  {
   "cell_type": "markdown",
   "metadata": {
    "slideshow": {
     "slide_type": "slide"
    }
   },
   "source": [
    "zweite Möglichkeit: `scipy.special` nutzen"
   ]
  },
  {
   "cell_type": "code",
   "execution_count": 31,
   "metadata": {},
   "outputs": [],
   "source": [
    "from scipy import special\n",
    "fn2 = lambdify(y, LambertW(y), ['numpy', {'LambertW': special.lambertw}])"
   ]
  },
  {
   "cell_type": "code",
   "execution_count": 32,
   "metadata": {},
   "outputs": [
    {
     "data": {
      "text/plain": [
       "(0.8526055020137254+0j)"
      ]
     },
     "execution_count": 32,
     "metadata": {},
     "output_type": "execute_result"
    }
   ],
   "source": [
    "fn2(2)"
   ]
  },
  {
   "cell_type": "code",
   "execution_count": 38,
   "metadata": {},
   "outputs": [],
   "source": [
    "yn2 = fn2(xn).real"
   ]
  },
  {
   "cell_type": "code",
   "execution_count": 39,
   "metadata": {
    "slideshow": {
     "slide_type": "slide"
    }
   },
   "outputs": [],
   "source": [
    "plt.figure()\n",
    "plt.plot(xn, yn2);"
   ]
  },
  {
   "cell_type": "markdown",
   "metadata": {
    "slideshow": {
     "slide_type": "slide"
    }
   },
   "source": [
    "Jetzt der andere Ast."
   ]
  },
  {
   "cell_type": "code",
   "execution_count": 41,
   "metadata": {},
   "outputs": [],
   "source": [
    "xn_minus = np.linspace(float(y0)+.000001, 0)\n",
    "fn_minus = lambdify(y, LambertW(y, -1), 'mpmath')\n",
    "yn_minus = [fn_minus(x) for x in xn_minus]"
   ]
  },
  {
   "cell_type": "code",
   "execution_count": 42,
   "metadata": {
    "slideshow": {
     "slide_type": "slide"
    }
   },
   "outputs": [],
   "source": [
    "plt.figure()\n",
    "plt.plot(xn, yn2)\n",
    "plt.plot(xn_minus, yn_minus);"
   ]
  },
  {
   "cell_type": "code",
   "execution_count": 43,
   "metadata": {
    "slideshow": {
     "slide_type": "slide"
    }
   },
   "outputs": [
    {
     "data": {
      "image/png": "[encoded data removed]",
      "text/latex": [
       "$$- x + 2 = a \\log{\\left (x \\right )}$$"
      ],
      "text/plain": [
       "-x + 2 = a⋅log(x)"
      ]
     },
     "execution_count": 43,
     "metadata": {},
     "output_type": "execute_result"
    }
   ],
   "source": [
    "glg = Eq(2-x, a*log(x))\n",
    "glg"
   ]
  },
  {
   "cell_type": "code",
   "execution_count": 44,
   "metadata": {},
   "outputs": [
    {
     "data": {
      "image/png": "[encoded data removed]",
      "text/latex": [
       "$$\\left [ a \\operatorname{LambertW}{\\left (\\frac{e^{\\frac{2}{a}}}{a} \\right )}\\right ]$$"
      ],
      "text/plain": [
       "⎡          ⎛ 2⎞⎤\n",
       "⎢          ⎜ ─⎟⎥\n",
       "⎢          ⎜ a⎟⎥\n",
       "⎢          ⎜ℯ ⎟⎥\n",
       "⎢a⋅LambertW⎜──⎟⎥\n",
       "⎣          ⎝a ⎠⎦"
      ]
     },
     "execution_count": 44,
     "metadata": {},
     "output_type": "execute_result"
    }
   ],
   "source": [
    "f = solve(glg, x)\n",
    "f"
   ]
  },
  {
   "cell_type": "code",
   "execution_count": 45,
   "metadata": {
    "slideshow": {
     "slide_type": "fragment"
    }
   },
   "outputs": [
    {
     "data": {
      "image/png": "[encoded data removed]",
      "text/latex": [
       "$$1.04871364961267$$"
      ],
      "text/plain": [
       "1.04871364961267"
      ]
     },
     "execution_count": 45,
     "metadata": {},
     "output_type": "execute_result"
    }
   ],
   "source": [
    "N(f[0].subs(a, 20))"
   ]
  },
  {
   "cell_type": "markdown",
   "metadata": {
    "slideshow": {
     "slide_type": "fragment"
    }
   },
   "source": [
    "Wie verhält sich diese Funktion bei Annäherung an $\\infty$?\n",
    "\n",
    "Zu diesem Zweck wird jetzt die Methode `series` vorgestellt"
   ]
  },
  {
   "cell_type": "markdown",
   "metadata": {
    "slideshow": {
     "slide_type": "slide"
    }
   },
   "source": [
    "Reihenentwicklungen"
   ]
  },
  {
   "cell_type": "code",
   "execution_count": 46,
   "metadata": {
    "slideshow": {
     "slide_type": ""
    }
   },
   "outputs": [
    {
     "data": {
      "image/png": "[encoded data removed]",
      "text/latex": [
       "$$1 - \\frac{x^{2}}{2} + \\frac{x^{4}}{24} + O\\left(x^{6}\\right)$$"
      ],
      "text/plain": [
       "     2    4        \n",
       "    x    x     ⎛ 6⎞\n",
       "1 - ── + ── + O⎝x ⎠\n",
       "    2    24        "
      ]
     },
     "execution_count": 46,
     "metadata": {},
     "output_type": "execute_result"
    }
   ],
   "source": [
    "g = cos(x)\n",
    "g.series(x, 0)"
   ]
  },
  {
   "cell_type": "code",
   "execution_count": 50,
   "metadata": {
    "slideshow": {
     "slide_type": "fragment"
    }
   },
   "outputs": [
    {
     "data": {
      "image/png": "[encoded data removed]",
      "text/latex": [
       "$$1 - \\frac{x^{2}}{2} + \\frac{x^{4}}{24} - \\frac{x^{6}}{720} + \\frac{x^{8}}{40320} - \\frac{x^{10}}{3628800} + \\frac{x^{12}}{479001600} + O\\left(x^{14}\\right)$$"
      ],
      "text/plain": [
       "     2    4     6      8       10         12            \n",
       "    x    x     x      x       x          x         ⎛ 14⎞\n",
       "1 - ── + ── - ─── + ───── - ─────── + ───────── + O⎝x  ⎠\n",
       "    2    24   720   40320   3628800   479001600         "
      ]
     },
     "execution_count": 50,
     "metadata": {},
     "output_type": "execute_result"
    }
   ],
   "source": [
    "g.series(x, 0, 14)"
   ]
  },
  {
   "cell_type": "markdown",
   "metadata": {
    "slideshow": {
     "slide_type": "slide"
    }
   },
   "source": [
    "Zur Weiterverarbeitung muss häufig der Ordnungsterm entfernt werden:"
   ]
  },
  {
   "cell_type": "code",
   "execution_count": 48,
   "metadata": {},
   "outputs": [
    {
     "data": {
      "image/png": "[encoded data removed]",
      "text/latex": [
       "$$\\frac{x^{12}}{479001600} - \\frac{x^{10}}{3628800} + \\frac{x^{8}}{40320} - \\frac{x^{6}}{720} + \\frac{x^{4}}{24} - \\frac{x^{2}}{2} + 1$$"
      ],
      "text/plain": [
       "    12         10        8      6    4    2    \n",
       "   x          x         x      x    x    x     \n",
       "───────── - ─────── + ───── - ─── + ── - ── + 1\n",
       "479001600   3628800   40320   720   24   2     "
      ]
     },
     "execution_count": 48,
     "metadata": {},
     "output_type": "execute_result"
    }
   ],
   "source": [
    "g.series(x, 0, 14).removeO()"
   ]
  },
  {
   "cell_type": "code",
   "execution_count": 51,
   "metadata": {
    "slideshow": {
     "slide_type": "fragment"
    }
   },
   "outputs": [
    {
     "data": {
      "image/png": "[encoded data removed]",
      "text/latex": [
       "$$\\frac{\\pi}{2} + \\frac{\\left(x - \\frac{\\pi}{2}\\right)^{3}}{6} - \\frac{\\left(x - \\frac{\\pi}{2}\\right)^{5}}{120} - x + O\\left(\\left(x - \\frac{\\pi}{2}\\right)^{6}; x\\rightarrow \\frac{\\pi}{2}\\right)$$"
      ],
      "text/plain": [
       "           3          5                         \n",
       "    ⎛    π⎞    ⎛    π⎞                          \n",
       "    ⎜x - ─⎟    ⎜x - ─⎟         ⎛       6       ⎞\n",
       "π   ⎝    2⎠    ⎝    2⎠         ⎜⎛    π⎞       π⎟\n",
       "─ + ──────── - ──────── - x + O⎜⎜x - ─⎟ ; x → ─⎟\n",
       "2      6         120           ⎝⎝    2⎠       2⎠"
      ]
     },
     "execution_count": 51,
     "metadata": {},
     "output_type": "execute_result"
    }
   ],
   "source": [
    "g.series(x, pi/2)"
   ]
  },
  {
   "cell_type": "code",
   "execution_count": null,
   "metadata": {
    "slideshow": {
     "slide_type": "fragment"
    }
   },
   "outputs": [],
   "source": [
    "log(x).series(x, 1)"
   ]
  },
  {
   "cell_type": "markdown",
   "metadata": {},
   "source": [
    "Hier handelt es sich um Taylorpolynome."
   ]
  },
  {
   "cell_type": "code",
   "execution_count": 52,
   "metadata": {
    "slideshow": {
     "slide_type": "slide"
    }
   },
   "outputs": [
    {
     "data": {
      "image/png": "[encoded data removed]",
      "text/latex": [
       "$$- \\log{\\left (x \\right )} + x^{2} - \\frac{x^{4}}{2} + O\\left(x^{6}\\right)$$"
      ],
      "text/plain": [
       "                4        \n",
       "           2   x     ⎛ 6⎞\n",
       "-log(x) + x  - ── + O⎝x ⎠\n",
       "               2         "
      ]
     },
     "execution_count": 52,
     "metadata": {},
     "output_type": "execute_result"
    }
   ],
   "source": [
    "h = log(x + 1/x)\n",
    "h.series(x, 0)"
   ]
  },
  {
   "cell_type": "markdown",
   "metadata": {},
   "source": [
    "Das bedeutet:\n",
    "\n",
    "Es gibt $C>0$, so dass \n",
    "\n",
    "$$ \\left| \\log\\left( x + \\frac1x \\right) + \\log x - x^2 + \\frac{x^4}2 \\right| \\le C x^6\n",
    "$$\n",
    "für $ x \\searrow 0 $."
   ]
  },
  {
   "cell_type": "code",
   "execution_count": 53,
   "metadata": {
    "slideshow": {
     "slide_type": "slide"
    }
   },
   "outputs": [
    {
     "data": {
      "image/png": "[encoded data removed]",
      "text/latex": [
       "$$i \\pi - \\log{\\left (- x \\right )} + x^{2} - \\frac{x^{4}}{2} + O\\left(x^{6}\\right)$$"
      ],
      "text/plain": [
       "                      4        \n",
       "                 2   x     ⎛ 6⎞\n",
       "ⅈ⋅π - log(-x) + x  - ── + O⎝x ⎠\n",
       "                     2         "
      ]
     },
     "execution_count": 53,
     "metadata": {},
     "output_type": "execute_result"
    }
   ],
   "source": [
    "h.series(x, 0, dir='-')"
   ]
  },
  {
   "cell_type": "markdown",
   "metadata": {},
   "source": [
    "Fragen Sie Dr. Köhne."
   ]
  },
  {
   "cell_type": "markdown",
   "metadata": {
    "slideshow": {
     "slide_type": "slide"
    }
   },
   "source": [
    "Mit derselben Interpretation kann man auch Reihenentwicklungen für $x\\to\\infty$ bekommen."
   ]
  },
  {
   "cell_type": "code",
   "execution_count": 55,
   "metadata": {},
   "outputs": [
    {
     "data": {
      "image/png": "[encoded data removed]",
      "text/latex": [
       "$$\\frac{x^{3} + x^{2} + 1}{- x^{2} + 1}$$"
      ],
      "text/plain": [
       " 3    2    \n",
       "x  + x  + 1\n",
       "───────────\n",
       "     2     \n",
       "  - x  + 1 "
      ]
     },
     "execution_count": 55,
     "metadata": {},
     "output_type": "execute_result"
    }
   ],
   "source": [
    "g = (1+x**3+x**2)/(1-x**2)\n",
    "g"
   ]
  },
  {
   "cell_type": "code",
   "execution_count": 56,
   "metadata": {
    "slideshow": {
     "slide_type": "fragment"
    }
   },
   "outputs": [
    {
     "data": {
      "image/png": "[encoded data removed]",
      "text/latex": [
       "$$- \\frac{2}{x^{4}} - \\frac{1}{x^{3}} - \\frac{2}{x^{2}} - \\frac{1}{x} - 1 - x + O\\left(\\frac{1}{x^{6}}; x\\rightarrow \\infty\\right)$$"
      ],
      "text/plain": [
       "  2    1    2    1            ⎛1        ⎞\n",
       "- ── - ── - ── - ─ - 1 - x + O⎜──; x → ∞⎟\n",
       "   4    3    2   x            ⎜ 6       ⎟\n",
       "  x    x    x                 ⎝x        ⎠"
      ]
     },
     "execution_count": 56,
     "metadata": {},
     "output_type": "execute_result"
    }
   ],
   "source": [
    "g.series(x, oo)"
   ]
  },
  {
   "cell_type": "code",
   "execution_count": 57,
   "metadata": {
    "slideshow": {
     "slide_type": "fragment"
    }
   },
   "outputs": [
    {
     "data": {
      "image/png": "[encoded data removed]",
      "text/latex": [
       "$$- \\frac{1}{x^{5}} - \\frac{1}{2 x^{4}} + \\frac{1}{x^{3}} + \\frac{1}{x^{2}} - \\log{\\left (\\frac{1}{x} \\right )} + O\\left(\\frac{1}{x^{6}}; x\\rightarrow \\infty\\right)$$"
      ],
      "text/plain": [
       "  1     1     1    1       ⎛1⎞    ⎛1        ⎞\n",
       "- ── - ──── + ── + ── - log⎜─⎟ + O⎜──; x → ∞⎟\n",
       "   5      4    3    2      ⎝x⎠    ⎜ 6       ⎟\n",
       "  x    2⋅x    x    x              ⎝x        ⎠"
      ]
     },
     "execution_count": 57,
     "metadata": {},
     "output_type": "execute_result"
    }
   ],
   "source": [
    "h = log(x + 1/x + 1/x**2) \n",
    "h.series(x, oo)"
   ]
  },
  {
   "cell_type": "code",
   "execution_count": 58,
   "metadata": {
    "slideshow": {
     "slide_type": "slide"
    }
   },
   "outputs": [
    {
     "data": {
      "image/png": "[encoded data removed]",
      "text/latex": [
       "$$\\left [ a \\operatorname{LambertW}{\\left (\\frac{e^{\\frac{2}{a}}}{a} \\right )}\\right ]$$"
      ],
      "text/plain": [
       "⎡          ⎛ 2⎞⎤\n",
       "⎢          ⎜ ─⎟⎥\n",
       "⎢          ⎜ a⎟⎥\n",
       "⎢          ⎜ℯ ⎟⎥\n",
       "⎢a⋅LambertW⎜──⎟⎥\n",
       "⎣          ⎝a ⎠⎦"
      ]
     },
     "execution_count": 58,
     "metadata": {},
     "output_type": "execute_result"
    }
   ],
   "source": [
    "f"
   ]
  },
  {
   "cell_type": "code",
   "execution_count": null,
   "metadata": {
    "scrolled": false
   },
   "outputs": [],
   "source": [
    "# f[0].series(a, oo)\n",
    "# RecursionError"
   ]
  },
  {
   "cell_type": "markdown",
   "metadata": {
    "slideshow": {
     "slide_type": "fragment"
    }
   },
   "source": [
    "Die Reihenentwicklung von `LambertW` in $0$ ist nicht korrekt implementiert.  Das können wir selber machen, indem wir die Taylorkoeffizienten berechnen.  "
   ]
  },
  {
   "cell_type": "code",
   "execution_count": 59,
   "metadata": {
    "slideshow": {
     "slide_type": "slide"
    }
   },
   "outputs": [],
   "source": [
    "b = {}"
   ]
  },
  {
   "cell_type": "code",
   "execution_count": 60,
   "metadata": {},
   "outputs": [
    {
     "data": {
      "image/png": "[encoded data removed]",
      "text/latex": [
       "$$0$$"
      ],
      "text/plain": [
       "0"
      ]
     },
     "execution_count": 60,
     "metadata": {},
     "output_type": "execute_result"
    }
   ],
   "source": [
    "b[0] = LambertW(0)\n",
    "b[0]"
   ]
  },
  {
   "cell_type": "code",
   "execution_count": 61,
   "metadata": {
    "slideshow": {
     "slide_type": "slide"
    }
   },
   "outputs": [
    {
     "data": {
      "image/png": "[encoded data removed]",
      "text/latex": [
       "$$\\frac{\\operatorname{LambertW}{\\left (y \\right )}}{y \\left(\\operatorname{LambertW}{\\left (y \\right )} + 1\\right)}$$"
      ],
      "text/plain": [
       "    LambertW(y)    \n",
       "───────────────────\n",
       "y⋅(LambertW(y) + 1)"
      ]
     },
     "execution_count": 61,
     "metadata": {},
     "output_type": "execute_result"
    }
   ],
   "source": [
    "dL = LambertW(y).diff(y)\n",
    "dL  "
   ]
  },
  {
   "cell_type": "code",
   "execution_count": 62,
   "metadata": {
    "slideshow": {
     "slide_type": "fragment"
    }
   },
   "outputs": [],
   "source": [
    "# limit(dL, y, 0)  \n",
    "# RecursionError"
   ]
  },
  {
   "cell_type": "markdown",
   "metadata": {
    "slideshow": {
     "slide_type": "slide"
    }
   },
   "source": [
    "Aber $W(y)e^{W(y)}=y$"
   ]
  },
  {
   "cell_type": "code",
   "execution_count": 63,
   "metadata": {},
   "outputs": [
    {
     "data": {
      "image/png": "[encoded data removed]",
      "text/latex": [
       "$$\\frac{e^{- \\operatorname{LambertW}{\\left (y \\right )}}}{\\operatorname{LambertW}{\\left (y \\right )} + 1}$$"
      ],
      "text/plain": [
       "  -LambertW(y) \n",
       " ℯ             \n",
       "───────────────\n",
       "LambertW(y) + 1"
      ]
     },
     "execution_count": 63,
     "metadata": {},
     "output_type": "execute_result"
    }
   ],
   "source": [
    "tmp = Symbol('tmp')\n",
    "dL = dL.subs(LambertW(y), tmp).subs(y, tmp*exp(tmp)).subs(tmp, LambertW(y))\n",
    "dL"
   ]
  },
  {
   "cell_type": "code",
   "execution_count": 64,
   "metadata": {
    "slideshow": {
     "slide_type": "fragment"
    }
   },
   "outputs": [
    {
     "data": {
      "image/png": "[encoded data removed]",
      "text/latex": [
       "$$1$$"
      ],
      "text/plain": [
       "1"
      ]
     },
     "execution_count": 64,
     "metadata": {},
     "output_type": "execute_result"
    }
   ],
   "source": [
    "b[1] = dL.subs(y, 0)\n",
    "b[1]"
   ]
  },
  {
   "cell_type": "code",
   "execution_count": 65,
   "metadata": {
    "slideshow": {
     "slide_type": "slide"
    }
   },
   "outputs": [
    {
     "data": {
      "image/png": "[encoded data removed]",
      "text/latex": [
       "$$- \\frac{e^{- \\operatorname{LambertW}{\\left (y \\right )}} \\operatorname{LambertW}{\\left (y \\right )}}{y \\left(\\operatorname{LambertW}{\\left (y \\right )} + 1\\right)^{2}} - \\frac{e^{- \\operatorname{LambertW}{\\left (y \\right )}} \\operatorname{LambertW}{\\left (y \\right )}}{y \\left(\\operatorname{LambertW}{\\left (y \\right )} + 1\\right)^{3}}$$"
      ],
      "text/plain": [
       "   -LambertW(y)                -LambertW(y)            \n",
       "  ℯ            ⋅LambertW(y)   ℯ            ⋅LambertW(y)\n",
       "- ───────────────────────── - ─────────────────────────\n",
       "                        2                           3  \n",
       "     y⋅(LambertW(y) + 1)         y⋅(LambertW(y) + 1)   "
      ]
     },
     "execution_count": 65,
     "metadata": {},
     "output_type": "execute_result"
    }
   ],
   "source": [
    "ddL = dL.diff(y)\n",
    "ddL"
   ]
  },
  {
   "cell_type": "code",
   "execution_count": 66,
   "metadata": {},
   "outputs": [
    {
     "data": {
      "image/png": "[encoded data removed]",
      "text/latex": [
       "$$- \\frac{e^{- 2 \\operatorname{LambertW}{\\left (y \\right )}}}{\\left(\\operatorname{LambertW}{\\left (y \\right )} + 1\\right)^{2}} - \\frac{e^{- 2 \\operatorname{LambertW}{\\left (y \\right )}}}{\\left(\\operatorname{LambertW}{\\left (y \\right )} + 1\\right)^{3}}$$"
      ],
      "text/plain": [
       "    -2⋅LambertW(y)       -2⋅LambertW(y)  \n",
       "   ℯ                    ℯ                \n",
       "- ────────────────── - ──────────────────\n",
       "                   2                    3\n",
       "  (LambertW(y) + 1)    (LambertW(y) + 1) "
      ]
     },
     "execution_count": 66,
     "metadata": {},
     "output_type": "execute_result"
    }
   ],
   "source": [
    "ddL = ddL.subs(LambertW(y), tmp).subs(y, tmp*exp(tmp)).subs(tmp, LambertW(y))\n",
    "ddL"
   ]
  },
  {
   "cell_type": "code",
   "execution_count": 67,
   "metadata": {
    "slideshow": {
     "slide_type": "fragment"
    }
   },
   "outputs": [
    {
     "data": {
      "image/png": "[encoded data removed]",
      "text/latex": [
       "$$-2$$"
      ],
      "text/plain": [
       "-2"
      ]
     },
     "execution_count": 67,
     "metadata": {},
     "output_type": "execute_result"
    }
   ],
   "source": [
    "b[2] = ddL.subs(y, 0)\n",
    "b[2]"
   ]
  },
  {
   "cell_type": "code",
   "execution_count": 68,
   "metadata": {
    "slideshow": {
     "slide_type": "fragment"
    }
   },
   "outputs": [
    {
     "data": {
      "image/png": "[encoded data removed]",
      "text/latex": [
       "$$y - y^{2} + O\\left(y^{3}\\right)$$"
      ],
      "text/plain": [
       "     2    ⎛ 3⎞\n",
       "y - y  + O⎝y ⎠"
      ]
     },
     "execution_count": 68,
     "metadata": {},
     "output_type": "execute_result"
    }
   ],
   "source": [
    "Ws = b[0] + b[1]*y + b[2]/2 * y**2 + O(y**3)\n",
    "Ws"
   ]
  },
  {
   "cell_type": "markdown",
   "metadata": {},
   "source": [
    "Ziel: ersetze `LambertW` durch die Approxiamtion"
   ]
  },
  {
   "cell_type": "code",
   "execution_count": 69,
   "metadata": {
    "slideshow": {
     "slide_type": "slide"
    }
   },
   "outputs": [],
   "source": [
    "C = Symbol('C')\n",
    "def Ws(y):\n",
    "    return b[0] + b[1]*y + b[2]/2*y**2 + C*y**3 # statt O()"
   ]
  },
  {
   "cell_type": "code",
   "execution_count": 70,
   "metadata": {},
   "outputs": [
    {
     "data": {
      "image/png": "[encoded data removed]",
      "text/latex": [
       "$$C^{2} y^{6} - 2 C y^{5} + 2 C y^{4} + y^{4} - 2 y^{3} + y^{2}$$"
      ],
      "text/plain": [
       " 2  6        5        4    4      3    2\n",
       "C ⋅y  - 2⋅C⋅y  + 2⋅C⋅y  + y  - 2⋅y  + y "
      ]
     },
     "execution_count": 70,
     "metadata": {},
     "output_type": "execute_result"
    }
   ],
   "source": [
    "(Ws(y)**2).expand() "
   ]
  },
  {
   "cell_type": "code",
   "execution_count": 71,
   "metadata": {
    "slideshow": {
     "slide_type": "slide"
    }
   },
   "outputs": [
    {
     "data": {
      "image/png": "[encoded data removed]",
      "text/latex": [
       "$$a \\operatorname{LambertW}{\\left (\\frac{e^{\\frac{2}{a}}}{a} \\right )}$$"
      ],
      "text/plain": [
       "          ⎛ 2⎞\n",
       "          ⎜ ─⎟\n",
       "          ⎜ a⎟\n",
       "          ⎜ℯ ⎟\n",
       "a⋅LambertW⎜──⎟\n",
       "          ⎝a ⎠"
      ]
     },
     "execution_count": 71,
     "metadata": {},
     "output_type": "execute_result"
    }
   ],
   "source": [
    "f[0]"
   ]
  },
  {
   "cell_type": "code",
   "execution_count": 72,
   "metadata": {},
   "outputs": [
    {
     "data": {
      "image/png": "[encoded data removed]",
      "text/latex": [
       "$$a \\left(\\frac{C e^{\\frac{6}{a}}}{a^{3}} + \\frac{e^{\\frac{2}{a}}}{a} - \\frac{e^{\\frac{4}{a}}}{a^{2}}\\right)$$"
      ],
      "text/plain": [
       "  ⎛   6    2    4⎞\n",
       "  ⎜   ─    ─    ─⎟\n",
       "  ⎜   a    a    a⎟\n",
       "  ⎜C⋅ℯ    ℯ    ℯ ⎟\n",
       "a⋅⎜──── + ── - ──⎟\n",
       "  ⎜  3    a     2⎟\n",
       "  ⎝ a          a ⎠"
      ]
     },
     "execution_count": 72,
     "metadata": {},
     "output_type": "execute_result"
    }
   ],
   "source": [
    "tmp = f[0].replace(LambertW, Ws)\n",
    "tmp"
   ]
  },
  {
   "cell_type": "code",
   "execution_count": 73,
   "metadata": {
    "slideshow": {
     "slide_type": "slide"
    }
   },
   "outputs": [
    {
     "data": {
      "image/png": "[encoded data removed]",
      "text/latex": [
       "$$\\frac{36 C - \\frac{52}{5}}{a^{5}} + \\frac{18 C - 10}{a^{4}} + \\frac{6 C - \\frac{20}{3}}{a^{3}} + \\frac{C - 2}{a^{2}} + \\frac{1}{a} + 1 + O\\left(\\frac{1}{a^{6}}; a\\rightarrow \\infty\\right)$$"
      ],
      "text/plain": [
       "36⋅C - 52/5   18⋅C - 10   6⋅C - 20/3   C - 2   1        ⎛1        ⎞\n",
       "─────────── + ───────── + ────────── + ───── + ─ + 1 + O⎜──; a → ∞⎟\n",
       "      5            4           3          2    a        ⎜ 6       ⎟\n",
       "     a            a           a          a              ⎝a        ⎠"
      ]
     },
     "execution_count": 73,
     "metadata": {},
     "output_type": "execute_result"
    }
   ],
   "source": [
    "tmp.expand().series(a, oo)"
   ]
  },
  {
   "cell_type": "markdown",
   "metadata": {
    "slideshow": {
     "slide_type": "fragment"
    }
   },
   "source": [
    "Alle $C$-Term gehören zum $O()$-Term, also"
   ]
  },
  {
   "cell_type": "code",
   "execution_count": 74,
   "metadata": {},
   "outputs": [
    {
     "data": {
      "image/png": "[encoded data removed]",
      "text/latex": [
       "$$\\frac{1}{a} + 1 + O\\left(\\frac{1}{a^{2}}; a\\rightarrow \\infty\\right)$$"
      ],
      "text/plain": [
       "1        ⎛1        ⎞\n",
       "─ + 1 + O⎜──; a → ∞⎟\n",
       "a        ⎜ 2       ⎟\n",
       "         ⎝a        ⎠"
      ]
     },
     "execution_count": 74,
     "metadata": {},
     "output_type": "execute_result"
    }
   ],
   "source": [
    "fs = tmp.expand().series(a, oo, 2)\n",
    "fs"
   ]
  },
  {
   "cell_type": "code",
   "execution_count": 75,
   "metadata": {
    "slideshow": {
     "slide_type": "slide"
    }
   },
   "outputs": [
    {
     "data": {
      "text/plain": [
       "(1.986274781691728+0j)"
      ]
     },
     "execution_count": 75,
     "metadata": {},
     "output_type": "execute_result"
    }
   ],
   "source": [
    "fn = lambdify(a, f[0], ['numpy', {'LambertW': special.lambertw }])\n",
    "fn(.02)"
   ]
  },
  {
   "cell_type": "code",
   "execution_count": 76,
   "metadata": {},
   "outputs": [],
   "source": [
    "plt.figure()\n",
    "xn = np.linspace(3, 30)\n",
    "yn = fn(xn).real\n",
    "plt.plot(xn, yn, label='f')\n",
    "plt.plot(xn, 1+1/xn, label='approx')\n",
    "plt.legend();"
   ]
  },
  {
   "cell_type": "code",
   "execution_count": null,
   "metadata": {},
   "outputs": [],
   "source": []
  }
 ],
 "metadata": {
  "celltoolbar": "Slideshow",
  "kernelspec": {
   "display_name": "Python 3",
   "language": "python",
   "name": "python3"
  },
  "language_info": {
   "codemirror_mode": {
    "name": "ipython",
    "version": 3
   },
   "file_extension": ".py",
   "mimetype": "text/x-python",
   "name": "python",
   "nbconvert_exporter": "python",
   "pygments_lexer": "ipython3",
   "version": "3.7.0"
  }
 },
 "nbformat": 4,
 "nbformat_minor": 2
}
