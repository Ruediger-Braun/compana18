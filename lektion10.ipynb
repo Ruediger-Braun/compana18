{
 "cells": [
  {
   "cell_type": "markdown",
   "metadata": {},
   "source": [
    "# Computergestützte Mathematik zur Analysis\n",
    "\n",
    "20.12.2018\n",
    "\n",
    "&copy; Prof. R. W. Braun"
   ]
  },
  {
   "cell_type": "code",
   "execution_count": 1,
   "metadata": {
    "slideshow": {
     "slide_type": "slide"
    }
   },
   "outputs": [],
   "source": [
    "from sympy import *\n",
    "init_printing()\n",
    "%matplotlib qt\n",
    "import numpy as np\n",
    "import matplotlib.pyplot as plt\n",
    "from mpl_toolkits.mplot3d import Axes3D"
   ]
  },
  {
   "cell_type": "markdown",
   "metadata": {
    "slideshow": {
     "slide_type": "slide"
    }
   },
   "source": [
    "Numerische Löung von Gleichungen"
   ]
  },
  {
   "cell_type": "code",
   "execution_count": 2,
   "metadata": {},
   "outputs": [],
   "source": [
    "x = Symbol('x')"
   ]
  },
  {
   "cell_type": "code",
   "execution_count": 3,
   "metadata": {},
   "outputs": [],
   "source": [
    "xn = np.linspace(0, 4*np.pi, 850)\n",
    "yn = np.tan(xn)\n",
    "yn[(yn>35)|(yn<-10)] = np.nan\n",
    "plt.plot(xn, yn)\n",
    "plt.plot(xn, xn)\n",
    "plt.grid()\n",
    "plt.axis(ymin=-5, ymax=25);"
   ]
  },
  {
   "cell_type": "code",
   "execution_count": 4,
   "metadata": {
    "slideshow": {
     "slide_type": "slide"
    }
   },
   "outputs": [
    {
     "data": {
      "image/png": "[encoded data removed]",
      "text/latex": [
       "$$\\tan{\\left (x \\right )} = x$$"
      ],
      "text/plain": [
       "tan(x) = x"
      ]
     },
     "execution_count": 4,
     "metadata": {},
     "output_type": "execute_result"
    }
   ],
   "source": [
    "glg = Eq(tan(x), x)\n",
    "glg"
   ]
  },
  {
   "cell_type": "code",
   "execution_count": 5,
   "metadata": {},
   "outputs": [
    {
     "data": {
      "image/png": "[encoded data removed]",
      "text/latex": [
       "$$\\left\\{x \\mid x \\in \\mathbb{C} \\wedge - x + \\tan{\\left (x \\right )} = 0 \\right\\}$$"
      ],
      "text/plain": [
       "{x | x ∊ ℂ ∧ -x + tan(x) = 0}"
      ]
     },
     "execution_count": 5,
     "metadata": {},
     "output_type": "execute_result"
    }
   ],
   "source": [
    "solveset(glg)"
   ]
  },
  {
   "cell_type": "code",
   "execution_count": null,
   "metadata": {
    "slideshow": {
     "slide_type": "fragment"
    }
   },
   "outputs": [],
   "source": [
    "#solve(glg)  # NotImplememtedError"
   ]
  },
  {
   "cell_type": "code",
   "execution_count": 6,
   "metadata": {
    "slideshow": {
     "slide_type": "slide"
    }
   },
   "outputs": [
    {
     "data": {
      "image/png": "[encoded data removed]",
      "text/latex": [
       "$$-0.000510846762348789$$"
      ],
      "text/plain": [
       "-0.000510846762348789"
      ]
     },
     "execution_count": 6,
     "metadata": {},
     "output_type": "execute_result"
    }
   ],
   "source": [
    "x0 = 4.  # Startwert\n",
    "xi = nsolve(glg, x0)\n",
    "xi"
   ]
  },
  {
   "cell_type": "markdown",
   "metadata": {},
   "source": [
    "Wir haben aber die Nullstelle in der Nähe der 4 gesucht."
   ]
  },
  {
   "cell_type": "code",
   "execution_count": 7,
   "metadata": {
    "slideshow": {
     "slide_type": "fragment"
    }
   },
   "outputs": [
    {
     "data": {
      "image/png": "[encoded data removed]",
      "text/latex": [
       "$$0.000619966075182093$$"
      ],
      "text/plain": [
       "0.000619966075182093"
      ]
     },
     "execution_count": 7,
     "metadata": {},
     "output_type": "execute_result"
    }
   ],
   "source": [
    "xi = nsolve(glg, [4., 6.])\n",
    "xi"
   ]
  },
  {
   "cell_type": "markdown",
   "metadata": {},
   "source": [
    "Der liegt nicht zwischen 4 und 6, aber andere Löser können das:"
   ]
  },
  {
   "cell_type": "code",
   "execution_count": 9,
   "metadata": {
    "slideshow": {
     "slide_type": "slide"
    }
   },
   "outputs": [],
   "source": [
    "# nsolve(glg, [4., 6.], solver='bisect')\n",
    "# ValueError "
   ]
  },
  {
   "cell_type": "code",
   "execution_count": 10,
   "metadata": {
    "slideshow": {
     "slide_type": "slide"
    }
   },
   "outputs": [
    {
     "data": {
      "image/png": "[encoded data removed]",
      "text/latex": [
       "$$4.71238898038469$$"
      ],
      "text/plain": [
       "4.71238898038469"
      ]
     },
     "execution_count": 10,
     "metadata": {},
     "output_type": "execute_result"
    }
   ],
   "source": [
    "xi1 = nsolve(glg, [4., 6.], solver='bisect', verify=False)\n",
    "xi1"
   ]
  },
  {
   "cell_type": "code",
   "execution_count": 11,
   "metadata": {
    "slideshow": {
     "slide_type": "fragment"
    }
   },
   "outputs": [
    {
     "data": {
      "image/png": "[encoded data removed]",
      "text/latex": [
       "$$4.49340945790906$$"
      ],
      "text/plain": [
       "4.49340945790906"
      ]
     },
     "execution_count": 11,
     "metadata": {},
     "output_type": "execute_result"
    }
   ],
   "source": [
    "xi2 = nsolve(glg, [4., 5.], solver='anderson') # Anderson-Björk ist eine Variante der Sekantenregel\n",
    "xi2"
   ]
  },
  {
   "cell_type": "code",
   "execution_count": 12,
   "metadata": {
    "slideshow": {
     "slide_type": "fragment"
    }
   },
   "outputs": [
    {
     "data": {
      "image/png": "[encoded data removed]",
      "text/latex": [
       "$$5.44374645106512 \\cdot 10^{15}$$"
      ],
      "text/plain": [
       "5.44374645106512e+15"
      ]
     },
     "execution_count": 12,
     "metadata": {},
     "output_type": "execute_result"
    }
   ],
   "source": [
    "tan(xi1) - xi1"
   ]
  },
  {
   "cell_type": "code",
   "execution_count": 13,
   "metadata": {
    "slideshow": {
     "slide_type": "fragment"
    }
   },
   "outputs": [
    {
     "data": {
      "image/png": "[encoded data removed]",
      "text/latex": [
       "$$8.88178419700125 \\cdot 10^{-16}$$"
      ],
      "text/plain": [
       "8.88178419700125e-16"
      ]
     },
     "execution_count": 13,
     "metadata": {},
     "output_type": "execute_result"
    }
   ],
   "source": [
    "tan(xi2) - xi2"
   ]
  },
  {
   "cell_type": "code",
   "execution_count": 14,
   "metadata": {
    "slideshow": {
     "slide_type": "slide"
    }
   },
   "outputs": [
    {
     "data": {
      "image/png": "[encoded data removed]",
      "text/latex": [
       "$$4.71238898038469$$"
      ],
      "text/plain": [
       "4.71238898038469"
      ]
     },
     "execution_count": 14,
     "metadata": {},
     "output_type": "execute_result"
    }
   ],
   "source": [
    "N(3/2*pi)"
   ]
  },
  {
   "cell_type": "code",
   "execution_count": 15,
   "metadata": {},
   "outputs": [
    {
     "data": {
      "image/png": "[encoded data removed]",
      "text/latex": [
       "$$4.49340945790906$$"
      ],
      "text/plain": [
       "4.49340945790906"
      ]
     },
     "execution_count": 15,
     "metadata": {},
     "output_type": "execute_result"
    }
   ],
   "source": [
    "nsolve(glg, [4., N(3/2*pi)-.0000001], solver='bisect')"
   ]
  },
  {
   "cell_type": "code",
   "execution_count": 16,
   "metadata": {
    "slideshow": {
     "slide_type": "fragment"
    }
   },
   "outputs": [
    {
     "data": {
      "image/png": "[encoded data removed]",
      "text/latex": [
       "$$4.493409457909064175307880927280322082215583872290040802895823961926950314597104098729057809455879692$$"
      ],
      "text/plain": [
       "4.4934094579090641753078809272803220822155838722900408028958239619269503145971\n",
       "04098729057809455879692"
      ]
     },
     "execution_count": 16,
     "metadata": {},
     "output_type": "execute_result"
    }
   ],
   "source": [
    "nsolve(glg, [4., N(2.99/2*pi)], solver='anderson', prec=100)"
   ]
  },
  {
   "cell_type": "markdown",
   "metadata": {
    "slideshow": {
     "slide_type": "slide"
    }
   },
   "source": [
    "Numerische Lösung als Funktion\n",
    "\n",
    "Wir suchen die in der Nähe der 4 liegende Lösung von $\\tan(x)=ax$ als Funktion von $a$"
   ]
  },
  {
   "cell_type": "code",
   "execution_count": 17,
   "metadata": {},
   "outputs": [],
   "source": [
    "a = Symbol('a')\n",
    "\n",
    "def xi(a):\n",
    "    glg = Eq(tan(x), a*x)\n",
    "    return nsolve(glg, [4, 1.499*np.pi], solver='anderson')"
   ]
  },
  {
   "cell_type": "code",
   "execution_count": 18,
   "metadata": {
    "slideshow": {
     "slide_type": "slide"
    }
   },
   "outputs": [],
   "source": [
    "an = np.linspace(1, 20)\n",
    "yn = [xi(aa) for aa in an]"
   ]
  },
  {
   "cell_type": "code",
   "execution_count": 19,
   "metadata": {},
   "outputs": [],
   "source": [
    "plt.figure()\n",
    "plt.plot(an, yn)\n",
    "plt.plot(an, 3*np.pi/2*np.ones_like(an));"
   ]
  },
  {
   "cell_type": "markdown",
   "metadata": {
    "slideshow": {
     "slide_type": "slide"
    }
   },
   "source": [
    "Erhöhung der Genauigkeit"
   ]
  },
  {
   "cell_type": "code",
   "execution_count": 22,
   "metadata": {},
   "outputs": [
    {
     "name": "stdout",
     "output_type": "stream",
     "text": [
      "Mpmath settings:\n",
      "  mp.prec = 169               [default: 53]\n",
      "  mp.dps = 50                 [default: 15]\n",
      "  mp.trap_complex = False     [default: False]\n"
     ]
    }
   ],
   "source": [
    "import mpmath\n",
    "print(mpmath.mp)"
   ]
  },
  {
   "cell_type": "code",
   "execution_count": 21,
   "metadata": {},
   "outputs": [],
   "source": [
    "mpmath.mp.dps = 50  # 50 Dezimalstellen"
   ]
  },
  {
   "cell_type": "code",
   "execution_count": 25,
   "metadata": {},
   "outputs": [
    {
     "data": {
      "image/png": "[encoded data removed]",
      "text/latex": [
       "$$1.4142135623731$$"
      ],
      "text/plain": [
       "1.41421356237310"
      ]
     },
     "execution_count": 25,
     "metadata": {},
     "output_type": "execute_result"
    }
   ],
   "source": [
    "N(sqrt(2))"
   ]
  },
  {
   "cell_type": "code",
   "execution_count": 26,
   "metadata": {},
   "outputs": [
    {
     "data": {
      "image/png": "[encoded data removed]",
      "text/latex": [
       "$$1.4142135623730950488016887242096980785696718753769$$"
      ],
      "text/plain": [
       "1.4142135623730950488016887242096980785696718753769"
      ]
     },
     "execution_count": 26,
     "metadata": {},
     "output_type": "execute_result"
    }
   ],
   "source": [
    "nsolve(x**2-2, 1)"
   ]
  },
  {
   "cell_type": "code",
   "execution_count": 27,
   "metadata": {
    "slideshow": {
     "slide_type": "slide"
    }
   },
   "outputs": [
    {
     "data": {
      "text/plain": [
       "mpf('1.4142135623730950488016887242096980785696718753769468')"
      ]
     },
     "execution_count": 27,
     "metadata": {},
     "output_type": "execute_result"
    }
   ],
   "source": [
    "sn = lambdify(x, sqrt(x), 'mpmath')\n",
    "sn(2)"
   ]
  },
  {
   "cell_type": "code",
   "execution_count": 28,
   "metadata": {},
   "outputs": [
    {
     "data": {
      "text/plain": [
       "mpf('0.0')"
      ]
     },
     "execution_count": 28,
     "metadata": {},
     "output_type": "execute_result"
    }
   ],
   "source": [
    "sn(2) - N(sqrt(2), 50)"
   ]
  },
  {
   "cell_type": "markdown",
   "metadata": {
    "slideshow": {
     "slide_type": "slide"
    }
   },
   "source": [
    "Das Taylorpolynom"
   ]
  },
  {
   "cell_type": "code",
   "execution_count": 29,
   "metadata": {},
   "outputs": [
    {
     "data": {
      "image/png": "[encoded data removed]",
      "text/latex": [
       "$$x - \\frac{x^{2}}{2} + \\frac{x^{3}}{3} - \\frac{x^{4}}{4} + \\frac{x^{5}}{5} - \\frac{x^{6}}{6} + \\frac{x^{7}}{7} - \\frac{x^{8}}{8} + \\frac{x^{9}}{9} + O\\left(x^{10}\\right)$$"
      ],
      "text/plain": [
       "     2    3    4    5    6    7    8    9         \n",
       "    x    x    x    x    x    x    x    x     ⎛ 10⎞\n",
       "x - ── + ── - ── + ── - ── + ── - ── + ── + O⎝x  ⎠\n",
       "    2    3    4    5    6    7    8    9          "
      ]
     },
     "execution_count": 29,
     "metadata": {},
     "output_type": "execute_result"
    }
   ],
   "source": [
    "x = Symbol('x')\n",
    "f = log(1+x)\n",
    "f.series(x, 0, 10)"
   ]
  },
  {
   "cell_type": "code",
   "execution_count": 30,
   "metadata": {},
   "outputs": [
    {
     "data": {
      "image/png": "[encoded data removed]",
      "text/latex": [
       "$$\\frac{\\sqrt{x + 1}}{- x^{2} + 1}$$"
      ],
      "text/plain": [
       "  _______\n",
       "╲╱ x + 1 \n",
       "─────────\n",
       "    2    \n",
       " - x  + 1"
      ]
     },
     "execution_count": 30,
     "metadata": {},
     "output_type": "execute_result"
    }
   ],
   "source": [
    "f = sqrt(x+1)/(1-x**2)\n",
    "f"
   ]
  },
  {
   "cell_type": "code",
   "execution_count": 31,
   "metadata": {},
   "outputs": [
    {
     "data": {
      "image/png": "[encoded data removed]",
      "text/latex": [
       "$$1 + \\frac{x}{2} + \\frac{7 x^{2}}{8} + \\frac{9 x^{3}}{16} + \\frac{107 x^{4}}{128} + \\frac{151 x^{5}}{256} + \\frac{835 x^{6}}{1024} + \\frac{1241 x^{7}}{2048} + \\frac{26291 x^{8}}{32768} + \\frac{40427 x^{9}}{65536} + O\\left(x^{10}\\right)$$"
      ],
      "text/plain": [
       "           2      3        4        5        6         7          8          9\n",
       "    x   7⋅x    9⋅x    107⋅x    151⋅x    835⋅x    1241⋅x    26291⋅x    40427⋅x \n",
       "1 + ─ + ──── + ──── + ────── + ────── + ────── + ─────── + ──────── + ────────\n",
       "    2    8      16     128      256      1024      2048     32768      65536  \n",
       "\n",
       "         \n",
       "    ⎛ 10⎞\n",
       " + O⎝x  ⎠\n",
       "         "
      ]
     },
     "execution_count": 31,
     "metadata": {},
     "output_type": "execute_result"
    }
   ],
   "source": [
    "f.series(x, 0, 10)"
   ]
  },
  {
   "cell_type": "code",
   "execution_count": 32,
   "metadata": {
    "slideshow": {
     "slide_type": "slide"
    }
   },
   "outputs": [
    {
     "data": {
      "image/png": "[encoded data removed]",
      "text/latex": [
       "$$\\left [ 1, \\quad \\frac{x}{2} + 1, \\quad \\frac{7 x^{2}}{8} + \\frac{x}{2} + 1, \\quad \\frac{9 x^{3}}{16} + \\frac{7 x^{2}}{8} + \\frac{x}{2} + 1, \\quad \\frac{107 x^{4}}{128} + \\frac{9 x^{3}}{16} + \\frac{7 x^{2}}{8} + \\frac{x}{2} + 1\\right ]$$"
      ],
      "text/plain": [
       "⎡             2             3      2               4      3      2        ⎤\n",
       "⎢   x      7⋅x    x      9⋅x    7⋅x    x      107⋅x    9⋅x    7⋅x    x    ⎥\n",
       "⎢1, ─ + 1, ──── + ─ + 1, ──── + ──── + ─ + 1, ────── + ──── + ──── + ─ + 1⎥\n",
       "⎣   2       8     2       16     8     2       128      16     8     2    ⎦"
      ]
     },
     "execution_count": 32,
     "metadata": {},
     "output_type": "execute_result"
    }
   ],
   "source": [
    "xn = np.linspace(-.8, .8)\n",
    "nrange = range(1, 6)\n",
    "fs = [f.series(x, 0, n).removeO() for n in nrange]\n",
    "fs"
   ]
  },
  {
   "cell_type": "code",
   "execution_count": 33,
   "metadata": {},
   "outputs": [],
   "source": [
    "fns = [lambdify(x, ff) for ff in fs]\n",
    "fn = lambdify(x, f)"
   ]
  },
  {
   "cell_type": "code",
   "execution_count": 34,
   "metadata": {},
   "outputs": [
    {
     "data": {
      "image/png": "[encoded data removed]",
      "text/latex": [
       "$$1$$"
      ],
      "text/plain": [
       "1"
      ]
     },
     "execution_count": 34,
     "metadata": {},
     "output_type": "execute_result"
    }
   ],
   "source": [
    "fns[0](xn) # wir erwarten einen array"
   ]
  },
  {
   "cell_type": "code",
   "execution_count": 36,
   "metadata": {},
   "outputs": [],
   "source": [
    "fns[0] = np.ones_like"
   ]
  },
  {
   "cell_type": "code",
   "execution_count": 37,
   "metadata": {
    "slideshow": {
     "slide_type": "slide"
    }
   },
   "outputs": [],
   "source": [
    "plt.figure()\n",
    "plt.plot(xn, fn(xn), label='f')\n",
    "for n, ffs in zip(nrange, fns):\n",
    "    plt.plot(xn, ffs(xn), label=n)\n",
    "plt.legend();"
   ]
  },
  {
   "cell_type": "markdown",
   "metadata": {
    "slideshow": {
     "slide_type": ""
    }
   },
   "source": [
    "Bei der Annäherung an den Pol wird die Approximation schlechter."
   ]
  },
  {
   "cell_type": "markdown",
   "metadata": {
    "slideshow": {
     "slide_type": "slide"
    }
   },
   "source": [
    "Das gilt selbst dann, wenn ich den Pol nicht sehen kann, weil er komplex ist."
   ]
  },
  {
   "cell_type": "code",
   "execution_count": 38,
   "metadata": {},
   "outputs": [],
   "source": [
    "f = atan(x)"
   ]
  },
  {
   "cell_type": "code",
   "execution_count": 39,
   "metadata": {},
   "outputs": [
    {
     "data": {
      "image/png": "[encoded data removed]",
      "text/latex": [
       "$$- \\frac{x^{19}}{19} + \\frac{x^{17}}{17} - \\frac{x^{15}}{15} + \\frac{x^{13}}{13} - \\frac{x^{11}}{11} + \\frac{x^{9}}{9} - \\frac{x^{7}}{7} + \\frac{x^{5}}{5} - \\frac{x^{3}}{3} + x$$"
      ],
      "text/plain": [
       "   19    17    15    13    11    9    7    5    3    \n",
       "  x     x     x     x     x     x    x    x    x     \n",
       "- ─── + ─── - ─── + ─── - ─── + ── - ── + ── - ── + x\n",
       "   19    17    15    13    11   9    7    5    3     "
      ]
     },
     "execution_count": 39,
     "metadata": {},
     "output_type": "execute_result"
    }
   ],
   "source": [
    "nrange = [4, 20, 60]\n",
    "fs = [f.series(x, 0, n).removeO() for n in nrange]\n",
    "fs[1]"
   ]
  },
  {
   "cell_type": "code",
   "execution_count": 40,
   "metadata": {},
   "outputs": [],
   "source": [
    "fns = [lambdify(x, ff, 'numpy') for ff in fs]\n",
    "fn = lambdify(x, f)"
   ]
  },
  {
   "cell_type": "code",
   "execution_count": 41,
   "metadata": {
    "slideshow": {
     "slide_type": "slide"
    }
   },
   "outputs": [],
   "source": [
    "plt.figure()\n",
    "xn = np.linspace(-2, 2, 850)\n",
    "plt.plot(xn, fn(xn), label='arctan')\n",
    "for n, ffs in zip(nrange, fns):\n",
    "    plt.plot(xn, ffs(xn), label=f\"n={n}\")\n",
    "plt.axis(ymin=-1, ymax=2)\n",
    "plt.legend();"
   ]
  },
  {
   "cell_type": "markdown",
   "metadata": {
    "slideshow": {
     "slide_type": "slide"
    }
   },
   "source": [
    "Wie sieht der Arcustangens im komplexen aus?"
   ]
  },
  {
   "cell_type": "code",
   "execution_count": 42,
   "metadata": {},
   "outputs": [
    {
     "data": {
      "image/png": "[encoded data removed]",
      "text/latex": [
       "$$\\frac{1}{x^{2} + 1}$$"
      ],
      "text/plain": [
       "  1   \n",
       "──────\n",
       " 2    \n",
       "x  + 1"
      ]
     },
     "execution_count": 42,
     "metadata": {},
     "output_type": "execute_result"
    }
   ],
   "source": [
    "df = f.diff(x)\n",
    "df"
   ]
  },
  {
   "cell_type": "code",
   "execution_count": 43,
   "metadata": {
    "slideshow": {
     "slide_type": "fragment"
    }
   },
   "outputs": [
    {
     "data": {
      "image/png": "[encoded data removed]",
      "text/latex": [
       "$$\\left [ - i, \\quad i\\right ]$$"
      ],
      "text/plain": [
       "[-ⅈ, ⅈ]"
      ]
     },
     "execution_count": 43,
     "metadata": {},
     "output_type": "execute_result"
    }
   ],
   "source": [
    "solve(denom(df))"
   ]
  },
  {
   "cell_type": "code",
   "execution_count": 44,
   "metadata": {
    "slideshow": {
     "slide_type": "slide"
    }
   },
   "outputs": [],
   "source": [
    "xn = np.linspace(-1.5, 1.5, 200)\n",
    "yn = np.linspace(-1.5, 1.5, 200)\n",
    "X, Y = np.meshgrid(xn, yn)\n",
    "Z = X + 1j*Y"
   ]
  },
  {
   "cell_type": "code",
   "execution_count": 45,
   "metadata": {},
   "outputs": [],
   "source": [
    "W = fn(Z)"
   ]
  },
  {
   "cell_type": "code",
   "execution_count": 46,
   "metadata": {
    "slideshow": {
     "slide_type": "slide"
    }
   },
   "outputs": [],
   "source": [
    "fig = plt.figure()\n",
    "ax = fig.add_subplot(111, projection='3d')\n",
    "levels = np.linspace(0, np.max(abs(W)), 300)\n",
    "ax.contour(X, Y, abs(W), levels=levels);"
   ]
  },
  {
   "cell_type": "code",
   "execution_count": 47,
   "metadata": {
    "slideshow": {
     "slide_type": "slide"
    }
   },
   "outputs": [],
   "source": [
    "fig = plt.figure()\n",
    "ax = fig.add_subplot(111, projection='3d')\n",
    "R = W.real\n",
    "levels = np.linspace(np.min(R), np.max(R), 300)\n",
    "ax.contour(X, Y, R, levels=levels);"
   ]
  },
  {
   "cell_type": "markdown",
   "metadata": {
    "slideshow": {
     "slide_type": ""
    }
   },
   "source": [
    "Logarithmische Singularität im Realteil"
   ]
  },
  {
   "cell_type": "code",
   "execution_count": 48,
   "metadata": {
    "slideshow": {
     "slide_type": "slide"
    }
   },
   "outputs": [],
   "source": [
    "fig = plt.figure()\n",
    "ax = fig.add_subplot(111, projection='3d')\n",
    "Im = W.imag\n",
    "levels = np.linspace(np.min(Im), np.max(Im), 300)\n",
    "ax.contour(X, Y, Im, levels=levels);"
   ]
  },
  {
   "cell_type": "markdown",
   "metadata": {
    "slideshow": {
     "slide_type": "slide"
    }
   },
   "source": [
    "Zum Vergleich"
   ]
  },
  {
   "cell_type": "code",
   "execution_count": 49,
   "metadata": {
    "scrolled": true
   },
   "outputs": [],
   "source": [
    "fig = plt.figure()\n",
    "ax = fig.add_subplot(111, projection='3d')\n",
    "levels = np.linspace(-np.pi, np.pi, 300)\n",
    "ax.contour(X, Y, np.log(Z).imag, levels=levels);"
   ]
  },
  {
   "cell_type": "markdown",
   "metadata": {
    "slideshow": {
     "slide_type": "fragment"
    }
   },
   "source": [
    "Falsche Zweigwahl ist die Ursache für viele Fehler in CAS"
   ]
  },
  {
   "cell_type": "markdown",
   "metadata": {
    "slideshow": {
     "slide_type": "slide"
    }
   },
   "source": [
    "Potenzfunktionen"
   ]
  },
  {
   "cell_type": "code",
   "execution_count": 50,
   "metadata": {},
   "outputs": [
    {
     "data": {
      "image/png": "[encoded data removed]",
      "text/latex": [
       "$$x^{\\frac{3}{2}}$$"
      ],
      "text/plain": [
       " 3/2\n",
       "x   "
      ]
     },
     "execution_count": 50,
     "metadata": {},
     "output_type": "execute_result"
    }
   ],
   "source": [
    "drei_halbe = Rational(3,2)\n",
    "f = x**drei_halbe\n",
    "f"
   ]
  },
  {
   "cell_type": "code",
   "execution_count": 52,
   "metadata": {},
   "outputs": [
    {
     "data": {
      "image/png": "[encoded data removed]",
      "text/latex": [
       "$$- i$$"
      ],
      "text/plain": [
       "-ⅈ"
      ]
     },
     "execution_count": 52,
     "metadata": {},
     "output_type": "execute_result"
    }
   ],
   "source": [
    "f.subs(x, -1)"
   ]
  },
  {
   "cell_type": "code",
   "execution_count": null,
   "metadata": {
    "slideshow": {
     "slide_type": "slide"
    }
   },
   "outputs": [],
   "source": [
    "#f.subs(x, -1.).real\n",
    "# AttributeError:  symbolisch ist das die Funktion `re`"
   ]
  },
  {
   "cell_type": "code",
   "execution_count": null,
   "metadata": {
    "slideshow": {
     "slide_type": ""
    }
   },
   "outputs": [],
   "source": [
    "re(f.subs(x, -1))"
   ]
  },
  {
   "cell_type": "code",
   "execution_count": 53,
   "metadata": {},
   "outputs": [
    {
     "data": {
      "image/png": "[encoded data removed]",
      "text/latex": [
       "$$i$$"
      ],
      "text/plain": [
       "ⅈ"
      ]
     },
     "execution_count": 53,
     "metadata": {},
     "output_type": "execute_result"
    }
   ],
   "source": [
    "sqrt(-1)"
   ]
  },
  {
   "cell_type": "code",
   "execution_count": 54,
   "metadata": {},
   "outputs": [
    {
     "data": {
      "image/png": "[encoded data removed]",
      "text/latex": [
       "$$- i$$"
      ],
      "text/plain": [
       "-ⅈ"
      ]
     },
     "execution_count": 54,
     "metadata": {},
     "output_type": "execute_result"
    }
   ],
   "source": [
    "I**3"
   ]
  },
  {
   "cell_type": "code",
   "execution_count": 55,
   "metadata": {},
   "outputs": [
    {
     "data": {
      "image/png": "[encoded data removed]",
      "text/latex": [
       "$$-1$$"
      ],
      "text/plain": [
       "-1"
      ]
     },
     "execution_count": 55,
     "metadata": {},
     "output_type": "execute_result"
    }
   ],
   "source": [
    "(-1)**3"
   ]
  },
  {
   "cell_type": "code",
   "execution_count": 56,
   "metadata": {},
   "outputs": [
    {
     "data": {
      "image/png": "[encoded data removed]",
      "text/latex": [
       "$$i$$"
      ],
      "text/plain": [
       "ⅈ"
      ]
     },
     "execution_count": 56,
     "metadata": {},
     "output_type": "execute_result"
    }
   ],
   "source": [
    "sqrt(-1)"
   ]
  },
  {
   "cell_type": "markdown",
   "metadata": {
    "slideshow": {
     "slide_type": "slide"
    }
   },
   "source": [
    "$x^a = e^{a \\log x}$\n",
    "\n",
    "Damit ist $x^a$ für alle komplexen $a$ und für $x \\in \\mathbb C \\setminus ]-\\infty,0]$ erklärt.  (Für `sympy` sogar überall.)"
   ]
  },
  {
   "cell_type": "code",
   "execution_count": 57,
   "metadata": {},
   "outputs": [
    {
     "data": {
      "image/png": "[encoded data removed]",
      "text/latex": [
       "$$i \\pi$$"
      ],
      "text/plain": [
       "ⅈ⋅π"
      ]
     },
     "execution_count": 57,
     "metadata": {},
     "output_type": "execute_result"
    }
   ],
   "source": [
    "log(-1)"
   ]
  },
  {
   "cell_type": "code",
   "execution_count": 59,
   "metadata": {},
   "outputs": [],
   "source": [
    "zwei_drittel = Rational(2,3)"
   ]
  },
  {
   "cell_type": "code",
   "execution_count": 61,
   "metadata": {},
   "outputs": [
    {
     "data": {
      "image/png": "[encoded data removed]",
      "text/latex": [
       "$$-0.5 + 0.866025403784439 i$$"
      ],
      "text/plain": [
       "-0.5 + 0.866025403784439⋅ⅈ"
      ]
     },
     "execution_count": 61,
     "metadata": {},
     "output_type": "execute_result"
    }
   ],
   "source": [
    "(-1.)**zwei_drittel"
   ]
  },
  {
   "cell_type": "code",
   "execution_count": 62,
   "metadata": {
    "slideshow": {
     "slide_type": "slide"
    }
   },
   "outputs": [
    {
     "data": {
      "text/latex": [
       "$$\\begin{cases} x^{\\frac{2}{3}} & \\text{for}\\: x \\geq 0 \\\\\\left(- x\\right)^{\\frac{2}{3}} & \\text{otherwise} \\end{cases}$$"
      ],
      "text/plain": [
       "⎧  2/3             \n",
       "⎪ x       for x ≥ 0\n",
       "⎨                  \n",
       "⎪    2/3           \n",
       "⎩(-x)     otherwise"
      ]
     },
     "execution_count": 62,
     "metadata": {},
     "output_type": "execute_result"
    }
   ],
   "source": [
    "f = Piecewise((x**zwei_drittel, x >= 0), ((-x)**zwei_drittel, x < 0))\n",
    "f"
   ]
  },
  {
   "cell_type": "code",
   "execution_count": 63,
   "metadata": {},
   "outputs": [
    {
     "data": {
      "text/latex": [
       "$$\\begin{cases} \\frac{2}{3 \\sqrt[3]{x}} & \\text{for}\\: x \\geq 0 \\\\\\frac{2 \\left(- x\\right)^{\\frac{2}{3}}}{3 x} & \\text{otherwise} \\end{cases}$$"
      ],
      "text/plain": [
       "⎧    2               \n",
       "⎪ ───────   for x ≥ 0\n",
       "⎪   3 ___            \n",
       "⎪ 3⋅╲╱ x             \n",
       "⎨                    \n",
       "⎪      2/3           \n",
       "⎪2⋅(-x)              \n",
       "⎪─────────  otherwise\n",
       "⎩   3⋅x              "
      ]
     },
     "execution_count": 63,
     "metadata": {},
     "output_type": "execute_result"
    }
   ],
   "source": [
    "f.diff(x)"
   ]
  },
  {
   "cell_type": "code",
   "execution_count": 64,
   "metadata": {},
   "outputs": [
    {
     "data": {
      "image/png": "[encoded data removed]",
      "text/latex": [
       "$$1$$"
      ],
      "text/plain": [
       "1"
      ]
     },
     "execution_count": 64,
     "metadata": {},
     "output_type": "execute_result"
    }
   ],
   "source": [
    "f.subs(x, -1)"
   ]
  },
  {
   "cell_type": "code",
   "execution_count": 65,
   "metadata": {
    "slideshow": {
     "slide_type": "slide"
    }
   },
   "outputs": [
    {
     "data": {
      "text/latex": [
       "$$\\begin{cases} 1 & \\text{for}\\: x \\geq 0 \\\\0 & \\text{otherwise} \\end{cases}$$"
      ],
      "text/plain": [
       "⎧1  for x ≥ 0\n",
       "⎨            \n",
       "⎩0  otherwise"
      ]
     },
     "execution_count": 65,
     "metadata": {},
     "output_type": "execute_result"
    }
   ],
   "source": [
    "H = Piecewise((1, x>=0), (0,x<0)) # reelle Werte für reelle x\n",
    "H"
   ]
  },
  {
   "cell_type": "code",
   "execution_count": 66,
   "metadata": {},
   "outputs": [
    {
     "data": {
      "text/latex": [
       "$$\\int \\begin{cases} x^{\\frac{2}{3}} & \\text{for}\\: x \\geq 0 \\\\\\left(- x\\right)^{\\frac{2}{3}} & \\text{otherwise} \\end{cases}\\, dx$$"
      ],
      "text/plain": [
       "⌠                       \n",
       "⎮ ⎧  2/3                \n",
       "⎮ ⎪ x       for x ≥ 0   \n",
       "⎮ ⎨                   dx\n",
       "⎮ ⎪    2/3              \n",
       "⎮ ⎩(-x)     otherwise   \n",
       "⌡                       "
      ]
     },
     "execution_count": 66,
     "metadata": {},
     "output_type": "execute_result"
    }
   ],
   "source": [
    "I1 = Integral(f, x)\n",
    "I1"
   ]
  },
  {
   "cell_type": "code",
   "execution_count": 69,
   "metadata": {},
   "outputs": [
    {
     "data": {
      "text/latex": [
       "$$\\begin{cases} - \\frac{3 \\left(- x\\right)^{\\frac{5}{3}}}{5} & \\text{for}\\: x \\leq 0 \\\\\\frac{3 x^{\\frac{5}{3}}}{5} & \\text{otherwise} \\end{cases}$$"
      ],
      "text/plain": [
       "⎧       5/3            \n",
       "⎪-3⋅(-x)               \n",
       "⎪───────────  for x ≤ 0\n",
       "⎪     5                \n",
       "⎨                      \n",
       "⎪     5/3              \n",
       "⎪  3⋅x                 \n",
       "⎪  ──────     otherwise\n",
       "⎩    5                 "
      ]
     },
     "execution_count": 69,
     "metadata": {},
     "output_type": "execute_result"
    }
   ],
   "source": [
    "I1.doit()"
   ]
  },
  {
   "cell_type": "code",
   "execution_count": null,
   "metadata": {},
   "outputs": [],
   "source": []
  }
 ],
 "metadata": {
  "celltoolbar": "Slideshow",
  "kernelspec": {
   "display_name": "Python 3",
   "language": "python",
   "name": "python3"
  },
  "language_info": {
   "codemirror_mode": {
    "name": "ipython",
    "version": 3
   },
   "file_extension": ".py",
   "mimetype": "text/x-python",
   "name": "python",
   "nbconvert_exporter": "python",
   "pygments_lexer": "ipython3",
   "version": "3.7.0"
  }
 },
 "nbformat": 4,
 "nbformat_minor": 2
}
