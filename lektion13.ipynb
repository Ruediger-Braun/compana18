{
 "cells": [
  {
   "cell_type": "code",
   "execution_count": null,
   "metadata": {},
   "outputs": [],
   "source": [
    "from sympy import *\n",
    "init_printing()\n",
    "%matplotlib qt\n",
    "import matplotlib.pyplot as plt\n",
    "import numpy as np"
   ]
  },
  {
   "cell_type": "markdown",
   "metadata": {},
   "source": [
    "Differentialgleichungen"
   ]
  },
  {
   "cell_type": "code",
   "execution_count": null,
   "metadata": {},
   "outputs": [],
   "source": [
    "x = Symbol('x')\n",
    "y = Function('y')\n",
    "dgl = Eq(y(x).diff(x), y(x)-x**3+3*x-2)\n",
    "dgl"
   ]
  },
  {
   "cell_type": "code",
   "execution_count": null,
   "metadata": {},
   "outputs": [],
   "source": [
    "lsg = dsolve(dgl).expand()\n",
    "lsg"
   ]
  },
  {
   "cell_type": "code",
   "execution_count": null,
   "metadata": {},
   "outputs": [],
   "source": [
    "print(lsg)"
   ]
  },
  {
   "cell_type": "code",
   "execution_count": null,
   "metadata": {},
   "outputs": [],
   "source": [
    "#lsg.subs(C1, 3) # NameError"
   ]
  },
  {
   "cell_type": "code",
   "execution_count": null,
   "metadata": {},
   "outputs": [],
   "source": [
    "C1 = Symbol('C1')\n",
    "lsg.subs(C1, 3)"
   ]
  },
  {
   "cell_type": "markdown",
   "metadata": {},
   "source": [
    "Wir wollen die Anfangsbedingung $y(0)=4$ erfüllen."
   ]
  },
  {
   "cell_type": "code",
   "execution_count": null,
   "metadata": {},
   "outputs": [],
   "source": [
    "phi = lsg.rhs\n",
    "ab = Eq(phi.subs(x,0), 4)\n",
    "ab"
   ]
  },
  {
   "cell_type": "code",
   "execution_count": null,
   "metadata": {},
   "outputs": [],
   "source": [
    "lsg_ab = solve(ab, C1)\n",
    "lsg_ab"
   ]
  },
  {
   "cell_type": "code",
   "execution_count": null,
   "metadata": {},
   "outputs": [],
   "source": [
    "phi_ab = phi.subs(C1, lsg_ab[0])\n",
    "phi_ab"
   ]
  },
  {
   "cell_type": "markdown",
   "metadata": {},
   "source": [
    "Lösungskurven für verschiedene Anfangswerte"
   ]
  },
  {
   "cell_type": "code",
   "execution_count": null,
   "metadata": {},
   "outputs": [],
   "source": [
    "plt.figure()\n",
    "xn = np.linspace(-1.5,2)\n",
    "for y0 in [S(1)/2, 1, S(3)/2]:\n",
    "    ab = Eq(phi.subs(x, 0), y0)\n",
    "    Lsg_AWA = solve(ab)\n",
    "    fn = lambdify(x, phi.subs(C1, Lsg_AWA[0]), 'numpy')\n",
    "    label = f'$ {latex(y0)} $'\n",
    "    plt.plot(xn, fn(xn), label=f'$ {latex(y0)} $')\n",
    "plt.legend();"
   ]
  },
  {
   "cell_type": "markdown",
   "metadata": {},
   "source": [
    "zeichne Richtungsvektoren"
   ]
  },
  {
   "cell_type": "code",
   "execution_count": null,
   "metadata": {},
   "outputs": [],
   "source": [
    "xq = np.linspace(-1.4, 1.8, 13)\n",
    "yq = np.linspace(-2.5, 5.5, 11)\n",
    "X, Y = np.meshgrid(xq, yq)\n",
    "vf = np.array([dgl.rhs.subs({x: xx, y(x): yy})\n",
    "               for yy in yq for xx in xq]).reshape(11, 13).astype(float)\n",
    "X.shape, vf.shape"
   ]
  },
  {
   "cell_type": "code",
   "execution_count": null,
   "metadata": {},
   "outputs": [],
   "source": [
    "U = np.ones_like(X)\n",
    "V = vf\n",
    "plt.quiver(X, Y, U, V, angles='xy');\n",
    "# quiver: Köcher\n",
    "# X, Y: Fußpunkte der Pfeile\n",
    "# U, V: Koordinaten der Pfeile, gemessen vom Fußpunkt\n",
    "# angles='xy':  Koordinaten der Pfeile proportionale zu den Einheiten der Achsen"
   ]
  },
  {
   "cell_type": "markdown",
   "metadata": {},
   "source": [
    "Definitionsbereiche"
   ]
  },
  {
   "cell_type": "code",
   "execution_count": null,
   "metadata": {},
   "outputs": [],
   "source": [
    "y = Function('y')\n",
    "y0 = Symbol('y_0', real=True)\n",
    "x = Symbol('x')"
   ]
  },
  {
   "cell_type": "code",
   "execution_count": null,
   "metadata": {},
   "outputs": [],
   "source": [
    "dgl = Eq(y(x).diff(x), exp(y(x))*sin(x))\n",
    "dgl"
   ]
  },
  {
   "cell_type": "code",
   "execution_count": null,
   "metadata": {},
   "outputs": [],
   "source": [
    "lsg = dsolve(dgl)\n",
    "lsg"
   ]
  },
  {
   "cell_type": "markdown",
   "metadata": {},
   "source": [
    "Wir lösen die Anfangswertaufgabe für das abstrakte $y_0$"
   ]
  },
  {
   "cell_type": "code",
   "execution_count": null,
   "metadata": {},
   "outputs": [],
   "source": [
    "phi = lsg.rhs\n",
    "ab = Eq(phi.subs(x,0), y0)\n",
    "ab"
   ]
  },
  {
   "cell_type": "code",
   "execution_count": null,
   "metadata": {},
   "outputs": [],
   "source": [
    "lsg_ab = solve(ab, C1)\n",
    "lsg_ab"
   ]
  },
  {
   "cell_type": "code",
   "execution_count": null,
   "metadata": {},
   "outputs": [],
   "source": [
    "phi_ab = phi.subs(C1, lsg_ab[0])\n",
    "phi_ab"
   ]
  },
  {
   "cell_type": "markdown",
   "metadata": {},
   "source": [
    "Probe:"
   ]
  },
  {
   "cell_type": "code",
   "execution_count": null,
   "metadata": {},
   "outputs": [],
   "source": [
    "dgl.subs(y(x), phi_ab).doit().simplify()"
   ]
  },
  {
   "cell_type": "code",
   "execution_count": null,
   "metadata": {},
   "outputs": [],
   "source": [
    "phi_ab.subs(x,0) == y0"
   ]
  },
  {
   "cell_type": "code",
   "execution_count": null,
   "metadata": {},
   "outputs": [],
   "source": [
    "phi_12 = phi_ab.subs(y0, -Rational(1,2))\n",
    "phi_12"
   ]
  },
  {
   "cell_type": "code",
   "execution_count": null,
   "metadata": {},
   "outputs": [],
   "source": [
    "fn = lambdify(x, phi_12, 'numpy')\n",
    "xn = np.linspace(-4, 10, 301)\n",
    "wn = fn(xn)\n",
    "wn[wn>2] = np.nan\n",
    "plt.plot(xn, wn);"
   ]
  },
  {
   "cell_type": "code",
   "execution_count": null,
   "metadata": {},
   "outputs": [],
   "source": [
    "xq = np.linspace(-3.5, 9.5, 13)\n",
    "yq = np.linspace(-.8, 1.95, 12)\n",
    "X, Y = np.meshgrid(xq, yq)\n",
    "vf = np.array([dgl.rhs.subs({x: xx, y(x): yy})\n",
    "               for yy in yq for xx in xq]).reshape(12, 13).astype(float)\n",
    "plt.quiver(X, Y, np.ones_like(X), vf, angles='xy');"
   ]
  },
  {
   "cell_type": "markdown",
   "metadata": {},
   "source": [
    "Aber wo ist die Lösung definiert?"
   ]
  },
  {
   "cell_type": "code",
   "execution_count": null,
   "metadata": {},
   "outputs": [],
   "source": [
    "phi_12.args"
   ]
  },
  {
   "cell_type": "code",
   "execution_count": null,
   "metadata": {},
   "outputs": [],
   "source": [
    "tmp = denom(phi_12.args[0])\n",
    "tmp"
   ]
  },
  {
   "cell_type": "code",
   "execution_count": null,
   "metadata": {},
   "outputs": [],
   "source": [
    "lsg = solveset(-tmp>0, domain=Reals)\n",
    "lsg"
   ]
  },
  {
   "cell_type": "code",
   "execution_count": null,
   "metadata": {},
   "outputs": [],
   "source": [
    "lsg.args"
   ]
  },
  {
   "cell_type": "code",
   "execution_count": null,
   "metadata": {},
   "outputs": [],
   "source": [
    "lsg.args[0].right.n()"
   ]
  },
  {
   "cell_type": "code",
   "execution_count": null,
   "metadata": {},
   "outputs": [],
   "source": [
    "lsg.args[1].left.n()"
   ]
  },
  {
   "cell_type": "code",
   "execution_count": null,
   "metadata": {},
   "outputs": [],
   "source": []
  }
 ],
 "metadata": {
  "kernelspec": {
   "display_name": "Python 3",
   "language": "python",
   "name": "python3"
  },
  "language_info": {
   "codemirror_mode": {
    "name": "ipython",
    "version": 3
   },
   "file_extension": ".py",
   "mimetype": "text/x-python",
   "name": "python",
   "nbconvert_exporter": "python",
   "pygments_lexer": "ipython3",
   "version": "3.6.6"
  }
 },
 "nbformat": 4,
 "nbformat_minor": 2
}
