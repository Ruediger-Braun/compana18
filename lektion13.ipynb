{
 "cells": [
  {
   "cell_type": "code",
   "execution_count": null,
   "metadata": {},
   "outputs": [],
   "source": [
    "from sympy import *\n",
    "init_printing()\n",
    "%matplotlib qt\n",
    "import matplotlib.pyplot as plt\n",
    "import numpy as np"
   ]
  },
  {
   "cell_type": "markdown",
   "metadata": {},
   "source": [
    "Differentialgleichungen"
   ]
  },
  {
   "cell_type": "code",
   "execution_count": null,
   "metadata": {},
   "outputs": [],
   "source": [
    "x = Symbol('x')\n",
    "y = Function('y')\n",
    "dgl = Eq(y(x).diff(x), y(x)-x**3+3*x-2)\n",
    "dgl"
   ]
  },
  {
   "cell_type": "code",
   "execution_count": null,
   "metadata": {},
   "outputs": [],
   "source": [
    "lsg = dsolve(dgl).expand()\n",
    "lsg"
   ]
  },
  {
   "cell_type": "code",
   "execution_count": null,
   "metadata": {},
   "outputs": [],
   "source": [
    "print(lsg)"
   ]
  },
  {
   "cell_type": "code",
   "execution_count": null,
   "metadata": {},
   "outputs": [],
   "source": [
    "#lsg.subs(C1, 3) # NameError"
   ]
  },
  {
   "cell_type": "code",
   "execution_count": null,
   "metadata": {},
   "outputs": [],
   "source": [
    "C1 = Symbol('C1')\n",
    "lsg.subs(C1, 3)"
   ]
  },
  {
   "cell_type": "markdown",
   "metadata": {},
   "source": [
    "Wir wollen die Anfangsbedingung $y(0)=4$ erfüllen."
   ]
  },
  {
   "cell_type": "code",
   "execution_count": null,
   "metadata": {},
   "outputs": [],
   "source": [
    "phi = lsg.rhs\n",
    "ab = Eq(phi.subs(x,0), 4)\n",
    "ab"
   ]
  },
  {
   "cell_type": "code",
   "execution_count": null,
   "metadata": {},
   "outputs": [],
   "source": [
    "lsg_ab = solve(ab, C1)\n",
    "lsg_ab"
   ]
  },
  {
   "cell_type": "code",
   "execution_count": null,
   "metadata": {},
   "outputs": [],
   "source": [
    "phi_ab = phi.subs(C1, lsg_ab[0])\n",
    "phi_ab"
   ]
  },
  {
   "cell_type": "markdown",
   "metadata": {},
   "source": [
    "Lösungskurven für verschiedene Anfangswerte"
   ]
  },
  {
   "cell_type": "code",
   "execution_count": null,
   "metadata": {},
   "outputs": [],
   "source": [
    "plt.figure()\n",
    "xn = np.linspace(-1.5,2)\n",
    "for y0 in [S(1)/2, 1, S(3)/2]:\n",
    "    ab = Eq(phi.subs(x, 0), y0)\n",
    "    Lsg_AWA = solve(ab)\n",
    "    fn = lambdify(x, phi.subs(C1, Lsg_AWA[0]), 'numpy')\n",
    "    label = f'$ {latex(y0)} $'\n",
    "    plt.plot(xn, fn(xn), label=f'$ {latex(y0)} $')\n",
    "plt.legend();"
   ]
  },
  {
   "cell_type": "markdown",
   "metadata": {},
   "source": [
    "zeichne Richtungsvektoren"
   ]
  },
  {
   "cell_type": "code",
   "execution_count": null,
   "metadata": {},
   "outputs": [],
   "source": [
    "xq = np.linspace(-1.4, 1.8, 13)\n",
    "yq = np.linspace(-2.5, 5.5, 11)\n",
    "X, Y = np.meshgrid(xq, yq)\n",
    "vf = np.array([dgl.rhs.subs({x: xx, y(x): yy})\n",
    "               for yy in yq for xx in xq]).reshape(11, 13).astype(float)\n",
    "X.shape, vf.shape"
   ]
  },
  {
   "cell_type": "code",
   "execution_count": null,
   "metadata": {},
   "outputs": [],
   "source": [
    "U = np.ones_like(X)\n",
    "V = vf\n",
    "plt.quiver(X, Y, U, V, angles='xy');\n",
    "# quiver: Köcher\n",
    "# X, Y: Fußpunkte der Pfeile\n",
    "# U, V: Koordinaten der Pfeile, gemessen vom Fußpunkt\n",
    "# angles='xy':  Koordinaten der Pfeile proportionale zu den Einheiten der Achsen"
   ]
  },
  {
   "cell_type": "markdown",
   "metadata": {},
   "source": [
    "Definitionsbereiche"
   ]
  },
  {
   "cell_type": "code",
   "execution_count": null,
   "metadata": {},
   "outputs": [],
   "source": [
    "y = Function('y')\n",
    "y0 = Symbol('y_0', real=True)\n",
    "x = Symbol('x')"
   ]
  },
  {
   "cell_type": "code",
   "execution_count": null,
   "metadata": {},
   "outputs": [],
   "source": [
    "dgl = Eq(y(x).diff(x), exp(y(x))*sin(x))\n",
    "dgl"
   ]
  },
  {
   "cell_type": "code",
   "execution_count": null,
   "metadata": {},
   "outputs": [],
   "source": [
    "lsg = dsolve(dgl)\n",
    "lsg"
   ]
  },
  {
   "cell_type": "markdown",
   "metadata": {},
   "source": [
    "Wir lösen die Anfangswertaufgabe für das abstrakte $y_0$"
   ]
  },
  {
   "cell_type": "code",
   "execution_count": null,
   "metadata": {},
   "outputs": [],
   "source": [
    "phi = lsg.rhs\n",
    "ab = Eq(phi.subs(x,0), y0)\n",
    "ab"
   ]
  },
  {
   "cell_type": "code",
   "execution_count": null,
   "metadata": {},
   "outputs": [],
   "source": [
    "lsg_ab = solve(ab, C1)\n",
    "lsg_ab"
   ]
  },
  {
   "cell_type": "code",
   "execution_count": null,
   "metadata": {},
   "outputs": [],
   "source": [
    "phi_ab = phi.subs(C1, lsg_ab[0])\n",
    "phi_ab"
   ]
  },
  {
   "cell_type": "markdown",
   "metadata": {},
   "source": [
    "Probe:"
   ]
  },
  {
   "cell_type": "code",
   "execution_count": null,
   "metadata": {},
   "outputs": [],
   "source": [
    "dgl.subs(y(x), phi_ab).doit().simplify()"
   ]
  },
  {
   "cell_type": "code",
   "execution_count": null,
   "metadata": {},
   "outputs": [],
   "source": [
    "phi_ab.subs(x,0) == y0"
   ]
  },
  {
   "cell_type": "code",
   "execution_count": null,
   "metadata": {},
   "outputs": [],
   "source": [
    "phi_12 = phi_ab.subs(y0, -Rational(1,2))\n",
    "phi_12"
   ]
  },
  {
   "cell_type": "code",
   "execution_count": null,
   "metadata": {},
   "outputs": [],
   "source": [
    "plt.figure()\n",
    "fn = lambdify(x, phi_12, 'numpy')\n",
    "xn = np.linspace(-4, 10, 301)\n",
    "wn = fn(xn)\n",
    "wn[wn>2] = np.nan\n",
    "plt.plot(xn, wn);"
   ]
  },
  {
   "cell_type": "code",
   "execution_count": null,
   "metadata": {},
   "outputs": [],
   "source": [
    "xq = np.linspace(-3.5, 9.5, 13)\n",
    "yq = np.linspace(-.8, 1.95, 12)\n",
    "X, Y = np.meshgrid(xq, yq)\n",
    "vf = np.array([dgl.rhs.subs({x: xx, y(x): yy})\n",
    "               for yy in yq for xx in xq]).reshape(12, 13).astype(float)\n",
    "plt.quiver(X, Y, np.ones_like(X), vf, angles='xy');"
   ]
  },
  {
   "cell_type": "markdown",
   "metadata": {},
   "source": [
    "Aber wo ist die Lösung definiert?"
   ]
  },
  {
   "cell_type": "code",
   "execution_count": null,
   "metadata": {},
   "outputs": [],
   "source": [
    "phi_12.args"
   ]
  },
  {
   "cell_type": "code",
   "execution_count": null,
   "metadata": {},
   "outputs": [],
   "source": [
    "tmp = denom(phi_12.args[0])\n",
    "tmp"
   ]
  },
  {
   "cell_type": "code",
   "execution_count": null,
   "metadata": {},
   "outputs": [],
   "source": [
    "lsg = solveset(-tmp>0, domain=Reals)\n",
    "lsg"
   ]
  },
  {
   "cell_type": "code",
   "execution_count": null,
   "metadata": {},
   "outputs": [],
   "source": [
    "lsg.args"
   ]
  },
  {
   "cell_type": "code",
   "execution_count": null,
   "metadata": {},
   "outputs": [],
   "source": [
    "lsg.args[0].right.n()"
   ]
  },
  {
   "cell_type": "code",
   "execution_count": null,
   "metadata": {},
   "outputs": [],
   "source": [
    "lsg.args[1].left.n()"
   ]
  },
  {
   "cell_type": "markdown",
   "metadata": {
    "slideshow": {
     "slide_type": "fragment"
    }
   },
   "source": [
    "Für welche $y0$ ist die Lösung auf ganz $\\mathbb R$ definiert?"
   ]
  },
  {
   "cell_type": "code",
   "execution_count": null,
   "metadata": {},
   "outputs": [],
   "source": [
    "phi_ab"
   ]
  },
  {
   "cell_type": "code",
   "execution_count": null,
   "metadata": {},
   "outputs": [],
   "source": [
    "tmp =phi_ab.args\n",
    "tmp"
   ]
  },
  {
   "cell_type": "code",
   "execution_count": null,
   "metadata": {},
   "outputs": [],
   "source": [
    "t1 = tmp[0].subs(x, 0)\n",
    "solveset(Eq(1/t1, 0))"
   ]
  },
  {
   "cell_type": "code",
   "execution_count": null,
   "metadata": {},
   "outputs": [],
   "source": [
    "t2 = tmp[0].subs(x, pi)\n",
    "lsg = solveset(Eq(1/t2, 0), domain=Reals)\n",
    "lsg"
   ]
  },
  {
   "cell_type": "code",
   "execution_count": null,
   "metadata": {},
   "outputs": [],
   "source": [
    "l = list(lsg)[0]\n",
    "fn1 = lambdify(x, phi_ab.subs(y0, 1.1*l), 'numpy')\n",
    "fn2 = lambdify(x, phi_ab.subs(y0, l), 'numpy')\n",
    "w2 = fn2(xn)\n",
    "w2[w2>2] = np.nan\n",
    "plt.plot(xn, fn1(xn))\n",
    "plt.plot(xn, w2);"
   ]
  },
  {
   "cell_type": "code",
   "execution_count": null,
   "metadata": {},
   "outputs": [],
   "source": [
    "phi_ab"
   ]
  },
  {
   "cell_type": "markdown",
   "metadata": {},
   "source": [
    "Höhere Ordnung"
   ]
  },
  {
   "cell_type": "code",
   "execution_count": null,
   "metadata": {},
   "outputs": [],
   "source": [
    "a = Symbol('a')"
   ]
  },
  {
   "cell_type": "code",
   "execution_count": null,
   "metadata": {},
   "outputs": [],
   "source": [
    "dgl = Eq(y(x).diff(x,2), a*y(x).diff(x) - y(x))\n",
    "dgl"
   ]
  },
  {
   "cell_type": "code",
   "execution_count": null,
   "metadata": {},
   "outputs": [],
   "source": [
    "dsolve(dgl)"
   ]
  },
  {
   "cell_type": "markdown",
   "metadata": {},
   "source": [
    "Gekoppelte Pendel"
   ]
  },
  {
   "cell_type": "code",
   "execution_count": null,
   "metadata": {},
   "outputs": [],
   "source": [
    "y = Function('y')\n",
    "w = Function('w')\n",
    "t = Symbol('t')"
   ]
  },
  {
   "cell_type": "code",
   "execution_count": null,
   "metadata": {},
   "outputs": [],
   "source": [
    "dgl1 = Eq(y(t).diff(t,2), w(t)-y(t))\n",
    "dgl2 = Eq(w(t).diff(t,2), 2*y(t)+3*w(t))\n",
    "dgs = {dgl1, dgl2}\n",
    "dgs"
   ]
  },
  {
   "cell_type": "markdown",
   "metadata": {},
   "source": [
    "Das ist nicht implementiert.  \n",
    "\n",
    "Zugehöriges System erster Ordnung in Matrixschreibweise"
   ]
  },
  {
   "cell_type": "code",
   "execution_count": null,
   "metadata": {},
   "outputs": [],
   "source": [
    "M = Matrix([[0,1,0,0], [-1, 0, 1, 0], [0,0,0,1], [2, 0, 3, 0]])\n",
    "M"
   ]
  },
  {
   "cell_type": "code",
   "execution_count": null,
   "metadata": {},
   "outputs": [],
   "source": [
    "ew = M.eigenvals()\n",
    "ew"
   ]
  },
  {
   "cell_type": "code",
   "execution_count": null,
   "metadata": {},
   "outputs": [],
   "source": [
    "# M.exp()  # IndexError\n",
    "# Folge von\n",
    "# M.eigenvects()  # NotImplementedError"
   ]
  },
  {
   "cell_type": "markdown",
   "metadata": {},
   "source": [
    "Ansatz"
   ]
  },
  {
   "cell_type": "code",
   "execution_count": null,
   "metadata": {},
   "outputs": [],
   "source": [
    "a = [Symbol(f'a_{j}') for j in range(4)]\n",
    "b = [Symbol(f'b_{j}') for j in range(4)]"
   ]
  },
  {
   "cell_type": "code",
   "execution_count": null,
   "metadata": {},
   "outputs": [],
   "source": [
    "ya = sum([aa*exp(v*t) for aa, v in zip(a, ew)])\n",
    "wb = sum([bb*exp(v*t) for bb, v in zip(b, ew)])"
   ]
  },
  {
   "cell_type": "code",
   "execution_count": null,
   "metadata": {},
   "outputs": [],
   "source": [
    "ers = { y(t): ya, w(t): wb}\n",
    "dgl1.subs(ers)"
   ]
  },
  {
   "cell_type": "code",
   "execution_count": null,
   "metadata": {},
   "outputs": [],
   "source": [
    "tmp_glg = dgl1.subs(ers).doit().expand()\n",
    "tmp = tmp_glg.lhs - tmp_glg.rhs\n",
    "tmp"
   ]
  },
  {
   "cell_type": "code",
   "execution_count": null,
   "metadata": {},
   "outputs": [],
   "source": [
    "gls = []\n",
    "for v in ew:\n",
    "    gls.append(tmp.coeff(exp(v*t)))\n",
    "gls"
   ]
  },
  {
   "cell_type": "code",
   "execution_count": null,
   "metadata": {},
   "outputs": [],
   "source": [
    "tmp_glg = dgl2.subs(ers).doit().expand()\n",
    "tmp = tmp_glg.lhs - tmp_glg.rhs\n",
    "for v in ew:\n",
    "    gls.append(tmp.coeff(exp(v*t)))\n",
    "gls"
   ]
  },
  {
   "cell_type": "code",
   "execution_count": null,
   "metadata": {},
   "outputs": [],
   "source": [
    "solve(gls)"
   ]
  },
  {
   "cell_type": "code",
   "execution_count": null,
   "metadata": {},
   "outputs": [],
   "source": [
    "llsg = linsolve(gls, a+b)\n",
    "llsg"
   ]
  },
  {
   "cell_type": "markdown",
   "metadata": {},
   "source": [
    "Fundamentalsystem"
   ]
  },
  {
   "cell_type": "code",
   "execution_count": null,
   "metadata": {},
   "outputs": [],
   "source": [
    "l = list(llsg)[0]\n",
    "ers = { a[0]: l[0], a[1]: l[1], a[2]:l[2], a[3]:l[3], b[0]:1, b[1]:0, b[2]:0, b[3]: 0}"
   ]
  },
  {
   "cell_type": "code",
   "execution_count": null,
   "metadata": {},
   "outputs": [],
   "source": [
    "y1 = ya.subs(ers)\n",
    "y1"
   ]
  },
  {
   "cell_type": "code",
   "execution_count": null,
   "metadata": {},
   "outputs": [],
   "source": [
    "w1 = wb.subs(ers)\n",
    "w1"
   ]
  },
  {
   "cell_type": "markdown",
   "metadata": {},
   "source": [
    "jetzt automatisch"
   ]
  },
  {
   "cell_type": "code",
   "execution_count": null,
   "metadata": {},
   "outputs": [],
   "source": [
    "Phi = []\n",
    "for j in range(4):\n",
    "    ers = {a[i]: l[i] for i in range(4)}\n",
    "    for i in range(4):\n",
    "        ers[b[i]] = 0\n",
    "    ers[b[j]] = 1\n",
    "    yf = ya.subs(ers)\n",
    "    wf = wb.subs(ers)\n",
    "    Phi.append((yf, wf))\n",
    "Phi"
   ]
  },
  {
   "cell_type": "markdown",
   "metadata": {},
   "source": [
    "Löse die AWA $y(0)=0$, $y'(0)=0$, $w(0)=1$, $w'(0)=0 $"
   ]
  },
  {
   "cell_type": "code",
   "execution_count": null,
   "metadata": {},
   "outputs": [],
   "source": [
    "phi = sum([aa*p[0] for aa, p in zip(a, Phi)])\n",
    "psi = sum([aa*p[1] for aa, p in zip(a, Phi)])"
   ]
  },
  {
   "cell_type": "code",
   "execution_count": null,
   "metadata": {},
   "outputs": [],
   "source": [
    "phi"
   ]
  },
  {
   "cell_type": "code",
   "execution_count": null,
   "metadata": {},
   "outputs": [],
   "source": [
    "glg1 = Eq(phi.subs(t,0), 0)\n",
    "glg2 = Eq(phi.diff(t).subs(t,0), 0)\n",
    "glg3 = Eq(psi.subs(t,0), 1)\n",
    "glg4 = Eq(psi.diff(t).subs(t,0), 0)\n",
    "gls = [glg1, glg2, glg3, glg4]\n",
    "gls"
   ]
  },
  {
   "cell_type": "code",
   "execution_count": null,
   "metadata": {},
   "outputs": [],
   "source": [
    "llsg = linsolve(gls, a)\n",
    "llsg"
   ]
  },
  {
   "cell_type": "markdown",
   "metadata": {},
   "source": [
    "Wir vereinfachen den ersten Ausdruck (Kür)"
   ]
  },
  {
   "cell_type": "code",
   "execution_count": null,
   "metadata": {},
   "outputs": [],
   "source": [
    "l = list(llsg)[0][0]\n",
    "l"
   ]
  },
  {
   "cell_type": "code",
   "execution_count": null,
   "metadata": {},
   "outputs": [],
   "source": [
    "p = minimal_polynomial(l)"
   ]
  },
  {
   "cell_type": "code",
   "execution_count": null,
   "metadata": {},
   "outputs": [],
   "source": [
    "solve(p)"
   ]
  },
  {
   "cell_type": "code",
   "execution_count": null,
   "metadata": {},
   "outputs": [],
   "source": []
  }
 ],
 "metadata": {
  "kernelspec": {
   "display_name": "Python 3",
   "language": "python",
   "name": "python3"
  },
  "language_info": {
   "codemirror_mode": {
    "name": "ipython",
    "version": 3
   },
   "file_extension": ".py",
   "mimetype": "text/x-python",
   "name": "python",
   "nbconvert_exporter": "python",
   "pygments_lexer": "ipython3",
   "version": "3.7.0"
  }
 },
 "nbformat": 4,
 "nbformat_minor": 2
}
