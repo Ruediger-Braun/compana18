{
 "cells": [
  {
   "cell_type": "markdown",
   "metadata": {},
   "source": [
    "# Computergestützte Mathematik zur Analysis\n",
    "\n",
    "24.01.2019\n",
    "\n",
    "&copy; Rüdiger W. Braun"
   ]
  },
  {
   "cell_type": "code",
   "execution_count": 1,
   "metadata": {
    "slideshow": {
     "slide_type": "slide"
    }
   },
   "outputs": [],
   "source": [
    "from sympy import *\n",
    "init_printing()\n",
    "%matplotlib qt\n",
    "import matplotlib.pyplot as plt\n",
    "import numpy as np"
   ]
  },
  {
   "cell_type": "markdown",
   "metadata": {
    "slideshow": {
     "slide_type": "slide"
    }
   },
   "source": [
    "Differentialgleichungen"
   ]
  },
  {
   "cell_type": "code",
   "execution_count": 2,
   "metadata": {},
   "outputs": [
    {
     "data": {
      "image/png": "[encoded data removed]",
      "text/latex": [
       "$$\\frac{d}{d x} y{\\left (x \\right )} = - x^{3} + 3 x + y{\\left (x \\right )} - 2$$"
      ],
      "text/plain": [
       "d             3                 \n",
       "──(y(x)) = - x  + 3⋅x + y(x) - 2\n",
       "dx                              "
      ]
     },
     "execution_count": 2,
     "metadata": {},
     "output_type": "execute_result"
    }
   ],
   "source": [
    "x = Symbol('x')\n",
    "y = Function('y')\n",
    "dgl = Eq(y(x).diff(x), y(x)-x**3+3*x-2)\n",
    "dgl"
   ]
  },
  {
   "cell_type": "code",
   "execution_count": 3,
   "metadata": {},
   "outputs": [
    {
     "data": {
      "image/png": "[encoded data removed]",
      "text/latex": [
       "$$y{\\left (x \\right )} = C_{1} e^{x} + x^{3} + 3 x^{2} + 3 x + 5$$"
      ],
      "text/plain": [
       "           x    3      2          \n",
       "y(x) = C₁⋅ℯ  + x  + 3⋅x  + 3⋅x + 5"
      ]
     },
     "execution_count": 3,
     "metadata": {},
     "output_type": "execute_result"
    }
   ],
   "source": [
    "lsg = dsolve(dgl).expand()\n",
    "lsg"
   ]
  },
  {
   "cell_type": "code",
   "execution_count": 4,
   "metadata": {
    "slideshow": {
     "slide_type": "fragment"
    }
   },
   "outputs": [
    {
     "name": "stdout",
     "output_type": "stream",
     "text": [
      "Eq(y(x), C1*exp(x) + x**3 + 3*x**2 + 3*x + 5)\n"
     ]
    }
   ],
   "source": [
    "print(lsg)"
   ]
  },
  {
   "cell_type": "code",
   "execution_count": 5,
   "metadata": {
    "slideshow": {
     "slide_type": "slide"
    }
   },
   "outputs": [],
   "source": [
    "#lsg.subs(C1, 3) # NameError"
   ]
  },
  {
   "cell_type": "code",
   "execution_count": 6,
   "metadata": {},
   "outputs": [
    {
     "data": {
      "image/png": "[encoded data removed]",
      "text/latex": [
       "$$y{\\left (x \\right )} = x^{3} + 3 x^{2} + 3 x + 3 e^{x} + 5$$"
      ],
      "text/plain": [
       "        3      2            x    \n",
       "y(x) = x  + 3⋅x  + 3⋅x + 3⋅ℯ  + 5"
      ]
     },
     "execution_count": 6,
     "metadata": {},
     "output_type": "execute_result"
    }
   ],
   "source": [
    "C1 = Symbol('C1')\n",
    "lsg.subs(C1, 3)"
   ]
  },
  {
   "cell_type": "markdown",
   "metadata": {
    "slideshow": {
     "slide_type": "slide"
    }
   },
   "source": [
    "Wir wollen die Anfangsbedingung $y(0)=4$ erfüllen."
   ]
  },
  {
   "cell_type": "code",
   "execution_count": 7,
   "metadata": {},
   "outputs": [
    {
     "data": {
      "image/png": "[encoded data removed]",
      "text/latex": [
       "$$C_{1} + 5 = 4$$"
      ],
      "text/plain": [
       "C₁ + 5 = 4"
      ]
     },
     "execution_count": 7,
     "metadata": {},
     "output_type": "execute_result"
    }
   ],
   "source": [
    "phi = lsg.rhs\n",
    "ab = Eq(phi.subs(x,0), 4)\n",
    "ab"
   ]
  },
  {
   "cell_type": "code",
   "execution_count": 8,
   "metadata": {},
   "outputs": [
    {
     "data": {
      "image/png": "[encoded data removed]",
      "text/latex": [
       "$$\\left [ -1\\right ]$$"
      ],
      "text/plain": [
       "[-1]"
      ]
     },
     "execution_count": 8,
     "metadata": {},
     "output_type": "execute_result"
    }
   ],
   "source": [
    "lsg_ab = solve(ab, C1)\n",
    "lsg_ab"
   ]
  },
  {
   "cell_type": "code",
   "execution_count": 9,
   "metadata": {},
   "outputs": [
    {
     "data": {
      "image/png": "[encoded data removed]",
      "text/latex": [
       "$$x^{3} + 3 x^{2} + 3 x - e^{x} + 5$$"
      ],
      "text/plain": [
       " 3      2          x    \n",
       "x  + 3⋅x  + 3⋅x - ℯ  + 5"
      ]
     },
     "execution_count": 9,
     "metadata": {},
     "output_type": "execute_result"
    }
   ],
   "source": [
    "phi_ab = phi.subs(C1, lsg_ab[0])\n",
    "phi_ab"
   ]
  },
  {
   "cell_type": "markdown",
   "metadata": {
    "slideshow": {
     "slide_type": "slide"
    }
   },
   "source": [
    "Lösungskurven für verschiedene Anfangswerte"
   ]
  },
  {
   "cell_type": "code",
   "execution_count": 10,
   "metadata": {},
   "outputs": [],
   "source": [
    "plt.figure()\n",
    "xn = np.linspace(-1.5,2)\n",
    "for y0 in [S(1)/2, 1, S(3)/2]:\n",
    "    ab = Eq(phi.subs(x, 0), y0)\n",
    "    Lsg_AWA = solve(ab)\n",
    "    fn = lambdify(x, phi.subs(C1, Lsg_AWA[0]), 'numpy')\n",
    "    label = f'$ {latex(y0)} $'\n",
    "    plt.plot(xn, fn(xn), label=f'$ {latex(y0)} $')\n",
    "plt.legend();"
   ]
  },
  {
   "cell_type": "markdown",
   "metadata": {
    "slideshow": {
     "slide_type": "slide"
    }
   },
   "source": [
    "zeichne Richtungsvektoren"
   ]
  },
  {
   "cell_type": "code",
   "execution_count": 11,
   "metadata": {},
   "outputs": [
    {
     "data": {
      "image/png": "[encoded data removed]",
      "text/latex": [
       "$$\\left ( \\left ( 11, \\quad 13\\right ), \\quad \\left ( 11, \\quad 13\\right )\\right )$$"
      ],
      "text/plain": [
       "((11, 13), (11, 13))"
      ]
     },
     "execution_count": 11,
     "metadata": {},
     "output_type": "execute_result"
    }
   ],
   "source": [
    "xq = np.linspace(-1.4, 1.8, 13)\n",
    "yq = np.linspace(-2.5, 5.5, 11)\n",
    "X, Y = np.meshgrid(xq, yq)\n",
    "vf = np.array([dgl.rhs.subs({x: xx, y(x): yy})\n",
    "               for yy in yq for xx in xq]).reshape(11, 13).astype(float)\n",
    "X.shape, vf.shape"
   ]
  },
  {
   "cell_type": "code",
   "execution_count": 12,
   "metadata": {},
   "outputs": [],
   "source": [
    "U = np.ones_like(X)\n",
    "V = vf\n",
    "plt.quiver(X, Y, U, V, angles='xy');\n",
    "# quiver: Köcher\n",
    "# X, Y: Fußpunkte der Pfeile\n",
    "# U, V: Koordinaten der Pfeile, gemessen vom Fußpunkt\n",
    "# angles='xy':  Koordinaten der Pfeile proportionale zu den Einheiten der Achsen"
   ]
  },
  {
   "cell_type": "markdown",
   "metadata": {
    "slideshow": {
     "slide_type": "slide"
    }
   },
   "source": [
    "Definitionsbereiche"
   ]
  },
  {
   "cell_type": "code",
   "execution_count": 13,
   "metadata": {},
   "outputs": [],
   "source": [
    "y = Function('y')\n",
    "y0 = Symbol('y_0', real=True)\n",
    "x = Symbol('x')"
   ]
  },
  {
   "cell_type": "code",
   "execution_count": 14,
   "metadata": {},
   "outputs": [
    {
     "data": {
      "image/png": "[encoded data removed]",
      "text/latex": [
       "$$\\frac{d}{d x} y{\\left (x \\right )} = e^{y{\\left (x \\right )}} \\sin{\\left (x \\right )}$$"
      ],
      "text/plain": [
       "d           y(x)       \n",
       "──(y(x)) = ℯ    ⋅sin(x)\n",
       "dx                     "
      ]
     },
     "execution_count": 14,
     "metadata": {},
     "output_type": "execute_result"
    }
   ],
   "source": [
    "dgl = Eq(y(x).diff(x), exp(y(x))*sin(x))\n",
    "dgl"
   ]
  },
  {
   "cell_type": "code",
   "execution_count": 15,
   "metadata": {},
   "outputs": [
    {
     "data": {
      "image/png": "[encoded data removed]",
      "text/latex": [
       "$$y{\\left (x \\right )} = \\log{\\left (- \\frac{1}{C_{1} - \\cos{\\left (x \\right )}} \\right )}$$"
      ],
      "text/plain": [
       "          ⎛    -1     ⎞\n",
       "y(x) = log⎜───────────⎟\n",
       "          ⎝C₁ - cos(x)⎠"
      ]
     },
     "execution_count": 15,
     "metadata": {},
     "output_type": "execute_result"
    }
   ],
   "source": [
    "lsg = dsolve(dgl)\n",
    "lsg"
   ]
  },
  {
   "cell_type": "markdown",
   "metadata": {
    "slideshow": {
     "slide_type": "slide"
    }
   },
   "source": [
    "Wir lösen die Anfangswertaufgabe für das abstrakte $y_0$"
   ]
  },
  {
   "cell_type": "code",
   "execution_count": 16,
   "metadata": {},
   "outputs": [
    {
     "data": {
      "image/png": "[encoded data removed]",
      "text/latex": [
       "$$\\log{\\left (- \\frac{1}{C_{1} - 1} \\right )} = y_{0}$$"
      ],
      "text/plain": [
       "   ⎛ -1   ⎞     \n",
       "log⎜──────⎟ = y₀\n",
       "   ⎝C₁ - 1⎠     "
      ]
     },
     "execution_count": 16,
     "metadata": {},
     "output_type": "execute_result"
    }
   ],
   "source": [
    "phi = lsg.rhs\n",
    "ab = Eq(phi.subs(x,0), y0)\n",
    "ab"
   ]
  },
  {
   "cell_type": "code",
   "execution_count": 17,
   "metadata": {},
   "outputs": [
    {
     "data": {
      "image/png": "[encoded data removed]",
      "text/latex": [
       "$$\\left [ 1 - e^{- y_{0}}\\right ]$$"
      ],
      "text/plain": [
       "⎡     -y₀⎤\n",
       "⎣1 - ℯ   ⎦"
      ]
     },
     "execution_count": 17,
     "metadata": {},
     "output_type": "execute_result"
    }
   ],
   "source": [
    "lsg_ab = solve(ab, C1)\n",
    "lsg_ab"
   ]
  },
  {
   "cell_type": "code",
   "execution_count": 18,
   "metadata": {},
   "outputs": [
    {
     "data": {
      "image/png": "[encoded data removed]",
      "text/latex": [
       "$$\\log{\\left (- \\frac{1}{- \\cos{\\left (x \\right )} + 1 - e^{- y_{0}}} \\right )}$$"
      ],
      "text/plain": [
       "   ⎛       -1         ⎞\n",
       "log⎜──────────────────⎟\n",
       "   ⎜               -y₀⎟\n",
       "   ⎝-cos(x) + 1 - ℯ   ⎠"
      ]
     },
     "execution_count": 18,
     "metadata": {},
     "output_type": "execute_result"
    }
   ],
   "source": [
    "phi_ab = phi.subs(C1, lsg_ab[0])\n",
    "phi_ab"
   ]
  },
  {
   "cell_type": "markdown",
   "metadata": {
    "slideshow": {
     "slide_type": "slide"
    }
   },
   "source": [
    "Probe:"
   ]
  },
  {
   "cell_type": "code",
   "execution_count": 21,
   "metadata": {},
   "outputs": [
    {
     "data": {
      "image/png": "[encoded data removed]",
      "text/latex": [
       "$$\\mathrm{True}$$"
      ],
      "text/plain": [
       "True"
      ]
     },
     "execution_count": 21,
     "metadata": {},
     "output_type": "execute_result"
    }
   ],
   "source": [
    "dgl.subs(y(x), phi_ab).doit().simplify()"
   ]
  },
  {
   "cell_type": "code",
   "execution_count": 22,
   "metadata": {},
   "outputs": [
    {
     "data": {
      "text/plain": [
       "True"
      ]
     },
     "execution_count": 22,
     "metadata": {},
     "output_type": "execute_result"
    }
   ],
   "source": [
    "phi_ab.subs(x,0) == y0"
   ]
  },
  {
   "cell_type": "code",
   "execution_count": 23,
   "metadata": {},
   "outputs": [
    {
     "data": {
      "image/png": "[encoded data removed]",
      "text/latex": [
       "$$\\log{\\left (- \\frac{1}{- \\cos{\\left (x \\right )} - e^{\\frac{1}{2}} + 1} \\right )}$$"
      ],
      "text/plain": [
       "   ⎛       -1         ⎞\n",
       "log⎜──────────────────⎟\n",
       "   ⎜           1/2    ⎟\n",
       "   ⎝-cos(x) - ℯ    + 1⎠"
      ]
     },
     "execution_count": 23,
     "metadata": {},
     "output_type": "execute_result"
    }
   ],
   "source": [
    "phi_12 = phi_ab.subs(y0, -Rational(1,2))\n",
    "phi_12"
   ]
  },
  {
   "cell_type": "code",
   "execution_count": 24,
   "metadata": {
    "slideshow": {
     "slide_type": "slide"
    }
   },
   "outputs": [
    {
     "name": "stderr",
     "output_type": "stream",
     "text": [
      "<string>:2: RuntimeWarning: invalid value encountered in log\n",
      "C:\\Users\\braun\\Miniconda3\\lib\\site-packages\\ipykernel_launcher.py:5: RuntimeWarning: invalid value encountered in greater\n",
      "  \"\"\"\n"
     ]
    }
   ],
   "source": [
    "plt.figure()\n",
    "fn = lambdify(x, phi_12, 'numpy')\n",
    "xn = np.linspace(-4, 10, 301)\n",
    "wn = fn(xn)\n",
    "wn[wn>2] = np.nan\n",
    "plt.plot(xn, wn, linewidth=4); "
   ]
  },
  {
   "cell_type": "code",
   "execution_count": 25,
   "metadata": {},
   "outputs": [],
   "source": [
    "xq = np.linspace(-3.5, 9.5, 13)\n",
    "yq = np.linspace(-.8, 1.95, 12)\n",
    "X, Y = np.meshgrid(xq, yq)\n",
    "vf = np.array([dgl.rhs.subs({x: xx, y(x): yy})\n",
    "               for yy in yq for xx in xq]).reshape(12, 13).astype(float)\n",
    "plt.quiver(X, Y, np.ones_like(X), vf, angles='xy');"
   ]
  },
  {
   "cell_type": "markdown",
   "metadata": {
    "slideshow": {
     "slide_type": "slide"
    }
   },
   "source": [
    "Aber wo ist die Lösung definiert?"
   ]
  },
  {
   "cell_type": "code",
   "execution_count": 26,
   "metadata": {},
   "outputs": [
    {
     "data": {
      "image/png": "[encoded data removed]",
      "text/latex": [
       "$$- \\frac{1}{- \\cos{\\left (x \\right )} - e^{\\frac{1}{2}} + 1}$$"
      ],
      "text/plain": [
       "       -1         \n",
       "──────────────────\n",
       "           1/2    \n",
       "-cos(x) - ℯ    + 1"
      ]
     },
     "execution_count": 26,
     "metadata": {},
     "output_type": "execute_result"
    }
   ],
   "source": [
    "exp(phi_12)"
   ]
  },
  {
   "cell_type": "code",
   "execution_count": 27,
   "metadata": {},
   "outputs": [
    {
     "data": {
      "image/png": "[encoded data removed]",
      "text/latex": [
       "$$\\cos{\\left (x \\right )} - 1 + e^{\\frac{1}{2}}$$"
      ],
      "text/plain": [
       "              1/2\n",
       "cos(x) - 1 + ℯ   "
      ]
     },
     "execution_count": 27,
     "metadata": {},
     "output_type": "execute_result"
    }
   ],
   "source": [
    "tmp = 1/_\n",
    "tmp"
   ]
  },
  {
   "cell_type": "code",
   "execution_count": 28,
   "metadata": {},
   "outputs": [
    {
     "data": {
      "image/png": "[encoded data removed]",
      "text/latex": [
       "$$\\left[0, \\operatorname{atan}{\\left (\\frac{\\sqrt{- e + 2 e^{\\frac{1}{2}}}}{- e^{\\frac{1}{2}} + 1} \\right )} + \\pi\\right) \\cup \\left(- \\operatorname{atan}{\\left (\\frac{\\sqrt{- e + 2 e^{\\frac{1}{2}}}}{- e^{\\frac{1}{2}} + 1} \\right )} + \\pi, 2 \\pi\\right]$$"
      ],
      "text/plain": [
       "⎡       ⎛   _____________⎞    ⎞   ⎛      ⎛   _____________⎞         ⎤\n",
       "⎢       ⎜  ╱         1/2 ⎟    ⎟   ⎜      ⎜  ╱         1/2 ⎟         ⎥\n",
       "⎢       ⎜╲╱  -ℯ + 2⋅ℯ    ⎟    ⎟   ⎜      ⎜╲╱  -ℯ + 2⋅ℯ    ⎟         ⎥\n",
       "⎢0, atan⎜────────────────⎟ + π⎟ ∪ ⎜- atan⎜────────────────⎟ + π, 2⋅π⎥\n",
       "⎢       ⎜      1/2       ⎟    ⎟   ⎜      ⎜      1/2       ⎟         ⎥\n",
       "⎣       ⎝   - ℯ    + 1   ⎠    ⎠   ⎝      ⎝   - ℯ    + 1   ⎠         ⎦"
      ]
     },
     "execution_count": 28,
     "metadata": {},
     "output_type": "execute_result"
    }
   ],
   "source": [
    "lsg = solveset(tmp>0, domain=Reals)\n",
    "lsg"
   ]
  },
  {
   "cell_type": "code",
   "execution_count": 29,
   "metadata": {
    "slideshow": {
     "slide_type": "slide"
    }
   },
   "outputs": [
    {
     "data": {
      "image/png": "[encoded data removed]",
      "text/latex": [
       "$$\\left ( \\left[0, \\operatorname{atan}{\\left (\\frac{\\sqrt{- e + 2 e^{\\frac{1}{2}}}}{- e^{\\frac{1}{2}} + 1} \\right )} + \\pi\\right), \\quad \\left(- \\operatorname{atan}{\\left (\\frac{\\sqrt{- e + 2 e^{\\frac{1}{2}}}}{- e^{\\frac{1}{2}} + 1} \\right )} + \\pi, 2 \\pi\\right]\\right )$$"
      ],
      "text/plain": [
       "⎛⎡       ⎛   _____________⎞    ⎞  ⎛      ⎛   _____________⎞         ⎤⎞\n",
       "⎜⎢       ⎜  ╱         1/2 ⎟    ⎟  ⎜      ⎜  ╱         1/2 ⎟         ⎥⎟\n",
       "⎜⎢       ⎜╲╱  -ℯ + 2⋅ℯ    ⎟    ⎟  ⎜      ⎜╲╱  -ℯ + 2⋅ℯ    ⎟         ⎥⎟\n",
       "⎜⎢0, atan⎜────────────────⎟ + π⎟, ⎜- atan⎜────────────────⎟ + π, 2⋅π⎥⎟\n",
       "⎜⎢       ⎜      1/2       ⎟    ⎟  ⎜      ⎜      1/2       ⎟         ⎥⎟\n",
       "⎝⎣       ⎝   - ℯ    + 1   ⎠    ⎠  ⎝      ⎝   - ℯ    + 1   ⎠         ⎦⎠"
      ]
     },
     "execution_count": 29,
     "metadata": {},
     "output_type": "execute_result"
    }
   ],
   "source": [
    "lsg.args"
   ]
  },
  {
   "cell_type": "code",
   "execution_count": 30,
   "metadata": {},
   "outputs": [
    {
     "data": {
      "image/png": "[encoded data removed]",
      "text/latex": [
       "$$2.27669928768065$$"
      ],
      "text/plain": [
       "2.27669928768065"
      ]
     },
     "execution_count": 30,
     "metadata": {},
     "output_type": "execute_result"
    }
   ],
   "source": [
    "lsg.args[0].right.n()"
   ]
  },
  {
   "cell_type": "code",
   "execution_count": 31,
   "metadata": {},
   "outputs": [
    {
     "data": {
      "image/png": "[encoded data removed]",
      "text/latex": [
       "$$-2.27669928768065$$"
      ],
      "text/plain": [
       "-2.27669928768065"
      ]
     },
     "execution_count": 31,
     "metadata": {},
     "output_type": "execute_result"
    }
   ],
   "source": [
    "(lsg.args[1].left-2*pi).n( )"
   ]
  },
  {
   "cell_type": "markdown",
   "metadata": {
    "slideshow": {
     "slide_type": "slide"
    }
   },
   "source": [
    "Für welche $y0$ ist die Lösung auf ganz $\\mathbb R$ definiert?"
   ]
  },
  {
   "cell_type": "code",
   "execution_count": 32,
   "metadata": {},
   "outputs": [
    {
     "data": {
      "image/png": "[encoded data removed]",
      "text/latex": [
       "$$\\log{\\left (- \\frac{1}{- \\cos{\\left (x \\right )} + 1 - e^{- y_{0}}} \\right )}$$"
      ],
      "text/plain": [
       "   ⎛       -1         ⎞\n",
       "log⎜──────────────────⎟\n",
       "   ⎜               -y₀⎟\n",
       "   ⎝-cos(x) + 1 - ℯ   ⎠"
      ]
     },
     "execution_count": 32,
     "metadata": {},
     "output_type": "execute_result"
    }
   ],
   "source": [
    "phi_ab"
   ]
  },
  {
   "cell_type": "code",
   "execution_count": 33,
   "metadata": {},
   "outputs": [
    {
     "data": {
      "image/png": "[encoded data removed]",
      "text/latex": [
       "$$- \\frac{1}{- \\cos{\\left (x \\right )} + 1 - e^{- y_{0}}}$$"
      ],
      "text/plain": [
       "       -1         \n",
       "──────────────────\n",
       "               -y₀\n",
       "-cos(x) + 1 - ℯ   "
      ]
     },
     "execution_count": 33,
     "metadata": {},
     "output_type": "execute_result"
    }
   ],
   "source": [
    "tmp =exp(phi_ab)\n",
    "tmp"
   ]
  },
  {
   "cell_type": "code",
   "execution_count": 34,
   "metadata": {},
   "outputs": [
    {
     "data": {
      "image/png": "[encoded data removed]",
      "text/latex": [
       "$$\\emptyset$$"
      ],
      "text/plain": [
       "∅"
      ]
     },
     "execution_count": 34,
     "metadata": {},
     "output_type": "execute_result"
    }
   ],
   "source": [
    "t1 = tmp.subs(x, 0)\n",
    "solveset(Eq(1/t1, 0))"
   ]
  },
  {
   "cell_type": "code",
   "execution_count": 35,
   "metadata": {
    "slideshow": {
     "slide_type": "slide"
    }
   },
   "outputs": [
    {
     "data": {
      "image/png": "[encoded data removed]",
      "text/latex": [
       "$$\\left\\{- \\log{\\left (2 \\right )}\\right\\}$$"
      ],
      "text/plain": [
       "{-log(2)}"
      ]
     },
     "execution_count": 35,
     "metadata": {},
     "output_type": "execute_result"
    }
   ],
   "source": [
    "t2 = tmp.subs(x, pi)\n",
    "lsg = solveset(Eq(1/t2, 0), domain=Reals)\n",
    "lsg"
   ]
  },
  {
   "cell_type": "code",
   "execution_count": 37,
   "metadata": {},
   "outputs": [],
   "source": [
    "l = list(lsg)[0]\n",
    "fn1 = lambdify(x, phi_ab.subs(y0, 1.1*l), 'numpy')\n",
    "fn2 = lambdify(x, phi_ab.subs(y0, l), 'numpy')\n",
    "w2 = fn2(xn)\n",
    "w2[w2>2] = np.nan\n",
    "plt.plot(xn, fn1(xn), linewidth=4)\n",
    "plt.plot(xn, w2, linewidth=4);"
   ]
  },
  {
   "cell_type": "markdown",
   "metadata": {
    "slideshow": {
     "slide_type": "slide"
    }
   },
   "source": [
    "Höhere Ordnung"
   ]
  },
  {
   "cell_type": "code",
   "execution_count": 38,
   "metadata": {
    "slideshow": {
     "slide_type": "-"
    }
   },
   "outputs": [],
   "source": [
    "a = Symbol('a')"
   ]
  },
  {
   "cell_type": "code",
   "execution_count": 39,
   "metadata": {},
   "outputs": [
    {
     "data": {
      "image/png": "[encoded data removed]",
      "text/latex": [
       "$$\\frac{d^{2}}{d x^{2}} y{\\left (x \\right )} = a \\frac{d}{d x} y{\\left (x \\right )} - y{\\left (x \\right )}$$"
      ],
      "text/plain": [
       "  2                          \n",
       " d            d              \n",
       "───(y(x)) = a⋅──(y(x)) - y(x)\n",
       "  2           dx             \n",
       "dx                           "
      ]
     },
     "execution_count": 39,
     "metadata": {},
     "output_type": "execute_result"
    }
   ],
   "source": [
    "dgl = Eq(y(x).diff(x,2), a*y(x).diff(x) - y(x))\n",
    "dgl"
   ]
  },
  {
   "cell_type": "code",
   "execution_count": 40,
   "metadata": {},
   "outputs": [
    {
     "data": {
      "image/png": "[encoded data removed]",
      "text/latex": [
       "$$y{\\left (x \\right )} = C_{1} e^{\\frac{x \\left(a - \\sqrt{a^{2} - 4}\\right)}{2}} + C_{2} e^{\\frac{x \\left(a + \\sqrt{a^{2} - 4}\\right)}{2}}$$"
      ],
      "text/plain": [
       "             ⎛       ________⎞         ⎛       ________⎞\n",
       "             ⎜      ╱  2     ⎟         ⎜      ╱  2     ⎟\n",
       "           x⋅⎝a - ╲╱  a  - 4 ⎠       x⋅⎝a + ╲╱  a  - 4 ⎠\n",
       "           ───────────────────       ───────────────────\n",
       "                    2                         2         \n",
       "y(x) = C₁⋅ℯ                    + C₂⋅ℯ                   "
      ]
     },
     "execution_count": 40,
     "metadata": {},
     "output_type": "execute_result"
    }
   ],
   "source": [
    "dsolve(dgl)"
   ]
  },
  {
   "cell_type": "markdown",
   "metadata": {
    "slideshow": {
     "slide_type": "slide"
    }
   },
   "source": [
    "Gekoppelte Pendel"
   ]
  },
  {
   "cell_type": "code",
   "execution_count": 41,
   "metadata": {},
   "outputs": [],
   "source": [
    "y = Function('y')\n",
    "w = Function('w')\n",
    "t = Symbol('t')"
   ]
  },
  {
   "cell_type": "code",
   "execution_count": 42,
   "metadata": {},
   "outputs": [
    {
     "data": {
      "image/png": "[encoded data removed]",
      "text/latex": [
       "$$\\left\\{\\frac{d^{2}}{d t^{2}} w{\\left (t \\right )} = 3 w{\\left (t \\right )} + 2 y{\\left (t \\right )}, \\frac{d^{2}}{d t^{2}} y{\\left (t \\right )} = w{\\left (t \\right )} - y{\\left (t \\right )}\\right\\}$$"
      ],
      "text/plain": [
       "⎧  2                            2                    ⎫\n",
       "⎪ d                            d                     ⎪\n",
       "⎨───(w(t)) = 3⋅w(t) + 2⋅y(t), ───(y(t)) = w(t) - y(t)⎬\n",
       "⎪  2                            2                    ⎪\n",
       "⎩dt                           dt                     ⎭"
      ]
     },
     "execution_count": 42,
     "metadata": {},
     "output_type": "execute_result"
    }
   ],
   "source": [
    "dgl1 = Eq(y(t).diff(t,2), w(t)-y(t))\n",
    "dgl2 = Eq(w(t).diff(t,2), 2*y(t)+3*w(t))\n",
    "dgs = {dgl1, dgl2}\n",
    "dgs"
   ]
  },
  {
   "cell_type": "markdown",
   "metadata": {
    "slideshow": {
     "slide_type": "fragment"
    }
   },
   "source": [
    "Das ist nicht implementiert.  "
   ]
  },
  {
   "cell_type": "markdown",
   "metadata": {
    "slideshow": {
     "slide_type": "slide"
    }
   },
   "source": [
    "Zugehöriges System erster Ordnung in Matrixschreibweise"
   ]
  },
  {
   "cell_type": "code",
   "execution_count": 44,
   "metadata": {},
   "outputs": [
    {
     "data": {
      "image/png": "[encoded data removed]",
      "text/latex": [
       "$$\\left[\\begin{matrix}0 & 1 & 0 & 0\\\\-1 & 0 & 1 & 0\\\\0 & 0 & 0 & 1\\\\2 & 0 & 3 & 0\\end{matrix}\\right]$$"
      ],
      "text/plain": [
       "⎡0   1  0  0⎤\n",
       "⎢           ⎥\n",
       "⎢-1  0  1  0⎥\n",
       "⎢           ⎥\n",
       "⎢0   0  0  1⎥\n",
       "⎢           ⎥\n",
       "⎣2   0  3  0⎦"
      ]
     },
     "execution_count": 44,
     "metadata": {},
     "output_type": "execute_result"
    }
   ],
   "source": [
    "M = Matrix([[0,1,0,0], [-1, 0, 1, 0], [0,0,0,1], [2, 0, 3, 0]])\n",
    "M"
   ]
  },
  {
   "cell_type": "code",
   "execution_count": 45,
   "metadata": {},
   "outputs": [
    {
     "data": {
      "image/png": "[encoded data removed]",
      "text/latex": [
       "$$\\left \\{ - i \\sqrt{-1 + \\sqrt{6}} : 1, \\quad i \\sqrt{-1 + \\sqrt{6}} : 1, \\quad - \\sqrt{1 + \\sqrt{6}} : 1, \\quad \\sqrt{1 + \\sqrt{6}} : 1\\right \\}$$"
      ],
      "text/plain": [
       "⎧     _________         _________        ________       ________   ⎫\n",
       "⎨-ⅈ⋅╲╱ -1 + √6 : 1, ⅈ⋅╲╱ -1 + √6 : 1, -╲╱ 1 + √6 : 1, ╲╱ 1 + √6 : 1⎬\n",
       "⎩                                                                  ⎭"
      ]
     },
     "execution_count": 45,
     "metadata": {},
     "output_type": "execute_result"
    }
   ],
   "source": [
    "ew = M.eigenvals()\n",
    "ew"
   ]
  },
  {
   "cell_type": "code",
   "execution_count": null,
   "metadata": {
    "slideshow": {
     "slide_type": "slide"
    }
   },
   "outputs": [],
   "source": [
    "# M.exp()  # IndexError\n",
    "# Folge von\n",
    "# M.eigenvects()  # NotImplementedError"
   ]
  },
  {
   "cell_type": "markdown",
   "metadata": {
    "slideshow": {
     "slide_type": "slide"
    }
   },
   "source": [
    "Ansatz"
   ]
  },
  {
   "cell_type": "code",
   "execution_count": 46,
   "metadata": {},
   "outputs": [],
   "source": [
    "a = [Symbol(f'a_{j}') for j in range(4)]\n",
    "b = [Symbol(f'b_{j}') for j in range(4)]"
   ]
  },
  {
   "cell_type": "code",
   "execution_count": 47,
   "metadata": {},
   "outputs": [
    {
     "data": {
      "image/png": "[encoded data removed]",
      "text/latex": [
       "$$a_{0} e^{- i t \\sqrt{-1 + \\sqrt{6}}} + a_{1} e^{i t \\sqrt{-1 + \\sqrt{6}}} + a_{2} e^{- t \\sqrt{1 + \\sqrt{6}}} + a_{3} e^{t \\sqrt{1 + \\sqrt{6}}}$$"
      ],
      "text/plain": [
       "           _________             _________            ________           _____\n",
       "    -ⅈ⋅t⋅╲╱ -1 + √6        ⅈ⋅t⋅╲╱ -1 + √6        -t⋅╲╱ 1 + √6        t⋅╲╱ 1 + \n",
       "a₀⋅ℯ                 + a₁⋅ℯ                + a₂⋅ℯ              + a₃⋅ℯ         \n",
       "\n",
       "___\n",
       "√6 \n",
       "   "
      ]
     },
     "execution_count": 47,
     "metadata": {},
     "output_type": "execute_result"
    }
   ],
   "source": [
    "ya = sum([aa*exp(v*t) for aa, v in zip(a, ew)])\n",
    "wb = sum([bb*exp(v*t) for bb, v in zip(b, ew)])\n",
    "ya"
   ]
  },
  {
   "cell_type": "code",
   "execution_count": 48,
   "metadata": {},
   "outputs": [
    {
     "data": {
      "image/png": "[encoded data removed]",
      "text/latex": [
       "$$\\frac{\\partial^{2}}{\\partial t^{2}} \\left(a_{0} e^{- i t \\sqrt{-1 + \\sqrt{6}}} + a_{1} e^{i t \\sqrt{-1 + \\sqrt{6}}} + a_{2} e^{- t \\sqrt{1 + \\sqrt{6}}} + a_{3} e^{t \\sqrt{1 + \\sqrt{6}}}\\right) = - a_{0} e^{- i t \\sqrt{-1 + \\sqrt{6}}} - a_{1} e^{i t \\sqrt{-1 + \\sqrt{6}}} - a_{2} e^{- t \\sqrt{1 + \\sqrt{6}}} - a_{3} e^{t \\sqrt{1 + \\sqrt{6}}} + b_{0} e^{- i t \\sqrt{-1 + \\sqrt{6}}} + b_{1} e^{i t \\sqrt{-1 + \\sqrt{6}}} + b_{2} e^{- t \\sqrt{1 + \\sqrt{6}}} + b_{3} e^{t \\sqrt{1 + \\sqrt{6}}}$$"
      ],
      "text/plain": [
       "  2⎛           _________             _________            ________           _\n",
       " ∂ ⎜    -ⅈ⋅t⋅╲╱ -1 + √6        ⅈ⋅t⋅╲╱ -1 + √6        -t⋅╲╱ 1 + √6        t⋅╲╱ \n",
       "───⎝a₀⋅ℯ                 + a₁⋅ℯ                + a₂⋅ℯ              + a₃⋅ℯ     \n",
       "  2                                                                           \n",
       "∂t                                                                            \n",
       "\n",
       "_______⎞                _________             _________            ________   \n",
       "1 + √6 ⎟         -ⅈ⋅t⋅╲╱ -1 + √6        ⅈ⋅t⋅╲╱ -1 + √6        -t⋅╲╱ 1 + √6    \n",
       "       ⎠ = - a₀⋅ℯ                 - a₁⋅ℯ                - a₂⋅ℯ              - \n",
       "                                                                              \n",
       "                                                                              \n",
       "\n",
       "        ________              _________             _________            _____\n",
       "    t⋅╲╱ 1 + √6        -ⅈ⋅t⋅╲╱ -1 + √6        ⅈ⋅t⋅╲╱ -1 + √6        -t⋅╲╱ 1 + \n",
       "a₃⋅ℯ             + b₀⋅ℯ                 + b₁⋅ℯ                + b₂⋅ℯ          \n",
       "                                                                              \n",
       "                                                                              \n",
       "\n",
       "___           ________\n",
       "√6        t⋅╲╱ 1 + √6 \n",
       "    + b₃⋅ℯ            \n",
       "                      \n",
       "                      "
      ]
     },
     "execution_count": 48,
     "metadata": {},
     "output_type": "execute_result"
    }
   ],
   "source": [
    "ers = { y(t): ya, w(t): wb}\n",
    "dgl1.subs(ers)"
   ]
  },
  {
   "cell_type": "code",
   "execution_count": 49,
   "metadata": {
    "slideshow": {
     "slide_type": "slide"
    }
   },
   "outputs": [
    {
     "data": {
      "image/png": "[encoded data removed]",
      "text/latex": [
       "$$- \\sqrt{6} a_{0} e^{- i t \\sqrt{-1 + \\sqrt{6}}} + 2 a_{0} e^{- i t \\sqrt{-1 + \\sqrt{6}}} - \\sqrt{6} a_{1} e^{i t \\sqrt{-1 + \\sqrt{6}}} + 2 a_{1} e^{i t \\sqrt{-1 + \\sqrt{6}}} + 2 a_{2} e^{- t \\sqrt{1 + \\sqrt{6}}} + \\sqrt{6} a_{2} e^{- t \\sqrt{1 + \\sqrt{6}}} + 2 a_{3} e^{t \\sqrt{1 + \\sqrt{6}}} + \\sqrt{6} a_{3} e^{t \\sqrt{1 + \\sqrt{6}}} - b_{0} e^{- i t \\sqrt{-1 + \\sqrt{6}}} - b_{1} e^{i t \\sqrt{-1 + \\sqrt{6}}} - b_{2} e^{- t \\sqrt{1 + \\sqrt{6}}} - b_{3} e^{t \\sqrt{1 + \\sqrt{6}}}$$"
      ],
      "text/plain": [
       "                _________                _________                _________   \n",
       "         -ⅈ⋅t⋅╲╱ -1 + √6          -ⅈ⋅t⋅╲╱ -1 + √6           ⅈ⋅t⋅╲╱ -1 + √6    \n",
       "- √6⋅a₀⋅ℯ                 + 2⋅a₀⋅ℯ                 - √6⋅a₁⋅ℯ                + \n",
       "\n",
       "            _________              ________               ________            \n",
       "      ⅈ⋅t⋅╲╱ -1 + √6          -t⋅╲╱ 1 + √6           -t⋅╲╱ 1 + √6          t⋅╲\n",
       "2⋅a₁⋅ℯ                + 2⋅a₂⋅ℯ              + √6⋅a₂⋅ℯ              + 2⋅a₃⋅ℯ   \n",
       "\n",
       " ________              ________              _________             _________  \n",
       "╱ 1 + √6           t⋅╲╱ 1 + √6        -ⅈ⋅t⋅╲╱ -1 + √6        ⅈ⋅t⋅╲╱ -1 + √6   \n",
       "          + √6⋅a₃⋅ℯ             - b₀⋅ℯ                 - b₁⋅ℯ                -\n",
       "\n",
       "          ________           ________\n",
       "     -t⋅╲╱ 1 + √6        t⋅╲╱ 1 + √6 \n",
       " b₂⋅ℯ              - b₃⋅ℯ            "
      ]
     },
     "execution_count": 49,
     "metadata": {},
     "output_type": "execute_result"
    }
   ],
   "source": [
    "tmp_glg = dgl1.subs(ers).doit().expand()\n",
    "tmp = tmp_glg.lhs - tmp_glg.rhs\n",
    "tmp"
   ]
  },
  {
   "cell_type": "markdown",
   "metadata": {},
   "source": [
    "Koeffizientenvergleich"
   ]
  },
  {
   "cell_type": "code",
   "execution_count": 50,
   "metadata": {},
   "outputs": [
    {
     "data": {
      "image/png": "[encoded data removed]",
      "text/latex": [
       "$$\\left [ - \\sqrt{6} a_{0} + 2 a_{0} - b_{0}, \\quad - \\sqrt{6} a_{1} + 2 a_{1} - b_{1}, \\quad 2 a_{2} + \\sqrt{6} a_{2} - b_{2}, \\quad 2 a_{3} + \\sqrt{6} a_{3} - b_{3}\\right ]$$"
      ],
      "text/plain": [
       "[-√6⋅a₀ + 2⋅a₀ - b₀, -√6⋅a₁ + 2⋅a₁ - b₁, 2⋅a₂ + √6⋅a₂ - b₂, 2⋅a₃ + √6⋅a₃ - b₃]"
      ]
     },
     "execution_count": 50,
     "metadata": {},
     "output_type": "execute_result"
    }
   ],
   "source": [
    "gls = []\n",
    "for v in ew:\n",
    "    gls.append(tmp.coeff(exp(v*t)))\n",
    "gls"
   ]
  },
  {
   "cell_type": "code",
   "execution_count": 51,
   "metadata": {
    "slideshow": {
     "slide_type": "slide"
    }
   },
   "outputs": [
    {
     "data": {
      "image/png": "[encoded data removed]",
      "text/latex": [
       "$$\\left [ - \\sqrt{6} a_{0} + 2 a_{0} - b_{0}, \\quad - \\sqrt{6} a_{1} + 2 a_{1} - b_{1}, \\quad 2 a_{2} + \\sqrt{6} a_{2} - b_{2}, \\quad 2 a_{3} + \\sqrt{6} a_{3} - b_{3}, \\quad - 2 a_{0} - \\sqrt{6} b_{0} - 2 b_{0}, \\quad - 2 a_{1} - \\sqrt{6} b_{1} - 2 b_{1}, \\quad - 2 a_{2} - 2 b_{2} + \\sqrt{6} b_{2}, \\quad - 2 a_{3} - 2 b_{3} + \\sqrt{6} b_{3}\\right ]$$"
      ],
      "text/plain": [
       "[-√6⋅a₀ + 2⋅a₀ - b₀, -√6⋅a₁ + 2⋅a₁ - b₁, 2⋅a₂ + √6⋅a₂ - b₂, 2⋅a₃ + √6⋅a₃ - b₃,\n",
       " -2⋅a₀ - √6⋅b₀ - 2⋅b₀, -2⋅a₁ - √6⋅b₁ - 2⋅b₁, -2⋅a₂ - 2⋅b₂ + √6⋅b₂, -2⋅a₃ - 2⋅b\n",
       "₃ + √6⋅b₃]"
      ]
     },
     "execution_count": 51,
     "metadata": {},
     "output_type": "execute_result"
    }
   ],
   "source": [
    "tmp_glg = dgl2.subs(ers).doit().expand()\n",
    "tmp = tmp_glg.lhs - tmp_glg.rhs\n",
    "for v in ew:\n",
    "    gls.append(tmp.coeff(exp(v*t)))\n",
    "gls"
   ]
  },
  {
   "cell_type": "code",
   "execution_count": 52,
   "metadata": {},
   "outputs": [
    {
     "data": {
      "image/png": "[encoded data removed]",
      "text/latex": [
       "$$\\left \\{ a_{0} : \\mathrm{NaN}, \\quad a_{1} : \\mathrm{NaN}, \\quad a_{2} : \\mathrm{NaN}, \\quad a_{3} : \\mathrm{NaN}, \\quad b_{0} : \\mathrm{NaN}, \\quad b_{1} : \\mathrm{NaN}, \\quad b_{2} : \\mathrm{NaN}, \\quad b_{3} : \\mathrm{NaN}\\right \\}$$"
      ],
      "text/plain": [
       "{a₀: nan, a₁: nan, a₂: nan, a₃: nan, b₀: nan, b₁: nan, b₂: nan, b₃: nan}"
      ]
     },
     "execution_count": 52,
     "metadata": {},
     "output_type": "execute_result"
    }
   ],
   "source": [
    "solve(gls)"
   ]
  },
  {
   "cell_type": "code",
   "execution_count": 53,
   "metadata": {},
   "outputs": [
    {
     "data": {
      "image/png": "[encoded data removed]",
      "text/latex": [
       "$$\\left\\{\\left ( - \\frac{\\sqrt{6} b_{0}}{2} - b_{0}, \\quad - \\frac{\\sqrt{6} b_{1}}{2} - b_{1}, \\quad - b_{2} + \\frac{\\sqrt{6} b_{2}}{2}, \\quad - b_{3} + \\frac{\\sqrt{6} b_{3}}{2}, \\quad b_{0}, \\quad b_{1}, \\quad b_{2}, \\quad b_{3}\\right )\\right\\}$$"
      ],
      "text/plain": [
       "⎧⎛  √6⋅b₀         √6⋅b₁             √6⋅b₂        √6⋅b₃                ⎞⎫\n",
       "⎨⎜- ───── - b₀, - ───── - b₁, -b₂ + ─────, -b₃ + ─────, b₀, b₁, b₂, b₃⎟⎬\n",
       "⎩⎝    2             2                 2            2                  ⎠⎭"
      ]
     },
     "execution_count": 53,
     "metadata": {},
     "output_type": "execute_result"
    }
   ],
   "source": [
    "llsg = linsolve(gls, a+b)\n",
    "llsg"
   ]
  },
  {
   "cell_type": "markdown",
   "metadata": {
    "slideshow": {
     "slide_type": "slide"
    }
   },
   "source": [
    "Fundamentalsystem"
   ]
  },
  {
   "cell_type": "code",
   "execution_count": 54,
   "metadata": {},
   "outputs": [],
   "source": [
    "l = list(llsg)[0]\n",
    "ers = { a[0]: l[0], a[1]: l[1], a[2]:l[2], a[3]:l[3], b[0]:1, b[1]:0, b[2]:0, b[3]: 0}"
   ]
  },
  {
   "cell_type": "code",
   "execution_count": 55,
   "metadata": {},
   "outputs": [
    {
     "data": {
      "image/png": "[encoded data removed]",
      "text/latex": [
       "$$\\left(- \\frac{\\sqrt{6}}{2} - 1\\right) e^{- i t \\sqrt{-1 + \\sqrt{6}}}$$"
      ],
      "text/plain": [
       "                   _________\n",
       "⎛  √6    ⎞  -ⅈ⋅t⋅╲╱ -1 + √6 \n",
       "⎜- ── - 1⎟⋅ℯ                \n",
       "⎝  2     ⎠                  "
      ]
     },
     "execution_count": 55,
     "metadata": {},
     "output_type": "execute_result"
    }
   ],
   "source": [
    "y1 = ya.subs(ers)\n",
    "y1"
   ]
  },
  {
   "cell_type": "code",
   "execution_count": 56,
   "metadata": {},
   "outputs": [
    {
     "data": {
      "image/png": "[encoded data removed]",
      "text/latex": [
       "$$e^{- i t \\sqrt{-1 + \\sqrt{6}}}$$"
      ],
      "text/plain": [
       "        _________\n",
       " -ⅈ⋅t⋅╲╱ -1 + √6 \n",
       "ℯ                "
      ]
     },
     "execution_count": 56,
     "metadata": {},
     "output_type": "execute_result"
    }
   ],
   "source": [
    "w1 = wb.subs(ers)\n",
    "w1"
   ]
  },
  {
   "cell_type": "markdown",
   "metadata": {
    "slideshow": {
     "slide_type": "slide"
    }
   },
   "source": [
    "jetzt automatisch"
   ]
  },
  {
   "cell_type": "code",
   "execution_count": 57,
   "metadata": {},
   "outputs": [
    {
     "data": {
      "image/png": "[encoded data removed]",
      "text/latex": [
       "$$\\left [ \\left ( \\left(- \\frac{\\sqrt{6}}{2} - 1\\right) e^{- i t \\sqrt{-1 + \\sqrt{6}}}, \\quad e^{- i t \\sqrt{-1 + \\sqrt{6}}}\\right ), \\quad \\left ( \\left(- \\frac{\\sqrt{6}}{2} - 1\\right) e^{i t \\sqrt{-1 + \\sqrt{6}}}, \\quad e^{i t \\sqrt{-1 + \\sqrt{6}}}\\right ), \\quad \\left ( \\left(-1 + \\frac{\\sqrt{6}}{2}\\right) e^{- t \\sqrt{1 + \\sqrt{6}}}, \\quad e^{- t \\sqrt{1 + \\sqrt{6}}}\\right ), \\quad \\left ( \\left(-1 + \\frac{\\sqrt{6}}{2}\\right) e^{t \\sqrt{1 + \\sqrt{6}}}, \\quad e^{t \\sqrt{1 + \\sqrt{6}}}\\right )\\right ]$$"
      ],
      "text/plain": [
       "⎡⎛                   _________          _________⎞  ⎛                  _______\n",
       "⎢⎜⎛  √6    ⎞  -ⅈ⋅t⋅╲╱ -1 + √6    -ⅈ⋅t⋅╲╱ -1 + √6 ⎟  ⎜⎛  √6    ⎞  ⅈ⋅t⋅╲╱ -1 + √\n",
       "⎢⎜⎜- ── - 1⎟⋅ℯ                , ℯ                ⎟, ⎜⎜- ── - 1⎟⋅ℯ             \n",
       "⎣⎝⎝  2     ⎠                                     ⎠  ⎝⎝  2     ⎠               \n",
       "\n",
       "__         _________⎞  ⎛                ________        ________⎞  ⎛          \n",
       "6    ⅈ⋅t⋅╲╱ -1 + √6 ⎟  ⎜⎛     √6⎞  -t⋅╲╱ 1 + √6    -t⋅╲╱ 1 + √6 ⎟  ⎜⎛     √6⎞ \n",
       "  , ℯ               ⎟, ⎜⎜-1 + ──⎟⋅ℯ             , ℯ             ⎟, ⎜⎜-1 + ──⎟⋅\n",
       "                    ⎠  ⎝⎝     2 ⎠                               ⎠  ⎝⎝     2 ⎠ \n",
       "\n",
       "     ________       ________⎞⎤\n",
       " t⋅╲╱ 1 + √6    t⋅╲╱ 1 + √6 ⎟⎥\n",
       "ℯ            , ℯ            ⎟⎥\n",
       "                            ⎠⎦"
      ]
     },
     "execution_count": 57,
     "metadata": {},
     "output_type": "execute_result"
    }
   ],
   "source": [
    "Phi = []\n",
    "for j in range(4):\n",
    "    ers = {a[i]: l[i] for i in range(4)}\n",
    "    for i in range(4):\n",
    "        ers[b[i]] = 0\n",
    "    ers[b[j]] = 1\n",
    "    yf = ya.subs(ers)\n",
    "    wf = wb.subs(ers)\n",
    "    Phi.append((yf, wf))\n",
    "Phi"
   ]
  },
  {
   "cell_type": "markdown",
   "metadata": {
    "slideshow": {
     "slide_type": "slide"
    }
   },
   "source": [
    "Löse die AWA $y(0)=0$, $y'(0)=0$, $w(0)=1$, $w'(0)=0 $"
   ]
  },
  {
   "cell_type": "code",
   "execution_count": 58,
   "metadata": {},
   "outputs": [],
   "source": [
    "phi = sum([aa*p[0] for aa, p in zip(a, Phi)])\n",
    "psi = sum([aa*p[1] for aa, p in zip(a, Phi)])"
   ]
  },
  {
   "cell_type": "code",
   "execution_count": 59,
   "metadata": {},
   "outputs": [
    {
     "data": {
      "image/png": "[encoded data removed]",
      "text/latex": [
       "$$a_{0} \\left(- \\frac{\\sqrt{6}}{2} - 1\\right) e^{- i t \\sqrt{-1 + \\sqrt{6}}} + a_{1} \\left(- \\frac{\\sqrt{6}}{2} - 1\\right) e^{i t \\sqrt{-1 + \\sqrt{6}}} + a_{2} \\left(-1 + \\frac{\\sqrt{6}}{2}\\right) e^{- t \\sqrt{1 + \\sqrt{6}}} + a_{3} \\left(-1 + \\frac{\\sqrt{6}}{2}\\right) e^{t \\sqrt{1 + \\sqrt{6}}}$$"
      ],
      "text/plain": [
       "                      _________                        _________              \n",
       "   ⎛  √6    ⎞  -ⅈ⋅t⋅╲╱ -1 + √6       ⎛  √6    ⎞  ⅈ⋅t⋅╲╱ -1 + √6       ⎛     √6\n",
       "a₀⋅⎜- ── - 1⎟⋅ℯ                 + a₁⋅⎜- ── - 1⎟⋅ℯ                + a₂⋅⎜-1 + ──\n",
       "   ⎝  2     ⎠                        ⎝  2     ⎠                       ⎝     2 \n",
       "\n",
       "        ________                     ________\n",
       "⎞  -t⋅╲╱ 1 + √6       ⎛     √6⎞  t⋅╲╱ 1 + √6 \n",
       "⎟⋅ℯ              + a₃⋅⎜-1 + ──⎟⋅ℯ            \n",
       "⎠                     ⎝     2 ⎠              "
      ]
     },
     "execution_count": 59,
     "metadata": {},
     "output_type": "execute_result"
    }
   ],
   "source": [
    "phi"
   ]
  },
  {
   "cell_type": "code",
   "execution_count": 60,
   "metadata": {},
   "outputs": [
    {
     "data": {
      "image/png": "[encoded data removed]",
      "text/latex": [
       "$$a_{0} e^{- i t \\sqrt{-1 + \\sqrt{6}}} + a_{1} e^{i t \\sqrt{-1 + \\sqrt{6}}} + a_{2} e^{- t \\sqrt{1 + \\sqrt{6}}} + a_{3} e^{t \\sqrt{1 + \\sqrt{6}}}$$"
      ],
      "text/plain": [
       "           _________             _________            ________           _____\n",
       "    -ⅈ⋅t⋅╲╱ -1 + √6        ⅈ⋅t⋅╲╱ -1 + √6        -t⋅╲╱ 1 + √6        t⋅╲╱ 1 + \n",
       "a₀⋅ℯ                 + a₁⋅ℯ                + a₂⋅ℯ              + a₃⋅ℯ         \n",
       "\n",
       "___\n",
       "√6 \n",
       "   "
      ]
     },
     "execution_count": 60,
     "metadata": {},
     "output_type": "execute_result"
    }
   ],
   "source": [
    "psi"
   ]
  },
  {
   "cell_type": "code",
   "execution_count": 61,
   "metadata": {
    "slideshow": {
     "slide_type": "slide"
    }
   },
   "outputs": [
    {
     "data": {
      "image/png": "[encoded data removed]",
      "text/latex": [
       "$$\\left [ a_{0} \\left(- \\frac{\\sqrt{6}}{2} - 1\\right) + a_{1} \\left(- \\frac{\\sqrt{6}}{2} - 1\\right) + a_{2} \\left(-1 + \\frac{\\sqrt{6}}{2}\\right) + a_{3} \\left(-1 + \\frac{\\sqrt{6}}{2}\\right) = 0, \\quad - i a_{0} \\sqrt{-1 + \\sqrt{6}} \\left(- \\frac{\\sqrt{6}}{2} - 1\\right) + i a_{1} \\sqrt{-1 + \\sqrt{6}} \\left(- \\frac{\\sqrt{6}}{2} - 1\\right) - a_{2} \\left(-1 + \\frac{\\sqrt{6}}{2}\\right) \\sqrt{1 + \\sqrt{6}} + a_{3} \\left(-1 + \\frac{\\sqrt{6}}{2}\\right) \\sqrt{1 + \\sqrt{6}} = 0, \\quad a_{0} + a_{1} + a_{2} + a_{3} = 1, \\quad - i a_{0} \\sqrt{-1 + \\sqrt{6}} + i a_{1} \\sqrt{-1 + \\sqrt{6}} - a_{2} \\sqrt{1 + \\sqrt{6}} + a_{3} \\sqrt{1 + \\sqrt{6}} = 0\\right ]$$"
      ],
      "text/plain": [
       "⎡   ⎛  √6    ⎞      ⎛  √6    ⎞      ⎛     √6⎞      ⎛     √6⎞               ___\n",
       "⎢a₀⋅⎜- ── - 1⎟ + a₁⋅⎜- ── - 1⎟ + a₂⋅⎜-1 + ──⎟ + a₃⋅⎜-1 + ──⎟ = 0, - ⅈ⋅a₀⋅╲╱ -1\n",
       "⎣   ⎝  2     ⎠      ⎝  2     ⎠      ⎝     2 ⎠      ⎝     2 ⎠                  \n",
       "\n",
       "______ ⎛  √6    ⎞          _________ ⎛  √6    ⎞      ⎛     √6⎞   ________     \n",
       " + √6 ⋅⎜- ── - 1⎟ + ⅈ⋅a₁⋅╲╱ -1 + √6 ⋅⎜- ── - 1⎟ - a₂⋅⎜-1 + ──⎟⋅╲╱ 1 + √6  + a₃\n",
       "       ⎝  2     ⎠                    ⎝  2     ⎠      ⎝     2 ⎠                \n",
       "\n",
       " ⎛     √6⎞   ________                                      _________          \n",
       "⋅⎜-1 + ──⎟⋅╲╱ 1 + √6  = 0, a₀ + a₁ + a₂ + a₃ = 1, - ⅈ⋅a₀⋅╲╱ -1 + √6  + ⅈ⋅a₁⋅╲╱\n",
       " ⎝     2 ⎠                                                                    \n",
       "\n",
       "_________        ________        ________    ⎤\n",
       " -1 + √6  - a₂⋅╲╱ 1 + √6  + a₃⋅╲╱ 1 + √6  = 0⎥\n",
       "                                             ⎦"
      ]
     },
     "execution_count": 61,
     "metadata": {},
     "output_type": "execute_result"
    }
   ],
   "source": [
    "glg1 = Eq(phi.subs(t,0), 0)\n",
    "glg2 = Eq(phi.diff(t).subs(t,0), 0)\n",
    "glg3 = Eq(psi.subs(t,0), 1)\n",
    "glg4 = Eq(psi.diff(t).subs(t,0), 0)\n",
    "gls = [glg1, glg2, glg3, glg4]\n",
    "gls"
   ]
  },
  {
   "cell_type": "code",
   "execution_count": 62,
   "metadata": {
    "slideshow": {
     "slide_type": "slide"
    }
   },
   "outputs": [
    {
     "data": {
      "image/png": "[encoded data removed]",
      "text/latex": [
       "$$\\left\\{\\left ( \\frac{\\frac{\\sqrt{-6 + 6 \\sqrt{6}}}{12} + \\frac{\\sqrt{-1 + \\sqrt{6}}}{4} - \\frac{\\sqrt{- \\sqrt{6} - 1}}{4} - \\frac{\\sqrt{- 6 \\sqrt{6} - 6}}{12} + \\frac{3 \\sqrt{- 5 \\sqrt{6} + 5}}{20} + \\frac{\\sqrt{- 30 \\sqrt{6} + 30}}{15}}{\\sqrt{-1 + \\sqrt{6}} \\left(2 \\sqrt{6} + 5\\right)}, \\quad \\frac{\\frac{\\sqrt{-6 + 6 \\sqrt{6}}}{12} + \\frac{\\sqrt{-1 + \\sqrt{6}}}{4} - \\frac{\\sqrt{- 30 \\sqrt{6} + 30}}{15} - \\frac{3 \\sqrt{- 5 \\sqrt{6} + 5}}{20} + \\frac{\\sqrt{- 6 \\sqrt{6} - 6}}{12} + \\frac{\\sqrt{- \\sqrt{6} - 1}}{4}}{\\sqrt{-1 + \\sqrt{6}} \\left(2 \\sqrt{6} + 5\\right)}, \\quad \\frac{\\sqrt{6}}{12} + \\frac{1}{4}, \\quad \\frac{\\sqrt{6}}{12} + \\frac{1}{4}\\right )\\right\\}$$"
      ],
      "text/plain": [
       "⎧⎛  ___________     _________     _________     ___________       ___________ \n",
       "⎪⎜╲╱ -6 + 6⋅√6    ╲╱ -1 + √6    ╲╱ -√6 - 1    ╲╱ -6⋅√6 - 6    3⋅╲╱ -5⋅√6 + 5  \n",
       "⎪⎜───────────── + ─────────── - ─────────── - ───────────── + ─────────────── \n",
       "⎨⎜      12             4             4              12               20       \n",
       "⎪⎜────────────────────────────────────────────────────────────────────────────\n",
       "⎪⎜                                      _________                             \n",
       "⎩⎝                                    ╲╱ -1 + √6 ⋅(2⋅√6 + 5)                  \n",
       "\n",
       "    _____________    ___________     _________     _____________       _______\n",
       "  ╲╱ -30⋅√6 + 30   ╲╱ -6 + 6⋅√6    ╲╱ -1 + √6    ╲╱ -30⋅√6 + 30    3⋅╲╱ -5⋅√6 \n",
       "+ ───────────────  ───────────── + ─────────── - ─────────────── - ───────────\n",
       "         15              12             4               15                20  \n",
       "─────────────────, ───────────────────────────────────────────────────────────\n",
       "                                                         _________            \n",
       "                                                       ╲╱ -1 + √6 ⋅(2⋅√6 + 5) \n",
       "\n",
       "____     ___________     _________                ⎞⎫\n",
       "+ 5    ╲╱ -6⋅√6 - 6    ╲╱ -√6 - 1                 ⎟⎪\n",
       "──── + ───────────── + ───────────                ⎟⎪\n",
       "             12             4       √6   1  √6   1⎟⎬\n",
       "──────────────────────────────────, ── + ─, ── + ─⎟⎪\n",
       "                                    12   4  12   4⎟⎪\n",
       "                                                  ⎠⎭"
      ]
     },
     "execution_count": 62,
     "metadata": {},
     "output_type": "execute_result"
    }
   ],
   "source": [
    "llsg = linsolve(gls, a)\n",
    "llsg"
   ]
  },
  {
   "cell_type": "markdown",
   "metadata": {
    "slideshow": {
     "slide_type": "slide"
    }
   },
   "source": [
    "Wir vereinfachen den ersten Ausdruck (Kür)\n",
    "\n",
    "Es heißt nicht zufällig ComputerALGEBRA"
   ]
  },
  {
   "cell_type": "code",
   "execution_count": 63,
   "metadata": {},
   "outputs": [
    {
     "data": {
      "image/png": "[encoded data removed]",
      "text/latex": [
       "$$\\frac{\\frac{\\sqrt{-6 + 6 \\sqrt{6}}}{12} + \\frac{\\sqrt{-1 + \\sqrt{6}}}{4} - \\frac{\\sqrt{- \\sqrt{6} - 1}}{4} - \\frac{\\sqrt{- 6 \\sqrt{6} - 6}}{12} + \\frac{3 \\sqrt{- 5 \\sqrt{6} + 5}}{20} + \\frac{\\sqrt{- 30 \\sqrt{6} + 30}}{15}}{\\sqrt{-1 + \\sqrt{6}} \\left(2 \\sqrt{6} + 5\\right)}$$"
      ],
      "text/plain": [
       "  ___________     _________     _________     ___________       ___________   \n",
       "╲╱ -6 + 6⋅√6    ╲╱ -1 + √6    ╲╱ -√6 - 1    ╲╱ -6⋅√6 - 6    3⋅╲╱ -5⋅√6 + 5    \n",
       "───────────── + ─────────── - ─────────── - ───────────── + ─────────────── + \n",
       "      12             4             4              12               20         \n",
       "──────────────────────────────────────────────────────────────────────────────\n",
       "                                      _________                               \n",
       "                                    ╲╱ -1 + √6 ⋅(2⋅√6 + 5)                    \n",
       "\n",
       "  _____________\n",
       "╲╱ -30⋅√6 + 30 \n",
       "───────────────\n",
       "       15      \n",
       "───────────────\n",
       "               \n",
       "               "
      ]
     },
     "execution_count": 63,
     "metadata": {},
     "output_type": "execute_result"
    }
   ],
   "source": [
    "l = list(llsg)[0][0]\n",
    "l"
   ]
  },
  {
   "cell_type": "code",
   "execution_count": 64,
   "metadata": {},
   "outputs": [
    {
     "data": {
      "image/png": "[encoded data removed]",
      "text/latex": [
       "$$48 x^{2} - 24 x + 1$$"
      ],
      "text/plain": [
       "    2           \n",
       "48⋅x  - 24⋅x + 1"
      ]
     },
     "execution_count": 64,
     "metadata": {},
     "output_type": "execute_result"
    }
   ],
   "source": [
    "p = minimal_polynomial(l)\n",
    "p"
   ]
  },
  {
   "cell_type": "code",
   "execution_count": 65,
   "metadata": {},
   "outputs": [
    {
     "data": {
      "image/png": "[encoded data removed]",
      "text/latex": [
       "$$\\left [ - \\frac{\\sqrt{6}}{12} + \\frac{1}{4}, \\quad \\frac{\\sqrt{6}}{12} + \\frac{1}{4}\\right ]$$"
      ],
      "text/plain": [
       "⎡  √6   1  √6   1⎤\n",
       "⎢- ── + ─, ── + ─⎥\n",
       "⎣  12   4  12   4⎦"
      ]
     },
     "execution_count": 65,
     "metadata": {},
     "output_type": "execute_result"
    }
   ],
   "source": [
    "lp = solve(p)\n",
    "lp"
   ]
  },
  {
   "cell_type": "markdown",
   "metadata": {
    "slideshow": {
     "slide_type": "slide"
    }
   },
   "source": [
    "Probe"
   ]
  },
  {
   "cell_type": "code",
   "execution_count": 69,
   "metadata": {},
   "outputs": [
    {
     "data": {
      "image/png": "[encoded data removed]",
      "text/latex": [
       "$$\\left [ - \\frac{\\sqrt{6}}{12} + \\frac{1}{4}, \\quad - \\frac{\\sqrt{6}}{12} + \\frac{1}{4}, \\quad \\frac{\\sqrt{6}}{12} + \\frac{1}{4}, \\quad \\frac{\\sqrt{6}}{12} + \\frac{1}{4}\\right ]$$"
      ],
      "text/plain": [
       "⎡  √6   1    √6   1  √6   1  √6   1⎤\n",
       "⎢- ── + ─, - ── + ─, ── + ─, ── + ─⎥\n",
       "⎣  12   4    12   4  12   4  12   4⎦"
      ]
     },
     "execution_count": 69,
     "metadata": {},
     "output_type": "execute_result"
    }
   ],
   "source": [
    "ls = list(llsg)[0]\n",
    "l = [lp[0], lp[0], ls[2], ls[3]]\n",
    "l"
   ]
  },
  {
   "cell_type": "code",
   "execution_count": 70,
   "metadata": {},
   "outputs": [
    {
     "data": {
      "image/png": "[encoded data removed]",
      "text/latex": [
       "$$0$$"
      ],
      "text/plain": [
       "0"
      ]
     },
     "metadata": {},
     "output_type": "display_data"
    },
    {
     "data": {
      "image/png": "[encoded data removed]",
      "text/latex": [
       "$$0$$"
      ],
      "text/plain": [
       "0"
      ]
     },
     "metadata": {},
     "output_type": "display_data"
    },
    {
     "data": {
      "image/png": "[encoded data removed]",
      "text/latex": [
       "$$1$$"
      ],
      "text/plain": [
       "1"
      ]
     },
     "metadata": {},
     "output_type": "display_data"
    },
    {
     "data": {
      "image/png": "[encoded data removed]",
      "text/latex": [
       "$$0$$"
      ],
      "text/plain": [
       "0"
      ]
     },
     "metadata": {},
     "output_type": "display_data"
    }
   ],
   "source": [
    "ers = {a[j]: l[j] for j in range(len(l))}\n",
    "for glg in gls:\n",
    "    display(glg.lhs.subs(ers).expand())"
   ]
  }
 ],
 "metadata": {
  "celltoolbar": "Slideshow",
  "kernelspec": {
   "display_name": "Python 3",
   "language": "python",
   "name": "python3"
  },
  "language_info": {
   "codemirror_mode": {
    "name": "ipython",
    "version": 3
   },
   "file_extension": ".py",
   "mimetype": "text/x-python",
   "name": "python",
   "nbconvert_exporter": "python",
   "pygments_lexer": "ipython3",
   "version": "3.6.8"
  }
 },
 "nbformat": 4,
 "nbformat_minor": 2
}
