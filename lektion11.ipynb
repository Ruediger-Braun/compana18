{
 "cells": [
  {
   "cell_type": "code",
   "execution_count": 1,
   "metadata": {
    "slideshow": {
     "slide_type": "slide"
    }
   },
   "outputs": [],
   "source": [
    "from sympy import *\n",
    "init_printing()"
   ]
  },
  {
   "cell_type": "code",
   "execution_count": 2,
   "metadata": {},
   "outputs": [],
   "source": [
    "import numpy as np\n",
    "%matplotlib qt\n",
    "import matplotlib.pyplot as plt"
   ]
  },
  {
   "cell_type": "code",
   "execution_count": 3,
   "metadata": {
    "slideshow": {
     "slide_type": "slide"
    }
   },
   "outputs": [
    {
     "data": {
      "text/latex": [
       "$$\\left[\\begin{matrix}1\\\\2\\\\3\\end{matrix}\\right]$$"
      ],
      "text/plain": [
       "⎡1⎤\n",
       "⎢ ⎥\n",
       "⎢2⎥\n",
       "⎢ ⎥\n",
       "⎣3⎦"
      ]
     },
     "execution_count": 3,
     "metadata": {},
     "output_type": "execute_result"
    }
   ],
   "source": [
    "x = Matrix([1,2,3])\n",
    "x"
   ]
  },
  {
   "cell_type": "code",
   "execution_count": 4,
   "metadata": {
    "slideshow": {
     "slide_type": ""
    }
   },
   "outputs": [
    {
     "data": {
      "text/latex": [
       "$$\\left[\\begin{matrix}4 & 5 & 6\\end{matrix}\\right]$$"
      ],
      "text/plain": [
       "[4  5  6]"
      ]
     },
     "execution_count": 4,
     "metadata": {},
     "output_type": "execute_result"
    }
   ],
   "source": [
    "y = Matrix(1,3,[4,5,6])  # 1x3-Matrix\n",
    "y"
   ]
  },
  {
   "cell_type": "code",
   "execution_count": 5,
   "metadata": {
    "slideshow": {
     "slide_type": "fragment"
    }
   },
   "outputs": [
    {
     "data": {
      "image/png": "[encoded data removed]",
      "text/latex": [
       "$$\\left ( 2, \\quad 5\\right )$$"
      ],
      "text/plain": [
       "(2, 5)"
      ]
     },
     "execution_count": 5,
     "metadata": {},
     "output_type": "execute_result"
    }
   ],
   "source": [
    "x[1], y[1]"
   ]
  },
  {
   "cell_type": "code",
   "execution_count": 6,
   "metadata": {
    "slideshow": {
     "slide_type": "slide"
    }
   },
   "outputs": [
    {
     "data": {
      "text/latex": [
       "$$\\left[\\begin{matrix}32\\end{matrix}\\right]$$"
      ],
      "text/plain": [
       "[32]"
      ]
     },
     "execution_count": 6,
     "metadata": {},
     "output_type": "execute_result"
    }
   ],
   "source": [
    "y*x"
   ]
  },
  {
   "cell_type": "code",
   "execution_count": 7,
   "metadata": {},
   "outputs": [
    {
     "data": {
      "text/latex": [
       "$$\\left[\\begin{matrix}4 & 5 & 6\\\\8 & 10 & 12\\\\12 & 15 & 18\\end{matrix}\\right]$$"
      ],
      "text/plain": [
       "⎡4   5   6 ⎤\n",
       "⎢          ⎥\n",
       "⎢8   10  12⎥\n",
       "⎢          ⎥\n",
       "⎣12  15  18⎦"
      ]
     },
     "execution_count": 7,
     "metadata": {},
     "output_type": "execute_result"
    }
   ],
   "source": [
    "x*y"
   ]
  },
  {
   "cell_type": "code",
   "execution_count": 8,
   "metadata": {
    "slideshow": {
     "slide_type": "slide"
    }
   },
   "outputs": [
    {
     "data": {
      "text/latex": [
       "$$\\left[\\begin{matrix}1 & 2 & 3\\\\4 & 5 & 6\\\\7 & 8 & 9\\end{matrix}\\right]$$"
      ],
      "text/plain": [
       "⎡1  2  3⎤\n",
       "⎢       ⎥\n",
       "⎢4  5  6⎥\n",
       "⎢       ⎥\n",
       "⎣7  8  9⎦"
      ]
     },
     "execution_count": 8,
     "metadata": {},
     "output_type": "execute_result"
    }
   ],
   "source": [
    "A = Matrix(3, 3, range(1,10))\n",
    "A"
   ]
  },
  {
   "cell_type": "code",
   "execution_count": 10,
   "metadata": {},
   "outputs": [
    {
     "data": {
      "image/png": "[encoded data removed]",
      "text/latex": [
       "$$4$$"
      ],
      "text/plain": [
       "4"
      ]
     },
     "execution_count": 10,
     "metadata": {},
     "output_type": "execute_result"
    }
   ],
   "source": [
    "A[1,0]"
   ]
  },
  {
   "cell_type": "markdown",
   "metadata": {
    "slideshow": {
     "slide_type": "fragment"
    }
   },
   "source": [
    "Zeilen und Spalten bekommt man mit sclicing"
   ]
  },
  {
   "cell_type": "code",
   "execution_count": 11,
   "metadata": {},
   "outputs": [
    {
     "data": {
      "text/latex": [
       "$$\\left[\\begin{matrix}4 & 5 & 6\\end{matrix}\\right]$$"
      ],
      "text/plain": [
       "[4  5  6]"
      ]
     },
     "execution_count": 11,
     "metadata": {},
     "output_type": "execute_result"
    }
   ],
   "source": [
    "A[1,:]"
   ]
  },
  {
   "cell_type": "code",
   "execution_count": 12,
   "metadata": {},
   "outputs": [
    {
     "data": {
      "text/latex": [
       "$$\\left[\\begin{matrix}1\\\\4\\\\7\\end{matrix}\\right]$$"
      ],
      "text/plain": [
       "⎡1⎤\n",
       "⎢ ⎥\n",
       "⎢4⎥\n",
       "⎢ ⎥\n",
       "⎣7⎦"
      ]
     },
     "execution_count": 12,
     "metadata": {},
     "output_type": "execute_result"
    }
   ],
   "source": [
    "A[:,0]"
   ]
  },
  {
   "cell_type": "code",
   "execution_count": 13,
   "metadata": {
    "slideshow": {
     "slide_type": "slide"
    }
   },
   "outputs": [
    {
     "data": {
      "text/latex": [
       "$$\\left[\\begin{matrix}14\\\\32\\\\50\\end{matrix}\\right]$$"
      ],
      "text/plain": [
       "⎡14⎤\n",
       "⎢  ⎥\n",
       "⎢32⎥\n",
       "⎢  ⎥\n",
       "⎣50⎦"
      ]
     },
     "execution_count": 13,
     "metadata": {},
     "output_type": "execute_result"
    }
   ],
   "source": [
    "A*x"
   ]
  },
  {
   "cell_type": "code",
   "execution_count": 14,
   "metadata": {},
   "outputs": [],
   "source": [
    "#A*y  # ShapeError"
   ]
  },
  {
   "cell_type": "markdown",
   "metadata": {
    "slideshow": {
     "slide_type": "slide"
    }
   },
   "source": [
    "Spezielle Matrizen:\n",
    "\n",
    "Einheitsmatrix"
   ]
  },
  {
   "cell_type": "code",
   "execution_count": 15,
   "metadata": {},
   "outputs": [
    {
     "data": {
      "text/latex": [
       "$$\\left[\\begin{matrix}1 & 0 & 0\\\\0 & 1 & 0\\\\0 & 0 & 1\\end{matrix}\\right]$$"
      ],
      "text/plain": [
       "⎡1  0  0⎤\n",
       "⎢       ⎥\n",
       "⎢0  1  0⎥\n",
       "⎢       ⎥\n",
       "⎣0  0  1⎦"
      ]
     },
     "execution_count": 15,
     "metadata": {},
     "output_type": "execute_result"
    }
   ],
   "source": [
    "E = eye(3)\n",
    "E"
   ]
  },
  {
   "cell_type": "markdown",
   "metadata": {
    "slideshow": {
     "slide_type": "fragment"
    }
   },
   "source": [
    "Matrix nur aus Einsen"
   ]
  },
  {
   "cell_type": "code",
   "execution_count": 16,
   "metadata": {},
   "outputs": [
    {
     "data": {
      "text/latex": [
       "$$\\left[\\begin{matrix}1 & 1 & 1\\\\1 & 1 & 1\\\\1 & 1 & 1\\end{matrix}\\right]$$"
      ],
      "text/plain": [
       "⎡1  1  1⎤\n",
       "⎢       ⎥\n",
       "⎢1  1  1⎥\n",
       "⎢       ⎥\n",
       "⎣1  1  1⎦"
      ]
     },
     "execution_count": 16,
     "metadata": {},
     "output_type": "execute_result"
    }
   ],
   "source": [
    "ones(3,3)"
   ]
  },
  {
   "cell_type": "markdown",
   "metadata": {
    "slideshow": {
     "slide_type": "slide"
    }
   },
   "source": [
    "Diagonalmatrix"
   ]
  },
  {
   "cell_type": "code",
   "execution_count": 17,
   "metadata": {},
   "outputs": [
    {
     "data": {
      "text/latex": [
       "$$\\left[\\begin{matrix}1 & 0 & 0\\\\0 & 2 & 0\\\\0 & 0 & 3\\end{matrix}\\right]$$"
      ],
      "text/plain": [
       "⎡1  0  0⎤\n",
       "⎢       ⎥\n",
       "⎢0  2  0⎥\n",
       "⎢       ⎥\n",
       "⎣0  0  3⎦"
      ]
     },
     "execution_count": 17,
     "metadata": {},
     "output_type": "execute_result"
    }
   ],
   "source": [
    "diag(1, 2, 3) # Statt Skalaren sind auch quadratische Matrizen erlaubt"
   ]
  },
  {
   "cell_type": "code",
   "execution_count": 21,
   "metadata": {},
   "outputs": [
    {
     "data": {
      "text/latex": [
       "$$\\left[\\begin{matrix}0 & 0 & 0 & 0 & 0\\\\0 & 1 & 0 & 0 & 0\\\\0 & 0 & 2 & 0 & 0\\\\0 & 0 & 0 & 3 & 0\\\\0 & 0 & 0 & 0 & 4\\end{matrix}\\right]$$"
      ],
      "text/plain": [
       "⎡0  0  0  0  0⎤\n",
       "⎢             ⎥\n",
       "⎢0  1  0  0  0⎥\n",
       "⎢             ⎥\n",
       "⎢0  0  2  0  0⎥\n",
       "⎢             ⎥\n",
       "⎢0  0  0  3  0⎥\n",
       "⎢             ⎥\n",
       "⎣0  0  0  0  4⎦"
      ]
     },
     "execution_count": 21,
     "metadata": {},
     "output_type": "execute_result"
    }
   ],
   "source": [
    "diag(*range(5))  # * packt den Range aus"
   ]
  },
  {
   "cell_type": "markdown",
   "metadata": {
    "slideshow": {
     "slide_type": "slide"
    }
   },
   "source": [
    "Operationen"
   ]
  },
  {
   "cell_type": "code",
   "execution_count": 23,
   "metadata": {},
   "outputs": [
    {
     "data": {
      "text/latex": [
       "$$\\left[\\begin{matrix}1 & 2 & 3\\end{matrix}\\right]$$"
      ],
      "text/plain": [
       "[1  2  3]"
      ]
     },
     "execution_count": 23,
     "metadata": {},
     "output_type": "execute_result"
    }
   ],
   "source": [
    "x.T  # Transposition"
   ]
  },
  {
   "cell_type": "markdown",
   "metadata": {
    "slideshow": {
     "slide_type": "fragment"
    }
   },
   "source": [
    "Inversion"
   ]
  },
  {
   "cell_type": "code",
   "execution_count": 24,
   "metadata": {},
   "outputs": [
    {
     "data": {
      "text/latex": [
       "$$\\left[\\begin{matrix}-6 & -2 & 3\\\\-1 & \\frac{1}{2} & 0\\\\5 & 1 & -2\\end{matrix}\\right]$$"
      ],
      "text/plain": [
       "⎡-6  -2   3 ⎤\n",
       "⎢           ⎥\n",
       "⎢-1  1/2  0 ⎥\n",
       "⎢           ⎥\n",
       "⎣5    1   -2⎦"
      ]
     },
     "execution_count": 24,
     "metadata": {},
     "output_type": "execute_result"
    }
   ],
   "source": [
    "(A + E)**(-1)"
   ]
  },
  {
   "cell_type": "code",
   "execution_count": 25,
   "metadata": {
    "slideshow": {
     "slide_type": "fragment"
    }
   },
   "outputs": [
    {
     "data": {
      "image/png": "[encoded data removed]",
      "text/latex": [
       "$$0$$"
      ],
      "text/plain": [
       "0"
      ]
     },
     "execution_count": 25,
     "metadata": {},
     "output_type": "execute_result"
    }
   ],
   "source": [
    "A.det()"
   ]
  },
  {
   "cell_type": "markdown",
   "metadata": {
    "slideshow": {
     "slide_type": "slide"
    }
   },
   "source": [
    "Manipulation"
   ]
  },
  {
   "cell_type": "code",
   "execution_count": 26,
   "metadata": {},
   "outputs": [
    {
     "data": {
      "text/latex": [
       "$$\\left[\\begin{matrix}1 & 2 & 3\\\\4 & 5 & 6\\\\7 & 8 & 9\\\\1 & 0 & 0\\\\0 & 1 & 0\\\\0 & 0 & 1\\end{matrix}\\right]$$"
      ],
      "text/plain": [
       "⎡1  2  3⎤\n",
       "⎢       ⎥\n",
       "⎢4  5  6⎥\n",
       "⎢       ⎥\n",
       "⎢7  8  9⎥\n",
       "⎢       ⎥\n",
       "⎢1  0  0⎥\n",
       "⎢       ⎥\n",
       "⎢0  1  0⎥\n",
       "⎢       ⎥\n",
       "⎣0  0  1⎦"
      ]
     },
     "execution_count": 26,
     "metadata": {},
     "output_type": "execute_result"
    }
   ],
   "source": [
    "Matrix.vstack(A, eye(3)) # vertikales Stapeln"
   ]
  },
  {
   "cell_type": "code",
   "execution_count": 27,
   "metadata": {
    "slideshow": {
     "slide_type": "fragment"
    }
   },
   "outputs": [
    {
     "data": {
      "text/latex": [
       "$$\\left[\\begin{matrix}1 & 2 & 3 & 1 & 0 & 0 & 1 & 0 & 0\\\\4 & 5 & 6 & 0 & 1 & 0 & 0 & 1 & 0\\\\7 & 8 & 9 & 0 & 0 & 1 & 0 & 0 & 1\\end{matrix}\\right]$$"
      ],
      "text/plain": [
       "⎡1  2  3  1  0  0  1  0  0⎤\n",
       "⎢                         ⎥\n",
       "⎢4  5  6  0  1  0  0  1  0⎥\n",
       "⎢                         ⎥\n",
       "⎣7  8  9  0  0  1  0  0  1⎦"
      ]
     },
     "execution_count": 27,
     "metadata": {},
     "output_type": "execute_result"
    }
   ],
   "source": [
    "Matrix.hstack(A, eye(3), eye(3)) # horizontales Stapeln"
   ]
  },
  {
   "cell_type": "code",
   "execution_count": 30,
   "metadata": {
    "slideshow": {
     "slide_type": "fragment"
    }
   },
   "outputs": [
    {
     "data": {
      "image/png": "[encoded data removed]",
      "text/latex": [
       "$$\\left [ 1, \\quad 2, \\quad 3, \\quad 4, \\quad 5, \\quad 6, \\quad 7, \\quad 8, \\quad 9\\right ]$$"
      ],
      "text/plain": [
       "[1, 2, 3, 4, 5, 6, 7, 8, 9]"
      ]
     },
     "execution_count": 30,
     "metadata": {},
     "output_type": "execute_result"
    }
   ],
   "source": [
    "flatten(A)"
   ]
  },
  {
   "cell_type": "markdown",
   "metadata": {
    "slideshow": {
     "slide_type": "slide"
    }
   },
   "source": [
    "Matrix aus Bildungsvorschrift"
   ]
  },
  {
   "cell_type": "code",
   "execution_count": 32,
   "metadata": {},
   "outputs": [],
   "source": [
    "def hilbert_element(i,j):\n",
    "    return 1/(1+i+j)"
   ]
  },
  {
   "cell_type": "code",
   "execution_count": 33,
   "metadata": {
    "slideshow": {
     "slide_type": "fragment"
    }
   },
   "outputs": [
    {
     "data": {
      "text/latex": [
       "$$\\left[\\begin{matrix}1 & \\frac{1}{2} & \\frac{1}{3} & \\frac{1}{4} & \\frac{1}{5}\\\\\\frac{1}{2} & \\frac{1}{3} & \\frac{1}{4} & \\frac{1}{5} & \\frac{1}{6}\\\\\\frac{1}{3} & \\frac{1}{4} & \\frac{1}{5} & \\frac{1}{6} & \\frac{1}{7}\\\\\\frac{1}{4} & \\frac{1}{5} & \\frac{1}{6} & \\frac{1}{7} & \\frac{1}{8}\\\\\\frac{1}{5} & \\frac{1}{6} & \\frac{1}{7} & \\frac{1}{8} & \\frac{1}{9}\\end{matrix}\\right]$$"
      ],
      "text/plain": [
       "⎡ 1   1/2  1/3  1/4  1/5⎤\n",
       "⎢                       ⎥\n",
       "⎢1/2  1/3  1/4  1/5  1/6⎥\n",
       "⎢                       ⎥\n",
       "⎢1/3  1/4  1/5  1/6  1/7⎥\n",
       "⎢                       ⎥\n",
       "⎢1/4  1/5  1/6  1/7  1/8⎥\n",
       "⎢                       ⎥\n",
       "⎣1/5  1/6  1/7  1/8  1/9⎦"
      ]
     },
     "execution_count": 33,
     "metadata": {},
     "output_type": "execute_result"
    }
   ],
   "source": [
    "H = Matrix(5,5, hilbert_element)\n",
    "H"
   ]
  },
  {
   "cell_type": "code",
   "execution_count": 34,
   "metadata": {
    "slideshow": {
     "slide_type": "slide"
    }
   },
   "outputs": [
    {
     "data": {
      "text/latex": [
       "$$\\left[\\begin{matrix}25 & -300 & 1050 & -1400 & 630\\\\-300 & 4800 & -18900 & 26880 & -12600\\\\1050 & -18900 & 79380 & -117600 & 56700\\\\-1400 & 26880 & -117600 & 179200 & -88200\\\\630 & -12600 & 56700 & -88200 & 44100\\end{matrix}\\right]$$"
      ],
      "text/plain": [
       "⎡ 25     -300    1050     -1400    630  ⎤\n",
       "⎢                                       ⎥\n",
       "⎢-300    4800   -18900    26880   -12600⎥\n",
       "⎢                                       ⎥\n",
       "⎢1050   -18900   79380   -117600  56700 ⎥\n",
       "⎢                                       ⎥\n",
       "⎢-1400  26880   -117600  179200   -88200⎥\n",
       "⎢                                       ⎥\n",
       "⎣ 630   -12600   56700   -88200   44100 ⎦"
      ]
     },
     "execution_count": 34,
     "metadata": {},
     "output_type": "execute_result"
    }
   ],
   "source": [
    "H**(-1)"
   ]
  },
  {
   "cell_type": "code",
   "execution_count": 35,
   "metadata": {
    "slideshow": {
     "slide_type": "slide"
    }
   },
   "outputs": [],
   "source": [
    "H = Matrix(15, 15, hilbert_element)"
   ]
  },
  {
   "cell_type": "code",
   "execution_count": 36,
   "metadata": {},
   "outputs": [],
   "source": [
    "Hi = H**(-1)"
   ]
  },
  {
   "cell_type": "code",
   "execution_count": 39,
   "metadata": {},
   "outputs": [
    {
     "data": {
      "text/plain": [
       "sympy.core.numbers.One"
      ]
     },
     "execution_count": 39,
     "metadata": {},
     "output_type": "execute_result"
    }
   ],
   "source": [
    "type(H[0,0])"
   ]
  },
  {
   "cell_type": "code",
   "execution_count": 44,
   "metadata": {
    "slideshow": {
     "slide_type": "fragment"
    }
   },
   "outputs": [
    {
     "data": {
      "image/png": "[encoded data removed]",
      "text/latex": [
       "$$-94111355982964320000$$"
      ],
      "text/plain": [
       "-94111355982964320000"
      ]
     },
     "execution_count": 44,
     "metadata": {},
     "output_type": "execute_result"
    }
   ],
   "source": [
    "Hi[10,11]"
   ]
  },
  {
   "cell_type": "code",
   "execution_count": 45,
   "metadata": {
    "slideshow": {
     "slide_type": "slide"
    }
   },
   "outputs": [],
   "source": [
    "def hilbert_f(i,j):   # Fließkommazahlen\n",
    "    return 1./(1+i+j)"
   ]
  },
  {
   "cell_type": "code",
   "execution_count": 46,
   "metadata": {},
   "outputs": [],
   "source": [
    "Hf = Matrix(15,15, hilbert_f)\n",
    "Hif = Hf**(-1)"
   ]
  },
  {
   "cell_type": "code",
   "execution_count": 42,
   "metadata": {},
   "outputs": [
    {
     "data": {
      "image/png": "[encoded data removed]",
      "text/latex": [
       "$$1.59366569953072 \\cdot 10^{17}$$"
      ],
      "text/plain": [
       "1.59366569953072e+17"
      ]
     },
     "execution_count": 42,
     "metadata": {},
     "output_type": "execute_result"
    }
   ],
   "source": [
    "Hif[10,11]"
   ]
  },
  {
   "cell_type": "code",
   "execution_count": 47,
   "metadata": {
    "slideshow": {
     "slide_type": "slide"
    }
   },
   "outputs": [
    {
     "data": {
      "image/png": "[encoded data removed]",
      "text/latex": [
       "$$-6.01155640970427 \\cdot 10^{-121}$$"
      ],
      "text/plain": [
       "-6.01155640970427e-121"
      ]
     },
     "execution_count": 47,
     "metadata": {},
     "output_type": "execute_result"
    }
   ],
   "source": [
    "Hf.det()"
   ]
  },
  {
   "cell_type": "code",
   "execution_count": 48,
   "metadata": {},
   "outputs": [
    {
     "data": {
      "image/png": "[encoded data removed]",
      "text/latex": [
       "$$1.05854274306972 \\cdot 10^{-124}$$"
      ],
      "text/plain": [
       "1.05854274306972e-124"
      ]
     },
     "execution_count": 48,
     "metadata": {},
     "output_type": "execute_result"
    }
   ],
   "source": [
    "N(H.det())"
   ]
  },
  {
   "cell_type": "markdown",
   "metadata": {
    "slideshow": {
     "slide_type": "slide"
    }
   },
   "source": [
    "Matrixplots"
   ]
  },
  {
   "cell_type": "code",
   "execution_count": 49,
   "metadata": {},
   "outputs": [
    {
     "data": {
      "text/plain": [
       "sympy.core.numbers.Rational"
      ]
     },
     "execution_count": 49,
     "metadata": {},
     "output_type": "execute_result"
    }
   ],
   "source": [
    "type(H[1,1])"
   ]
  },
  {
   "cell_type": "markdown",
   "metadata": {
    "slideshow": {
     "slide_type": "slide"
    }
   },
   "source": [
    "Plots sind Numerik.  Also brauchen wir einen array of floats"
   ]
  },
  {
   "cell_type": "code",
   "execution_count": 50,
   "metadata": {},
   "outputs": [],
   "source": [
    "Hn = np.array(H).astype(float)"
   ]
  },
  {
   "cell_type": "code",
   "execution_count": 51,
   "metadata": {},
   "outputs": [
    {
     "data": {
      "text/plain": [
       "array([[1.        , 0.5       , 0.33333333, 0.25      ],\n",
       "       [0.5       , 0.33333333, 0.25      , 0.2       ],\n",
       "       [0.33333333, 0.25      , 0.2       , 0.16666667],\n",
       "       [0.25      , 0.2       , 0.16666667, 0.14285714]])"
      ]
     },
     "execution_count": 51,
     "metadata": {},
     "output_type": "execute_result"
    }
   ],
   "source": [
    "Hn[:4, :4]"
   ]
  },
  {
   "cell_type": "code",
   "execution_count": 52,
   "metadata": {
    "slideshow": {
     "slide_type": "slide"
    }
   },
   "outputs": [],
   "source": [
    "plt.imshow(Hn)  # Kästchen der Matrix werden je nach Größe des Eintrags gefärbt\n",
    "plt.colorbar();"
   ]
  },
  {
   "cell_type": "markdown",
   "metadata": {
    "slideshow": {
     "slide_type": "fragment"
    }
   },
   "source": [
    "Aussagekräftiger"
   ]
  },
  {
   "cell_type": "code",
   "execution_count": 53,
   "metadata": {},
   "outputs": [],
   "source": [
    "plt.figure()\n",
    "plt.imshow(np.log(Hn))\n",
    "plt.colorbar();"
   ]
  },
  {
   "cell_type": "code",
   "execution_count": 54,
   "metadata": {
    "slideshow": {
     "slide_type": "slide"
    }
   },
   "outputs": [],
   "source": [
    "Hin = np.array(Hi).astype(float)  # Hi = H**(-1)"
   ]
  },
  {
   "cell_type": "code",
   "execution_count": 55,
   "metadata": {},
   "outputs": [
    {
     "name": "stderr",
     "output_type": "stream",
     "text": [
      "/home/braun/miniconda3/envs/compana18/lib/python3.7/site-packages/ipykernel_launcher.py:2: RuntimeWarning: invalid value encountered in log\n",
      "  \n"
     ]
    }
   ],
   "source": [
    "plt.figure()\n",
    "plt.imshow(np.log(Hin))\n",
    "plt.colorbar();"
   ]
  },
  {
   "cell_type": "markdown",
   "metadata": {
    "slideshow": {
     "slide_type": "fragment"
    }
   },
   "source": [
    "Was ist das Problem?"
   ]
  },
  {
   "cell_type": "code",
   "execution_count": 56,
   "metadata": {
    "scrolled": true
   },
   "outputs": [],
   "source": [
    "fig = plt.figure(figsize=(12,5))\n",
    "fig.add_subplot(121)\n",
    "plt.imshow(np.log(abs(Hin)))\n",
    "plt.colorbar()\n",
    "fig.add_subplot(122)\n",
    "plt.imshow(np.sign(Hin), cmap=plt.cm.hot)\n",
    "plt.colorbar();  "
   ]
  },
  {
   "cell_type": "markdown",
   "metadata": {
    "slideshow": {
     "slide_type": "slide"
    }
   },
   "source": [
    "Als Ersatz für 3D-Plot"
   ]
  },
  {
   "cell_type": "code",
   "execution_count": 57,
   "metadata": {},
   "outputs": [],
   "source": [
    "x = Symbol('x')\n",
    "y = Symbol('y')\n",
    "f = cos(sqrt(x**2+y**2))\n",
    "fn = lambdify((x,y), f, 'numpy')"
   ]
  },
  {
   "cell_type": "code",
   "execution_count": 58,
   "metadata": {},
   "outputs": [],
   "source": [
    "x = np.linspace(-2*np.pi, 2*np.pi, 150)\n",
    "y = x\n",
    "X, Y = np.meshgrid(x, y)\n",
    "W = fn(X, Y)"
   ]
  },
  {
   "cell_type": "code",
   "execution_count": 59,
   "metadata": {
    "slideshow": {
     "slide_type": "fragment"
    }
   },
   "outputs": [],
   "source": [
    "extent = [x[0], x[-1], y[0], y[-1]]"
   ]
  },
  {
   "cell_type": "code",
   "execution_count": 63,
   "metadata": {},
   "outputs": [],
   "source": [
    "plt.imshow(W, origin='lower', cmap=plt.cm.coolwarm,\n",
    "          extent=extent)\n",
    "plt.colorbar();\n",
    "# lower:  auf der y-Achse sind die kleinen Werte unten\n",
    "# extent:  x- und y-Koordinaten der Ecken"
   ]
  },
  {
   "cell_type": "markdown",
   "metadata": {
    "slideshow": {
     "slide_type": "slide"
    }
   },
   "source": [
    "Lineare Gleichungssysteme"
   ]
  },
  {
   "cell_type": "code",
   "execution_count": 64,
   "metadata": {},
   "outputs": [
    {
     "data": {
      "text/latex": [
       "$$\\left[\\begin{matrix}1 & 2 & 3\\\\4 & 5 & 6\\\\7 & 8 & 9\\end{matrix}\\right]$$"
      ],
      "text/plain": [
       "⎡1  2  3⎤\n",
       "⎢       ⎥\n",
       "⎢4  5  6⎥\n",
       "⎢       ⎥\n",
       "⎣7  8  9⎦"
      ]
     },
     "execution_count": 64,
     "metadata": {},
     "output_type": "execute_result"
    }
   ],
   "source": [
    "A = Matrix(3, 3, range(1,10))\n",
    "A"
   ]
  },
  {
   "cell_type": "code",
   "execution_count": 65,
   "metadata": {},
   "outputs": [
    {
     "data": {
      "text/latex": [
       "$$\\left[\\begin{matrix}6\\\\15\\\\24\\end{matrix}\\right]$$"
      ],
      "text/plain": [
       "⎡6 ⎤\n",
       "⎢  ⎥\n",
       "⎢15⎥\n",
       "⎢  ⎥\n",
       "⎣24⎦"
      ]
     },
     "execution_count": 65,
     "metadata": {},
     "output_type": "execute_result"
    }
   ],
   "source": [
    "b = Matrix([6, 15, 24])\n",
    "b"
   ]
  },
  {
   "cell_type": "markdown",
   "metadata": {
    "slideshow": {
     "slide_type": "slide"
    }
   },
   "source": [
    "Wir wollen $Ax=b$ lösen."
   ]
  },
  {
   "cell_type": "code",
   "execution_count": 68,
   "metadata": {},
   "outputs": [
    {
     "data": {
      "text/latex": [
       "$$\\left[\\begin{matrix}x_{1}\\\\x_{2}\\\\x_{3}\\end{matrix}\\right]$$"
      ],
      "text/plain": [
       "⎡x₁⎤\n",
       "⎢  ⎥\n",
       "⎢x₂⎥\n",
       "⎢  ⎥\n",
       "⎣x₃⎦"
      ]
     },
     "execution_count": 68,
     "metadata": {},
     "output_type": "execute_result"
    }
   ],
   "source": [
    "x = Matrix([Symbol(f\"x_{j}\") for j in [1,2,3]])\n",
    "x                # f-String"
   ]
  },
  {
   "cell_type": "markdown",
   "metadata": {},
   "source": [
    "Herr Schädle macht sowas mit `format`."
   ]
  },
  {
   "cell_type": "code",
   "execution_count": 69,
   "metadata": {},
   "outputs": [
    {
     "data": {
      "text/latex": [
       "$$\\left[\\begin{matrix}x_{1}\\\\x_{2}\\\\x_{3}\\end{matrix}\\right]$$"
      ],
      "text/plain": [
       "⎡x₁⎤\n",
       "⎢  ⎥\n",
       "⎢x₂⎥\n",
       "⎢  ⎥\n",
       "⎣x₃⎦"
      ]
     },
     "execution_count": 69,
     "metadata": {},
     "output_type": "execute_result"
    }
   ],
   "source": [
    "x = Matrix([Symbol(\"x_{}\".format(j)) for j in [1,2,3]])\n",
    "x"
   ]
  },
  {
   "cell_type": "code",
   "execution_count": 70,
   "metadata": {
    "slideshow": {
     "slide_type": "slide"
    }
   },
   "outputs": [
    {
     "data": {
      "text/latex": [
       "$$\\left[\\begin{matrix}x_{1} + 2 x_{2} + 3 x_{3}\\\\4 x_{1} + 5 x_{2} + 6 x_{3}\\\\7 x_{1} + 8 x_{2} + 9 x_{3}\\end{matrix}\\right] = \\left[\\begin{matrix}6\\\\15\\\\24\\end{matrix}\\right]$$"
      ],
      "text/plain": [
       "⎡ x₁ + 2⋅x₂ + 3⋅x₃ ⎤   ⎡6 ⎤\n",
       "⎢                  ⎥   ⎢  ⎥\n",
       "⎢4⋅x₁ + 5⋅x₂ + 6⋅x₃⎥ = ⎢15⎥\n",
       "⎢                  ⎥   ⎢  ⎥\n",
       "⎣7⋅x₁ + 8⋅x₂ + 9⋅x₃⎦   ⎣24⎦"
      ]
     },
     "execution_count": 70,
     "metadata": {},
     "output_type": "execute_result"
    }
   ],
   "source": [
    "glg = Eq(A*x, b)\n",
    "glg"
   ]
  },
  {
   "cell_type": "code",
   "execution_count": 72,
   "metadata": {},
   "outputs": [
    {
     "data": {
      "image/png": "[encoded data removed]",
      "text/latex": [
       "$$\\left \\{ x_{1} : x_{3}, \\quad x_{2} : - 2 x_{3} + 3\\right \\}$$"
      ],
      "text/plain": [
       "{x₁: x₃, x₂: -2⋅x₃ + 3}"
      ]
     },
     "execution_count": 72,
     "metadata": {},
     "output_type": "execute_result"
    }
   ],
   "source": [
    "lsg = solve(glg)\n",
    "lsg "
   ]
  },
  {
   "cell_type": "markdown",
   "metadata": {
    "slideshow": {
     "slide_type": "fragment"
    }
   },
   "source": [
    "Das System ist nicht eindeutig lösbar, denn"
   ]
  },
  {
   "cell_type": "code",
   "execution_count": 73,
   "metadata": {},
   "outputs": [
    {
     "data": {
      "image/png": "[encoded data removed]",
      "text/latex": [
       "$$0$$"
      ],
      "text/plain": [
       "0"
      ]
     },
     "execution_count": 73,
     "metadata": {},
     "output_type": "execute_result"
    }
   ],
   "source": [
    "A.det()"
   ]
  },
  {
   "cell_type": "markdown",
   "metadata": {
    "slideshow": {
     "slide_type": "slide"
    }
   },
   "source": [
    "Probe:"
   ]
  },
  {
   "cell_type": "code",
   "execution_count": 74,
   "metadata": {},
   "outputs": [
    {
     "data": {
      "image/png": "[encoded data removed]",
      "text/latex": [
       "$$\\mathrm{True}$$"
      ],
      "text/plain": [
       "True"
      ]
     },
     "execution_count": 74,
     "metadata": {},
     "output_type": "execute_result"
    }
   ],
   "source": [
    "glg.subs(lsg)"
   ]
  },
  {
   "cell_type": "markdown",
   "metadata": {
    "slideshow": {
     "slide_type": "slide"
    }
   },
   "source": [
    "Zwei konkrete Lösungen:"
   ]
  },
  {
   "cell_type": "code",
   "execution_count": 77,
   "metadata": {},
   "outputs": [
    {
     "data": {
      "text/latex": [
       "$$\\left[\\begin{matrix}0\\\\3\\\\0\\end{matrix}\\right]$$"
      ],
      "text/plain": [
       "⎡0⎤\n",
       "⎢ ⎥\n",
       "⎢3⎥\n",
       "⎢ ⎥\n",
       "⎣0⎦"
      ]
     },
     "execution_count": 77,
     "metadata": {},
     "output_type": "execute_result"
    }
   ],
   "source": [
    "x.subs(lsg).subs(x[2],0)"
   ]
  },
  {
   "cell_type": "code",
   "execution_count": 78,
   "metadata": {},
   "outputs": [
    {
     "data": {
      "text/latex": [
       "$$\\left[\\begin{matrix}\\frac{3}{2}\\\\0\\\\\\frac{3}{2}\\end{matrix}\\right]$$"
      ],
      "text/plain": [
       "⎡3/2⎤\n",
       "⎢   ⎥\n",
       "⎢ 0 ⎥\n",
       "⎢   ⎥\n",
       "⎣3/2⎦"
      ]
     },
     "execution_count": 78,
     "metadata": {},
     "output_type": "execute_result"
    }
   ],
   "source": [
    "x.subs(lsg).subs(x[2],Rational(3,2))"
   ]
  },
  {
   "cell_type": "markdown",
   "metadata": {
    "slideshow": {
     "slide_type": "slide"
    }
   },
   "source": [
    "Kern von $A$"
   ]
  },
  {
   "cell_type": "code",
   "execution_count": 79,
   "metadata": {},
   "outputs": [
    {
     "data": {
      "image/png": "[encoded data removed]",
      "text/latex": [
       "$$\\left \\{ x_{1} : x_{3}, \\quad x_{2} : - 2 x_{3}\\right \\}$$"
      ],
      "text/plain": [
       "{x₁: x₃, x₂: -2⋅x₃}"
      ]
     },
     "execution_count": 79,
     "metadata": {},
     "output_type": "execute_result"
    }
   ],
   "source": [
    "solve(A*x, x)"
   ]
  },
  {
   "cell_type": "markdown",
   "metadata": {
    "slideshow": {
     "slide_type": "slide"
    }
   },
   "source": [
    "Gleichung ohne Lösung"
   ]
  },
  {
   "cell_type": "code",
   "execution_count": 80,
   "metadata": {},
   "outputs": [
    {
     "data": {
      "image/png": "[encoded data removed]",
      "text/latex": [
       "$$\\left [ \\right ]$$"
      ],
      "text/plain": [
       "[]"
      ]
     },
     "execution_count": 80,
     "metadata": {},
     "output_type": "execute_result"
    }
   ],
   "source": [
    "b1 = Matrix([0,0,1])\n",
    "glg = Eq(A*x, b1)\n",
    "solve(glg)"
   ]
  },
  {
   "cell_type": "markdown",
   "metadata": {
    "slideshow": {
     "slide_type": "slide"
    }
   },
   "source": [
    "Eigenwerte"
   ]
  },
  {
   "cell_type": "code",
   "execution_count": 81,
   "metadata": {},
   "outputs": [
    {
     "data": {
      "text/latex": [
       "$$\\left[\\begin{matrix}1 & 2 & 3\\\\4 & 5 & 6\\\\7 & 8 & 9\\end{matrix}\\right]$$"
      ],
      "text/plain": [
       "⎡1  2  3⎤\n",
       "⎢       ⎥\n",
       "⎢4  5  6⎥\n",
       "⎢       ⎥\n",
       "⎣7  8  9⎦"
      ]
     },
     "execution_count": 81,
     "metadata": {},
     "output_type": "execute_result"
    }
   ],
   "source": [
    "A"
   ]
  },
  {
   "cell_type": "code",
   "execution_count": 82,
   "metadata": {},
   "outputs": [
    {
     "data": {
      "image/png": "[encoded data removed]",
      "text/latex": [
       "$$\\left \\{ 0 : 1, \\quad \\frac{15}{2} + \\frac{3 \\sqrt{33}}{2} : 1, \\quad - \\frac{3 \\sqrt{33}}{2} + \\frac{15}{2} : 1\\right \\}$$"
      ],
      "text/plain": [
       "⎧      15   3⋅√33       3⋅√33   15   ⎫\n",
       "⎨0: 1, ── + ─────: 1, - ───── + ──: 1⎬\n",
       "⎩      2      2           2     2    ⎭"
      ]
     },
     "execution_count": 82,
     "metadata": {},
     "output_type": "execute_result"
    }
   ],
   "source": [
    "A.eigenvals()"
   ]
  },
  {
   "cell_type": "code",
   "execution_count": 83,
   "metadata": {
    "slideshow": {
     "slide_type": "slide"
    }
   },
   "outputs": [
    {
     "data": {
      "text/latex": [
       "$$\\left [ \\left ( 0, \\quad 1, \\quad \\left [ \\left[\\begin{matrix}1\\\\-2\\\\1\\end{matrix}\\right]\\right ]\\right ), \\quad \\left ( \\frac{15}{2} + \\frac{3 \\sqrt{33}}{2}, \\quad 1, \\quad \\left [ \\left[\\begin{matrix}- \\frac{1}{2} + \\frac{3 \\sqrt{33}}{22}\\\\\\frac{1}{4} + \\frac{3 \\sqrt{33}}{44}\\\\1\\end{matrix}\\right]\\right ]\\right ), \\quad \\left ( - \\frac{3 \\sqrt{33}}{2} + \\frac{15}{2}, \\quad 1, \\quad \\left [ \\left[\\begin{matrix}- \\frac{3 \\sqrt{33}}{22} - \\frac{1}{2}\\\\- \\frac{3 \\sqrt{33}}{44} + \\frac{1}{4}\\\\1\\end{matrix}\\right]\\right ]\\right )\\right ]$$"
      ],
      "text/plain": [
       "⎡                ⎛               ⎡⎡  1   3⋅√33⎤⎤⎞  ⎛                 ⎡⎡  3⋅√33\n",
       "⎢                ⎜               ⎢⎢- ─ + ─────⎥⎥⎟  ⎜                 ⎢⎢- ─────\n",
       "⎢⎛      ⎡⎡1 ⎤⎤⎞  ⎜               ⎢⎢  2     22 ⎥⎥⎟  ⎜                 ⎢⎢    22 \n",
       "⎢⎜      ⎢⎢  ⎥⎥⎟  ⎜15   3⋅√33     ⎢⎢           ⎥⎥⎟  ⎜  3⋅√33   15     ⎢⎢       \n",
       "⎢⎜0, 1, ⎢⎢-2⎥⎥⎟, ⎜── + ─────, 1, ⎢⎢ 1   3⋅√33 ⎥⎥⎟, ⎜- ───── + ──, 1, ⎢⎢  3⋅√33\n",
       "⎢⎜      ⎢⎢  ⎥⎥⎟  ⎜2      2       ⎢⎢ ─ + ───── ⎥⎥⎟  ⎜    2     2      ⎢⎢- ─────\n",
       "⎢⎝      ⎣⎣1 ⎦⎦⎠  ⎜               ⎢⎢ 4     44  ⎥⎥⎟  ⎜                 ⎢⎢    44 \n",
       "⎢                ⎜               ⎢⎢           ⎥⎥⎟  ⎜                 ⎢⎢       \n",
       "⎣                ⎝               ⎣⎣     1     ⎦⎦⎠  ⎝                 ⎣⎣     1 \n",
       "\n",
       "   1⎤⎤⎞⎤\n",
       " - ─⎥⎥⎟⎥\n",
       "   2⎥⎥⎟⎥\n",
       "    ⎥⎥⎟⎥\n",
       "   1⎥⎥⎟⎥\n",
       " + ─⎥⎥⎟⎥\n",
       "   4⎥⎥⎟⎥\n",
       "    ⎥⎥⎟⎥\n",
       "    ⎦⎦⎠⎦"
      ]
     },
     "execution_count": 83,
     "metadata": {},
     "output_type": "execute_result"
    }
   ],
   "source": [
    "A.eigenvects(simplify=True)"
   ]
  },
  {
   "cell_type": "markdown",
   "metadata": {},
   "source": [
    "Für jeden Eigenwert ein Tripel aus Eigenwert, arithmetischer Vielfachheit und Eigenvektor(en)."
   ]
  },
  {
   "cell_type": "code",
   "execution_count": 85,
   "metadata": {
    "slideshow": {
     "slide_type": "slide"
    }
   },
   "outputs": [
    {
     "data": {
      "text/latex": [
       "$$\\left [ \\left ( 0, \\quad 2, \\quad \\left [ \\left[\\begin{matrix}1\\\\-2\\\\1\\\\0\\\\0\\\\0\\end{matrix}\\right], \\quad \\left[\\begin{matrix}0\\\\0\\\\0\\\\1\\\\-2\\\\1\\end{matrix}\\right]\\right ]\\right ), \\quad \\left ( \\frac{15}{2} + \\frac{3 \\sqrt{33}}{2}, \\quad 2, \\quad \\left [ \\left[\\begin{matrix}- \\frac{1}{2} + \\frac{3 \\sqrt{33}}{22}\\\\\\frac{1}{4} + \\frac{3 \\sqrt{33}}{44}\\\\1\\\\0\\\\0\\\\0\\end{matrix}\\right], \\quad \\left[\\begin{matrix}0\\\\0\\\\0\\\\- \\frac{1}{2} + \\frac{3 \\sqrt{33}}{22}\\\\\\frac{1}{4} + \\frac{3 \\sqrt{33}}{44}\\\\1\\end{matrix}\\right]\\right ]\\right ), \\quad \\left ( - \\frac{3 \\sqrt{33}}{2} + \\frac{15}{2}, \\quad 2, \\quad \\left [ \\left[\\begin{matrix}- \\frac{3 \\sqrt{33}}{22} - \\frac{1}{2}\\\\- \\frac{3 \\sqrt{33}}{44} + \\frac{1}{4}\\\\1\\\\0\\\\0\\\\0\\end{matrix}\\right], \\quad \\left[\\begin{matrix}0\\\\0\\\\0\\\\- \\frac{3 \\sqrt{33}}{22} - \\frac{1}{2}\\\\- \\frac{3 \\sqrt{33}}{44} + \\frac{1}{4}\\\\1\\end{matrix}\\right]\\right ]\\right )\\right ]$$"
      ],
      "text/plain": [
       "⎡                      ⎛               ⎡⎡  1   3⋅√33⎤  ⎡     0     ⎤⎤⎞  ⎛     \n",
       "⎢                      ⎜               ⎢⎢- ─ + ─────⎥  ⎢           ⎥⎥⎟  ⎜     \n",
       "⎢⎛      ⎡⎡1 ⎤  ⎡0 ⎤⎤⎞  ⎜               ⎢⎢  2     22 ⎥  ⎢     0     ⎥⎥⎟  ⎜     \n",
       "⎢⎜      ⎢⎢  ⎥  ⎢  ⎥⎥⎟  ⎜               ⎢⎢           ⎥  ⎢           ⎥⎥⎟  ⎜     \n",
       "⎢⎜      ⎢⎢-2⎥  ⎢0 ⎥⎥⎟  ⎜               ⎢⎢ 1   3⋅√33 ⎥  ⎢     0     ⎥⎥⎟  ⎜     \n",
       "⎢⎜      ⎢⎢  ⎥  ⎢  ⎥⎥⎟  ⎜               ⎢⎢ ─ + ───── ⎥  ⎢           ⎥⎥⎟  ⎜     \n",
       "⎢⎜      ⎢⎢1 ⎥  ⎢0 ⎥⎥⎟  ⎜15   3⋅√33     ⎢⎢ 4     44  ⎥  ⎢  1   3⋅√33⎥⎥⎟  ⎜  3⋅√\n",
       "⎢⎜0, 2, ⎢⎢  ⎥, ⎢  ⎥⎥⎟, ⎜── + ─────, 2, ⎢⎢           ⎥, ⎢- ─ + ─────⎥⎥⎟, ⎜- ───\n",
       "⎢⎜      ⎢⎢0 ⎥  ⎢1 ⎥⎥⎟  ⎜2      2       ⎢⎢     1     ⎥  ⎢  2     22 ⎥⎥⎟  ⎜    2\n",
       "⎢⎜      ⎢⎢  ⎥  ⎢  ⎥⎥⎟  ⎜               ⎢⎢           ⎥  ⎢           ⎥⎥⎟  ⎜     \n",
       "⎢⎜      ⎢⎢0 ⎥  ⎢-2⎥⎥⎟  ⎜               ⎢⎢     0     ⎥  ⎢ 1   3⋅√33 ⎥⎥⎟  ⎜     \n",
       "⎢⎜      ⎢⎢  ⎥  ⎢  ⎥⎥⎟  ⎜               ⎢⎢           ⎥  ⎢ ─ + ───── ⎥⎥⎟  ⎜     \n",
       "⎢⎝      ⎣⎣0 ⎦  ⎣1 ⎦⎦⎠  ⎜               ⎢⎢     0     ⎥  ⎢ 4     44  ⎥⎥⎟  ⎜     \n",
       "⎢                      ⎜               ⎢⎢           ⎥  ⎢           ⎥⎥⎟  ⎜     \n",
       "⎣                      ⎝               ⎣⎣     0     ⎦  ⎣     1     ⎦⎦⎠  ⎝     \n",
       "\n",
       "            ⎡⎡  3⋅√33   1⎤  ⎡     0     ⎤⎤⎞⎤\n",
       "            ⎢⎢- ───── - ─⎥  ⎢           ⎥⎥⎟⎥\n",
       "            ⎢⎢    22    2⎥  ⎢     0     ⎥⎥⎟⎥\n",
       "            ⎢⎢           ⎥  ⎢           ⎥⎥⎟⎥\n",
       "            ⎢⎢  3⋅√33   1⎥  ⎢     0     ⎥⎥⎟⎥\n",
       "            ⎢⎢- ───── + ─⎥  ⎢           ⎥⎥⎟⎥\n",
       "33   15     ⎢⎢    44    4⎥  ⎢  3⋅√33   1⎥⎥⎟⎥\n",
       "── + ──, 2, ⎢⎢           ⎥, ⎢- ───── - ─⎥⎥⎟⎥\n",
       "     2      ⎢⎢     1     ⎥  ⎢    22    2⎥⎥⎟⎥\n",
       "            ⎢⎢           ⎥  ⎢           ⎥⎥⎟⎥\n",
       "            ⎢⎢     0     ⎥  ⎢  3⋅√33   1⎥⎥⎟⎥\n",
       "            ⎢⎢           ⎥  ⎢- ───── + ─⎥⎥⎟⎥\n",
       "            ⎢⎢     0     ⎥  ⎢    44    4⎥⎥⎟⎥\n",
       "            ⎢⎢           ⎥  ⎢           ⎥⎥⎟⎥\n",
       "            ⎣⎣     0     ⎦  ⎣     1     ⎦⎦⎠⎦"
      ]
     },
     "execution_count": 85,
     "metadata": {},
     "output_type": "execute_result"
    }
   ],
   "source": [
    "diag(A,A).eigenvects(simplify=True)"
   ]
  },
  {
   "cell_type": "markdown",
   "metadata": {
    "slideshow": {
     "slide_type": "slide"
    }
   },
   "source": [
    "Was passiert bei nicht diagonalisierbaren Matrizen?"
   ]
  },
  {
   "cell_type": "code",
   "execution_count": 86,
   "metadata": {},
   "outputs": [
    {
     "data": {
      "text/latex": [
       "$$\\left[\\begin{matrix}2 & 1\\\\0 & 2\\end{matrix}\\right]$$"
      ],
      "text/plain": [
       "⎡2  1⎤\n",
       "⎢    ⎥\n",
       "⎣0  2⎦"
      ]
     },
     "execution_count": 86,
     "metadata": {},
     "output_type": "execute_result"
    }
   ],
   "source": [
    "J = Matrix(2,2, [2,1,0,2])\n",
    "J"
   ]
  },
  {
   "cell_type": "code",
   "execution_count": 87,
   "metadata": {},
   "outputs": [
    {
     "data": {
      "text/latex": [
       "$$\\left [ \\left ( 2, \\quad 2, \\quad \\left [ \\left[\\begin{matrix}1\\\\0\\end{matrix}\\right]\\right ]\\right )\\right ]$$"
      ],
      "text/plain": [
       "⎡⎛      ⎡⎡1⎤⎤⎞⎤\n",
       "⎢⎜2, 2, ⎢⎢ ⎥⎥⎟⎥\n",
       "⎣⎝      ⎣⎣0⎦⎦⎠⎦"
      ]
     },
     "execution_count": 87,
     "metadata": {},
     "output_type": "execute_result"
    }
   ],
   "source": [
    "J.eigenvects()"
   ]
  },
  {
   "cell_type": "markdown",
   "metadata": {},
   "source": [
    "arithmetische Vielfachheit $>$ geometrische Vielfachheit $\\Rightarrow$\n",
    "Matrix nicht diagonalisierbar"
   ]
  }
 ],
 "metadata": {
  "celltoolbar": "Slideshow",
  "kernelspec": {
   "display_name": "Python 3",
   "language": "python",
   "name": "python3"
  },
  "language_info": {
   "codemirror_mode": {
    "name": "ipython",
    "version": 3
   },
   "file_extension": ".py",
   "mimetype": "text/x-python",
   "name": "python",
   "nbconvert_exporter": "python",
   "pygments_lexer": "ipython3",
   "version": "3.7.0"
  }
 },
 "nbformat": 4,
 "nbformat_minor": 2
}
