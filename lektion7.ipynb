{
 "cells": [
  {
   "cell_type": "markdown",
   "metadata": {
    "slideshow": {
     "slide_type": "slide"
    }
   },
   "source": [
    "# Computergestützte Mathematik zur Analysis\n",
    "\n",
    "29.11.2018"
   ]
  },
  {
   "cell_type": "code",
   "execution_count": 1,
   "metadata": {
    "slideshow": {
     "slide_type": "slide"
    }
   },
   "outputs": [],
   "source": [
    "from sympy import *\n",
    "init_printing()\n",
    "import numpy as np\n",
    "%matplotlib qt\n",
    "import matplotlib.pyplot as plt; "
   ]
  },
  {
   "cell_type": "markdown",
   "metadata": {
    "slideshow": {
     "slide_type": "slide"
    }
   },
   "source": [
    "konkrete Polynome"
   ]
  },
  {
   "cell_type": "code",
   "execution_count": 2,
   "metadata": {},
   "outputs": [
    {
     "data": {
      "image/png": "[encoded data removed]",
      "text/latex": [
       "$$- \\frac{x^{7}}{5040} + \\frac{x^{6}}{720} - \\frac{x^{5}}{120} + \\frac{x^{4}}{24} - \\frac{x^{3}}{6} + \\frac{x^{2}}{2} - x + 1$$"
      ],
      "text/plain": [
       "    7      6     5    4    3    2        \n",
       "   x      x     x    x    x    x         \n",
       "- ──── + ─── - ─── + ── - ── + ── - x + 1\n",
       "  5040   720   120   24   6    2         "
      ]
     },
     "execution_count": 2,
     "metadata": {},
     "output_type": "execute_result"
    }
   ],
   "source": [
    "x = Symbol('x')\n",
    "n = 8\n",
    "p = 0\n",
    "for j in range(n):\n",
    "    p += (-x)**j / factorial(j)\n",
    "p"
   ]
  },
  {
   "cell_type": "code",
   "execution_count": 3,
   "metadata": {
    "slideshow": {
     "slide_type": "fragment"
    }
   },
   "outputs": [
    {
     "data": {
      "image/png": "[encoded data removed]",
      "text/latex": [
       "$$7$$"
      ],
      "text/plain": [
       "7"
      ]
     },
     "execution_count": 3,
     "metadata": {},
     "output_type": "execute_result"
    }
   ],
   "source": [
    "degree(p)"
   ]
  },
  {
   "cell_type": "code",
   "execution_count": 8,
   "metadata": {
    "slideshow": {
     "slide_type": "fragment"
    }
   },
   "outputs": [
    {
     "data": {
      "image/png": "[encoded data removed]",
      "text/latex": [
       "$$- \\frac{1}{120}$$"
      ],
      "text/plain": [
       "-1/120"
      ]
     },
     "execution_count": 8,
     "metadata": {},
     "output_type": "execute_result"
    }
   ],
   "source": [
    "p.coeff(x, 5)"
   ]
  },
  {
   "cell_type": "markdown",
   "metadata": {
    "slideshow": {
     "slide_type": "slide"
    }
   },
   "source": [
    "Plots"
   ]
  },
  {
   "cell_type": "code",
   "execution_count": 9,
   "metadata": {},
   "outputs": [],
   "source": [
    "xn = np.linspace(-2, 5)"
   ]
  },
  {
   "cell_type": "code",
   "execution_count": 10,
   "metadata": {},
   "outputs": [],
   "source": [
    "wn = [p.subs(x, xx) for xx in xn]"
   ]
  },
  {
   "cell_type": "code",
   "execution_count": 11,
   "metadata": {},
   "outputs": [],
   "source": [
    "    plt.plot(xn, wn);"
   ]
  },
  {
   "cell_type": "markdown",
   "metadata": {
    "slideshow": {
     "slide_type": "slide"
    }
   },
   "source": [
    "aus `sympy` Funktionen können universale Funktionen generiert werden"
   ]
  },
  {
   "cell_type": "code",
   "execution_count": 12,
   "metadata": {},
   "outputs": [],
   "source": [
    "x = Symbol('x')\n",
    "fn = lambdify(x, p, 'numpy')"
   ]
  },
  {
   "cell_type": "code",
   "execution_count": 13,
   "metadata": {},
   "outputs": [],
   "source": [
    "plt.plot(xn, fn(xn));"
   ]
  },
  {
   "cell_type": "markdown",
   "metadata": {
    "slideshow": {
     "slide_type": "slide"
    }
   },
   "source": [
    "Grenzwerte"
   ]
  },
  {
   "cell_type": "code",
   "execution_count": 14,
   "metadata": {},
   "outputs": [],
   "source": [
    "x = Symbol('x')\n",
    "n = Symbol('n', integer=True)"
   ]
  },
  {
   "cell_type": "code",
   "execution_count": 15,
   "metadata": {},
   "outputs": [
    {
     "data": {
      "image/png": "[encoded data removed]",
      "text/latex": [
       "$$\\frac{- \\sin{\\left (x \\right )} \\cos{\\left (x \\right )} + 1}{x^{2} - 1}$$"
      ],
      "text/plain": [
       "-sin(x)⋅cos(x) + 1\n",
       "──────────────────\n",
       "       2          \n",
       "      x  - 1      "
      ]
     },
     "execution_count": 15,
     "metadata": {},
     "output_type": "execute_result"
    }
   ],
   "source": [
    "f = (1-cos(x)*sin(x)) / (x**2-1)\n",
    "f"
   ]
  },
  {
   "cell_type": "code",
   "execution_count": 17,
   "metadata": {},
   "outputs": [
    {
     "data": {
      "image/png": "[encoded data removed]",
      "text/latex": [
       "$$\\infty$$"
      ],
      "text/plain": [
       "∞"
      ]
     },
     "execution_count": 17,
     "metadata": {},
     "output_type": "execute_result"
    }
   ],
   "source": [
    "limit(f, x, 1)"
   ]
  },
  {
   "cell_type": "code",
   "execution_count": 18,
   "metadata": {
    "slideshow": {
     "slide_type": "slide"
    }
   },
   "outputs": [
    {
     "data": {
      "image/png": "[encoded data removed]",
      "text/latex": [
       "$$\\tilde{\\infty}$$"
      ],
      "text/plain": [
       "zoo"
      ]
     },
     "execution_count": 18,
     "metadata": {},
     "output_type": "execute_result"
    }
   ],
   "source": [
    "tan(pi/2)"
   ]
  },
  {
   "cell_type": "code",
   "execution_count": 19,
   "metadata": {
    "slideshow": {
     "slide_type": "fragment"
    }
   },
   "outputs": [
    {
     "data": {
      "image/png": "[encoded data removed]",
      "text/latex": [
       "$$-\\infty$$"
      ],
      "text/plain": [
       "-∞"
      ]
     },
     "execution_count": 19,
     "metadata": {},
     "output_type": "execute_result"
    }
   ],
   "source": [
    "limit(tan(x), x, pi/2)"
   ]
  },
  {
   "cell_type": "code",
   "execution_count": 20,
   "metadata": {
    "slideshow": {
     "slide_type": "fragment"
    }
   },
   "outputs": [
    {
     "data": {
      "image/png": "[encoded data removed]",
      "text/latex": [
       "$$\\infty$$"
      ],
      "text/plain": [
       "∞"
      ]
     },
     "execution_count": 20,
     "metadata": {},
     "output_type": "execute_result"
    }
   ],
   "source": [
    "limit(tan(x), x, pi/2, dir='-')"
   ]
  },
  {
   "cell_type": "code",
   "execution_count": 22,
   "metadata": {
    "slideshow": {
     "slide_type": "fragment"
    }
   },
   "outputs": [],
   "source": [
    "#limit(tan(x), x, pi/2, dir='+-')\n",
    "# ValueError"
   ]
  },
  {
   "cell_type": "code",
   "execution_count": 23,
   "metadata": {
    "slideshow": {
     "slide_type": "slide"
    }
   },
   "outputs": [
    {
     "data": {
      "image/png": "[encoded data removed]",
      "text/latex": [
       "$$n^{2} \\left(- \\cos{\\left (\\pi \\left(n + \\frac{1}{n}\\right) \\right )} \\cos{\\left (\\pi \\left(3 n - \\frac{3}{n}\\right) \\right )} + 1\\right)$$"
      ],
      "text/plain": [
       " 2 ⎛     ⎛  ⎛    1⎞⎞    ⎛  ⎛      3⎞⎞    ⎞\n",
       "n ⋅⎜- cos⎜π⋅⎜n + ─⎟⎟⋅cos⎜π⋅⎜3⋅n - ─⎟⎟ + 1⎟\n",
       "   ⎝     ⎝  ⎝    n⎠⎠    ⎝  ⎝      n⎠⎠    ⎠"
      ]
     },
     "execution_count": 23,
     "metadata": {},
     "output_type": "execute_result"
    }
   ],
   "source": [
    "a = (1 - cos(pi*(n+1/n)) * cos(3*pi*(n-1/n))) * n**2\n",
    "a"
   ]
  },
  {
   "cell_type": "code",
   "execution_count": 24,
   "metadata": {},
   "outputs": [
    {
     "data": {
      "image/png": "[encoded data removed]",
      "text/latex": [
       "$$\\langle 0, \\infty\\rangle$$"
      ],
      "text/plain": [
       "<0, ∞>"
      ]
     },
     "execution_count": 24,
     "metadata": {},
     "output_type": "execute_result"
    }
   ],
   "source": [
    "limit(a, n, oo)"
   ]
  },
  {
   "cell_type": "markdown",
   "metadata": {
    "slideshow": {
     "slide_type": "fragment"
    }
   },
   "source": [
    "Das bedeutet:  Alle Häufungswerte sind $\\ge 0$."
   ]
  },
  {
   "cell_type": "markdown",
   "metadata": {
    "slideshow": {
     "slide_type": "slide"
    }
   },
   "source": [
    "Man muss ein bisschen helfen:"
   ]
  },
  {
   "cell_type": "code",
   "execution_count": 25,
   "metadata": {},
   "outputs": [
    {
     "data": {
      "image/png": "[encoded data removed]",
      "text/latex": [
       "$$- 4 n^{2} \\cos^{4}{\\left (\\frac{\\pi}{n} \\right )} + 3 n^{2} \\cos^{2}{\\left (\\frac{\\pi}{n} \\right )} + n^{2}$$"
      ],
      "text/plain": [
       "     2    4⎛π⎞      2    2⎛π⎞    2\n",
       "- 4⋅n ⋅cos ⎜─⎟ + 3⋅n ⋅cos ⎜─⎟ + n \n",
       "           ⎝n⎠            ⎝n⎠     "
      ]
     },
     "execution_count": 25,
     "metadata": {},
     "output_type": "execute_result"
    }
   ],
   "source": [
    "a1 = a.expand(trig=True)\n",
    "a1"
   ]
  },
  {
   "cell_type": "markdown",
   "metadata": {},
   "source": [
    "So wird die Annahme bzgl. $n$ genutzt."
   ]
  },
  {
   "cell_type": "code",
   "execution_count": 26,
   "metadata": {
    "slideshow": {
     "slide_type": "fragment"
    }
   },
   "outputs": [
    {
     "data": {
      "image/png": "[encoded data removed]",
      "text/latex": [
       "$$5 \\pi^{2}$$"
      ],
      "text/plain": [
       "   2\n",
       "5⋅π "
      ]
     },
     "execution_count": 26,
     "metadata": {},
     "output_type": "execute_result"
    }
   ],
   "source": [
    "limit(a1, n, oo)"
   ]
  },
  {
   "cell_type": "code",
   "execution_count": 27,
   "metadata": {
    "slideshow": {
     "slide_type": "slide"
    }
   },
   "outputs": [
    {
     "data": {
      "image/png": "[encoded data removed]",
      "text/latex": [
       "$$\\frac{\\left(\\frac{e}{n}\\right)^{n} n!}{\\sqrt{n}}$$"
      ],
      "text/plain": [
       "   n   \n",
       "⎛ℯ⎞    \n",
       "⎜─⎟ ⋅n!\n",
       "⎝n⎠    \n",
       "───────\n",
       "   √n  "
      ]
     },
     "execution_count": 27,
     "metadata": {},
     "output_type": "execute_result"
    }
   ],
   "source": [
    "a = factorial(n) * (exp(1)/n)**n / sqrt(n)\n",
    "a"
   ]
  },
  {
   "cell_type": "code",
   "execution_count": 28,
   "metadata": {},
   "outputs": [
    {
     "data": {
      "image/png": "[encoded data removed]",
      "text/latex": [
       "$$\\sqrt{2} \\sqrt{\\pi}$$"
      ],
      "text/plain": [
       "√2⋅√π"
      ]
     },
     "execution_count": 28,
     "metadata": {},
     "output_type": "execute_result"
    }
   ],
   "source": [
    "limit(a, n, oo)"
   ]
  },
  {
   "cell_type": "markdown",
   "metadata": {
    "slideshow": {
     "slide_type": "fragment"
    }
   },
   "source": [
    "Stirlingsche Formel"
   ]
  },
  {
   "cell_type": "code",
   "execution_count": 29,
   "metadata": {
    "slideshow": {
     "slide_type": "slide"
    }
   },
   "outputs": [],
   "source": [
    "y = Symbol('y')"
   ]
  },
  {
   "cell_type": "code",
   "execution_count": 30,
   "metadata": {},
   "outputs": [],
   "source": [
    "def f(x):\n",
    "    return x*cos(x**2)"
   ]
  },
  {
   "cell_type": "code",
   "execution_count": 31,
   "metadata": {},
   "outputs": [
    {
     "data": {
      "image/png": "[encoded data removed]",
      "text/latex": [
       "$$\\frac{x \\cos{\\left (x^{2} \\right )} - y \\cos{\\left (y^{2} \\right )}}{x - y}$$"
      ],
      "text/plain": [
       "     ⎛ 2⎞        ⎛ 2⎞\n",
       "x⋅cos⎝x ⎠ - y⋅cos⎝y ⎠\n",
       "─────────────────────\n",
       "        x - y        "
      ]
     },
     "execution_count": 31,
     "metadata": {},
     "output_type": "execute_result"
    }
   ],
   "source": [
    "b = (f(x)-f(y)) / (x-y)\n",
    "b"
   ]
  },
  {
   "cell_type": "code",
   "execution_count": 32,
   "metadata": {
    "slideshow": {
     "slide_type": "fragment"
    }
   },
   "outputs": [
    {
     "data": {
      "image/png": "[encoded data removed]",
      "text/latex": [
       "$$- 2 y^{2} \\sin{\\left (y^{2} \\right )} + \\cos{\\left (y^{2} \\right )}$$"
      ],
      "text/plain": [
       "     2    ⎛ 2⎞      ⎛ 2⎞\n",
       "- 2⋅y ⋅sin⎝y ⎠ + cos⎝y ⎠"
      ]
     },
     "execution_count": 32,
     "metadata": {},
     "output_type": "execute_result"
    }
   ],
   "source": [
    "b.limit(x, y)"
   ]
  },
  {
   "cell_type": "raw",
   "metadata": {
    "slideshow": {
     "slide_type": "slide"
    }
   },
   "source": [
    "Träger Operator"
   ]
  },
  {
   "cell_type": "code",
   "execution_count": 33,
   "metadata": {},
   "outputs": [
    {
     "data": {
      "image/png": "[encoded data removed]",
      "text/latex": [
       "$$\\lim_{x \\to y^+}\\left(\\frac{x \\cos{\\left (x^{2} \\right )} - y \\cos{\\left (y^{2} \\right )}}{x - y}\\right)$$"
      ],
      "text/plain": [
       "     ⎛     ⎛ 2⎞        ⎛ 2⎞⎞\n",
       "     ⎜x⋅cos⎝x ⎠ - y⋅cos⎝y ⎠⎟\n",
       " lim ⎜─────────────────────⎟\n",
       "x─→y⁺⎝        x - y        ⎠"
      ]
     },
     "execution_count": 33,
     "metadata": {},
     "output_type": "execute_result"
    }
   ],
   "source": [
    "l = Limit(b, x, y)\n",
    "l"
   ]
  },
  {
   "cell_type": "code",
   "execution_count": 34,
   "metadata": {},
   "outputs": [
    {
     "data": {
      "image/png": "[encoded data removed]",
      "text/latex": [
       "$$- 2 y^{2} \\sin{\\left (y^{2} \\right )} + \\cos{\\left (y^{2} \\right )}$$"
      ],
      "text/plain": [
       "     2    ⎛ 2⎞      ⎛ 2⎞\n",
       "- 2⋅y ⋅sin⎝y ⎠ + cos⎝y ⎠"
      ]
     },
     "execution_count": 34,
     "metadata": {},
     "output_type": "execute_result"
    }
   ],
   "source": [
    "l.doit()"
   ]
  },
  {
   "cell_type": "markdown",
   "metadata": {
    "slideshow": {
     "slide_type": "slide"
    }
   },
   "source": [
    "if you really must"
   ]
  },
  {
   "cell_type": "code",
   "execution_count": 35,
   "metadata": {},
   "outputs": [],
   "source": [
    "from IPython.display import Markdown, display"
   ]
  },
  {
   "cell_type": "code",
   "execution_count": 39,
   "metadata": {
    "slideshow": {
     "slide_type": "fragment"
    }
   },
   "outputs": [
    {
     "data": {
      "text/markdown": [
       "Formel: $$\\lim_{x \\to y^+}\\left(\\frac{x \\cos{\\left (x^{2} \\right )} - y \\cos{\\left (y^{2} \\right )}}{x - y}\\right) = - 2 y^{2} \\sin{\\left (y^{2} \\right )} + \\cos{\\left (y^{2} \\right )}$$"
      ],
      "text/plain": [
       "<IPython.core.display.Markdown object>"
      ]
     },
     "execution_count": 39,
     "metadata": {},
     "output_type": "execute_result"
    }
   ],
   "source": [
    "Markdown(\"Formel: $${} = {}$$\".format(latex(l), latex(l.doit())))"
   ]
  },
  {
   "cell_type": "markdown",
   "metadata": {},
   "source": [
    "Da ist aber der *fake math* Tür und Tor geöffnet."
   ]
  },
  {
   "cell_type": "code",
   "execution_count": 42,
   "metadata": {
    "slideshow": {
     "slide_type": "fragment"
    }
   },
   "outputs": [
    {
     "name": "stdout",
     "output_type": "stream",
     "text": [
      "\\lim_{x \\to y^+}\\left(\\frac{x \\cos{\\left (x^{2} \\right )} - y \\cos{\\left (y^{2} \\right )}}{x - y}\\right)\n"
     ]
    }
   ],
   "source": [
    "print(latex(l))"
   ]
  },
  {
   "cell_type": "markdown",
   "metadata": {
    "slideshow": {
     "slide_type": "slide"
    }
   },
   "source": [
    "Differentiation"
   ]
  },
  {
   "cell_type": "code",
   "execution_count": 43,
   "metadata": {},
   "outputs": [
    {
     "data": {
      "image/png": "[encoded data removed]",
      "text/latex": [
       "$$3 e^{3 x}$$"
      ],
      "text/plain": [
       "   3⋅x\n",
       "3⋅ℯ   "
      ]
     },
     "execution_count": 43,
     "metadata": {},
     "output_type": "execute_result"
    }
   ],
   "source": [
    "exp(3*x).diff(x)"
   ]
  },
  {
   "cell_type": "code",
   "execution_count": 45,
   "metadata": {},
   "outputs": [
    {
     "data": {
      "image/png": "[encoded data removed]",
      "text/latex": [
       "$$- 2 x^{2} \\sin{\\left (x^{2} \\right )} + \\cos{\\left (x^{2} \\right )}$$"
      ],
      "text/plain": [
       "     2    ⎛ 2⎞      ⎛ 2⎞\n",
       "- 2⋅x ⋅sin⎝x ⎠ + cos⎝x ⎠"
      ]
     },
     "execution_count": 45,
     "metadata": {},
     "output_type": "execute_result"
    }
   ],
   "source": [
    "df = f(x).diff(x)\n",
    "df"
   ]
  },
  {
   "cell_type": "code",
   "execution_count": 46,
   "metadata": {
    "slideshow": {
     "slide_type": "fragment"
    }
   },
   "outputs": [
    {
     "data": {
      "image/png": "[encoded data removed]",
      "text/latex": [
       "$$- 2 x \\left(2 x^{2} \\cos{\\left (x^{2} \\right )} + 3 \\sin{\\left (x^{2} \\right )}\\right)$$"
      ],
      "text/plain": [
       "     ⎛   2    ⎛ 2⎞        ⎛ 2⎞⎞\n",
       "-2⋅x⋅⎝2⋅x ⋅cos⎝x ⎠ + 3⋅sin⎝x ⎠⎠"
      ]
     },
     "execution_count": 46,
     "metadata": {},
     "output_type": "execute_result"
    }
   ],
   "source": [
    "ddf = f(x).diff(x, 2)\n",
    "ddf"
   ]
  },
  {
   "cell_type": "code",
   "execution_count": 47,
   "metadata": {
    "slideshow": {
     "slide_type": "fragment"
    }
   },
   "outputs": [
    {
     "data": {
      "image/png": "[encoded data removed]",
      "text/latex": [
       "$$2 \\left(4 x^{4} \\sin{\\left (x^{2} \\right )} - 12 x^{2} \\cos{\\left (x^{2} \\right )} - 3 \\sin{\\left (x^{2} \\right )}\\right)$$"
      ],
      "text/plain": [
       "  ⎛   4    ⎛ 2⎞       2    ⎛ 2⎞        ⎛ 2⎞⎞\n",
       "2⋅⎝4⋅x ⋅sin⎝x ⎠ - 12⋅x ⋅cos⎝x ⎠ - 3⋅sin⎝x ⎠⎠"
      ]
     },
     "execution_count": 47,
     "metadata": {},
     "output_type": "execute_result"
    }
   ],
   "source": [
    "dddf = f(x).diff(x, 3)\n",
    "dddf"
   ]
  },
  {
   "cell_type": "code",
   "execution_count": 51,
   "metadata": {
    "slideshow": {
     "slide_type": "slide"
    }
   },
   "outputs": [
    {
     "data": {
      "image/png": "[encoded data removed]",
      "text/latex": [
       "$$x \\cos{\\left (x^{2} \\right )}$$"
      ],
      "text/plain": [
       "     ⎛ 2⎞\n",
       "x⋅cos⎝x ⎠"
      ]
     },
     "metadata": {},
     "output_type": "display_data"
    },
    {
     "data": {
      "image/png": "[encoded data removed]",
      "text/latex": [
       "$$- 2 x^{2} \\sin{\\left (x^{2} \\right )} + \\cos{\\left (x^{2} \\right )}$$"
      ],
      "text/plain": [
       "     2    ⎛ 2⎞      ⎛ 2⎞\n",
       "- 2⋅x ⋅sin⎝x ⎠ + cos⎝x ⎠"
      ]
     },
     "metadata": {},
     "output_type": "display_data"
    },
    {
     "data": {
      "image/png": "[encoded data removed]",
      "text/latex": [
       "$$- 2 x \\left(2 x^{2} \\cos{\\left (x^{2} \\right )} + 3 \\sin{\\left (x^{2} \\right )}\\right)$$"
      ],
      "text/plain": [
       "     ⎛   2    ⎛ 2⎞        ⎛ 2⎞⎞\n",
       "-2⋅x⋅⎝2⋅x ⋅cos⎝x ⎠ + 3⋅sin⎝x ⎠⎠"
      ]
     },
     "metadata": {},
     "output_type": "display_data"
    },
    {
     "data": {
      "image/png": "[encoded data removed]",
      "text/latex": [
       "$$2 \\left(4 x^{4} \\sin{\\left (x^{2} \\right )} - 12 x^{2} \\cos{\\left (x^{2} \\right )} - 3 \\sin{\\left (x^{2} \\right )}\\right)$$"
      ],
      "text/plain": [
       "  ⎛   4    ⎛ 2⎞       2    ⎛ 2⎞        ⎛ 2⎞⎞\n",
       "2⋅⎝4⋅x ⋅sin⎝x ⎠ - 12⋅x ⋅cos⎝x ⎠ - 3⋅sin⎝x ⎠⎠"
      ]
     },
     "metadata": {},
     "output_type": "display_data"
    },
    {
     "data": {
      "image/png": "[encoded data removed]",
      "text/latex": [
       "$$4 x \\left(4 x^{4} \\cos{\\left (x^{2} \\right )} + 20 x^{2} \\sin{\\left (x^{2} \\right )} - 15 \\cos{\\left (x^{2} \\right )}\\right)$$"
      ],
      "text/plain": [
       "    ⎛   4    ⎛ 2⎞       2    ⎛ 2⎞         ⎛ 2⎞⎞\n",
       "4⋅x⋅⎝4⋅x ⋅cos⎝x ⎠ + 20⋅x ⋅sin⎝x ⎠ - 15⋅cos⎝x ⎠⎠"
      ]
     },
     "metadata": {},
     "output_type": "display_data"
    },
    {
     "data": {
      "image/png": "[encoded data removed]",
      "text/latex": [
       "$$4 \\left(- 8 x^{6} \\sin{\\left (x^{2} \\right )} + 60 x^{4} \\cos{\\left (x^{2} \\right )} + 90 x^{2} \\sin{\\left (x^{2} \\right )} - 15 \\cos{\\left (x^{2} \\right )}\\right)$$"
      ],
      "text/plain": [
       "  ⎛     6    ⎛ 2⎞       4    ⎛ 2⎞       2    ⎛ 2⎞         ⎛ 2⎞⎞\n",
       "4⋅⎝- 8⋅x ⋅sin⎝x ⎠ + 60⋅x ⋅cos⎝x ⎠ + 90⋅x ⋅sin⎝x ⎠ - 15⋅cos⎝x ⎠⎠"
      ]
     },
     "metadata": {},
     "output_type": "display_data"
    },
    {
     "data": {
      "image/png": "[encoded data removed]",
      "text/latex": [
       "$$8 x \\left(- 8 x^{6} \\cos{\\left (x^{2} \\right )} - 84 x^{4} \\sin{\\left (x^{2} \\right )} + 210 x^{2} \\cos{\\left (x^{2} \\right )} + 105 \\sin{\\left (x^{2} \\right )}\\right)$$"
      ],
      "text/plain": [
       "    ⎛     6    ⎛ 2⎞       4    ⎛ 2⎞        2    ⎛ 2⎞          ⎛ 2⎞⎞\n",
       "8⋅x⋅⎝- 8⋅x ⋅cos⎝x ⎠ - 84⋅x ⋅sin⎝x ⎠ + 210⋅x ⋅cos⎝x ⎠ + 105⋅sin⎝x ⎠⎠"
      ]
     },
     "metadata": {},
     "output_type": "display_data"
    }
   ],
   "source": [
    "for n in range(7):\n",
    "    display(f(x).diff(x, n))"
   ]
  },
  {
   "cell_type": "markdown",
   "metadata": {
    "slideshow": {
     "slide_type": "slide"
    }
   },
   "source": [
    "Zusammenfassungen"
   ]
  },
  {
   "cell_type": "code",
   "execution_count": 54,
   "metadata": {},
   "outputs": [],
   "source": [
    "d6f = f(x).diff(x, 6)\n",
    "d6f += cos(x**2)*sin(x**2)"
   ]
  },
  {
   "cell_type": "code",
   "execution_count": 55,
   "metadata": {},
   "outputs": [
    {
     "data": {
      "image/png": "[encoded data removed]",
      "text/latex": [
       "$$\\left(- 672 x^{5} + 840 x\\right) \\sin{\\left (x^{2} \\right )} + \\left(- 64 x^{7} + 1680 x^{3} + \\sin{\\left (x^{2} \\right )}\\right) \\cos{\\left (x^{2} \\right )}$$"
      ],
      "text/plain": [
       "⎛       5        ⎞    ⎛ 2⎞   ⎛      7         3      ⎛ 2⎞⎞    ⎛ 2⎞\n",
       "⎝- 672⋅x  + 840⋅x⎠⋅sin⎝x ⎠ + ⎝- 64⋅x  + 1680⋅x  + sin⎝x ⎠⎠⋅cos⎝x ⎠"
      ]
     },
     "execution_count": 55,
     "metadata": {},
     "output_type": "execute_result"
    }
   ],
   "source": [
    "d6f.expand().collect([cos(x**2), sin(x**2)])"
   ]
  },
  {
   "cell_type": "code",
   "execution_count": 56,
   "metadata": {
    "slideshow": {
     "slide_type": "fragment"
    }
   },
   "outputs": [
    {
     "data": {
      "image/png": "[encoded data removed]",
      "text/latex": [
       "$$- 672 x^{5} + 840 x + \\cos{\\left (x^{2} \\right )}$$"
      ],
      "text/plain": [
       "       5              ⎛ 2⎞\n",
       "- 672⋅x  + 840⋅x + cos⎝x ⎠"
      ]
     },
     "execution_count": 56,
     "metadata": {},
     "output_type": "execute_result"
    }
   ],
   "source": [
    "d6f.expand().coeff(sin(x**2))"
   ]
  },
  {
   "cell_type": "markdown",
   "metadata": {
    "slideshow": {
     "slide_type": "slide"
    }
   },
   "source": [
    "Partielle Ableitungen"
   ]
  },
  {
   "cell_type": "code",
   "execution_count": 57,
   "metadata": {},
   "outputs": [
    {
     "data": {
      "image/png": "[encoded data removed]",
      "text/latex": [
       "$$e^{\\frac{x}{y}}$$"
      ],
      "text/plain": [
       " x\n",
       " ─\n",
       " y\n",
       "ℯ "
      ]
     },
     "execution_count": 57,
     "metadata": {},
     "output_type": "execute_result"
    }
   ],
   "source": [
    "f = exp(x/y)\n",
    "f"
   ]
  },
  {
   "cell_type": "code",
   "execution_count": 58,
   "metadata": {},
   "outputs": [
    {
     "data": {
      "image/png": "[encoded data removed]",
      "text/latex": [
       "$$- \\frac{\\left(\\frac{x^{3}}{y^{3}} + \\frac{12 x^{2}}{y^{2}} + \\frac{36 x}{y} + 24\\right) e^{\\frac{x}{y}}}{y^{5}}$$"
      ],
      "text/plain": [
       "                           x \n",
       " ⎛ 3       2            ⎞  ─ \n",
       " ⎜x    12⋅x    36⋅x     ⎟  y \n",
       "-⎜── + ───── + ──── + 24⎟⋅ℯ  \n",
       " ⎜ 3      2     y       ⎟    \n",
       " ⎝y      y              ⎠    \n",
       "─────────────────────────────\n",
       "               5             \n",
       "              y              "
      ]
     },
     "execution_count": 58,
     "metadata": {},
     "output_type": "execute_result"
    }
   ],
   "source": [
    "f.diff(x,2, y,3)"
   ]
  },
  {
   "cell_type": "code",
   "execution_count": 59,
   "metadata": {},
   "outputs": [
    {
     "data": {
      "image/png": "[encoded data removed]",
      "text/latex": [
       "$$\\left(- \\frac{x^{3}}{y^{8}} - \\frac{12 x^{2}}{y^{7}} - \\frac{36 x}{y^{6}} - \\frac{24}{y^{5}}\\right) e^{\\frac{x}{y}}$$"
      ],
      "text/plain": [
       "                            x\n",
       "⎛   3       2            ⎞  ─\n",
       "⎜  x    12⋅x    36⋅x   24⎟  y\n",
       "⎜- ── - ───── - ──── - ──⎟⋅ℯ \n",
       "⎜   8      7      6     5⎟   \n",
       "⎝  y      y      y     y ⎠   "
      ]
     },
     "execution_count": 59,
     "metadata": {},
     "output_type": "execute_result"
    }
   ],
   "source": [
    "f.diff(x,2,y,3).expand().collect(f)"
   ]
  },
  {
   "cell_type": "markdown",
   "metadata": {
    "slideshow": {
     "slide_type": "slide"
    }
   },
   "source": [
    "Integration"
   ]
  },
  {
   "cell_type": "code",
   "execution_count": 60,
   "metadata": {},
   "outputs": [
    {
     "data": {
      "image/png": "[encoded data removed]",
      "text/latex": [
       "$$x e^{- \\frac{x}{3}}$$"
      ],
      "text/plain": [
       "   -x \n",
       "   ───\n",
       "    3 \n",
       "x⋅ℯ   "
      ]
     },
     "execution_count": 60,
     "metadata": {},
     "output_type": "execute_result"
    }
   ],
   "source": [
    "f1 = x*exp(-x/3)\n",
    "f1"
   ]
  },
  {
   "cell_type": "code",
   "execution_count": 61,
   "metadata": {},
   "outputs": [
    {
     "data": {
      "image/png": "[encoded data removed]",
      "text/latex": [
       "$$\\int x e^{- \\frac{x}{3}}\\, dx$$"
      ],
      "text/plain": [
       "⌠          \n",
       "⎮    -x    \n",
       "⎮    ───   \n",
       "⎮     3    \n",
       "⎮ x⋅ℯ    dx\n",
       "⌡          "
      ]
     },
     "execution_count": 61,
     "metadata": {},
     "output_type": "execute_result"
    }
   ],
   "source": [
    "I1 = Integral(f1, x)  # träger Operator\n",
    "I1"
   ]
  },
  {
   "cell_type": "code",
   "execution_count": 62,
   "metadata": {
    "slideshow": {
     "slide_type": "fragment"
    }
   },
   "outputs": [
    {
     "data": {
      "image/png": "[encoded data removed]",
      "text/latex": [
       "$$\\left(- 3 x - 9\\right) e^{- \\frac{x}{3}}$$"
      ],
      "text/plain": [
       "            -x \n",
       "            ───\n",
       "             3 \n",
       "(-3⋅x - 9)⋅ℯ   "
      ]
     },
     "execution_count": 62,
     "metadata": {},
     "output_type": "execute_result"
    }
   ],
   "source": [
    "F1 = I1.doit()\n",
    "F1"
   ]
  },
  {
   "cell_type": "code",
   "execution_count": 66,
   "metadata": {
    "slideshow": {
     "slide_type": "slide"
    }
   },
   "outputs": [
    {
     "data": {
      "text/plain": [
       "False"
      ]
     },
     "execution_count": 66,
     "metadata": {},
     "output_type": "execute_result"
    }
   ],
   "source": [
    "F1.diff(x) == f1     "
   ]
  },
  {
   "cell_type": "markdown",
   "metadata": {},
   "source": [
    "Ist aber doch nicht falsch."
   ]
  },
  {
   "cell_type": "code",
   "execution_count": 67,
   "metadata": {},
   "outputs": [
    {
     "data": {
      "image/png": "[encoded data removed]",
      "text/latex": [
       "$$0$$"
      ],
      "text/plain": [
       "0"
      ]
     },
     "execution_count": 67,
     "metadata": {},
     "output_type": "execute_result"
    }
   ],
   "source": [
    "(F1.diff(x) - f1).simplify()"
   ]
  },
  {
   "cell_type": "code",
   "execution_count": 68,
   "metadata": {
    "slideshow": {
     "slide_type": "slide"
    }
   },
   "outputs": [
    {
     "data": {
      "image/png": "[encoded data removed]",
      "text/latex": [
       "$$\\int_{0}^{\\infty} x e^{- \\frac{x}{3}}\\, dx$$"
      ],
      "text/plain": [
       "∞          \n",
       "⌠          \n",
       "⎮    -x    \n",
       "⎮    ───   \n",
       "⎮     3    \n",
       "⎮ x⋅ℯ    dx\n",
       "⌡          \n",
       "0          "
      ]
     },
     "execution_count": 68,
     "metadata": {},
     "output_type": "execute_result"
    }
   ],
   "source": [
    "I1b = Integral(f1, (x, 0, oo))\n",
    "I1b"
   ]
  },
  {
   "cell_type": "code",
   "execution_count": 69,
   "metadata": {},
   "outputs": [
    {
     "data": {
      "image/png": "[encoded data removed]",
      "text/latex": [
       "$$9$$"
      ],
      "text/plain": [
       "9"
      ]
     },
     "execution_count": 69,
     "metadata": {},
     "output_type": "execute_result"
    }
   ],
   "source": [
    "I1b.doit()"
   ]
  },
  {
   "cell_type": "code",
   "execution_count": 70,
   "metadata": {
    "slideshow": {
     "slide_type": "fragment"
    }
   },
   "outputs": [
    {
     "data": {
      "image/png": "[encoded data removed]",
      "text/latex": [
       "$$9$$"
      ],
      "text/plain": [
       "9"
      ]
     },
     "execution_count": 70,
     "metadata": {},
     "output_type": "execute_result"
    }
   ],
   "source": [
    "F1.limit(x, oo) - F1.subs(x, 0)"
   ]
  },
  {
   "cell_type": "code",
   "execution_count": 71,
   "metadata": {
    "slideshow": {
     "slide_type": "slide"
    }
   },
   "outputs": [],
   "source": [
    "n = Symbol('n')\n",
    "f2 = x**n"
   ]
  },
  {
   "cell_type": "code",
   "execution_count": 72,
   "metadata": {},
   "outputs": [
    {
     "data": {
      "image/png": "[encoded data removed]",
      "text/latex": [
       "$$\\int x^{n}\\, dx$$"
      ],
      "text/plain": [
       "⌠      \n",
       "⎮  n   \n",
       "⎮ x  dx\n",
       "⌡      "
      ]
     },
     "execution_count": 72,
     "metadata": {},
     "output_type": "execute_result"
    }
   ],
   "source": [
    "I2 = Integral(f2, x)\n",
    "I2"
   ]
  },
  {
   "cell_type": "code",
   "execution_count": 73,
   "metadata": {
    "slideshow": {
     "slide_type": "fragment"
    }
   },
   "outputs": [
    {
     "data": {
      "text/latex": [
       "$$\\begin{cases} \\frac{x^{n + 1}}{n + 1} & \\text{for}\\: n \\neq -1 \\\\\\log{\\left (x \\right )} & \\text{otherwise} \\end{cases}$$"
      ],
      "text/plain": [
       "⎧ n + 1            \n",
       "⎪x                 \n",
       "⎪──────  for n ≠ -1\n",
       "⎨n + 1             \n",
       "⎪                  \n",
       "⎪log(x)  otherwise \n",
       "⎩                  "
      ]
     },
     "execution_count": 73,
     "metadata": {},
     "output_type": "execute_result"
    }
   ],
   "source": [
    "I2.doit()"
   ]
  },
  {
   "cell_type": "code",
   "execution_count": 74,
   "metadata": {
    "slideshow": {
     "slide_type": "slide"
    }
   },
   "outputs": [],
   "source": [
    "m = Symbol('m', zero=False)\n",
    "n = m-1"
   ]
  },
  {
   "cell_type": "code",
   "execution_count": 75,
   "metadata": {},
   "outputs": [
    {
     "data": {
      "image/png": "[encoded data removed]",
      "text/latex": [
       "$$\\int x^{m - 1}\\, dx$$"
      ],
      "text/plain": [
       "⌠          \n",
       "⎮  m - 1   \n",
       "⎮ x      dx\n",
       "⌡          "
      ]
     },
     "execution_count": 75,
     "metadata": {},
     "output_type": "execute_result"
    }
   ],
   "source": [
    "f3 = x**n\n",
    "I3 = Integral(f3, x)\n",
    "I3"
   ]
  },
  {
   "cell_type": "code",
   "execution_count": 76,
   "metadata": {},
   "outputs": [
    {
     "data": {
      "image/png": "[encoded data removed]",
      "text/latex": [
       "$$\\frac{x^{m}}{m}$$"
      ],
      "text/plain": [
       " m\n",
       "x \n",
       "──\n",
       "m "
      ]
     },
     "execution_count": 76,
     "metadata": {},
     "output_type": "execute_result"
    }
   ],
   "source": [
    "I3.doit()"
   ]
  },
  {
   "cell_type": "code",
   "execution_count": 77,
   "metadata": {},
   "outputs": [
    {
     "data": {
      "image/png": "[encoded data removed]",
      "text/latex": [
       "$$\\frac{x^{n + 1}}{n + 1}$$"
      ],
      "text/plain": [
       " n + 1\n",
       "x     \n",
       "──────\n",
       "n + 1 "
      ]
     },
     "execution_count": 77,
     "metadata": {},
     "output_type": "execute_result"
    }
   ],
   "source": [
    "n = Symbol('n')\n",
    "I3.doit().subs(m, n+1)"
   ]
  },
  {
   "cell_type": "markdown",
   "metadata": {
    "slideshow": {
     "slide_type": "slide"
    }
   },
   "source": [
    "Einfacher, aber gefährlich"
   ]
  },
  {
   "cell_type": "code",
   "execution_count": 78,
   "metadata": {},
   "outputs": [
    {
     "data": {
      "image/png": "[encoded data removed]",
      "text/latex": [
       "$$\\frac{x^{n + 1}}{n + 1}$$"
      ],
      "text/plain": [
       " n + 1\n",
       "x     \n",
       "──────\n",
       "n + 1 "
      ]
     },
     "execution_count": 78,
     "metadata": {},
     "output_type": "execute_result"
    }
   ],
   "source": [
    "I2.doit(conds=\"none\")"
   ]
  },
  {
   "cell_type": "code",
   "execution_count": 79,
   "metadata": {
    "slideshow": {
     "slide_type": "slide"
    }
   },
   "outputs": [
    {
     "data": {
      "image/png": "[encoded data removed]",
      "text/latex": [
       "$$\\sqrt{e^{x} + 4}$$"
      ],
      "text/plain": [
       "   ________\n",
       "  ╱  x     \n",
       "╲╱  ℯ  + 4 "
      ]
     },
     "execution_count": 79,
     "metadata": {},
     "output_type": "execute_result"
    }
   ],
   "source": [
    "f4 = sqrt(exp(x)+4)\n",
    "f4"
   ]
  },
  {
   "cell_type": "code",
   "execution_count": 80,
   "metadata": {},
   "outputs": [
    {
     "data": {
      "image/png": "[encoded data removed]",
      "text/latex": [
       "$$\\int_{0}^{1} \\sqrt{e^{x} + 4}\\, dx$$"
      ],
      "text/plain": [
       "1               \n",
       "⌠               \n",
       "⎮    ________   \n",
       "⎮   ╱  x        \n",
       "⎮ ╲╱  ℯ  + 4  dx\n",
       "⌡               \n",
       "0               "
      ]
     },
     "execution_count": 80,
     "metadata": {},
     "output_type": "execute_result"
    }
   ],
   "source": [
    "I4 = Integral(f4, (x,0,1))\n",
    "I4"
   ]
  },
  {
   "cell_type": "code",
   "execution_count": 81,
   "metadata": {},
   "outputs": [
    {
     "data": {
      "image/png": "[encoded data removed]",
      "text/latex": [
       "$$- 2 \\sqrt{5} - 2 \\log{\\left (2 + \\sqrt{e + 4} \\right )} + 2 \\log{\\left (-2 + \\sqrt{e + 4} \\right )} - 2 \\log{\\left (-2 + \\sqrt{5} \\right )} + 2 \\log{\\left (2 + \\sqrt{5} \\right )} + 2 \\sqrt{e + 4}$$"
      ],
      "text/plain": [
       "             ⎛      _______⎞        ⎛       _______⎞                          \n",
       "-2⋅√5 - 2⋅log⎝2 + ╲╱ ℯ + 4 ⎠ + 2⋅log⎝-2 + ╲╱ ℯ + 4 ⎠ - 2⋅log(-2 + √5) + 2⋅log(\n",
       "\n",
       "              _______\n",
       "2 + √5) + 2⋅╲╱ ℯ + 4 "
      ]
     },
     "execution_count": 81,
     "metadata": {},
     "output_type": "execute_result"
    }
   ],
   "source": [
    "I4.doit()"
   ]
  },
  {
   "cell_type": "markdown",
   "metadata": {},
   "source": [
    "Das konnte sympy vor zwei Jahren noch nicht.  Probe:"
   ]
  },
  {
   "cell_type": "code",
   "execution_count": 82,
   "metadata": {
    "slideshow": {
     "slide_type": "slide"
    }
   },
   "outputs": [
    {
     "data": {
      "image/png": "[encoded data removed]",
      "text/latex": [
       "$$2 \\sqrt{e^{x} + 4} + 2 \\log{\\left (\\sqrt{e^{x} + 4} - 2 \\right )} - 2 \\log{\\left (\\sqrt{e^{x} + 4} + 2 \\right )}$$"
      ],
      "text/plain": [
       "     ________        ⎛   ________    ⎞        ⎛   ________    ⎞\n",
       "    ╱  x             ⎜  ╱  x         ⎟        ⎜  ╱  x         ⎟\n",
       "2⋅╲╱  ℯ  + 4  + 2⋅log⎝╲╱  ℯ  + 4  - 2⎠ - 2⋅log⎝╲╱  ℯ  + 4  + 2⎠"
      ]
     },
     "execution_count": 82,
     "metadata": {},
     "output_type": "execute_result"
    }
   ],
   "source": [
    "F4 = Integral(f4, x).doit()\n",
    "F4"
   ]
  },
  {
   "cell_type": "code",
   "execution_count": 83,
   "metadata": {},
   "outputs": [
    {
     "data": {
      "image/png": "[encoded data removed]",
      "text/latex": [
       "$$- 2 \\sqrt{5} - 2 \\log{\\left (2 + \\sqrt{e + 4} \\right )} + 2 \\log{\\left (-2 + \\sqrt{e + 4} \\right )} - 2 \\log{\\left (-2 + \\sqrt{5} \\right )} + 2 \\log{\\left (2 + \\sqrt{5} \\right )} + 2 \\sqrt{e + 4}$$"
      ],
      "text/plain": [
       "             ⎛      _______⎞        ⎛       _______⎞                          \n",
       "-2⋅√5 - 2⋅log⎝2 + ╲╱ ℯ + 4 ⎠ + 2⋅log⎝-2 + ╲╱ ℯ + 4 ⎠ - 2⋅log(-2 + √5) + 2⋅log(\n",
       "\n",
       "              _______\n",
       "2 + √5) + 2⋅╲╱ ℯ + 4 "
      ]
     },
     "execution_count": 83,
     "metadata": {},
     "output_type": "execute_result"
    }
   ],
   "source": [
    "F4.subs(x,1) - F4.subs(x,0)"
   ]
  },
  {
   "cell_type": "code",
   "execution_count": 84,
   "metadata": {},
   "outputs": [
    {
     "data": {
      "image/png": "[encoded data removed]",
      "text/latex": [
       "$$2.38910363799198$$"
      ],
      "text/plain": [
       "2.38910363799198"
      ]
     },
     "execution_count": 84,
     "metadata": {},
     "output_type": "execute_result"
    }
   ],
   "source": [
    "N(I4)"
   ]
  },
  {
   "cell_type": "code",
   "execution_count": 86,
   "metadata": {
    "slideshow": {
     "slide_type": "slide"
    }
   },
   "outputs": [
    {
     "data": {
      "image/png": "[encoded data removed]",
      "text/latex": [
       "$$\\int_{0}^{1} \\sqrt{e^{x} + 4}\\, dx$$"
      ],
      "text/plain": [
       "1               \n",
       "⌠               \n",
       "⎮    ________   \n",
       "⎮   ╱  x        \n",
       "⎮ ╲╱  ℯ  + 4  dx\n",
       "⌡               \n",
       "0               "
      ]
     },
     "execution_count": 86,
     "metadata": {},
     "output_type": "execute_result"
    }
   ],
   "source": [
    "I4"
   ]
  },
  {
   "cell_type": "code",
   "execution_count": 85,
   "metadata": {},
   "outputs": [
    {
     "data": {
      "image/png": "[encoded data removed]",
      "text/latex": [
       "$$2.38910363799198$$"
      ],
      "text/plain": [
       "2.38910363799198"
      ]
     },
     "execution_count": 85,
     "metadata": {},
     "output_type": "execute_result"
    }
   ],
   "source": [
    "N(I4.doit()) "
   ]
  },
  {
   "cell_type": "code",
   "execution_count": null,
   "metadata": {},
   "outputs": [],
   "source": []
  },
  {
   "cell_type": "code",
   "execution_count": 89,
   "metadata": {
    "slideshow": {
     "slide_type": "slide"
    }
   },
   "outputs": [
    {
     "name": "stdout",
     "output_type": "stream",
     "text": [
      "4.86 ms ± 195 µs per loop (mean ± std. dev. of 7 runs, 100 loops each)\n"
     ]
    }
   ],
   "source": [
    "%%timeit  \n",
    "N(I4)\n",
    "# hier wird numerisch integriert"
   ]
  },
  {
   "cell_type": "code",
   "execution_count": 88,
   "metadata": {},
   "outputs": [
    {
     "name": "stdout",
     "output_type": "stream",
     "text": [
      "151 ms ± 1.72 ms per loop (mean ± std. dev. of 7 runs, 10 loops each)\n"
     ]
    }
   ],
   "source": [
    "%%timeit\n",
    "N(I4.doit())\n",
    "# hier wird symbolisch integriert und dann numerisch ausgewertet"
   ]
  },
  {
   "cell_type": "markdown",
   "metadata": {},
   "source": [
    "Die unterliegende Numerik stammt bei `sympy` aus `mpmath`, welches beliebige Präzision erreichen kann.  In der CompLA werden dagegen `numpy` und `scipy` verwandt."
   ]
  },
  {
   "cell_type": "code",
   "execution_count": 92,
   "metadata": {
    "slideshow": {
     "slide_type": "slide"
    }
   },
   "outputs": [
    {
     "data": {
      "image/png": "[encoded data removed]",
      "text/latex": [
       "$$2.38910363799198148358497100730434270931863307556131115296467$$"
      ],
      "text/plain": [
       "2.38910363799198148358497100730434270931863307556131115296467"
      ]
     },
     "execution_count": 92,
     "metadata": {},
     "output_type": "execute_result"
    }
   ],
   "source": [
    "N(I4, 60)"
   ]
  },
  {
   "cell_type": "code",
   "execution_count": 91,
   "metadata": {},
   "outputs": [
    {
     "data": {
      "image/png": "[encoded data removed]",
      "text/latex": [
       "$$2.38910363799198148358497100730434270931863307556131115296467$$"
      ],
      "text/plain": [
       "2.38910363799198148358497100730434270931863307556131115296467"
      ]
     },
     "execution_count": 91,
     "metadata": {},
     "output_type": "execute_result"
    }
   ],
   "source": [
    "N(I4.doit(), 60)"
   ]
  },
  {
   "cell_type": "code",
   "execution_count": 96,
   "metadata": {
    "slideshow": {
     "slide_type": "slide"
    }
   },
   "outputs": [],
   "source": [
    "f5 = exp(-x**2)"
   ]
  },
  {
   "cell_type": "code",
   "execution_count": 94,
   "metadata": {},
   "outputs": [
    {
     "data": {
      "image/png": "[encoded data removed]",
      "text/latex": [
       "$$\\int e^{- x^{2}}\\, dx$$"
      ],
      "text/plain": [
       "⌠        \n",
       "⎮    2   \n",
       "⎮  -x    \n",
       "⎮ ℯ    dx\n",
       "⌡        "
      ]
     },
     "execution_count": 94,
     "metadata": {},
     "output_type": "execute_result"
    }
   ],
   "source": [
    "I5 = Integral(f5, x)\n",
    "I5"
   ]
  },
  {
   "cell_type": "code",
   "execution_count": 95,
   "metadata": {},
   "outputs": [
    {
     "data": {
      "image/png": "[encoded data removed]",
      "text/latex": [
       "$$\\frac{\\sqrt{\\pi} \\operatorname{erf}{\\left (x \\right )}}{2}$$"
      ],
      "text/plain": [
       "√π⋅erf(x)\n",
       "─────────\n",
       "    2    "
      ]
     },
     "execution_count": 95,
     "metadata": {},
     "output_type": "execute_result"
    }
   ],
   "source": [
    "I5.doit()"
   ]
  },
  {
   "cell_type": "markdown",
   "metadata": {
    "slideshow": {
     "slide_type": "fragment"
    }
   },
   "source": [
    "`erf` ist Fehlerfunktion"
   ]
  },
  {
   "cell_type": "code",
   "execution_count": 97,
   "metadata": {
    "slideshow": {
     "slide_type": "slide"
    }
   },
   "outputs": [],
   "source": [
    "xn = np.linspace(-3, 3)\n",
    "fn = lambdify(x, erf(x), 'numpy')\n",
    "plt.plot(xn, fn(xn));"
   ]
  },
  {
   "cell_type": "code",
   "execution_count": 98,
   "metadata": {
    "slideshow": {
     "slide_type": "slide"
    }
   },
   "outputs": [
    {
     "data": {
      "image/png": "[encoded data removed]",
      "text/latex": [
       "$$\\frac{1}{\\left(- x^{2} + 1\\right)^{\\frac{3}{2}}}$$"
      ],
      "text/plain": [
       "      1      \n",
       "─────────────\n",
       "          3/2\n",
       "⎛   2    ⎞   \n",
       "⎝- x  + 1⎠   "
      ]
     },
     "execution_count": 98,
     "metadata": {},
     "output_type": "execute_result"
    }
   ],
   "source": [
    "f7 = (1 - x**2)**Rational(-3,2)\n",
    "f7"
   ]
  },
  {
   "cell_type": "code",
   "execution_count": 99,
   "metadata": {},
   "outputs": [
    {
     "data": {
      "image/png": "[encoded data removed]",
      "text/latex": [
       "$$\\int \\frac{1}{\\left(- x^{2} + 1\\right)^{\\frac{3}{2}}}\\, dx$$"
      ],
      "text/plain": [
       "⌠                 \n",
       "⎮       1         \n",
       "⎮ ───────────── dx\n",
       "⎮           3/2   \n",
       "⎮ ⎛   2    ⎞      \n",
       "⎮ ⎝- x  + 1⎠      \n",
       "⌡                 "
      ]
     },
     "execution_count": 99,
     "metadata": {},
     "output_type": "execute_result"
    }
   ],
   "source": [
    "I7 = Integral(f7, x)\n",
    "I7"
   ]
  },
  {
   "cell_type": "code",
   "execution_count": 100,
   "metadata": {},
   "outputs": [
    {
     "data": {
      "text/latex": [
       "$$\\begin{cases} - \\frac{i x}{\\sqrt{x^{2} - 1}} & \\text{for}\\: \\left|{x^{2}}\\right| > 1 \\\\\\frac{x}{\\sqrt{- x^{2} + 1}} & \\text{otherwise} \\end{cases}$$"
      ],
      "text/plain": [
       "⎧    -ⅈ⋅x           │ 2│    \n",
       "⎪ ───────────   for │x │ > 1\n",
       "⎪    ________               \n",
       "⎪   ╱  2                    \n",
       "⎪ ╲╱  x  - 1                \n",
       "⎨                           \n",
       "⎪      x                    \n",
       "⎪─────────────   otherwise  \n",
       "⎪   __________              \n",
       "⎪  ╱    2                   \n",
       "⎩╲╱  - x  + 1               "
      ]
     },
     "execution_count": 100,
     "metadata": {},
     "output_type": "execute_result"
    }
   ],
   "source": [
    "F7 = I7.doit(conds='none')\n",
    "F7"
   ]
  },
  {
   "cell_type": "code",
   "execution_count": 101,
   "metadata": {
    "slideshow": {
     "slide_type": "slide"
    }
   },
   "outputs": [
    {
     "data": {
      "image/png": "[encoded data removed]",
      "text/latex": [
       "$$\\left ( \\left ( - \\frac{i x}{\\sqrt{x^{2} - 1}}, \\quad \\left|{x^{2}}\\right| > 1\\right ), \\quad \\left ( \\frac{x}{\\sqrt{- x^{2} + 1}}, \\quad \\mathrm{True}\\right )\\right )$$"
      ],
      "text/plain": [
       "⎛⎛   -ⅈ⋅x      │ 2│    ⎞  ⎛      x            ⎞⎞\n",
       "⎜⎜───────────, │x │ > 1⎟, ⎜─────────────, True⎟⎟\n",
       "⎜⎜   ________          ⎟  ⎜   __________      ⎟⎟\n",
       "⎜⎜  ╱  2               ⎟  ⎜  ╱    2           ⎟⎟\n",
       "⎝⎝╲╱  x  - 1           ⎠  ⎝╲╱  - x  + 1       ⎠⎠"
      ]
     },
     "execution_count": 101,
     "metadata": {},
     "output_type": "execute_result"
    }
   ],
   "source": [
    "F7.args"
   ]
  },
  {
   "cell_type": "code",
   "execution_count": 102,
   "metadata": {},
   "outputs": [
    {
     "data": {
      "image/png": "[encoded data removed]",
      "text/latex": [
       "$$\\frac{x}{\\sqrt{- x^{2} + 1}}$$"
      ],
      "text/plain": [
       "      x      \n",
       "─────────────\n",
       "   __________\n",
       "  ╱    2     \n",
       "╲╱  - x  + 1 "
      ]
     },
     "execution_count": 102,
     "metadata": {},
     "output_type": "execute_result"
    }
   ],
   "source": [
    "F7a = F7.args[1][0]\n",
    "F7a"
   ]
  },
  {
   "cell_type": "code",
   "execution_count": 103,
   "metadata": {
    "slideshow": {
     "slide_type": "fragment"
    }
   },
   "outputs": [
    {
     "data": {
      "image/png": "[encoded data removed]",
      "text/latex": [
       "$$\\frac{1}{\\left(- x^{2} + 1\\right)^{\\frac{3}{2}}}$$"
      ],
      "text/plain": [
       "      1      \n",
       "─────────────\n",
       "          3/2\n",
       "⎛   2    ⎞   \n",
       "⎝- x  + 1⎠   "
      ]
     },
     "execution_count": 103,
     "metadata": {},
     "output_type": "execute_result"
    }
   ],
   "source": [
    "F7a.diff(x).simplify()"
   ]
  },
  {
   "cell_type": "code",
   "execution_count": 104,
   "metadata": {
    "slideshow": {
     "slide_type": "slide"
    }
   },
   "outputs": [
    {
     "data": {
      "image/png": "[encoded data removed]",
      "text/latex": [
       "$$\\frac{2 \\sqrt{3}}{3}$$"
      ],
      "text/plain": [
       "2⋅√3\n",
       "────\n",
       " 3  "
      ]
     },
     "execution_count": 104,
     "metadata": {},
     "output_type": "execute_result"
    }
   ],
   "source": [
    "I7a = Integral(f7, (x, Rational(-1,2), Rational(1,2)))\n",
    "I7a.doit()"
   ]
  },
  {
   "cell_type": "code",
   "execution_count": 105,
   "metadata": {},
   "outputs": [
    {
     "data": {
      "image/png": "[encoded data removed]",
      "text/latex": [
       "$$\\frac{2 \\sqrt{3}}{3}$$"
      ],
      "text/plain": [
       "2⋅√3\n",
       "────\n",
       " 3  "
      ]
     },
     "execution_count": 105,
     "metadata": {},
     "output_type": "execute_result"
    }
   ],
   "source": [
    "F7a.subs(x,Rational(1,2)) - F7a.subs(x, Rational(-1,2))"
   ]
  },
  {
   "cell_type": "markdown",
   "metadata": {
    "slideshow": {
     "slide_type": "fragment"
    }
   },
   "source": [
    "2016 war die Stammfunktion noch falsch."
   ]
  },
  {
   "cell_type": "code",
   "execution_count": 106,
   "metadata": {
    "slideshow": {
     "slide_type": "slide"
    }
   },
   "outputs": [],
   "source": [
    "f8 = 1 / (2 - cos(2*x))"
   ]
  },
  {
   "cell_type": "code",
   "execution_count": 107,
   "metadata": {},
   "outputs": [
    {
     "data": {
      "image/png": "[encoded data removed]",
      "text/latex": [
       "$$\\int \\frac{1}{- \\cos{\\left (2 x \\right )} + 2}\\, dx$$"
      ],
      "text/plain": [
       "⌠                 \n",
       "⎮       1         \n",
       "⎮ ───────────── dx\n",
       "⎮ -cos(2⋅x) + 2   \n",
       "⌡                 "
      ]
     },
     "execution_count": 107,
     "metadata": {},
     "output_type": "execute_result"
    }
   ],
   "source": [
    "I8 = Integral(f8, x)\n",
    "I8"
   ]
  },
  {
   "cell_type": "code",
   "execution_count": 109,
   "metadata": {},
   "outputs": [
    {
     "data": {
      "image/png": "[encoded data removed]",
      "text/latex": [
       "$$\\frac{\\sqrt{3} \\left(\\operatorname{atan}{\\left (\\sqrt{3} \\tan{\\left (x \\right )} \\right )} + \\pi \\lfloor{\\frac{x - \\frac{\\pi}{2}}{\\pi}}\\rfloor\\right)}{3}$$"
      ],
      "text/plain": [
       "   ⎛                    ⎢    π⎥⎞\n",
       "   ⎜                    ⎢x - ─⎥⎟\n",
       "   ⎜                    ⎢    2⎥⎟\n",
       "√3⋅⎜atan(√3⋅tan(x)) + π⋅⎢─────⎥⎟\n",
       "   ⎝                    ⎣  π  ⎦⎠\n",
       "────────────────────────────────\n",
       "               3                "
      ]
     },
     "execution_count": 109,
     "metadata": {},
     "output_type": "execute_result"
    }
   ],
   "source": [
    "F8 = I8.doit()\n",
    "F8"
   ]
  },
  {
   "cell_type": "code",
   "execution_count": 110,
   "metadata": {
    "slideshow": {
     "slide_type": "fragment"
    }
   },
   "outputs": [
    {
     "data": {
      "image/png": "[encoded data removed]",
      "text/latex": [
       "$$\\frac{2 \\sqrt{3} \\pi}{3}$$"
      ],
      "text/plain": [
       "2⋅√3⋅π\n",
       "──────\n",
       "  3   "
      ]
     },
     "execution_count": 110,
     "metadata": {},
     "output_type": "execute_result"
    }
   ],
   "source": [
    "I8a = Integral(f8, (x, 0, 2*pi))\n",
    "I8a.doit() "
   ]
  },
  {
   "cell_type": "code",
   "execution_count": 112,
   "metadata": {
    "slideshow": {
     "slide_type": "slide"
    }
   },
   "outputs": [],
   "source": [
    "F8n = lambdify(x, F8, 'numpy')\n",
    "xn = np.linspace(0, 2*np.pi)\n",
    "plt.plot(xn, F8n(xn));"
   ]
  },
  {
   "cell_type": "code",
   "execution_count": 114,
   "metadata": {
    "slideshow": {
     "slide_type": "slide"
    }
   },
   "outputs": [
    {
     "data": {
      "image/png": "[encoded data removed]",
      "text/latex": [
       "$$\\frac{2 \\sqrt{3} \\pi}{3}$$"
      ],
      "text/plain": [
       "2⋅√3⋅π\n",
       "──────\n",
       "  3   "
      ]
     },
     "execution_count": 114,
     "metadata": {},
     "output_type": "execute_result"
    }
   ],
   "source": [
    "F8.subs(x, 2*pi) - F8.subs(x, 0)"
   ]
  },
  {
   "cell_type": "code",
   "execution_count": 115,
   "metadata": {
    "slideshow": {
     "slide_type": "fragment"
    }
   },
   "outputs": [
    {
     "name": "stdout",
     "output_type": "stream",
     "text": [
      "sqrt(3)*(atan(sqrt(3)*tan(x)) + pi*floor((x - pi/2)/pi))/3\n"
     ]
    }
   ],
   "source": [
    "print(F8)"
   ]
  },
  {
   "cell_type": "code",
   "execution_count": 116,
   "metadata": {
    "slideshow": {
     "slide_type": "slide"
    }
   },
   "outputs": [],
   "source": [
    "def null(x):\n",
    "    return 0"
   ]
  },
  {
   "cell_type": "code",
   "execution_count": 117,
   "metadata": {},
   "outputs": [
    {
     "data": {
      "image/png": "[encoded data removed]",
      "text/latex": [
       "$$\\frac{\\sqrt{3} \\operatorname{atan}{\\left (\\sqrt{3} \\tan{\\left (x \\right )} \\right )}}{3}$$"
      ],
      "text/plain": [
       "√3⋅atan(√3⋅tan(x))\n",
       "──────────────────\n",
       "        3         "
      ]
     },
     "execution_count": 117,
     "metadata": {},
     "output_type": "execute_result"
    }
   ],
   "source": [
    "a = F8.replace(floor, null)  # replace ist mächtiger als subs\n",
    "a"
   ]
  },
  {
   "cell_type": "code",
   "execution_count": 118,
   "metadata": {},
   "outputs": [],
   "source": [
    "F8n2 = lambdify(x, a, 'numpy')\n",
    "plt.plot(xn, F8n2(xn));"
   ]
  },
  {
   "cell_type": "markdown",
   "metadata": {},
   "source": [
    "Der `floor`-Term hebt die Sprünge auf"
   ]
  }
 ],
 "metadata": {
  "celltoolbar": "Slideshow",
  "kernelspec": {
   "display_name": "Python 3",
   "language": "python",
   "name": "python3"
  },
  "language_info": {
   "codemirror_mode": {
    "name": "ipython",
    "version": 3
   },
   "file_extension": ".py",
   "mimetype": "text/x-python",
   "name": "python",
   "nbconvert_exporter": "python",
   "pygments_lexer": "ipython3",
   "version": "3.7.0"
  }
 },
 "nbformat": 4,
 "nbformat_minor": 2
}
