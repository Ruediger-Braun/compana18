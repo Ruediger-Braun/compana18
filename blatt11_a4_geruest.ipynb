{
 "cells": [
  {
   "cell_type": "code",
   "execution_count": null,
   "metadata": {},
   "outputs": [],
   "source": [
    "class Moebius:\n",
    "    \"Klasse von 2x2-Matrizen mit Determinante 1\"\n",
    "    \n",
    "    def __init__(self, a, b, c, d):\n",
    "        assert a*d-b*c == 1\n",
    "        self.a = a\n",
    "        self.b = b\n",
    "        self.c = c\n",
    "        self.d = d\n",
    "       \n",
    "    def __mul__(self, other):\n",
    "        pass\n",
    "    \n",
    "    def __pow__(self, n):\n",
    "        pass\n",
    "    \n",
    "    def __repr__(self):\n",
    "        return \"Moebius({a}, {b}, {c}, {d})\".format(**self.__dict__)\n",
    "    \n",
    "    def _repr_latex_(self):\n",
    "        M = Matrix(2, 2, [self.a, self.b, self.c, self.d])\n",
    "        return '$ {} $'.format(latex(M))"
   ]
  },
  {
   "cell_type": "markdown",
   "metadata": {},
   "source": [
    "Testen Sie unter anderem an den folgenden Matrizen"
   ]
  },
  {
   "cell_type": "code",
   "execution_count": null,
   "metadata": {},
   "outputs": [],
   "source": [
    "A = Moebius(1, 5, 0, 1)\n",
    "B = Moebius(0, -1, 1, 0)\n",
    "C = A*B"
   ]
  },
  {
   "cell_type": "code",
   "execution_count": null,
   "metadata": {},
   "outputs": [],
   "source": []
  }
 ],
 "metadata": {
  "kernelspec": {
   "display_name": "Python 3",
   "language": "python",
   "name": "python3"
  },
  "language_info": {
   "codemirror_mode": {
    "name": "ipython",
    "version": 3
   },
   "file_extension": ".py",
   "mimetype": "text/x-python",
   "name": "python",
   "nbconvert_exporter": "python",
   "pygments_lexer": "ipython3",
   "version": "3.6.6"
  }
 },
 "nbformat": 4,
 "nbformat_minor": 2
}
