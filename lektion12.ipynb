{
 "cells": [
  {
   "cell_type": "markdown",
   "metadata": {
    "slideshow": {
     "slide_type": "slide"
    }
   },
   "source": [
    "# Computergestützte Mathematik zur Analysis\n",
    "\n",
    "&copy; Rüdiger W. Braun\n",
    "\n",
    "17.01.2019"
   ]
  },
  {
   "cell_type": "markdown",
   "metadata": {
    "slideshow": {
     "slide_type": "slide"
    }
   },
   "source": [
    "Bitte melden Sie sich im Studierendenportal zur Prüfung an"
   ]
  },
  {
   "cell_type": "code",
   "execution_count": 1,
   "metadata": {
    "slideshow": {
     "slide_type": "slide"
    }
   },
   "outputs": [],
   "source": [
    "from sympy import *\n",
    "init_printing()"
   ]
  },
  {
   "cell_type": "markdown",
   "metadata": {
    "slideshow": {
     "slide_type": "slide"
    }
   },
   "source": [
    "Jordansche Normalform"
   ]
  },
  {
   "cell_type": "code",
   "execution_count": 2,
   "metadata": {},
   "outputs": [
    {
     "data": {
      "text/latex": [
       "$$\\left[\\begin{matrix}-4 & -2 & -3\\\\5 & 3 & 3\\\\5 & 2 & 4\\end{matrix}\\right]$$"
      ],
      "text/plain": [
       "⎡-4  -2  -3⎤\n",
       "⎢          ⎥\n",
       "⎢5   3   3 ⎥\n",
       "⎢          ⎥\n",
       "⎣5   2   4 ⎦"
      ]
     },
     "execution_count": 2,
     "metadata": {},
     "output_type": "execute_result"
    }
   ],
   "source": [
    "C = Matrix(3, 3, [-4, -2, -3, 5, 3, 3, 5, 2, 4])\n",
    "C"
   ]
  },
  {
   "cell_type": "code",
   "execution_count": 4,
   "metadata": {},
   "outputs": [
    {
     "data": {
      "text/latex": [
       "$$\\left [ \\left ( 1, \\quad 3, \\quad \\left [ \\left[\\begin{matrix}- \\frac{2}{5}\\\\1\\\\0\\end{matrix}\\right], \\quad \\left[\\begin{matrix}- \\frac{3}{5}\\\\0\\\\1\\end{matrix}\\right]\\right ]\\right )\\right ]$$"
      ],
      "text/plain": [
       "⎡⎛      ⎡⎡-2/5⎤  ⎡-3/5⎤⎤⎞⎤\n",
       "⎢⎜      ⎢⎢    ⎥  ⎢    ⎥⎥⎟⎥\n",
       "⎢⎜1, 3, ⎢⎢ 1  ⎥, ⎢ 0  ⎥⎥⎟⎥\n",
       "⎢⎜      ⎢⎢    ⎥  ⎢    ⎥⎥⎟⎥\n",
       "⎣⎝      ⎣⎣ 0  ⎦  ⎣ 1  ⎦⎦⎠⎦"
      ]
     },
     "execution_count": 4,
     "metadata": {},
     "output_type": "execute_result"
    }
   ],
   "source": [
    "C.eigenvects()"
   ]
  },
  {
   "cell_type": "markdown",
   "metadata": {
    "slideshow": {
     "slide_type": "fragment"
    }
   },
   "source": [
    "Das ist einer zu wenig."
   ]
  },
  {
   "cell_type": "code",
   "execution_count": 5,
   "metadata": {
    "slideshow": {
     "slide_type": "slide"
    }
   },
   "outputs": [
    {
     "data": {
      "text/latex": [
       "$$\\left ( \\left[\\begin{matrix}-5 & 1 & - \\frac{2}{5}\\\\5 & 0 & 1\\\\5 & 0 & 0\\end{matrix}\\right], \\quad \\left[\\begin{matrix}1 & 1 & 0\\\\0 & 1 & 0\\\\0 & 0 & 1\\end{matrix}\\right]\\right )$$"
      ],
      "text/plain": [
       "⎛⎡-5  1  -2/5⎤  ⎡1  1  0⎤⎞\n",
       "⎜⎢           ⎥  ⎢       ⎥⎟\n",
       "⎜⎢5   0   1  ⎥, ⎢0  1  0⎥⎟\n",
       "⎜⎢           ⎥  ⎢       ⎥⎟\n",
       "⎝⎣5   0   0  ⎦  ⎣0  0  1⎦⎠"
      ]
     },
     "execution_count": 5,
     "metadata": {},
     "output_type": "execute_result"
    }
   ],
   "source": [
    "T, J = C.jordan_form()\n",
    "T, J"
   ]
  },
  {
   "cell_type": "code",
   "execution_count": 6,
   "metadata": {},
   "outputs": [
    {
     "data": {
      "text/plain": [
       "True"
      ]
     },
     "execution_count": 6,
     "metadata": {},
     "output_type": "execute_result"
    }
   ],
   "source": [
    "T * J * T**(-1) == C"
   ]
  },
  {
   "cell_type": "markdown",
   "metadata": {
    "slideshow": {
     "slide_type": "slide"
    }
   },
   "source": [
    "Die Jordanform hängt unstetig von den Daten ab"
   ]
  },
  {
   "cell_type": "code",
   "execution_count": 8,
   "metadata": {},
   "outputs": [
    {
     "data": {
      "text/latex": [
       "$$\\left[\\begin{matrix}2 \\epsilon - 4 & -2 & -3\\\\5 & 3 & 3\\\\5 & 2 & 4\\end{matrix}\\right]$$"
      ],
      "text/plain": [
       "⎡2⋅ε - 4  -2  -3⎤\n",
       "⎢               ⎥\n",
       "⎢   5     3   3 ⎥\n",
       "⎢               ⎥\n",
       "⎣   5     2   4 ⎦"
      ]
     },
     "execution_count": 8,
     "metadata": {},
     "output_type": "execute_result"
    }
   ],
   "source": [
    "epsilon = Symbol('epsilon')\n",
    "C [0,0] += epsilon\n",
    "C"
   ]
  },
  {
   "cell_type": "code",
   "execution_count": 9,
   "metadata": {},
   "outputs": [
    {
     "data": {
      "text/latex": [
       "$$\\left[\\begin{matrix}1 & 0 & 0\\\\0 & \\epsilon - \\sqrt{\\epsilon^{2} - 10 \\epsilon} + 1 & 0\\\\0 & 0 & \\epsilon + \\sqrt{\\epsilon^{2} - 10 \\epsilon} + 1\\end{matrix}\\right]$$"
      ],
      "text/plain": [
       "⎡1            0                       0           ⎤\n",
       "⎢                                                 ⎥\n",
       "⎢          ___________                            ⎥\n",
       "⎢         ╱  2                                    ⎥\n",
       "⎢0  ε - ╲╱  ε  - 10⋅ε  + 1            0           ⎥\n",
       "⎢                                                 ⎥\n",
       "⎢                                  ___________    ⎥\n",
       "⎢                                 ╱  2            ⎥\n",
       "⎣0            0             ε + ╲╱  ε  - 10⋅ε  + 1⎦"
      ]
     },
     "execution_count": 9,
     "metadata": {},
     "output_type": "execute_result"
    }
   ],
   "source": [
    "T, Je = C.jordan_form()\n",
    "Je"
   ]
  },
  {
   "cell_type": "code",
   "execution_count": 10,
   "metadata": {
    "slideshow": {
     "slide_type": "fragment"
    }
   },
   "outputs": [
    {
     "data": {
      "text/latex": [
       "$$\\left ( \\left[\\begin{matrix}1 & 0 & 0\\\\0 & 1 & 0\\\\0 & 0 & 1\\end{matrix}\\right], \\quad \\left[\\begin{matrix}1 & 1 & 0\\\\0 & 1 & 0\\\\0 & 0 & 1\\end{matrix}\\right]\\right )$$"
      ],
      "text/plain": [
       "⎛⎡1  0  0⎤  ⎡1  1  0⎤⎞\n",
       "⎜⎢       ⎥  ⎢       ⎥⎟\n",
       "⎜⎢0  1  0⎥, ⎢0  1  0⎥⎟\n",
       "⎜⎢       ⎥  ⎢       ⎥⎟\n",
       "⎝⎣0  0  1⎦  ⎣0  0  1⎦⎠"
      ]
     },
     "execution_count": 10,
     "metadata": {},
     "output_type": "execute_result"
    }
   ],
   "source": [
    "Je.limit(epsilon, 0), J"
   ]
  },
  {
   "cell_type": "markdown",
   "metadata": {
    "slideshow": {
     "slide_type": "slide"
    }
   },
   "source": [
    "Rang einer Matrix"
   ]
  },
  {
   "cell_type": "code",
   "execution_count": 11,
   "metadata": {},
   "outputs": [
    {
     "data": {
      "text/latex": [
       "$$\\left[\\begin{matrix}1 & 2 & 3\\\\4 & 5 & 6\\\\7 & 8 & 9\\end{matrix}\\right]$$"
      ],
      "text/plain": [
       "⎡1  2  3⎤\n",
       "⎢       ⎥\n",
       "⎢4  5  6⎥\n",
       "⎢       ⎥\n",
       "⎣7  8  9⎦"
      ]
     },
     "execution_count": 11,
     "metadata": {},
     "output_type": "execute_result"
    }
   ],
   "source": [
    "M = Matrix(3, 3, range(1,10))\n",
    "M"
   ]
  },
  {
   "cell_type": "code",
   "execution_count": 12,
   "metadata": {},
   "outputs": [
    {
     "data": {
      "image/png": "[encoded data removed]",
      "text/latex": [
       "$$2$$"
      ],
      "text/plain": [
       "2"
      ]
     },
     "execution_count": 12,
     "metadata": {},
     "output_type": "execute_result"
    }
   ],
   "source": [
    "M.rank()"
   ]
  },
  {
   "cell_type": "code",
   "execution_count": 13,
   "metadata": {
    "slideshow": {
     "slide_type": "slide"
    }
   },
   "outputs": [
    {
     "data": {
      "text/latex": [
       "$$\\left[\\begin{matrix}2 x + 2 & 2 y - 2\\\\2 x + 2 & - 2 y + 2\\\\y - 1 & x + 1\\end{matrix}\\right]$$"
      ],
      "text/plain": [
       "⎡2⋅x + 2  2⋅y - 2 ⎤\n",
       "⎢                 ⎥\n",
       "⎢2⋅x + 2  -2⋅y + 2⎥\n",
       "⎢                 ⎥\n",
       "⎣ y - 1    x + 1  ⎦"
      ]
     },
     "execution_count": 13,
     "metadata": {},
     "output_type": "execute_result"
    }
   ],
   "source": [
    "x = Symbol('x')\n",
    "y = Symbol('y')\n",
    "M0 = Matrix(3, 2, [2*x+2, 2*y-2, 2*x+2, -2*y+2, y-1, x+1])\n",
    "M = M0.copy()\n",
    "M"
   ]
  },
  {
   "cell_type": "code",
   "execution_count": 14,
   "metadata": {},
   "outputs": [
    {
     "data": {
      "image/png": "[encoded data removed]",
      "text/latex": [
       "$$2$$"
      ],
      "text/plain": [
       "2"
      ]
     },
     "execution_count": 14,
     "metadata": {},
     "output_type": "execute_result"
    }
   ],
   "source": [
    "M.rank()"
   ]
  },
  {
   "cell_type": "markdown",
   "metadata": {
    "slideshow": {
     "slide_type": "fragment"
    }
   },
   "source": [
    "Glauben wir das?"
   ]
  },
  {
   "cell_type": "code",
   "execution_count": 17,
   "metadata": {
    "slideshow": {
     "slide_type": "slide"
    }
   },
   "outputs": [],
   "source": [
    "def ziehe_erste_zeile_ab(m, j):\n",
    "    \"m ist das j-te Element der ausgewählten Zeile\"\n",
    "    return m - M[0,j]"
   ]
  },
  {
   "cell_type": "code",
   "execution_count": 16,
   "metadata": {},
   "outputs": [
    {
     "data": {
      "text/latex": [
       "$$\\left[\\begin{matrix}2 x + 2 & 2 y - 2\\\\0 & - 4 y + 4\\\\y - 1 & x + 1\\end{matrix}\\right]$$"
      ],
      "text/plain": [
       "⎡2⋅x + 2  2⋅y - 2 ⎤\n",
       "⎢                 ⎥\n",
       "⎢   0     -4⋅y + 4⎥\n",
       "⎢                 ⎥\n",
       "⎣ y - 1    x + 1  ⎦"
      ]
     },
     "execution_count": 16,
     "metadata": {},
     "output_type": "execute_result"
    }
   ],
   "source": [
    "M.row_op(1, ziehe_erste_zeile_ab)\n",
    "M"
   ]
  },
  {
   "cell_type": "code",
   "execution_count": 19,
   "metadata": {
    "slideshow": {
     "slide_type": "slide"
    }
   },
   "outputs": [],
   "source": [
    "def mache_multiplizierer(faktor):   # Factory\n",
    "    def func(m, j):\n",
    "        return m*faktor\n",
    "    return func"
   ]
  },
  {
   "cell_type": "code",
   "execution_count": 20,
   "metadata": {
    "slideshow": {
     "slide_type": "fragment"
    }
   },
   "outputs": [
    {
     "data": {
      "text/latex": [
       "$$\\left[\\begin{matrix}\\left(2 x + 2\\right) \\left(y - 1\\right) & \\left(y - 1\\right) \\left(2 y - 2\\right)\\\\0 & - 4 y + 4\\\\\\left(2 x + 2\\right) \\left(y - 1\\right) & \\left(x + 1\\right) \\left(2 x + 2\\right)\\end{matrix}\\right]$$"
      ],
      "text/plain": [
       "⎡(2⋅x + 2)⋅(y - 1)  (y - 1)⋅(2⋅y - 2)⎤\n",
       "⎢                                    ⎥\n",
       "⎢        0              -4⋅y + 4     ⎥\n",
       "⎢                                    ⎥\n",
       "⎣(2⋅x + 2)⋅(y - 1)  (x + 1)⋅(2⋅x + 2)⎦"
      ]
     },
     "execution_count": 20,
     "metadata": {},
     "output_type": "execute_result"
    }
   ],
   "source": [
    "M.row_op(0, mache_multiplizierer(y-1))\n",
    "M.row_op(2, mache_multiplizierer(2*x+2))\n",
    "M"
   ]
  },
  {
   "cell_type": "code",
   "execution_count": 21,
   "metadata": {
    "slideshow": {
     "slide_type": "fragment"
    }
   },
   "outputs": [
    {
     "data": {
      "text/latex": [
       "$$\\left[\\begin{matrix}\\left(2 x + 2\\right) \\left(y - 1\\right) & \\left(y - 1\\right) \\left(2 y - 2\\right)\\\\0 & - 4 y + 4\\\\0 & \\left(x + 1\\right) \\left(2 x + 2\\right) - \\left(y - 1\\right) \\left(2 y - 2\\right)\\end{matrix}\\right]$$"
      ],
      "text/plain": [
       "⎡(2⋅x + 2)⋅(y - 1)            (y - 1)⋅(2⋅y - 2)          ⎤\n",
       "⎢                                                        ⎥\n",
       "⎢        0                        -4⋅y + 4               ⎥\n",
       "⎢                                                        ⎥\n",
       "⎣        0          (x + 1)⋅(2⋅x + 2) - (y - 1)⋅(2⋅y - 2)⎦"
      ]
     },
     "execution_count": 21,
     "metadata": {},
     "output_type": "execute_result"
    }
   ],
   "source": [
    "M.row_op(2, ziehe_erste_zeile_ab)\n",
    "M"
   ]
  },
  {
   "cell_type": "code",
   "execution_count": 22,
   "metadata": {
    "slideshow": {
     "slide_type": "slide"
    }
   },
   "outputs": [
    {
     "data": {
      "text/latex": [
       "$$\\left[\\begin{matrix}2 x y - 2 x + 2 y - 2 & 2 y^{2} - 4 y + 2\\\\0 & - 4 y + 4\\\\0 & 2 x^{2} + 4 x - 2 y^{2} + 4 y\\end{matrix}\\right]$$"
      ],
      "text/plain": [
       "⎡                              2               ⎤\n",
       "⎢2⋅x⋅y - 2⋅x + 2⋅y - 2      2⋅y  - 4⋅y + 2     ⎥\n",
       "⎢                                              ⎥\n",
       "⎢          0                   -4⋅y + 4        ⎥\n",
       "⎢                                              ⎥\n",
       "⎢                          2            2      ⎥\n",
       "⎣          0            2⋅x  + 4⋅x - 2⋅y  + 4⋅y⎦"
      ]
     },
     "execution_count": 22,
     "metadata": {},
     "output_type": "execute_result"
    }
   ],
   "source": [
    "M.expand()"
   ]
  },
  {
   "cell_type": "code",
   "execution_count": 23,
   "metadata": {},
   "outputs": [
    {
     "data": {
      "text/latex": [
       "$$\\left[\\begin{matrix}0 & 0\\\\0 & 0\\\\0 & \\left(x + 1\\right) \\left(2 x + 2\\right)\\end{matrix}\\right]$$"
      ],
      "text/plain": [
       "⎡0          0        ⎤\n",
       "⎢                    ⎥\n",
       "⎢0          0        ⎥\n",
       "⎢                    ⎥\n",
       "⎣0  (x + 1)⋅(2⋅x + 2)⎦"
      ]
     },
     "execution_count": 23,
     "metadata": {},
     "output_type": "execute_result"
    }
   ],
   "source": [
    "M.subs(y,1)"
   ]
  },
  {
   "cell_type": "code",
   "execution_count": 24,
   "metadata": {
    "slideshow": {
     "slide_type": "fragment"
    }
   },
   "outputs": [
    {
     "data": {
      "text/latex": [
       "$$\\left[\\begin{matrix}0 & 0\\\\0 & 0\\\\0 & 0\\end{matrix}\\right]$$"
      ],
      "text/plain": [
       "⎡0  0⎤\n",
       "⎢    ⎥\n",
       "⎢0  0⎥\n",
       "⎢    ⎥\n",
       "⎣0  0⎦"
      ]
     },
     "execution_count": 24,
     "metadata": {},
     "output_type": "execute_result"
    }
   ],
   "source": [
    "M.subs(y, 1).subs(x,-1)"
   ]
  },
  {
   "cell_type": "markdown",
   "metadata": {
    "slideshow": {
     "slide_type": "slide"
    }
   },
   "source": [
    "Diese Matrix hat nicht den Rang 2.\n",
    "\n",
    "Das heißt aber nicht viel, denn wir haben eine Zeile der Matrix mit $y-1$ und eine mit $x+1$ multipliziert."
   ]
  },
  {
   "cell_type": "code",
   "execution_count": 27,
   "metadata": {},
   "outputs": [
    {
     "data": {
      "text/latex": [
       "$$\\left[\\begin{matrix}0 & 0\\\\0 & 0\\\\0 & 0\\end{matrix}\\right]$$"
      ],
      "text/plain": [
       "⎡0  0⎤\n",
       "⎢    ⎥\n",
       "⎢0  0⎥\n",
       "⎢    ⎥\n",
       "⎣0  0⎦"
      ]
     },
     "execution_count": 27,
     "metadata": {},
     "output_type": "execute_result"
    }
   ],
   "source": [
    "M0.subs(x,-1).subs(y,1)"
   ]
  },
  {
   "cell_type": "markdown",
   "metadata": {
    "slideshow": {
     "slide_type": "fragment"
    }
   },
   "source": [
    "Kein Fehler von `sympy`:\n",
    "\n",
    "Die Matrix wird als Matrix über dem Körper der rationalen Funktionen in $x$ und $y$ verstanden.  Dort hat sie vollen Rang."
   ]
  },
  {
   "cell_type": "markdown",
   "metadata": {
    "slideshow": {
     "slide_type": "slide"
    }
   },
   "source": [
    "Normen von Vektoren und Matrizen"
   ]
  },
  {
   "cell_type": "code",
   "execution_count": 28,
   "metadata": {},
   "outputs": [],
   "source": [
    "v = Matrix([1,2,3])"
   ]
  },
  {
   "cell_type": "code",
   "execution_count": 29,
   "metadata": {},
   "outputs": [
    {
     "data": {
      "image/png": "[encoded data removed]",
      "text/latex": [
       "$$\\sqrt{14}$$"
      ],
      "text/plain": [
       "√14"
      ]
     },
     "execution_count": 29,
     "metadata": {},
     "output_type": "execute_result"
    }
   ],
   "source": [
    "v.norm()"
   ]
  },
  {
   "cell_type": "code",
   "execution_count": 30,
   "metadata": {
    "slideshow": {
     "slide_type": "fragment"
    }
   },
   "outputs": [
    {
     "data": {
      "image/png": "[encoded data removed]",
      "text/latex": [
       "$$\\sqrt{14}$$"
      ],
      "text/plain": [
       "√14"
      ]
     },
     "execution_count": 30,
     "metadata": {},
     "output_type": "execute_result"
    }
   ],
   "source": [
    "sqrt((v.T*v)[0])"
   ]
  },
  {
   "cell_type": "code",
   "execution_count": 31,
   "metadata": {
    "slideshow": {
     "slide_type": "slide"
    }
   },
   "outputs": [
    {
     "data": {
      "image/png": "[encoded data removed]",
      "text/latex": [
       "$$3$$"
      ],
      "text/plain": [
       "3"
      ]
     },
     "execution_count": 31,
     "metadata": {},
     "output_type": "execute_result"
    }
   ],
   "source": [
    "v.norm(oo)"
   ]
  },
  {
   "cell_type": "code",
   "execution_count": 32,
   "metadata": {},
   "outputs": [
    {
     "data": {
      "image/png": "[encoded data removed]",
      "text/latex": [
       "$$6$$"
      ],
      "text/plain": [
       "6"
      ]
     },
     "execution_count": 32,
     "metadata": {},
     "output_type": "execute_result"
    }
   ],
   "source": [
    "v.norm(1)"
   ]
  },
  {
   "cell_type": "code",
   "execution_count": 33,
   "metadata": {
    "slideshow": {
     "slide_type": "slide"
    }
   },
   "outputs": [],
   "source": [
    "A = Matrix(3, 3, range(1,10))"
   ]
  },
  {
   "cell_type": "code",
   "execution_count": 34,
   "metadata": {},
   "outputs": [
    {
     "data": {
      "image/png": "[encoded data removed]",
      "text/latex": [
       "$$\\sqrt{285}$$"
      ],
      "text/plain": [
       "√285"
      ]
     },
     "execution_count": 34,
     "metadata": {},
     "output_type": "execute_result"
    }
   ],
   "source": [
    "A.norm()"
   ]
  },
  {
   "cell_type": "code",
   "execution_count": 35,
   "metadata": {
    "slideshow": {
     "slide_type": "fragment"
    }
   },
   "outputs": [],
   "source": [
    "from sympy.abc import a,b,c,d"
   ]
  },
  {
   "cell_type": "code",
   "execution_count": 36,
   "metadata": {},
   "outputs": [
    {
     "data": {
      "image/png": "[encoded data removed]",
      "text/latex": [
       "$$\\sqrt{\\left|{a}\\right|^{2} + \\left|{b}\\right|^{2} + \\left|{c}\\right|^{2} + \\left|{d}\\right|^{2}}$$"
      ],
      "text/plain": [
       "   ___________________________\n",
       "  ╱    2      2      2      2 \n",
       "╲╱  │a│  + │b│  + │c│  + │d│  "
      ]
     },
     "execution_count": 36,
     "metadata": {},
     "output_type": "execute_result"
    }
   ],
   "source": [
    "Matrix(2,2,[a,b,c,d]).norm()"
   ]
  },
  {
   "cell_type": "markdown",
   "metadata": {
    "slideshow": {
     "slide_type": "fragment"
    }
   },
   "source": [
    "Die Frobeniusnorm ist submultiplikativ, also $\\Vert AB \\Vert \\le \\Vert A \\Vert \\Vert B \\Vert$, aber keine Matrixnorm (bzw. Operatornorm) im Sinne der Analysis II."
   ]
  },
  {
   "cell_type": "code",
   "execution_count": 37,
   "metadata": {
    "slideshow": {
     "slide_type": "slide"
    }
   },
   "outputs": [
    {
     "data": {
      "image/png": "[encoded data removed]",
      "text/latex": [
       "$$\\sqrt{\\frac{3 \\sqrt{8881}}{2} + \\frac{285}{2}}$$"
      ],
      "text/plain": [
       "    _______________\n",
       "   ╱ 3⋅√8881   285 \n",
       "  ╱  ─────── + ─── \n",
       "╲╱      2       2  "
      ]
     },
     "execution_count": 37,
     "metadata": {},
     "output_type": "execute_result"
    }
   ],
   "source": [
    "A.norm(2)"
   ]
  },
  {
   "cell_type": "code",
   "execution_count": 38,
   "metadata": {
    "slideshow": {
     "slide_type": "fragment"
    }
   },
   "outputs": [
    {
     "data": {
      "image/png": "[encoded data removed]",
      "text/latex": [
       "$$\\left \\{ 0 : 1, \\quad - \\frac{3 \\sqrt{8881}}{2} + \\frac{285}{2} : 1, \\quad \\frac{3 \\sqrt{8881}}{2} + \\frac{285}{2} : 1\\right \\}$$"
      ],
      "text/plain": [
       "⎧        3⋅√8881   285     3⋅√8881   285   ⎫\n",
       "⎨0: 1, - ─────── + ───: 1, ─────── + ───: 1⎬\n",
       "⎩           2       2         2       2    ⎭"
      ]
     },
     "execution_count": 38,
     "metadata": {},
     "output_type": "execute_result"
    }
   ],
   "source": [
    "(A.T*A).eigenvals()"
   ]
  },
  {
   "cell_type": "markdown",
   "metadata": {
    "slideshow": {
     "slide_type": "slide"
    }
   },
   "source": [
    "Vektoranalysis"
   ]
  },
  {
   "cell_type": "code",
   "execution_count": 39,
   "metadata": {},
   "outputs": [],
   "source": [
    "from sympy.abc import x, y, z\n",
    "xyz = [x,y,z]"
   ]
  },
  {
   "cell_type": "code",
   "execution_count": 40,
   "metadata": {
    "slideshow": {
     "slide_type": "slide"
    }
   },
   "outputs": [
    {
     "data": {
      "image/png": "[encoded data removed]",
      "text/latex": [
       "$$e^{x^{2} + 2 y^{2} + 3 z^{2}}$$"
      ],
      "text/plain": [
       "  2      2      2\n",
       " x  + 2⋅y  + 3⋅z \n",
       "ℯ                "
      ]
     },
     "execution_count": 40,
     "metadata": {},
     "output_type": "execute_result"
    }
   ],
   "source": [
    "f = exp(x*x + 2*y*y + 3*z*z)\n",
    "f"
   ]
  },
  {
   "cell_type": "code",
   "execution_count": 41,
   "metadata": {},
   "outputs": [
    {
     "data": {
      "text/latex": [
       "$$\\left[\\begin{matrix}2 x e^{x^{2} + 2 y^{2} + 3 z^{2}} & 4 y e^{x^{2} + 2 y^{2} + 3 z^{2}} & 6 z e^{x^{2} + 2 y^{2} + 3 z^{2}}\\end{matrix}\\right]$$"
      ],
      "text/plain": [
       "⎡      2      2      2        2      2      2        2      2      2⎤\n",
       "⎢     x  + 2⋅y  + 3⋅z        x  + 2⋅y  + 3⋅z        x  + 2⋅y  + 3⋅z ⎥\n",
       "⎣2⋅x⋅ℯ                  4⋅y⋅ℯ                  6⋅z⋅ℯ                ⎦"
      ]
     },
     "execution_count": 41,
     "metadata": {},
     "output_type": "execute_result"
    }
   ],
   "source": [
    "J = Matrix([f]).jacobian(xyz)\n",
    "J"
   ]
  },
  {
   "cell_type": "markdown",
   "metadata": {},
   "source": [
    "Das ist der Gradient."
   ]
  },
  {
   "cell_type": "code",
   "execution_count": 42,
   "metadata": {
    "slideshow": {
     "slide_type": "slide"
    }
   },
   "outputs": [
    {
     "data": {
      "text/latex": [
       "$$\\left[\\begin{matrix}2 x e^{x^{2} + 2 y^{2} + 3 z^{2}} & 4 y e^{x^{2} + 2 y^{2} + 3 z^{2}} & 6 z e^{x^{2} + 2 y^{2} + 3 z^{2}}\\\\4 x e^{2 x^{2} + 4 y^{2} + 6 z^{2}} & 8 y e^{2 x^{2} + 4 y^{2} + 6 z^{2}} & 12 z e^{2 x^{2} + 4 y^{2} + 6 z^{2}}\\\\6 x e^{3 x^{2} + 6 y^{2} + 9 z^{2}} & 12 y e^{3 x^{2} + 6 y^{2} + 9 z^{2}} & 18 z e^{3 x^{2} + 6 y^{2} + 9 z^{2}}\\end{matrix}\\right]$$"
      ],
      "text/plain": [
       "⎡       2      2      2          2      2      2           2      2      2  ⎤\n",
       "⎢      x  + 2⋅y  + 3⋅z          x  + 2⋅y  + 3⋅z           x  + 2⋅y  + 3⋅z   ⎥\n",
       "⎢ 2⋅x⋅ℯ                    4⋅y⋅ℯ                     6⋅z⋅ℯ                  ⎥\n",
       "⎢                                                                           ⎥\n",
       "⎢        2      2      2          2      2      2            2      2      2⎥\n",
       "⎢     2⋅x  + 4⋅y  + 6⋅z        2⋅x  + 4⋅y  + 6⋅z          2⋅x  + 4⋅y  + 6⋅z ⎥\n",
       "⎢4⋅x⋅ℯ                    8⋅y⋅ℯ                     12⋅z⋅ℯ                  ⎥\n",
       "⎢                                                                           ⎥\n",
       "⎢        2      2      2           2      2      2           2      2      2⎥\n",
       "⎢     3⋅x  + 6⋅y  + 9⋅z         3⋅x  + 6⋅y  + 9⋅z         3⋅x  + 6⋅y  + 9⋅z ⎥\n",
       "⎣6⋅x⋅ℯ                    12⋅y⋅ℯ                    18⋅z⋅ℯ                  ⎦"
      ]
     },
     "execution_count": 42,
     "metadata": {},
     "output_type": "execute_result"
    }
   ],
   "source": [
    "A = Matrix([f, f**2, f**3])\n",
    "A.jacobian(xyz)"
   ]
  },
  {
   "cell_type": "markdown",
   "metadata": {},
   "source": [
    "Jacobi-Matrix"
   ]
  },
  {
   "cell_type": "code",
   "execution_count": 43,
   "metadata": {
    "slideshow": {
     "slide_type": "slide"
    }
   },
   "outputs": [
    {
     "data": {
      "text/latex": [
       "$$\\left[\\begin{matrix}4 x^{2} e^{x^{2} + 2 y^{2} + 3 z^{2}} + 2 e^{x^{2} + 2 y^{2} + 3 z^{2}} & 8 x y e^{x^{2} + 2 y^{2} + 3 z^{2}} & 12 x z e^{x^{2} + 2 y^{2} + 3 z^{2}}\\\\8 x y e^{x^{2} + 2 y^{2} + 3 z^{2}} & 16 y^{2} e^{x^{2} + 2 y^{2} + 3 z^{2}} + 4 e^{x^{2} + 2 y^{2} + 3 z^{2}} & 24 y z e^{x^{2} + 2 y^{2} + 3 z^{2}}\\\\12 x z e^{x^{2} + 2 y^{2} + 3 z^{2}} & 24 y z e^{x^{2} + 2 y^{2} + 3 z^{2}} & 36 z^{2} e^{x^{2} + 2 y^{2} + 3 z^{2}} + 6 e^{x^{2} + 2 y^{2} + 3 z^{2}}\\end{matrix}\\right]$$"
      ],
      "text/plain": [
       "⎡       2      2      2       2      2      2                     2      2    \n",
       "⎢   2  x  + 2⋅y  + 3⋅z       x  + 2⋅y  + 3⋅z                     x  + 2⋅y  + 3\n",
       "⎢4⋅x ⋅ℯ                 + 2⋅ℯ                             8⋅x⋅y⋅ℯ             \n",
       "⎢                                                                             \n",
       "⎢                  2      2      2                     2      2      2       2\n",
       "⎢                 x  + 2⋅y  + 3⋅z                  2  x  + 2⋅y  + 3⋅z       x \n",
       "⎢          8⋅x⋅y⋅ℯ                             16⋅y ⋅ℯ                 + 4⋅ℯ  \n",
       "⎢                                                                             \n",
       "⎢                   2      2      2                               2      2    \n",
       "⎢                  x  + 2⋅y  + 3⋅z                               x  + 2⋅y  + 3\n",
       "⎣          12⋅x⋅z⋅ℯ                                      24⋅y⋅z⋅ℯ             \n",
       "\n",
       "  2                                2      2      2           ⎤\n",
       "⋅z                                x  + 2⋅y  + 3⋅z            ⎥\n",
       "                          12⋅x⋅z⋅ℯ                           ⎥\n",
       "                                                             ⎥\n",
       "      2      2                     2      2      2           ⎥\n",
       " + 2⋅y  + 3⋅z                     x  + 2⋅y  + 3⋅z            ⎥\n",
       "                          24⋅y⋅z⋅ℯ                           ⎥\n",
       "                                                             ⎥\n",
       "  2                     2      2      2       2      2      2⎥\n",
       "⋅z                  2  x  + 2⋅y  + 3⋅z       x  + 2⋅y  + 3⋅z ⎥\n",
       "                36⋅z ⋅ℯ                 + 6⋅ℯ                ⎦"
      ]
     },
     "execution_count": 43,
     "metadata": {},
     "output_type": "execute_result"
    }
   ],
   "source": [
    "H = hessian(f, xyz)\n",
    "H"
   ]
  },
  {
   "cell_type": "markdown",
   "metadata": {},
   "source": [
    "Hesse-Matrix"
   ]
  },
  {
   "cell_type": "code",
   "execution_count": 44,
   "metadata": {},
   "outputs": [
    {
     "data": {
      "text/plain": [
       "True"
      ]
     },
     "execution_count": 44,
     "metadata": {},
     "output_type": "execute_result"
    }
   ],
   "source": [
    "H == H.T"
   ]
  },
  {
   "cell_type": "code",
   "execution_count": 45,
   "metadata": {
    "slideshow": {
     "slide_type": "slide"
    }
   },
   "outputs": [
    {
     "data": {
      "text/latex": [
       "$$\\left[\\begin{matrix}\\frac{\\partial^{2}}{\\partial x^{2}} f{\\left (x,y,z \\right )} & \\frac{\\partial^{2}}{\\partial y\\partial x} f{\\left (x,y,z \\right )} & \\frac{\\partial^{2}}{\\partial z\\partial x} f{\\left (x,y,z \\right )}\\\\\\frac{\\partial^{2}}{\\partial y\\partial x} f{\\left (x,y,z \\right )} & \\frac{\\partial^{2}}{\\partial y^{2}} f{\\left (x,y,z \\right )} & \\frac{\\partial^{2}}{\\partial z\\partial y} f{\\left (x,y,z \\right )}\\\\\\frac{\\partial^{2}}{\\partial z\\partial x} f{\\left (x,y,z \\right )} & \\frac{\\partial^{2}}{\\partial z\\partial y} f{\\left (x,y,z \\right )} & \\frac{\\partial^{2}}{\\partial z^{2}} f{\\left (x,y,z \\right )}\\end{matrix}\\right]$$"
      ],
      "text/plain": [
       "⎡   2                  2                  2             ⎤\n",
       "⎢  ∂                  ∂                  ∂              ⎥\n",
       "⎢ ───(f(x, y, z))   ─────(f(x, y, z))  ─────(f(x, y, z))⎥\n",
       "⎢   2               ∂y ∂x              ∂z ∂x            ⎥\n",
       "⎢ ∂x                                                    ⎥\n",
       "⎢                                                       ⎥\n",
       "⎢   2                  2                  2             ⎥\n",
       "⎢  ∂                  ∂                  ∂              ⎥\n",
       "⎢─────(f(x, y, z))   ───(f(x, y, z))   ─────(f(x, y, z))⎥\n",
       "⎢∂y ∂x                 2               ∂z ∂y            ⎥\n",
       "⎢                    ∂y                                 ⎥\n",
       "⎢                                                       ⎥\n",
       "⎢   2                  2                  2             ⎥\n",
       "⎢  ∂                  ∂                  ∂              ⎥\n",
       "⎢─────(f(x, y, z))  ─────(f(x, y, z))   ───(f(x, y, z)) ⎥\n",
       "⎢∂z ∂x              ∂z ∂y                 2             ⎥\n",
       "⎣                                       ∂z              ⎦"
      ]
     },
     "execution_count": 45,
     "metadata": {},
     "output_type": "execute_result"
    }
   ],
   "source": [
    "f = Function('f')\n",
    "hessian(f(x,y,z), xyz)"
   ]
  },
  {
   "cell_type": "markdown",
   "metadata": {},
   "source": [
    "Definitheit"
   ]
  },
  {
   "cell_type": "code",
   "execution_count": 46,
   "metadata": {},
   "outputs": [
    {
     "data": {
      "text/latex": [
       "$$\\left[\\begin{matrix}6 e^{4} & 0 & - 12 e^{4}\\\\0 & 4 e^{4} & 0\\\\- 12 e^{4} & 0 & 42 e^{4}\\end{matrix}\\right]$$"
      ],
      "text/plain": [
       "⎡    4              4⎤\n",
       "⎢ 6⋅ℯ     0    -12⋅ℯ ⎥\n",
       "⎢                    ⎥\n",
       "⎢           4        ⎥\n",
       "⎢  0     4⋅ℯ     0   ⎥\n",
       "⎢                    ⎥\n",
       "⎢     4            4 ⎥\n",
       "⎣-12⋅ℯ    0    42⋅ℯ  ⎦"
      ]
     },
     "execution_count": 46,
     "metadata": {},
     "output_type": "execute_result"
    }
   ],
   "source": [
    "H1 = H.subs({x:1, y:0, z:-1})\n",
    "H1"
   ]
  },
  {
   "cell_type": "markdown",
   "metadata": {
    "slideshow": {
     "slide_type": "slide"
    }
   },
   "source": [
    "### Hurwitz-Kriterium\n",
    "\n",
    "Es sei $M \\in \\mathbb R^{n\\times n}$ eine symmetrische Matrix.\n",
    "\n",
    "* $M$ ist genau dann positiv definit, wenn alle Unterdeterminanten entlang der Hauptdiagonale positiv sind.\n",
    "* $M$ ist genau dann negativ definit, wenn die geraden Unterdeterminanten positiv und die ungeraden negativ sind.\n",
    "* Wenn eine gerade Unterdeterminante negativ ist, dann ist $M$ indefinit."
   ]
  },
  {
   "cell_type": "code",
   "execution_count": 47,
   "metadata": {
    "slideshow": {
     "slide_type": "slide"
    }
   },
   "outputs": [
    {
     "data": {
      "image/png": "[encoded data removed]",
      "text/latex": [
       "$$6 e^{4}$$"
      ],
      "text/plain": [
       "   4\n",
       "6⋅ℯ "
      ]
     },
     "metadata": {},
     "output_type": "display_data"
    },
    {
     "data": {
      "image/png": "[encoded data removed]",
      "text/latex": [
       "$$24 e^{8}$$"
      ],
      "text/plain": [
       "    8\n",
       "24⋅ℯ "
      ]
     },
     "metadata": {},
     "output_type": "display_data"
    },
    {
     "data": {
      "image/png": "[encoded data removed]",
      "text/latex": [
       "$$432 e^{12}$$"
      ],
      "text/plain": [
       "     12\n",
       "432⋅ℯ  "
      ]
     },
     "metadata": {},
     "output_type": "display_data"
    }
   ],
   "source": [
    "for j in range(len(H1[0,:])):\n",
    "    minor = H1[:j+1, :j+1]\n",
    "    display(minor.det())"
   ]
  },
  {
   "cell_type": "markdown",
   "metadata": {},
   "source": [
    "Also positive definit."
   ]
  },
  {
   "cell_type": "code",
   "execution_count": 48,
   "metadata": {
    "slideshow": {
     "slide_type": "slide"
    }
   },
   "outputs": [
    {
     "data": {
      "image/png": "[encoded data removed]",
      "text/latex": [
       "$$- 6 e^{4}$$"
      ],
      "text/plain": [
       "    4\n",
       "-6⋅ℯ "
      ]
     },
     "metadata": {},
     "output_type": "display_data"
    },
    {
     "data": {
      "image/png": "[encoded data removed]",
      "text/latex": [
       "$$24 e^{8}$$"
      ],
      "text/plain": [
       "    8\n",
       "24⋅ℯ "
      ]
     },
     "metadata": {},
     "output_type": "display_data"
    },
    {
     "data": {
      "image/png": "[encoded data removed]",
      "text/latex": [
       "$$- 432 e^{12}$$"
      ],
      "text/plain": [
       "      12\n",
       "-432⋅ℯ  "
      ]
     },
     "metadata": {},
     "output_type": "display_data"
    }
   ],
   "source": [
    "H2 = -H1\n",
    "for j in range(len(H2[0,:])):\n",
    "    minor = H2[:j+1, :j+1]\n",
    "    display(minor.det())"
   ]
  },
  {
   "cell_type": "markdown",
   "metadata": {},
   "source": [
    "negativ definit"
   ]
  },
  {
   "cell_type": "markdown",
   "metadata": {
    "slideshow": {
     "slide_type": "slide"
    }
   },
   "source": [
    "Wenn eine Unterdeterminante gerader Ordnung negativ ist, dann ist die Matrix indefinit.  Notwendig ist dieses Kriterium aber nicht:"
   ]
  },
  {
   "cell_type": "code",
   "execution_count": 49,
   "metadata": {},
   "outputs": [
    {
     "data": {
      "text/latex": [
       "$$\\left[\\begin{matrix}0 & 0 & 1\\\\0 & 2 & 0\\\\1 & 0 & 0\\end{matrix}\\right]$$"
      ],
      "text/plain": [
       "⎡0  0  1⎤\n",
       "⎢       ⎥\n",
       "⎢0  2  0⎥\n",
       "⎢       ⎥\n",
       "⎣1  0  0⎦"
      ]
     },
     "execution_count": 49,
     "metadata": {},
     "output_type": "execute_result"
    }
   ],
   "source": [
    "M = Matrix(3,3,[0,0,1,0,2,0,1,0,0])\n",
    "M"
   ]
  },
  {
   "cell_type": "code",
   "execution_count": 50,
   "metadata": {},
   "outputs": [
    {
     "data": {
      "image/png": "[encoded data removed]",
      "text/latex": [
       "$$0$$"
      ],
      "text/plain": [
       "0"
      ]
     },
     "metadata": {},
     "output_type": "display_data"
    },
    {
     "data": {
      "image/png": "[encoded data removed]",
      "text/latex": [
       "$$0$$"
      ],
      "text/plain": [
       "0"
      ]
     },
     "metadata": {},
     "output_type": "display_data"
    },
    {
     "data": {
      "image/png": "[encoded data removed]",
      "text/latex": [
       "$$-2$$"
      ],
      "text/plain": [
       "-2"
      ]
     },
     "metadata": {},
     "output_type": "display_data"
    }
   ],
   "source": [
    "for j in range(len(M[0,:])):\n",
    "    minor = M[:j+1, :j+1]\n",
    "    display(minor.det())"
   ]
  },
  {
   "cell_type": "code",
   "execution_count": 51,
   "metadata": {
    "slideshow": {
     "slide_type": "slide"
    }
   },
   "outputs": [
    {
     "data": {
      "image/png": "[encoded data removed]",
      "text/latex": [
       "$$\\left \\{ -1 : 1, \\quad 1 : 1, \\quad 2 : 1\\right \\}$$"
      ],
      "text/plain": [
       "{-1: 1, 1: 1, 2: 1}"
      ]
     },
     "execution_count": 51,
     "metadata": {},
     "output_type": "execute_result"
    }
   ],
   "source": [
    "M.eigenvals()"
   ]
  },
  {
   "cell_type": "markdown",
   "metadata": {},
   "source": [
    "also indefinit"
   ]
  },
  {
   "cell_type": "markdown",
   "metadata": {
    "slideshow": {
     "slide_type": "slide"
    }
   },
   "source": [
    "Extremwerte in mehreren Veränderlichen"
   ]
  },
  {
   "cell_type": "code",
   "execution_count": 52,
   "metadata": {},
   "outputs": [],
   "source": [
    "import numpy as np\n",
    "%matplotlib qt\n",
    "import matplotlib.pyplot as plt\n",
    "from mpl_toolkits.mplot3d import Axes3D"
   ]
  },
  {
   "cell_type": "code",
   "execution_count": 53,
   "metadata": {
    "slideshow": {
     "slide_type": "fragment"
    }
   },
   "outputs": [
    {
     "data": {
      "image/png": "[encoded data removed]",
      "text/latex": [
       "$$- \\frac{x^{4}}{2} + x^{3} - x^{2} y^{2} - 3 x y^{2} - \\frac{y^{4}}{2}$$"
      ],
      "text/plain": [
       "   4                          4\n",
       "  x     3    2  2        2   y \n",
       "- ── + x  - x ⋅y  - 3⋅x⋅y  - ──\n",
       "  2                          2 "
      ]
     },
     "execution_count": 53,
     "metadata": {},
     "output_type": "execute_result"
    }
   ],
   "source": [
    "f = -x**4/2 - x**2*y**2 - y**4/2 + x**3 - 3*x*y**2\n",
    "f"
   ]
  },
  {
   "cell_type": "code",
   "execution_count": 54,
   "metadata": {
    "slideshow": {
     "slide_type": "slide"
    }
   },
   "outputs": [],
   "source": [
    "fn = lambdify((x,y), f)\n",
    "xn = np.linspace(-5, 5)\n",
    "yn = np.linspace(-5, 5)\n",
    "X, Y = np.meshgrid(xn, yn)\n",
    "W = fn(X, Y)"
   ]
  },
  {
   "cell_type": "code",
   "execution_count": 55,
   "metadata": {},
   "outputs": [
    {
     "data": {
      "text/plain": [
       "<mpl_toolkits.mplot3d.art3d.Poly3DCollection at 0x7f37d3ae16d8>"
      ]
     },
     "execution_count": 55,
     "metadata": {},
     "output_type": "execute_result"
    }
   ],
   "source": [
    "fig = plt.figure()\n",
    "ax = fig.add_subplot(111, projection='3d')\n",
    "ax.plot_surface(X, Y, W, cmap=plt.cm.viridis)"
   ]
  },
  {
   "cell_type": "markdown",
   "metadata": {
    "slideshow": {
     "slide_type": "slide"
    }
   },
   "source": [
    "Bestimme kritische Punkte"
   ]
  },
  {
   "cell_type": "code",
   "execution_count": 56,
   "metadata": {},
   "outputs": [
    {
     "data": {
      "image/png": "[encoded data removed]",
      "text/latex": [
       "$$\\left\\{- 2 x^{2} y - 6 x y - 2 y^{3} = 0, - 2 x^{3} + 3 x^{2} - 2 x y^{2} - 3 y^{2} = 0\\right\\}$$"
      ],
      "text/plain": [
       "⎧     2                3           3      2        2      2    ⎫\n",
       "⎨- 2⋅x ⋅y - 6⋅x⋅y - 2⋅y  = 0, - 2⋅x  + 3⋅x  - 2⋅x⋅y  - 3⋅y  = 0⎬\n",
       "⎩                                                              ⎭"
      ]
     },
     "execution_count": 56,
     "metadata": {},
     "output_type": "execute_result"
    }
   ],
   "source": [
    "glg1 = Eq(f.diff(x), 0)\n",
    "glg2 = Eq(f.diff(y), 0)\n",
    "gls = {glg1, glg2}\n",
    "gls"
   ]
  },
  {
   "cell_type": "code",
   "execution_count": 57,
   "metadata": {
    "slideshow": {
     "slide_type": "fragment"
    }
   },
   "outputs": [
    {
     "data": {
      "image/png": "[encoded data removed]",
      "text/latex": [
       "$$\\left [ \\left \\{ x : - \\frac{3}{4}, \\quad y : - \\frac{3 \\sqrt{3}}{4}\\right \\}, \\quad \\left \\{ x : - \\frac{3}{4}, \\quad y : \\frac{3 \\sqrt{3}}{4}\\right \\}, \\quad \\left \\{ x : 0, \\quad y : 0\\right \\}, \\quad \\left \\{ x : \\frac{3}{2}, \\quad y : 0\\right \\}\\right ]$$"
      ],
      "text/plain": [
       "⎡⎧            -3⋅√3 ⎫  ⎧            3⋅√3⎫                              ⎤\n",
       "⎢⎨x: -3/4, y: ──────⎬, ⎨x: -3/4, y: ────⎬, {x: 0, y: 0}, {x: 3/2, y: 0}⎥\n",
       "⎣⎩              4   ⎭  ⎩             4  ⎭                              ⎦"
      ]
     },
     "execution_count": 57,
     "metadata": {},
     "output_type": "execute_result"
    }
   ],
   "source": [
    "lsg = solve(gls)\n",
    "lsg"
   ]
  },
  {
   "cell_type": "code",
   "execution_count": 58,
   "metadata": {
    "slideshow": {
     "slide_type": "slide"
    }
   },
   "outputs": [
    {
     "data": {
      "text/latex": [
       "$$\\left[\\begin{matrix}- 6 x^{2} + 6 x - 2 y^{2} & - 4 x y - 6 y\\\\- 4 x y - 6 y & - 2 x^{2} - 6 x - 6 y^{2}\\end{matrix}\\right]$$"
      ],
      "text/plain": [
       "⎡     2            2                     ⎤\n",
       "⎢- 6⋅x  + 6⋅x - 2⋅y      -4⋅x⋅y - 6⋅y    ⎥\n",
       "⎢                                        ⎥\n",
       "⎢                          2            2⎥\n",
       "⎣   -4⋅x⋅y - 6⋅y      - 2⋅x  - 6⋅x - 6⋅y ⎦"
      ]
     },
     "execution_count": 58,
     "metadata": {},
     "output_type": "execute_result"
    }
   ],
   "source": [
    "H = hessian(f, [x,y])\n",
    "H"
   ]
  },
  {
   "cell_type": "code",
   "execution_count": 60,
   "metadata": {},
   "outputs": [
    {
     "data": {
      "text/latex": [
       "$$\\left[\\begin{matrix}- \\frac{45}{4} & \\frac{9 \\sqrt{3}}{4}\\\\\\frac{9 \\sqrt{3}}{4} & - \\frac{27}{4}\\end{matrix}\\right]$$"
      ],
      "text/plain": [
       "⎡       9⋅√3 ⎤\n",
       "⎢-45/4  ──── ⎥\n",
       "⎢        4   ⎥\n",
       "⎢            ⎥\n",
       "⎢9⋅√3        ⎥\n",
       "⎢────   -27/4⎥\n",
       "⎣ 4          ⎦"
      ]
     },
     "execution_count": 60,
     "metadata": {},
     "output_type": "execute_result"
    }
   ],
   "source": [
    "H1 = H.subs(lsg[0])\n",
    "H1"
   ]
  },
  {
   "cell_type": "code",
   "execution_count": 61,
   "metadata": {
    "slideshow": {
     "slide_type": "fragment"
    }
   },
   "outputs": [
    {
     "data": {
      "image/png": "[encoded data removed]",
      "text/latex": [
       "$$\\frac{243}{4}$$"
      ],
      "text/plain": [
       "243/4"
      ]
     },
     "execution_count": 61,
     "metadata": {},
     "output_type": "execute_result"
    }
   ],
   "source": [
    "H1.det()"
   ]
  },
  {
   "cell_type": "markdown",
   "metadata": {},
   "source": [
    "Da $H^1_{1,1} < 0$, ist $H^1$ negativ definit $\\Rightarrow$ striktes lokales Maximum in $(-\\frac34, -\\frac34\\sqrt3)$."
   ]
  },
  {
   "cell_type": "code",
   "execution_count": 62,
   "metadata": {
    "slideshow": {
     "slide_type": "slide"
    }
   },
   "outputs": [
    {
     "data": {
      "text/latex": [
       "$$\\left[\\begin{matrix}- \\frac{45}{4} & - \\frac{9 \\sqrt{3}}{4}\\\\- \\frac{9 \\sqrt{3}}{4} & - \\frac{27}{4}\\end{matrix}\\right]$$"
      ],
      "text/plain": [
       "⎡        -9⋅√3 ⎤\n",
       "⎢-45/4   ──────⎥\n",
       "⎢          4   ⎥\n",
       "⎢              ⎥\n",
       "⎢-9⋅√3         ⎥\n",
       "⎢──────  -27/4 ⎥\n",
       "⎣  4           ⎦"
      ]
     },
     "execution_count": 62,
     "metadata": {},
     "output_type": "execute_result"
    }
   ],
   "source": [
    "H2 = H.subs(lsg[1])\n",
    "H2"
   ]
  },
  {
   "cell_type": "code",
   "execution_count": 63,
   "metadata": {},
   "outputs": [
    {
     "data": {
      "image/png": "[encoded data removed]",
      "text/latex": [
       "$$\\frac{243}{4}$$"
      ],
      "text/plain": [
       "243/4"
      ]
     },
     "execution_count": 63,
     "metadata": {},
     "output_type": "execute_result"
    }
   ],
   "source": [
    "H2.det()"
   ]
  },
  {
   "cell_type": "markdown",
   "metadata": {},
   "source": [
    "Dito"
   ]
  },
  {
   "cell_type": "code",
   "execution_count": 64,
   "metadata": {
    "slideshow": {
     "slide_type": "slide"
    }
   },
   "outputs": [
    {
     "data": {
      "text/latex": [
       "$$\\left[\\begin{matrix}0 & 0\\\\0 & 0\\end{matrix}\\right]$$"
      ],
      "text/plain": [
       "⎡0  0⎤\n",
       "⎢    ⎥\n",
       "⎣0  0⎦"
      ]
     },
     "execution_count": 64,
     "metadata": {},
     "output_type": "execute_result"
    }
   ],
   "source": [
    "H3 = H.subs(lsg[2])\n",
    "H3"
   ]
  },
  {
   "cell_type": "markdown",
   "metadata": {},
   "source": [
    "Müssen wir vertagen."
   ]
  },
  {
   "cell_type": "code",
   "execution_count": 65,
   "metadata": {
    "slideshow": {
     "slide_type": "slide"
    }
   },
   "outputs": [
    {
     "data": {
      "text/latex": [
       "$$\\left[\\begin{matrix}- \\frac{9}{2} & 0\\\\0 & - \\frac{27}{2}\\end{matrix}\\right]$$"
      ],
      "text/plain": [
       "⎡-9/2    0  ⎤\n",
       "⎢           ⎥\n",
       "⎣ 0    -27/2⎦"
      ]
     },
     "execution_count": 65,
     "metadata": {},
     "output_type": "execute_result"
    }
   ],
   "source": [
    "H4 = H.subs(lsg[3])\n",
    "H4"
   ]
  },
  {
   "cell_type": "markdown",
   "metadata": {},
   "source": [
    "Hier kann man die Eigenwerte direkt ablesen.\n",
    "\n",
    "$f$ besitzt also (mindestens) drei Maximalstellen.  Wir brauchen die numerischen Werte für den Plot."
   ]
  },
  {
   "cell_type": "code",
   "execution_count": 66,
   "metadata": {
    "slideshow": {
     "slide_type": "slide"
    }
   },
   "outputs": [
    {
     "data": {
      "image/png": "[encoded data removed]",
      "text/latex": [
       "$$\\left [ -0.75, \\quad -1.29903810567666, \\quad 0.84375\\right ]$$"
      ],
      "text/plain": [
       "[-0.75, -1.29903810567666, 0.84375]"
      ]
     },
     "metadata": {},
     "output_type": "display_data"
    },
    {
     "data": {
      "image/png": "[encoded data removed]",
      "text/latex": [
       "$$\\left [ -0.75, \\quad 1.29903810567666, \\quad 0.84375\\right ]$$"
      ],
      "text/plain": [
       "[-0.75, 1.29903810567666, 0.84375]"
      ]
     },
     "metadata": {},
     "output_type": "display_data"
    },
    {
     "data": {
      "image/png": "[encoded data removed]",
      "text/latex": [
       "$$\\left [ 0, \\quad 0, \\quad 0\\right ]$$"
      ],
      "text/plain": [
       "[0, 0, 0]"
      ]
     },
     "metadata": {},
     "output_type": "display_data"
    },
    {
     "data": {
      "image/png": "[encoded data removed]",
      "text/latex": [
       "$$\\left [ 1.5, \\quad 0, \\quad 0.84375\\right ]$$"
      ],
      "text/plain": [
       "[1.5, 0, 0.84375]"
      ]
     },
     "metadata": {},
     "output_type": "display_data"
    }
   ],
   "source": [
    "for l in lsg:\n",
    "    xx = x.subs(l)\n",
    "    yy = y.subs(l)\n",
    "    zz = f.subs(l)\n",
    "    display([xx.n(), yy.n(), zz.n()])"
   ]
  },
  {
   "cell_type": "code",
   "execution_count": 67,
   "metadata": {
    "slideshow": {
     "slide_type": "slide"
    }
   },
   "outputs": [],
   "source": [
    "from matplotlib.colors import Normalize\n",
    "unten = -.2\n",
    "oben = 1\n",
    "norm = Normalize(unten, oben)"
   ]
  },
  {
   "cell_type": "code",
   "execution_count": 68,
   "metadata": {},
   "outputs": [],
   "source": [
    "fig = plt.figure()\n",
    "ax = fig.add_subplot(111, projection='3d')\n",
    "ax.plot_surface(X, Y, W, cmap=plt.cm.viridis, norm=norm);"
   ]
  },
  {
   "cell_type": "code",
   "execution_count": 69,
   "metadata": {},
   "outputs": [],
   "source": [
    "xn = np.linspace(-1.5, 2, 100)\n",
    "yn = np.linspace(-2, 2, 100)\n",
    "X, Y = np.meshgrid(xn, yn)\n",
    "W = fn(X, Y)\n",
    "fig = plt.figure()\n",
    "ax = fig.add_subplot(111, projection='3d')\n",
    "levels = np.linspace(unten, oben, 200) \n",
    "ax.contour(X, Y, W, levels=levels)\n",
    "ax.set_zlim3d(bottom=unten, top=oben);"
   ]
  },
  {
   "cell_type": "code",
   "execution_count": 70,
   "metadata": {
    "slideshow": {
     "slide_type": "slide"
    }
   },
   "outputs": [],
   "source": [
    "fig = plt.figure()\n",
    "ax = fig.add_subplot(111, projection='3d')\n",
    "l1 = np.linspace(unten, -.0201, 100)\n",
    "l2 = np.linspace(-.02, .02, 300)\n",
    "l3 = np.linspace(.0201, oben, 100)\n",
    "levels = np.concatenate([l1, l2, l3])\n",
    "ax.contour(X, Y, W, levels=levels)\n",
    "ax.set_zlim3d(bottom=unten, top=oben);"
   ]
  },
  {
   "cell_type": "code",
   "execution_count": 71,
   "metadata": {
    "slideshow": {
     "slide_type": "slide"
    }
   },
   "outputs": [
    {
     "data": {
      "image/png": "[encoded data removed]",
      "text/latex": [
       "$$- \\frac{y^{4}}{2}$$"
      ],
      "text/plain": [
       "  4 \n",
       "-y  \n",
       "────\n",
       " 2  "
      ]
     },
     "execution_count": 71,
     "metadata": {},
     "output_type": "execute_result"
    }
   ],
   "source": [
    "f.subs(x,0)"
   ]
  },
  {
   "cell_type": "code",
   "execution_count": 72,
   "metadata": {},
   "outputs": [
    {
     "data": {
      "image/png": "[encoded data removed]",
      "text/latex": [
       "$$- \\frac{x^{4}}{2} + x^{3}$$"
      ],
      "text/plain": [
       "   4     \n",
       "  x     3\n",
       "- ── + x \n",
       "  2      "
      ]
     },
     "execution_count": 72,
     "metadata": {},
     "output_type": "execute_result"
    }
   ],
   "source": [
    "f.subs(y,0)"
   ]
  },
  {
   "cell_type": "markdown",
   "metadata": {},
   "source": [
    "Also Sattel in $(0,0)$"
   ]
  }
 ],
 "metadata": {
  "celltoolbar": "Slideshow",
  "kernelspec": {
   "display_name": "Python 3",
   "language": "python",
   "name": "python3"
  },
  "language_info": {
   "codemirror_mode": {
    "name": "ipython",
    "version": 3
   },
   "file_extension": ".py",
   "mimetype": "text/x-python",
   "name": "python",
   "nbconvert_exporter": "python",
   "pygments_lexer": "ipython3",
   "version": "3.7.0"
  }
 },
 "nbformat": 4,
 "nbformat_minor": 2
}
