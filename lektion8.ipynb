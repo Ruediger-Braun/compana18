{
 "cells": [
  {
   "cell_type": "markdown",
   "metadata": {
    "slideshow": {
     "slide_type": "slide"
    }
   },
   "source": [
    "# Computergestützte Mathematik zur Analysis\n",
    "\n",
    "## Lektion 8\n",
    "\n",
    "Rüdiger W. Braun, 06.12.2018"
   ]
  },
  {
   "cell_type": "code",
   "execution_count": 1,
   "metadata": {
    "slideshow": {
     "slide_type": "slide"
    }
   },
   "outputs": [],
   "source": [
    "from sympy import *\n",
    "init_printing()\n",
    "import numpy as np\n",
    "%matplotlib qt\n",
    "import matplotlib.pyplot as plt"
   ]
  },
  {
   "cell_type": "markdown",
   "metadata": {
    "slideshow": {
     "slide_type": "slide"
    }
   },
   "source": [
    "Summen und Reihen"
   ]
  },
  {
   "cell_type": "code",
   "execution_count": 2,
   "metadata": {},
   "outputs": [
    {
     "data": {
      "image/png": "[encoded data removed]",
      "text/latex": [
       "$$\\sum_{j=1}^{n} j$$"
      ],
      "text/plain": [
       "  n    \n",
       " ___   \n",
       " ╲     \n",
       "  ╲   j\n",
       "  ╱    \n",
       " ╱     \n",
       " ‾‾‾   \n",
       "j = 1  "
      ]
     },
     "execution_count": 2,
     "metadata": {},
     "output_type": "execute_result"
    }
   ],
   "source": [
    "j = Symbol('j')\n",
    "n = Symbol('n')\n",
    "S1 = Sum(j, (j, 1, n))\n",
    "S1"
   ]
  },
  {
   "cell_type": "code",
   "execution_count": 3,
   "metadata": {
    "slideshow": {
     "slide_type": "fragment"
    }
   },
   "outputs": [
    {
     "data": {
      "image/png": "[encoded data removed]",
      "text/latex": [
       "$$\\frac{n^{2}}{2} + \\frac{n}{2}$$"
      ],
      "text/plain": [
       " 2    \n",
       "n    n\n",
       "── + ─\n",
       "2    2"
      ]
     },
     "execution_count": 3,
     "metadata": {},
     "output_type": "execute_result"
    }
   ],
   "source": [
    "S1.doit()"
   ]
  },
  {
   "cell_type": "code",
   "execution_count": 4,
   "metadata": {
    "slideshow": {
     "slide_type": "slide"
    }
   },
   "outputs": [
    {
     "data": {
      "image/png": "[encoded data removed]",
      "text/latex": [
       "$$\\frac{n^{5}}{5} + \\frac{n^{4}}{2} + \\frac{n^{3}}{3} - \\frac{n}{30}$$"
      ],
      "text/plain": [
       " 5    4    3     \n",
       "n    n    n    n \n",
       "── + ── + ── - ──\n",
       "5    2    3    30"
      ]
     },
     "execution_count": 4,
     "metadata": {},
     "output_type": "execute_result"
    }
   ],
   "source": [
    "S2 = Sum(j**4, (j, 1, n))\n",
    "S2.doit()"
   ]
  },
  {
   "cell_type": "code",
   "execution_count": 6,
   "metadata": {},
   "outputs": [
    {
     "data": {
      "image/png": "[encoded data removed]",
      "text/latex": [
       "$$\\sum_{j=1}^{n} \\frac{1}{j^{2}}$$"
      ],
      "text/plain": [
       "  n     \n",
       " ____   \n",
       " ╲      \n",
       "  ╲   1 \n",
       "   ╲  ──\n",
       "   ╱   2\n",
       "  ╱   j \n",
       " ╱      \n",
       " ‾‾‾‾   \n",
       "j = 1   "
      ]
     },
     "execution_count": 6,
     "metadata": {},
     "output_type": "execute_result"
    }
   ],
   "source": [
    "S3"
   ]
  },
  {
   "cell_type": "code",
   "execution_count": 5,
   "metadata": {
    "slideshow": {
     "slide_type": "fragment"
    }
   },
   "outputs": [
    {
     "data": {
      "image/png": "[encoded data removed]",
      "text/latex": [
       "$$\\operatorname{harmonic}{\\left (n,2 \\right )}$$"
      ],
      "text/plain": [
       "harmonic(n, 2)"
      ]
     },
     "execution_count": 5,
     "metadata": {},
     "output_type": "execute_result"
    }
   ],
   "source": [
    "S3 = Sum(1/j**2, (j, 1, n))\n",
    "S3.doit()"
   ]
  },
  {
   "cell_type": "code",
   "execution_count": 7,
   "metadata": {
    "slideshow": {
     "slide_type": "slide"
    }
   },
   "outputs": [
    {
     "data": {
      "image/png": "[encoded data removed]",
      "text/latex": [
       "$$\\frac{\\pi^{2}}{6}$$"
      ],
      "text/plain": [
       " 2\n",
       "π \n",
       "──\n",
       "6 "
      ]
     },
     "execution_count": 7,
     "metadata": {},
     "output_type": "execute_result"
    }
   ],
   "source": [
    "S4 = Sum(1/j**2, (j,1,oo))\n",
    "S4.doit()"
   ]
  },
  {
   "cell_type": "code",
   "execution_count": 8,
   "metadata": {
    "slideshow": {
     "slide_type": "fragment"
    }
   },
   "outputs": [
    {
     "data": {
      "text/latex": [
       "$$\\begin{cases} \\zeta\\left(n\\right) & \\text{for}\\: n > 1 \\\\\\sum_{j=1}^{\\infty} j^{- n} & \\text{otherwise} \\end{cases}$$"
      ],
      "text/plain": [
       "⎧  ζ(n)     for n > 1\n",
       "⎪                    \n",
       "⎪  ∞                 \n",
       "⎪ ___                \n",
       "⎪ ╲                  \n",
       "⎨  ╲    -n           \n",
       "⎪  ╱   j    otherwise\n",
       "⎪ ╱                  \n",
       "⎪ ‾‾‾                \n",
       "⎪j = 1               \n",
       "⎩                    "
      ]
     },
     "execution_count": 8,
     "metadata": {},
     "output_type": "execute_result"
    }
   ],
   "source": [
    "S5 = Sum(1/j**n, (j,1,oo))\n",
    "S5.doit()"
   ]
  },
  {
   "cell_type": "markdown",
   "metadata": {
    "slideshow": {
     "slide_type": "slide"
    }
   },
   "source": [
    "`sympy` rechnet komplex"
   ]
  },
  {
   "cell_type": "code",
   "execution_count": 10,
   "metadata": {},
   "outputs": [],
   "source": [
    "x = Symbol('x')\n",
    "y = Symbol('y')\n",
    "z = x + I*y"
   ]
  },
  {
   "cell_type": "code",
   "execution_count": 12,
   "metadata": {
    "slideshow": {
     "slide_type": "slide"
    }
   },
   "outputs": [
    {
     "data": {
      "image/png": "[encoded data removed]",
      "text/latex": [
       "$$-1$$"
      ],
      "text/plain": [
       "-1"
      ]
     },
     "execution_count": 12,
     "metadata": {},
     "output_type": "execute_result"
    }
   ],
   "source": [
    "I**2"
   ]
  },
  {
   "cell_type": "code",
   "execution_count": 11,
   "metadata": {},
   "outputs": [
    {
     "data": {
      "image/png": "[encoded data removed]",
      "text/latex": [
       "$$\\left(\\Re{\\left(x\\right)}\\right)^{4} - 4 \\left(\\Re{\\left(x\\right)}\\right)^{3} \\Im{y} - 6 \\left(\\Re{\\left(x\\right)}\\right)^{2} \\left(\\Re{\\left(y\\right)}\\right)^{2} - 12 \\left(\\Re{\\left(x\\right)}\\right)^{2} \\Re{\\left(y\\right)} \\Im{x} - 6 \\left(\\Re{\\left(x\\right)}\\right)^{2} \\left(\\Im{x}\\right)^{2} + 6 \\left(\\Re{\\left(x\\right)}\\right)^{2} \\left(\\Im{y}\\right)^{2} + 12 \\Re{\\left(x\\right)} \\left(\\Re{\\left(y\\right)}\\right)^{2} \\Im{y} + 24 \\Re{\\left(x\\right)} \\Re{\\left(y\\right)} \\Im{x} \\Im{y} + 12 \\Re{\\left(x\\right)} \\left(\\Im{x}\\right)^{2} \\Im{y} - 4 \\Re{\\left(x\\right)} \\left(\\Im{y}\\right)^{3} + \\left(\\Re{\\left(y\\right)}\\right)^{4} + 4 \\left(\\Re{\\left(y\\right)}\\right)^{3} \\Im{x} + 6 \\left(\\Re{\\left(y\\right)}\\right)^{2} \\left(\\Im{x}\\right)^{2} - 6 \\left(\\Re{\\left(y\\right)}\\right)^{2} \\left(\\Im{y}\\right)^{2} + 4 \\Re{\\left(y\\right)} \\left(\\Im{x}\\right)^{3} - 12 \\Re{\\left(y\\right)} \\Im{x} \\left(\\Im{y}\\right)^{2} + \\left(\\Im{x}\\right)^{4} - 6 \\left(\\Im{x}\\right)^{2} \\left(\\Im{y}\\right)^{2} + \\left(\\Im{y}\\right)^{4}$$"
      ],
      "text/plain": [
       "  4          3                2      2           2                      2     \n",
       "re (x) - 4⋅re (x)⋅im(y) - 6⋅re (x)⋅re (y) - 12⋅re (x)⋅re(y)⋅im(x) - 6⋅re (x)⋅i\n",
       "\n",
       " 2          2      2                 2                                        \n",
       "m (x) + 6⋅re (x)⋅im (y) + 12⋅re(x)⋅re (y)⋅im(y) + 24⋅re(x)⋅re(y)⋅im(x)⋅im(y) +\n",
       "\n",
       "            2                      3        4          3                2     \n",
       " 12⋅re(x)⋅im (x)⋅im(y) - 4⋅re(x)⋅im (y) + re (y) + 4⋅re (y)⋅im(x) + 6⋅re (y)⋅i\n",
       "\n",
       " 2          2      2                3                       2        4        \n",
       "m (x) - 6⋅re (y)⋅im (y) + 4⋅re(y)⋅im (x) - 12⋅re(y)⋅im(x)⋅im (y) + im (x) - 6⋅\n",
       "\n",
       "  2      2        4   \n",
       "im (x)⋅im (y) + im (y)"
      ]
     },
     "execution_count": 11,
     "metadata": {},
     "output_type": "execute_result"
    }
   ],
   "source": [
    "re(z**4).expand()"
   ]
  },
  {
   "cell_type": "code",
   "execution_count": 13,
   "metadata": {
    "slideshow": {
     "slide_type": "slide"
    }
   },
   "outputs": [],
   "source": [
    "x = Symbol('x', real=True)\n",
    "y = Symbol('y', real=True)\n",
    "z = x + I*y"
   ]
  },
  {
   "cell_type": "code",
   "execution_count": 15,
   "metadata": {},
   "outputs": [
    {
     "data": {
      "image/png": "[encoded data removed]",
      "text/latex": [
       "$$x^{4} - 6 x^{2} y^{2} + y^{4}$$"
      ],
      "text/plain": [
       " 4      2  2    4\n",
       "x  - 6⋅x ⋅y  + y "
      ]
     },
     "execution_count": 15,
     "metadata": {},
     "output_type": "execute_result"
    }
   ],
   "source": [
    "re(z**4).expand()"
   ]
  },
  {
   "cell_type": "code",
   "execution_count": 16,
   "metadata": {
    "slideshow": {
     "slide_type": "fragment"
    }
   },
   "outputs": [
    {
     "data": {
      "image/png": "[encoded data removed]",
      "text/latex": [
       "$$x^{4} - 6 x^{2} y^{2} + y^{4} + i \\left(4 x^{3} y - 4 x y^{3}\\right)$$"
      ],
      "text/plain": [
       " 4      2  2    4     ⎛   3          3⎞\n",
       "x  - 6⋅x ⋅y  + y  + ⅈ⋅⎝4⋅x ⋅y - 4⋅x⋅y ⎠"
      ]
     },
     "execution_count": 16,
     "metadata": {},
     "output_type": "execute_result"
    }
   ],
   "source": [
    "(z**4).expand().collect(I)"
   ]
  },
  {
   "cell_type": "markdown",
   "metadata": {
    "slideshow": {
     "slide_type": "slide"
    }
   },
   "source": [
    "Lösen von Gleichungen"
   ]
  },
  {
   "cell_type": "code",
   "execution_count": 17,
   "metadata": {},
   "outputs": [],
   "source": [
    "x = Symbol('x')\n",
    "y = Symbol('y')"
   ]
  },
  {
   "cell_type": "code",
   "execution_count": 20,
   "metadata": {},
   "outputs": [
    {
     "data": {
      "text/plain": [
       "False"
      ]
     },
     "execution_count": 20,
     "metadata": {},
     "output_type": "execute_result"
    }
   ],
   "source": [
    "Glg = (x-1)**2 == 4  # syntaktisch richtig, \n",
    "Glg                  # aber sinnlos"
   ]
  },
  {
   "cell_type": "code",
   "execution_count": 21,
   "metadata": {
    "slideshow": {
     "slide_type": "fragment"
    }
   },
   "outputs": [
    {
     "data": {
      "image/png": "[encoded data removed]",
      "text/latex": [
       "$$\\left(x - 1\\right)^{2} = 4$$"
      ],
      "text/plain": [
       "       2    \n",
       "(x - 1)  = 4"
      ]
     },
     "execution_count": 21,
     "metadata": {},
     "output_type": "execute_result"
    }
   ],
   "source": [
    "Glg = Eq((x-1)**2, 4)\n",
    "Glg"
   ]
  },
  {
   "cell_type": "code",
   "execution_count": 22,
   "metadata": {
    "slideshow": {
     "slide_type": "fragment"
    }
   },
   "outputs": [
    {
     "data": {
      "image/png": "[encoded data removed]",
      "text/latex": [
       "$$\\left ( \\left(x - 1\\right)^{2}, \\quad 4\\right )$$"
      ],
      "text/plain": [
       "⎛       2   ⎞\n",
       "⎝(x - 1) , 4⎠"
      ]
     },
     "execution_count": 22,
     "metadata": {},
     "output_type": "execute_result"
    }
   ],
   "source": [
    "Glg.lhs, Glg.rhs"
   ]
  },
  {
   "cell_type": "code",
   "execution_count": 23,
   "metadata": {
    "slideshow": {
     "slide_type": "slide"
    }
   },
   "outputs": [
    {
     "data": {
      "image/png": "[encoded data removed]",
      "text/latex": [
       "$$\\left\\{-1, 3\\right\\}$$"
      ],
      "text/plain": [
       "{-1, 3}"
      ]
     },
     "execution_count": 23,
     "metadata": {},
     "output_type": "execute_result"
    }
   ],
   "source": [
    "Lsg = solveset(Glg)\n",
    "Lsg"
   ]
  },
  {
   "cell_type": "markdown",
   "metadata": {
    "slideshow": {
     "slide_type": "fragment"
    }
   },
   "source": [
    "Probe"
   ]
  },
  {
   "cell_type": "code",
   "execution_count": 24,
   "metadata": {},
   "outputs": [
    {
     "data": {
      "image/png": "[encoded data removed]",
      "text/latex": [
       "$$\\mathrm{True}$$"
      ],
      "text/plain": [
       "True"
      ]
     },
     "metadata": {},
     "output_type": "display_data"
    },
    {
     "data": {
      "image/png": "[encoded data removed]",
      "text/latex": [
       "$$\\mathrm{True}$$"
      ],
      "text/plain": [
       "True"
      ]
     },
     "metadata": {},
     "output_type": "display_data"
    }
   ],
   "source": [
    "for l in Lsg:\n",
    "    display(Glg.subs(x,l))"
   ]
  },
  {
   "cell_type": "code",
   "execution_count": 25,
   "metadata": {
    "slideshow": {
     "slide_type": "slide"
    }
   },
   "outputs": [
    {
     "data": {
      "image/png": "[encoded data removed]",
      "text/latex": [
       "$$\\sin{\\left (\\frac{x}{2} \\right )} = \\cos{\\left (\\frac{x}{2} \\right )}$$"
      ],
      "text/plain": [
       "   ⎛x⎞      ⎛x⎞\n",
       "sin⎜─⎟ = cos⎜─⎟\n",
       "   ⎝2⎠      ⎝2⎠"
      ]
     },
     "execution_count": 25,
     "metadata": {},
     "output_type": "execute_result"
    }
   ],
   "source": [
    "glg = Eq(sin(x/2), cos(x/2))\n",
    "glg"
   ]
  },
  {
   "cell_type": "code",
   "execution_count": 26,
   "metadata": {},
   "outputs": [
    {
     "data": {
      "image/png": "[encoded data removed]",
      "text/latex": [
       "$$\\left\\{4 n \\pi + \\frac{\\pi}{2}\\; |\\; n \\in \\mathbb{Z}\\right\\} \\cup \\left\\{4 n \\pi + \\frac{5 \\pi}{2}\\; |\\; n \\in \\mathbb{Z}\\right\\}$$"
      ],
      "text/plain": [
       "⎧        π        ⎫   ⎧        5⋅π        ⎫\n",
       "⎨4⋅n⋅π + ─ | n ∊ ℤ⎬ ∪ ⎨4⋅n⋅π + ─── | n ∊ ℤ⎬\n",
       "⎩        2        ⎭   ⎩         2         ⎭"
      ]
     },
     "execution_count": 26,
     "metadata": {},
     "output_type": "execute_result"
    }
   ],
   "source": [
    "Lsg = solveset(glg)\n",
    "Lsg"
   ]
  },
  {
   "cell_type": "code",
   "execution_count": 27,
   "metadata": {
    "slideshow": {
     "slide_type": "fragment"
    }
   },
   "outputs": [
    {
     "name": "stdout",
     "output_type": "stream",
     "text": [
      "Union(ImageSet(Lambda(_n, 4*_n*pi + pi/2), Integers), ImageSet(Lambda(_n, 4*_n*pi + 5*pi/2), Integers))\n"
     ]
    }
   ],
   "source": [
    "print(Lsg)"
   ]
  },
  {
   "cell_type": "code",
   "execution_count": 28,
   "metadata": {
    "slideshow": {
     "slide_type": "slide"
    }
   },
   "outputs": [
    {
     "data": {
      "image/png": "[encoded data removed]",
      "text/latex": [
       "$$\\frac{\\pi}{2}$$"
      ],
      "text/plain": [
       "π\n",
       "─\n",
       "2"
      ]
     },
     "metadata": {},
     "output_type": "display_data"
    },
    {
     "data": {
      "image/png": "[encoded data removed]",
      "text/latex": [
       "$$\\mathrm{True}$$"
      ],
      "text/plain": [
       "True"
      ]
     },
     "metadata": {},
     "output_type": "display_data"
    },
    {
     "data": {
      "image/png": "[encoded data removed]",
      "text/latex": [
       "$$\\frac{5 \\pi}{2}$$"
      ],
      "text/plain": [
       "5⋅π\n",
       "───\n",
       " 2 "
      ]
     },
     "metadata": {},
     "output_type": "display_data"
    },
    {
     "data": {
      "image/png": "[encoded data removed]",
      "text/latex": [
       "$$\\mathrm{True}$$"
      ],
      "text/plain": [
       "True"
      ]
     },
     "metadata": {},
     "output_type": "display_data"
    },
    {
     "data": {
      "image/png": "[encoded data removed]",
      "text/latex": [
       "$$\\frac{9 \\pi}{2}$$"
      ],
      "text/plain": [
       "9⋅π\n",
       "───\n",
       " 2 "
      ]
     },
     "metadata": {},
     "output_type": "display_data"
    },
    {
     "data": {
      "image/png": "[encoded data removed]",
      "text/latex": [
       "$$\\mathrm{True}$$"
      ],
      "text/plain": [
       "True"
      ]
     },
     "metadata": {},
     "output_type": "display_data"
    },
    {
     "data": {
      "image/png": "[encoded data removed]",
      "text/latex": [
       "$$\\frac{13 \\pi}{2}$$"
      ],
      "text/plain": [
       "13⋅π\n",
       "────\n",
       " 2  "
      ]
     },
     "metadata": {},
     "output_type": "display_data"
    },
    {
     "data": {
      "image/png": "[encoded data removed]",
      "text/latex": [
       "$$\\mathrm{True}$$"
      ],
      "text/plain": [
       "True"
      ]
     },
     "metadata": {},
     "output_type": "display_data"
    },
    {
     "data": {
      "image/png": "[encoded data removed]",
      "text/latex": [
       "$$- \\frac{7 \\pi}{2}$$"
      ],
      "text/plain": [
       "-7⋅π \n",
       "─────\n",
       "  2  "
      ]
     },
     "metadata": {},
     "output_type": "display_data"
    },
    {
     "data": {
      "image/png": "[encoded data removed]",
      "text/latex": [
       "$$\\mathrm{True}$$"
      ],
      "text/plain": [
       "True"
      ]
     },
     "metadata": {},
     "output_type": "display_data"
    }
   ],
   "source": [
    "for l, n in zip(Lsg, range(5)):\n",
    "    display(l)\n",
    "    display(glg.subs(x,l))"
   ]
  },
  {
   "cell_type": "code",
   "execution_count": 29,
   "metadata": {
    "slideshow": {
     "slide_type": "slide"
    }
   },
   "outputs": [
    {
     "data": {
      "image/png": "[encoded data removed]",
      "text/latex": [
       "$$\\left\\{2 n \\pi + \\frac{3 \\pi}{2}\\; |\\; n \\in \\mathbb{Z}\\right\\} \\cup \\left\\{2 n \\pi + \\frac{5 \\pi}{6}\\; |\\; n \\in \\mathbb{Z}\\right\\} \\cup \\left\\{2 n \\pi + \\frac{\\pi}{6}\\; |\\; n \\in \\mathbb{Z}\\right\\}$$"
      ],
      "text/plain": [
       "⎧        3⋅π        ⎫   ⎧        5⋅π        ⎫   ⎧        π        ⎫\n",
       "⎨2⋅n⋅π + ─── | n ∊ ℤ⎬ ∪ ⎨2⋅n⋅π + ─── | n ∊ ℤ⎬ ∪ ⎨2⋅n⋅π + ─ | n ∊ ℤ⎬\n",
       "⎩         2         ⎭   ⎩         6         ⎭   ⎩        6        ⎭"
      ]
     },
     "execution_count": 29,
     "metadata": {},
     "output_type": "execute_result"
    }
   ],
   "source": [
    "glg = Eq(sin(x), cos(2*x))\n",
    "Lsg = solveset(glg)\n",
    "Lsg"
   ]
  },
  {
   "cell_type": "code",
   "execution_count": 30,
   "metadata": {},
   "outputs": [
    {
     "data": {
      "image/png": "[encoded data removed]",
      "text/latex": [
       "$$\\sin{\\left (x \\right )} - \\cos{\\left (2 x \\right )}$$"
      ],
      "text/plain": [
       "sin(x) - cos(2⋅x)"
      ]
     },
     "execution_count": 30,
     "metadata": {},
     "output_type": "execute_result"
    }
   ],
   "source": [
    "f = glg.lhs - glg.rhs\n",
    "f"
   ]
  },
  {
   "cell_type": "code",
   "execution_count": 33,
   "metadata": {
    "slideshow": {
     "slide_type": "fragment"
    }
   },
   "outputs": [],
   "source": [
    "xn = np.linspace(-3*np.pi, 3*np.pi, 500)\n",
    "fn = lambdify(x, f, 'numpy')\n",
    "plt.plot(xn, fn(xn));"
   ]
  },
  {
   "cell_type": "code",
   "execution_count": 32,
   "metadata": {
    "slideshow": {
     "slide_type": "slide"
    }
   },
   "outputs": [
    {
     "data": {
      "image/png": "[encoded data removed]",
      "text/latex": [
       "$$\\left [ -5.75958653158129, \\quad -3.66519142918809, \\quad -1.5707963267949, \\quad 0.523598775598299, \\quad 2.61799387799149, \\quad 4.71238898038469, \\quad 6.80678408277789, \\quad 8.90117918517108, \\quad 10.9955742875643\\right ]$$"
      ],
      "text/plain": [
       "[-5.75958653158129, -3.66519142918809, -1.5707963267949, 0.523598775598299, 2.\n",
       "61799387799149, 4.71238898038469, 6.80678408277789, 8.90117918517108, 10.99557\n",
       "42875643]"
      ]
     },
     "metadata": {},
     "output_type": "display_data"
    },
    {
     "data": {
      "image/png": "[encoded data removed]",
      "text/latex": [
       "$$\\left [ \\frac{3 \\sqrt{3}}{2}, \\quad - \\frac{3 \\sqrt{3}}{2}, \\quad 0, \\quad \\frac{3 \\sqrt{3}}{2}, \\quad - \\frac{3 \\sqrt{3}}{2}, \\quad 0, \\quad \\frac{3 \\sqrt{3}}{2}, \\quad - \\frac{3 \\sqrt{3}}{2}, \\quad 0\\right ]$$"
      ],
      "text/plain": [
       "⎡3⋅√3  -3⋅√3      3⋅√3  -3⋅√3      3⋅√3  -3⋅√3    ⎤\n",
       "⎢────, ──────, 0, ────, ──────, 0, ────, ──────, 0⎥\n",
       "⎣ 2      2         2      2         2      2      ⎦"
      ]
     },
     "metadata": {},
     "output_type": "display_data"
    }
   ],
   "source": [
    "l_list = [l for l,n in zip(Lsg, range(9))]\n",
    "l_list.sort()\n",
    "display([N(l) for l in l_list])\n",
    "display([re(f.diff(x).subs(x,l)) for l in l_list])"
   ]
  },
  {
   "cell_type": "markdown",
   "metadata": {
    "slideshow": {
     "slide_type": "slide"
    }
   },
   "source": [
    "Polynomgleichungen"
   ]
  },
  {
   "cell_type": "code",
   "execution_count": 34,
   "metadata": {},
   "outputs": [
    {
     "data": {
      "image/png": "[encoded data removed]",
      "text/latex": [
       "$$x^{4} = -1$$"
      ],
      "text/plain": [
       " 4     \n",
       "x  = -1"
      ]
     },
     "execution_count": 34,
     "metadata": {},
     "output_type": "execute_result"
    }
   ],
   "source": [
    "glg = Eq(x**4, -1)\n",
    "glg"
   ]
  },
  {
   "cell_type": "code",
   "execution_count": 35,
   "metadata": {},
   "outputs": [
    {
     "data": {
      "image/png": "[encoded data removed]",
      "text/latex": [
       "$$\\left\\{- \\frac{\\sqrt{2}}{2} - \\frac{\\sqrt{2} i}{2}, - \\frac{\\sqrt{2}}{2} + \\frac{\\sqrt{2} i}{2}, \\frac{\\sqrt{2}}{2} - \\frac{\\sqrt{2} i}{2}, \\frac{\\sqrt{2}}{2} + \\frac{\\sqrt{2} i}{2}\\right\\}$$"
      ],
      "text/plain": [
       "⎧  √2   √2⋅ⅈ    √2   √2⋅ⅈ  √2   √2⋅ⅈ  √2   √2⋅ⅈ⎫\n",
       "⎨- ── - ────, - ── + ────, ── - ────, ── + ────⎬\n",
       "⎩  2     2      2     2    2     2    2     2  ⎭"
      ]
     },
     "execution_count": 35,
     "metadata": {},
     "output_type": "execute_result"
    }
   ],
   "source": [
    "solveset(glg)"
   ]
  },
  {
   "cell_type": "code",
   "execution_count": 38,
   "metadata": {
    "slideshow": {
     "slide_type": "fragment"
    }
   },
   "outputs": [
    {
     "data": {
      "image/png": "[encoded data removed]",
      "text/latex": [
       "$$\\left\\{\\operatorname{CRootOf} {\\left(r^{5} - 20 r + 7, 0\\right)}, \\operatorname{CRootOf} {\\left(r^{5} - 20 r + 7, 1\\right)}, \\operatorname{CRootOf} {\\left(r^{5} - 20 r + 7, 2\\right)}\\right\\}$$"
      ],
      "text/plain": [
       "⎧       ⎛ 5              ⎞         ⎛ 5              ⎞         ⎛ 5             \n",
       "⎨CRootOf⎝r  - 20⋅r + 7, 0⎠, CRootOf⎝r  - 20⋅r + 7, 1⎠, CRootOf⎝r  - 20⋅r + 7, \n",
       "⎩                                                                             \n",
       "\n",
       " ⎞⎫\n",
       "2⎠⎬\n",
       "  ⎭"
      ]
     },
     "execution_count": 38,
     "metadata": {},
     "output_type": "execute_result"
    }
   ],
   "source": [
    "solveset(glg, domain=Reals)"
   ]
  },
  {
   "cell_type": "code",
   "execution_count": 53,
   "metadata": {
    "slideshow": {
     "slide_type": "slide"
    }
   },
   "outputs": [
    {
     "data": {
      "image/png": "[encoded data removed]",
      "text/latex": [
       "$$x^{5} - 20 x + 7 = 0$$"
      ],
      "text/plain": [
       " 5               \n",
       "x  - 20⋅x + 7 = 0"
      ]
     },
     "execution_count": 53,
     "metadata": {},
     "output_type": "execute_result"
    }
   ],
   "source": [
    "p = ((x**5 - 20*x + 7)**1).expand()\n",
    "glg = Eq(p,0)\n",
    "glg"
   ]
  },
  {
   "cell_type": "code",
   "execution_count": 52,
   "metadata": {
    "slideshow": {
     "slide_type": "fragment"
    }
   },
   "outputs": [
    {
     "data": {
      "image/png": "[encoded data removed]",
      "text/latex": [
       "$$\\left\\{\\operatorname{CRootOf} {\\left(r^{5} - 20 r + 7, 0\\right)}, \\operatorname{CRootOf} {\\left(r^{5} - 20 r + 7, 1\\right)}, \\operatorname{CRootOf} {\\left(r^{5} - 20 r + 7, 2\\right)}, \\operatorname{CRootOf} {\\left(r^{5} - 20 r + 7, 3\\right)}, \\operatorname{CRootOf} {\\left(r^{5} - 20 r + 7, 4\\right)}\\right\\}$$"
      ],
      "text/plain": [
       "⎧       ⎛ 5              ⎞         ⎛ 5              ⎞         ⎛ 5             \n",
       "⎨CRootOf⎝r  - 20⋅r + 7, 0⎠, CRootOf⎝r  - 20⋅r + 7, 1⎠, CRootOf⎝r  - 20⋅r + 7, \n",
       "⎩                                                                             \n",
       "\n",
       " ⎞         ⎛ 5              ⎞         ⎛ 5              ⎞⎫\n",
       "2⎠, CRootOf⎝r  - 20⋅r + 7, 3⎠, CRootOf⎝r  - 20⋅r + 7, 4⎠⎬\n",
       "                                                        ⎭"
      ]
     },
     "execution_count": 52,
     "metadata": {},
     "output_type": "execute_result"
    }
   ],
   "source": [
    "Lsg = solveset(glg)\n",
    "Lsg"
   ]
  },
  {
   "cell_type": "markdown",
   "metadata": {
    "slideshow": {
     "slide_type": "fragment"
    }
   },
   "source": [
    "Die Lösungen können nicht durch Wurzeln ausgedrückt werden.  Fragen Sie Dr. Schröer."
   ]
  },
  {
   "cell_type": "code",
   "execution_count": 46,
   "metadata": {
    "slideshow": {
     "slide_type": "slide"
    }
   },
   "outputs": [
    {
     "data": {
      "image/png": "[encoded data removed]",
      "text/latex": [
       "$$\\left\\{\\operatorname{CRootOf} {\\left(r^{5} - 20 r + 7, 0\\right)}, \\operatorname{CRootOf} {\\left(r^{5} - 20 r + 7, 1\\right)}, \\operatorname{CRootOf} {\\left(r^{5} - 20 r + 7, 2\\right)}\\right\\}$$"
      ],
      "text/plain": [
       "⎧       ⎛ 5              ⎞         ⎛ 5              ⎞         ⎛ 5             \n",
       "⎨CRootOf⎝r  - 20⋅r + 7, 0⎠, CRootOf⎝r  - 20⋅r + 7, 1⎠, CRootOf⎝r  - 20⋅r + 7, \n",
       "⎩                                                                             \n",
       "\n",
       " ⎞⎫\n",
       "2⎠⎬\n",
       "  ⎭"
      ]
     },
     "execution_count": 46,
     "metadata": {},
     "output_type": "execute_result"
    }
   ],
   "source": [
    "Lsg = solveset(glg, domain=Reals)\n",
    "Lsg"
   ]
  },
  {
   "cell_type": "markdown",
   "metadata": {
    "slideshow": {
     "slide_type": "slide"
    }
   },
   "source": [
    "Die drei Lösungen unterscheiden sich aber"
   ]
  },
  {
   "cell_type": "code",
   "execution_count": null,
   "metadata": {},
   "outputs": [],
   "source": [
    "for l in Lsg:\n",
    "    display(l._get_interval())"
   ]
  },
  {
   "cell_type": "code",
   "execution_count": 49,
   "metadata": {
    "slideshow": {
     "slide_type": "fragment"
    }
   },
   "outputs": [
    {
     "data": {
      "image/png": "[encoded data removed]",
      "text/latex": [
       "$$\\left [ -2.19444449153332, \\quad -2.19444444444444\\right ]$$"
      ],
      "text/plain": [
       "[-2.19444449153332, -2.19444444444444]"
      ]
     },
     "metadata": {},
     "output_type": "display_data"
    },
    {
     "data": {
      "image/png": "[encoded data removed]",
      "text/latex": [
       "$$\\left [ 0.350262697022767, \\quad 0.35026455026455\\right ]$$"
      ],
      "text/plain": [
       "[0.350262697022767, 0.35026455026455]"
      ]
     },
     "metadata": {},
     "output_type": "display_data"
    },
    {
     "data": {
      "image/png": "[encoded data removed]",
      "text/latex": [
       "$$\\left [ 2.01630434782609, \\quad 2.01631116687578\\right ]$$"
      ],
      "text/plain": [
       "[2.01630434782609, 2.01631116687578]"
      ]
     },
     "metadata": {},
     "output_type": "display_data"
    }
   ],
   "source": [
    "for l in Lsg:\n",
    "    intervall = l._get_interval()\n",
    "    display([N(intervall.a), N(intervall.b)])"
   ]
  },
  {
   "cell_type": "code",
   "execution_count": 59,
   "metadata": {
    "slideshow": {
     "slide_type": "slide"
    }
   },
   "outputs": [],
   "source": [
    "plt.figure()\n",
    "xn = np.linspace(-4, 4)\n",
    "fn = lambdify(x, p) \n",
    "plt.plot(xn, fn(xn))\n",
    "plt.axis(ymin=-30, ymax=30);"
   ]
  },
  {
   "cell_type": "code",
   "execution_count": 57,
   "metadata": {
    "slideshow": {
     "slide_type": "fragment"
    }
   },
   "outputs": [
    {
     "data": {
      "image/png": "[encoded data removed]",
      "text/latex": [
       "$$\\mathrm{True}$$"
      ],
      "text/plain": [
       "True"
      ]
     },
     "metadata": {},
     "output_type": "display_data"
    },
    {
     "data": {
      "image/png": "[encoded data removed]",
      "text/latex": [
       "$$\\mathrm{True}$$"
      ],
      "text/plain": [
       "True"
      ]
     },
     "metadata": {},
     "output_type": "display_data"
    },
    {
     "data": {
      "image/png": "[encoded data removed]",
      "text/latex": [
       "$$\\mathrm{True}$$"
      ],
      "text/plain": [
       "True"
      ]
     },
     "metadata": {},
     "output_type": "display_data"
    },
    {
     "ename": "KeyboardInterrupt",
     "evalue": "",
     "output_type": "error",
     "traceback": [
      "\u001b[0;31m---------------------------------------------------------------------------\u001b[0m",
      "\u001b[0;31mKeyError\u001b[0m                                  Traceback (most recent call last)",
      "\u001b[0;32m~/miniconda3/envs/compana18/lib/python3.7/site-packages/sympy/core/evalf.py\u001b[0m in \u001b[0;36mevalf\u001b[0;34m(x, prec, options)\u001b[0m\n\u001b[1;32m   1305\u001b[0m     \u001b[0;32mtry\u001b[0m\u001b[0;34m:\u001b[0m\u001b[0;34m\u001b[0m\u001b[0m\n\u001b[0;32m-> 1306\u001b[0;31m         \u001b[0mrf\u001b[0m \u001b[0;34m=\u001b[0m \u001b[0mevalf_table\u001b[0m\u001b[0;34m[\u001b[0m\u001b[0mx\u001b[0m\u001b[0;34m.\u001b[0m\u001b[0mfunc\u001b[0m\u001b[0;34m]\u001b[0m\u001b[0;34m\u001b[0m\u001b[0m\n\u001b[0m\u001b[1;32m   1307\u001b[0m         \u001b[0mr\u001b[0m \u001b[0;34m=\u001b[0m \u001b[0mrf\u001b[0m\u001b[0;34m(\u001b[0m\u001b[0mx\u001b[0m\u001b[0;34m,\u001b[0m \u001b[0mprec\u001b[0m\u001b[0;34m,\u001b[0m \u001b[0moptions\u001b[0m\u001b[0;34m)\u001b[0m\u001b[0;34m\u001b[0m\u001b[0m\n",
      "\u001b[0;31mKeyError\u001b[0m: <class 'sympy.polys.rootoftools.ComplexRootOf'>",
      "\nDuring handling of the above exception, another exception occurred:\n",
      "\u001b[0;31mKeyboardInterrupt\u001b[0m                         Traceback (most recent call last)",
      "\u001b[0;32m<ipython-input-57-efa314991cbd>\u001b[0m in \u001b[0;36m<module>\u001b[0;34m\u001b[0m\n\u001b[1;32m      1\u001b[0m \u001b[0;32mfor\u001b[0m \u001b[0ml\u001b[0m \u001b[0;32min\u001b[0m \u001b[0mLsg\u001b[0m\u001b[0;34m:\u001b[0m\u001b[0;34m\u001b[0m\u001b[0m\n\u001b[0;32m----> 2\u001b[0;31m     \u001b[0mdisplay\u001b[0m\u001b[0;34m(\u001b[0m\u001b[0mglg\u001b[0m\u001b[0;34m.\u001b[0m\u001b[0msubs\u001b[0m\u001b[0;34m(\u001b[0m\u001b[0mx\u001b[0m\u001b[0;34m,\u001b[0m\u001b[0ml\u001b[0m\u001b[0;34m)\u001b[0m\u001b[0;34m.\u001b[0m\u001b[0msimplify\u001b[0m\u001b[0;34m(\u001b[0m\u001b[0;34m)\u001b[0m\u001b[0;34m)\u001b[0m\u001b[0;34m\u001b[0m\u001b[0m\n\u001b[0m",
      "\u001b[0;32m~/miniconda3/envs/compana18/lib/python3.7/site-packages/sympy/core/expr.py\u001b[0m in \u001b[0;36msimplify\u001b[0;34m(self, ratio, measure, rational, inverse)\u001b[0m\n\u001b[1;32m   3173\u001b[0m         \u001b[0;32mfrom\u001b[0m \u001b[0msympy\u001b[0m\u001b[0;34m.\u001b[0m\u001b[0mcore\u001b[0m\u001b[0;34m.\u001b[0m\u001b[0mfunction\u001b[0m \u001b[0;32mimport\u001b[0m \u001b[0mcount_ops\u001b[0m\u001b[0;34m\u001b[0m\u001b[0m\n\u001b[1;32m   3174\u001b[0m         \u001b[0mmeasure\u001b[0m \u001b[0;34m=\u001b[0m \u001b[0mmeasure\u001b[0m \u001b[0;32mor\u001b[0m \u001b[0mcount_ops\u001b[0m\u001b[0;34m\u001b[0m\u001b[0m\n\u001b[0;32m-> 3175\u001b[0;31m         \u001b[0;32mreturn\u001b[0m \u001b[0msimplify\u001b[0m\u001b[0;34m(\u001b[0m\u001b[0mself\u001b[0m\u001b[0;34m,\u001b[0m \u001b[0mratio\u001b[0m\u001b[0;34m,\u001b[0m \u001b[0mmeasure\u001b[0m\u001b[0;34m)\u001b[0m\u001b[0;34m\u001b[0m\u001b[0m\n\u001b[0m\u001b[1;32m   3176\u001b[0m \u001b[0;34m\u001b[0m\u001b[0m\n\u001b[1;32m   3177\u001b[0m     \u001b[0;32mdef\u001b[0m \u001b[0mnsimplify\u001b[0m\u001b[0;34m(\u001b[0m\u001b[0mself\u001b[0m\u001b[0;34m,\u001b[0m \u001b[0mconstants\u001b[0m\u001b[0;34m=\u001b[0m\u001b[0;34m[\u001b[0m\u001b[0;34m]\u001b[0m\u001b[0;34m,\u001b[0m \u001b[0mtolerance\u001b[0m\u001b[0;34m=\u001b[0m\u001b[0;32mNone\u001b[0m\u001b[0;34m,\u001b[0m \u001b[0mfull\u001b[0m\u001b[0;34m=\u001b[0m\u001b[0;32mFalse\u001b[0m\u001b[0;34m)\u001b[0m\u001b[0;34m:\u001b[0m\u001b[0;34m\u001b[0m\u001b[0m\n",
      "\u001b[0;32m~/miniconda3/envs/compana18/lib/python3.7/site-packages/sympy/simplify/simplify.py\u001b[0m in \u001b[0;36msimplify\u001b[0;34m(expr, ratio, measure, rational, inverse)\u001b[0m\n\u001b[1;32m    519\u001b[0m \u001b[0;34m\u001b[0m\u001b[0m\n\u001b[1;32m    520\u001b[0m     \u001b[0;32mtry\u001b[0m\u001b[0;34m:\u001b[0m\u001b[0;34m\u001b[0m\u001b[0m\n\u001b[0;32m--> 521\u001b[0;31m         \u001b[0;32mreturn\u001b[0m \u001b[0mexpr\u001b[0m\u001b[0;34m.\u001b[0m\u001b[0m_eval_simplify\u001b[0m\u001b[0;34m(\u001b[0m\u001b[0mratio\u001b[0m\u001b[0;34m=\u001b[0m\u001b[0mratio\u001b[0m\u001b[0;34m,\u001b[0m \u001b[0mmeasure\u001b[0m\u001b[0;34m=\u001b[0m\u001b[0mmeasure\u001b[0m\u001b[0;34m,\u001b[0m \u001b[0mrational\u001b[0m\u001b[0;34m=\u001b[0m\u001b[0mrational\u001b[0m\u001b[0;34m,\u001b[0m \u001b[0minverse\u001b[0m\u001b[0;34m=\u001b[0m\u001b[0minverse\u001b[0m\u001b[0;34m)\u001b[0m\u001b[0;34m\u001b[0m\u001b[0m\n\u001b[0m\u001b[1;32m    522\u001b[0m     \u001b[0;32mexcept\u001b[0m \u001b[0mAttributeError\u001b[0m\u001b[0;34m:\u001b[0m\u001b[0;34m\u001b[0m\u001b[0m\n\u001b[1;32m    523\u001b[0m         \u001b[0;32mpass\u001b[0m\u001b[0;34m\u001b[0m\u001b[0m\n",
      "\u001b[0;32m~/miniconda3/envs/compana18/lib/python3.7/site-packages/sympy/core/relational.py\u001b[0m in \u001b[0;36m_eval_simplify\u001b[0;34m(self, ratio, measure, rational, inverse)\u001b[0m\n\u001b[1;32m    215\u001b[0m             \u001b[0;32mif\u001b[0m \u001b[0mdif\u001b[0m\u001b[0;34m.\u001b[0m\u001b[0mis_comparable\u001b[0m\u001b[0;34m:\u001b[0m\u001b[0;34m\u001b[0m\u001b[0m\n\u001b[1;32m    216\u001b[0m                 \u001b[0mv\u001b[0m \u001b[0;34m=\u001b[0m \u001b[0mdif\u001b[0m\u001b[0;34m.\u001b[0m\u001b[0mn\u001b[0m\u001b[0;34m(\u001b[0m\u001b[0;36m2\u001b[0m\u001b[0;34m)\u001b[0m\u001b[0;34m\u001b[0m\u001b[0m\n\u001b[0;32m--> 217\u001b[0;31m             \u001b[0;32melif\u001b[0m \u001b[0mdif\u001b[0m\u001b[0;34m.\u001b[0m\u001b[0mequals\u001b[0m\u001b[0;34m(\u001b[0m\u001b[0;36m0\u001b[0m\u001b[0;34m)\u001b[0m\u001b[0;34m:\u001b[0m  \u001b[0;31m# XXX this is expensive\u001b[0m\u001b[0;34m\u001b[0m\u001b[0m\n\u001b[0m\u001b[1;32m    218\u001b[0m                 \u001b[0mv\u001b[0m \u001b[0;34m=\u001b[0m \u001b[0mS\u001b[0m\u001b[0;34m.\u001b[0m\u001b[0mZero\u001b[0m\u001b[0;34m\u001b[0m\u001b[0m\n\u001b[1;32m    219\u001b[0m             \u001b[0;32mif\u001b[0m \u001b[0mv\u001b[0m \u001b[0;32mis\u001b[0m \u001b[0;32mnot\u001b[0m \u001b[0;32mNone\u001b[0m\u001b[0;34m:\u001b[0m\u001b[0;34m\u001b[0m\u001b[0m\n",
      "\u001b[0;32m~/miniconda3/envs/compana18/lib/python3.7/site-packages/sympy/core/expr.py\u001b[0m in \u001b[0;36mequals\u001b[0;34m(self, other, failing_expression)\u001b[0m\n\u001b[1;32m    690\u001b[0m \u001b[0;34m\u001b[0m\u001b[0m\n\u001b[1;32m    691\u001b[0m         \u001b[0;32mif\u001b[0m \u001b[0mconstant\u001b[0m \u001b[0;32mis\u001b[0m \u001b[0;32mTrue\u001b[0m\u001b[0;34m:\u001b[0m\u001b[0;34m\u001b[0m\u001b[0m\n\u001b[0;32m--> 692\u001b[0;31m             \u001b[0mndiff\u001b[0m \u001b[0;34m=\u001b[0m \u001b[0mdiff\u001b[0m\u001b[0;34m.\u001b[0m\u001b[0m_random\u001b[0m\u001b[0;34m(\u001b[0m\u001b[0;34m)\u001b[0m\u001b[0;34m\u001b[0m\u001b[0m\n\u001b[0m\u001b[1;32m    693\u001b[0m             \u001b[0;32mif\u001b[0m \u001b[0mndiff\u001b[0m\u001b[0;34m:\u001b[0m\u001b[0;34m\u001b[0m\u001b[0m\n\u001b[1;32m    694\u001b[0m                 \u001b[0;32mreturn\u001b[0m \u001b[0;32mFalse\u001b[0m\u001b[0;34m\u001b[0m\u001b[0m\n",
      "\u001b[0;32m~/miniconda3/envs/compana18/lib/python3.7/site-packages/sympy/core/expr.py\u001b[0m in \u001b[0;36m_random\u001b[0;34m(self, n, re_min, im_min, re_max, im_max)\u001b[0m\n\u001b[1;32m    482\u001b[0m             \u001b[0;31m# evaluate\u001b[0m\u001b[0;34m\u001b[0m\u001b[0;34m\u001b[0m\u001b[0m\n\u001b[1;32m    483\u001b[0m             \u001b[0;32mfor\u001b[0m \u001b[0mprec\u001b[0m \u001b[0;32min\u001b[0m \u001b[0mgiant_steps\u001b[0m\u001b[0;34m(\u001b[0m\u001b[0;36m2\u001b[0m\u001b[0;34m,\u001b[0m \u001b[0mtarget\u001b[0m\u001b[0;34m)\u001b[0m\u001b[0;34m:\u001b[0m\u001b[0;34m\u001b[0m\u001b[0m\n\u001b[0;32m--> 484\u001b[0;31m                 \u001b[0mnmag\u001b[0m \u001b[0;34m=\u001b[0m \u001b[0mabs\u001b[0m\u001b[0;34m(\u001b[0m\u001b[0mself\u001b[0m\u001b[0;34m.\u001b[0m\u001b[0mevalf\u001b[0m\u001b[0;34m(\u001b[0m\u001b[0mprec\u001b[0m\u001b[0;34m,\u001b[0m \u001b[0msubs\u001b[0m\u001b[0;34m=\u001b[0m\u001b[0mreps\u001b[0m\u001b[0;34m)\u001b[0m\u001b[0;34m)\u001b[0m\u001b[0;34m\u001b[0m\u001b[0m\n\u001b[0m\u001b[1;32m    485\u001b[0m                 \u001b[0;32mif\u001b[0m \u001b[0mnmag\u001b[0m\u001b[0;34m.\u001b[0m\u001b[0m_prec\u001b[0m \u001b[0;34m!=\u001b[0m \u001b[0;36m1\u001b[0m\u001b[0;34m:\u001b[0m\u001b[0;34m\u001b[0m\u001b[0m\n\u001b[1;32m    486\u001b[0m                     \u001b[0;32mbreak\u001b[0m\u001b[0;34m\u001b[0m\u001b[0m\n",
      "\u001b[0;32m~/miniconda3/envs/compana18/lib/python3.7/site-packages/sympy/core/evalf.py\u001b[0m in \u001b[0;36mevalf\u001b[0;34m(self, n, subs, maxn, chop, strict, quad, verbose)\u001b[0m\n\u001b[1;32m   1435\u001b[0m             \u001b[0moptions\u001b[0m\u001b[0;34m[\u001b[0m\u001b[0;34m'quad'\u001b[0m\u001b[0;34m]\u001b[0m \u001b[0;34m=\u001b[0m \u001b[0mquad\u001b[0m\u001b[0;34m\u001b[0m\u001b[0m\n\u001b[1;32m   1436\u001b[0m         \u001b[0;32mtry\u001b[0m\u001b[0;34m:\u001b[0m\u001b[0;34m\u001b[0m\u001b[0m\n\u001b[0;32m-> 1437\u001b[0;31m             \u001b[0mresult\u001b[0m \u001b[0;34m=\u001b[0m \u001b[0mevalf\u001b[0m\u001b[0;34m(\u001b[0m\u001b[0mself\u001b[0m\u001b[0;34m,\u001b[0m \u001b[0mprec\u001b[0m \u001b[0;34m+\u001b[0m \u001b[0;36m4\u001b[0m\u001b[0;34m,\u001b[0m \u001b[0moptions\u001b[0m\u001b[0;34m)\u001b[0m\u001b[0;34m\u001b[0m\u001b[0m\n\u001b[0m\u001b[1;32m   1438\u001b[0m         \u001b[0;32mexcept\u001b[0m \u001b[0mNotImplementedError\u001b[0m\u001b[0;34m:\u001b[0m\u001b[0;34m\u001b[0m\u001b[0m\n\u001b[1;32m   1439\u001b[0m             \u001b[0;31m# Fall back to the ordinary evalf\u001b[0m\u001b[0;34m\u001b[0m\u001b[0;34m\u001b[0m\u001b[0m\n",
      "\u001b[0;32m~/miniconda3/envs/compana18/lib/python3.7/site-packages/sympy/core/evalf.py\u001b[0m in \u001b[0;36mevalf\u001b[0;34m(x, prec, options)\u001b[0m\n\u001b[1;32m   1305\u001b[0m     \u001b[0;32mtry\u001b[0m\u001b[0;34m:\u001b[0m\u001b[0;34m\u001b[0m\u001b[0m\n\u001b[1;32m   1306\u001b[0m         \u001b[0mrf\u001b[0m \u001b[0;34m=\u001b[0m \u001b[0mevalf_table\u001b[0m\u001b[0;34m[\u001b[0m\u001b[0mx\u001b[0m\u001b[0;34m.\u001b[0m\u001b[0mfunc\u001b[0m\u001b[0;34m]\u001b[0m\u001b[0;34m\u001b[0m\u001b[0m\n\u001b[0;32m-> 1307\u001b[0;31m         \u001b[0mr\u001b[0m \u001b[0;34m=\u001b[0m \u001b[0mrf\u001b[0m\u001b[0;34m(\u001b[0m\u001b[0mx\u001b[0m\u001b[0;34m,\u001b[0m \u001b[0mprec\u001b[0m\u001b[0;34m,\u001b[0m \u001b[0moptions\u001b[0m\u001b[0;34m)\u001b[0m\u001b[0;34m\u001b[0m\u001b[0m\n\u001b[0m\u001b[1;32m   1308\u001b[0m     \u001b[0;32mexcept\u001b[0m \u001b[0mKeyError\u001b[0m\u001b[0;34m:\u001b[0m\u001b[0;34m\u001b[0m\u001b[0m\n\u001b[1;32m   1309\u001b[0m         \u001b[0;32mtry\u001b[0m\u001b[0;34m:\u001b[0m\u001b[0;34m\u001b[0m\u001b[0m\n",
      "\u001b[0;32m~/miniconda3/envs/compana18/lib/python3.7/site-packages/sympy/core/evalf.py\u001b[0m in \u001b[0;36mevalf_add\u001b[0;34m(v, prec, options)\u001b[0m\n\u001b[1;32m    517\u001b[0m         \u001b[0moptions\u001b[0m\u001b[0;34m[\u001b[0m\u001b[0;34m'maxprec'\u001b[0m\u001b[0;34m]\u001b[0m \u001b[0;34m=\u001b[0m \u001b[0mmin\u001b[0m\u001b[0;34m(\u001b[0m\u001b[0moldmaxprec\u001b[0m\u001b[0;34m,\u001b[0m \u001b[0;36m2\u001b[0m\u001b[0;34m*\u001b[0m\u001b[0mprec\u001b[0m\u001b[0;34m)\u001b[0m\u001b[0;34m\u001b[0m\u001b[0m\n\u001b[1;32m    518\u001b[0m \u001b[0;34m\u001b[0m\u001b[0m\n\u001b[0;32m--> 519\u001b[0;31m         \u001b[0mterms\u001b[0m \u001b[0;34m=\u001b[0m \u001b[0;34m[\u001b[0m\u001b[0mevalf\u001b[0m\u001b[0;34m(\u001b[0m\u001b[0marg\u001b[0m\u001b[0;34m,\u001b[0m \u001b[0mprec\u001b[0m \u001b[0;34m+\u001b[0m \u001b[0;36m10\u001b[0m\u001b[0;34m,\u001b[0m \u001b[0moptions\u001b[0m\u001b[0;34m)\u001b[0m \u001b[0;32mfor\u001b[0m \u001b[0marg\u001b[0m \u001b[0;32min\u001b[0m \u001b[0mv\u001b[0m\u001b[0;34m.\u001b[0m\u001b[0margs\u001b[0m\u001b[0;34m]\u001b[0m\u001b[0;34m\u001b[0m\u001b[0m\n\u001b[0m\u001b[1;32m    520\u001b[0m         re, re_acc = add_terms(\n\u001b[1;32m    521\u001b[0m             [a[0::2] for a in terms if a[0]], prec, target_prec)\n",
      "\u001b[0;32m~/miniconda3/envs/compana18/lib/python3.7/site-packages/sympy/core/evalf.py\u001b[0m in \u001b[0;36m<listcomp>\u001b[0;34m(.0)\u001b[0m\n\u001b[1;32m    517\u001b[0m         \u001b[0moptions\u001b[0m\u001b[0;34m[\u001b[0m\u001b[0;34m'maxprec'\u001b[0m\u001b[0;34m]\u001b[0m \u001b[0;34m=\u001b[0m \u001b[0mmin\u001b[0m\u001b[0;34m(\u001b[0m\u001b[0moldmaxprec\u001b[0m\u001b[0;34m,\u001b[0m \u001b[0;36m2\u001b[0m\u001b[0;34m*\u001b[0m\u001b[0mprec\u001b[0m\u001b[0;34m)\u001b[0m\u001b[0;34m\u001b[0m\u001b[0m\n\u001b[1;32m    518\u001b[0m \u001b[0;34m\u001b[0m\u001b[0m\n\u001b[0;32m--> 519\u001b[0;31m         \u001b[0mterms\u001b[0m \u001b[0;34m=\u001b[0m \u001b[0;34m[\u001b[0m\u001b[0mevalf\u001b[0m\u001b[0;34m(\u001b[0m\u001b[0marg\u001b[0m\u001b[0;34m,\u001b[0m \u001b[0mprec\u001b[0m \u001b[0;34m+\u001b[0m \u001b[0;36m10\u001b[0m\u001b[0;34m,\u001b[0m \u001b[0moptions\u001b[0m\u001b[0;34m)\u001b[0m \u001b[0;32mfor\u001b[0m \u001b[0marg\u001b[0m \u001b[0;32min\u001b[0m \u001b[0mv\u001b[0m\u001b[0;34m.\u001b[0m\u001b[0margs\u001b[0m\u001b[0;34m]\u001b[0m\u001b[0;34m\u001b[0m\u001b[0m\n\u001b[0m\u001b[1;32m    520\u001b[0m         re, re_acc = add_terms(\n\u001b[1;32m    521\u001b[0m             [a[0::2] for a in terms if a[0]], prec, target_prec)\n",
      "\u001b[0;32m~/miniconda3/envs/compana18/lib/python3.7/site-packages/sympy/core/evalf.py\u001b[0m in \u001b[0;36mevalf\u001b[0;34m(x, prec, options)\u001b[0m\n\u001b[1;32m   1305\u001b[0m     \u001b[0;32mtry\u001b[0m\u001b[0;34m:\u001b[0m\u001b[0;34m\u001b[0m\u001b[0m\n\u001b[1;32m   1306\u001b[0m         \u001b[0mrf\u001b[0m \u001b[0;34m=\u001b[0m \u001b[0mevalf_table\u001b[0m\u001b[0;34m[\u001b[0m\u001b[0mx\u001b[0m\u001b[0;34m.\u001b[0m\u001b[0mfunc\u001b[0m\u001b[0;34m]\u001b[0m\u001b[0;34m\u001b[0m\u001b[0m\n\u001b[0;32m-> 1307\u001b[0;31m         \u001b[0mr\u001b[0m \u001b[0;34m=\u001b[0m \u001b[0mrf\u001b[0m\u001b[0;34m(\u001b[0m\u001b[0mx\u001b[0m\u001b[0;34m,\u001b[0m \u001b[0mprec\u001b[0m\u001b[0;34m,\u001b[0m \u001b[0moptions\u001b[0m\u001b[0;34m)\u001b[0m\u001b[0;34m\u001b[0m\u001b[0m\n\u001b[0m\u001b[1;32m   1308\u001b[0m     \u001b[0;32mexcept\u001b[0m \u001b[0mKeyError\u001b[0m\u001b[0;34m:\u001b[0m\u001b[0;34m\u001b[0m\u001b[0m\n\u001b[1;32m   1309\u001b[0m         \u001b[0;32mtry\u001b[0m\u001b[0;34m:\u001b[0m\u001b[0;34m\u001b[0m\u001b[0m\n",
      "\u001b[0;32m~/miniconda3/envs/compana18/lib/python3.7/site-packages/sympy/core/evalf.py\u001b[0m in \u001b[0;36mevalf_pow\u001b[0;34m(v, prec, options)\u001b[0m\n\u001b[1;32m    674\u001b[0m         \u001b[0;31m# base must be evaluated with increased precision if p is large\u001b[0m\u001b[0;34m\u001b[0m\u001b[0;34m\u001b[0m\u001b[0m\n\u001b[1;32m    675\u001b[0m         \u001b[0mprec\u001b[0m \u001b[0;34m+=\u001b[0m \u001b[0mint\u001b[0m\u001b[0;34m(\u001b[0m\u001b[0mmath\u001b[0m\u001b[0;34m.\u001b[0m\u001b[0mlog\u001b[0m\u001b[0;34m(\u001b[0m\u001b[0mabs\u001b[0m\u001b[0;34m(\u001b[0m\u001b[0mp\u001b[0m\u001b[0;34m)\u001b[0m\u001b[0;34m,\u001b[0m \u001b[0;36m2\u001b[0m\u001b[0;34m)\u001b[0m\u001b[0;34m)\u001b[0m\u001b[0;34m\u001b[0m\u001b[0m\n\u001b[0;32m--> 676\u001b[0;31m         \u001b[0mre\u001b[0m\u001b[0;34m,\u001b[0m \u001b[0mim\u001b[0m\u001b[0;34m,\u001b[0m \u001b[0mre_acc\u001b[0m\u001b[0;34m,\u001b[0m \u001b[0mim_acc\u001b[0m \u001b[0;34m=\u001b[0m \u001b[0mevalf\u001b[0m\u001b[0;34m(\u001b[0m\u001b[0mbase\u001b[0m\u001b[0;34m,\u001b[0m \u001b[0mprec\u001b[0m \u001b[0;34m+\u001b[0m \u001b[0;36m5\u001b[0m\u001b[0;34m,\u001b[0m \u001b[0moptions\u001b[0m\u001b[0;34m)\u001b[0m\u001b[0;34m\u001b[0m\u001b[0m\n\u001b[0m\u001b[1;32m    677\u001b[0m         \u001b[0;31m# Real to integer power\u001b[0m\u001b[0;34m\u001b[0m\u001b[0;34m\u001b[0m\u001b[0m\n\u001b[1;32m    678\u001b[0m         \u001b[0;32mif\u001b[0m \u001b[0mre\u001b[0m \u001b[0;32mand\u001b[0m \u001b[0;32mnot\u001b[0m \u001b[0mim\u001b[0m\u001b[0;34m:\u001b[0m\u001b[0;34m\u001b[0m\u001b[0m\n",
      "\u001b[0;32m~/miniconda3/envs/compana18/lib/python3.7/site-packages/sympy/core/evalf.py\u001b[0m in \u001b[0;36mevalf\u001b[0;34m(x, prec, options)\u001b[0m\n\u001b[1;32m   1311\u001b[0m             \u001b[0;32mif\u001b[0m \u001b[0;34m'subs'\u001b[0m \u001b[0;32min\u001b[0m \u001b[0moptions\u001b[0m\u001b[0;34m:\u001b[0m\u001b[0;34m\u001b[0m\u001b[0m\n\u001b[1;32m   1312\u001b[0m                 \u001b[0mx\u001b[0m \u001b[0;34m=\u001b[0m \u001b[0mx\u001b[0m\u001b[0;34m.\u001b[0m\u001b[0msubs\u001b[0m\u001b[0;34m(\u001b[0m\u001b[0mevalf_subs\u001b[0m\u001b[0;34m(\u001b[0m\u001b[0mprec\u001b[0m\u001b[0;34m,\u001b[0m \u001b[0moptions\u001b[0m\u001b[0;34m[\u001b[0m\u001b[0;34m'subs'\u001b[0m\u001b[0;34m]\u001b[0m\u001b[0;34m)\u001b[0m\u001b[0;34m)\u001b[0m\u001b[0;34m\u001b[0m\u001b[0m\n\u001b[0;32m-> 1313\u001b[0;31m             \u001b[0mxe\u001b[0m \u001b[0;34m=\u001b[0m \u001b[0mx\u001b[0m\u001b[0;34m.\u001b[0m\u001b[0m_eval_evalf\u001b[0m\u001b[0;34m(\u001b[0m\u001b[0mprec\u001b[0m\u001b[0;34m)\u001b[0m\u001b[0;34m\u001b[0m\u001b[0m\n\u001b[0m\u001b[1;32m   1314\u001b[0m             \u001b[0mre\u001b[0m\u001b[0;34m,\u001b[0m \u001b[0mim\u001b[0m \u001b[0;34m=\u001b[0m \u001b[0mxe\u001b[0m\u001b[0;34m.\u001b[0m\u001b[0mas_real_imag\u001b[0m\u001b[0;34m(\u001b[0m\u001b[0;34m)\u001b[0m\u001b[0;34m\u001b[0m\u001b[0m\n\u001b[1;32m   1315\u001b[0m             \u001b[0;32mif\u001b[0m \u001b[0mre\u001b[0m\u001b[0;34m.\u001b[0m\u001b[0mhas\u001b[0m\u001b[0;34m(\u001b[0m\u001b[0mre_\u001b[0m\u001b[0;34m)\u001b[0m \u001b[0;32mor\u001b[0m \u001b[0mim\u001b[0m\u001b[0;34m.\u001b[0m\u001b[0mhas\u001b[0m\u001b[0;34m(\u001b[0m\u001b[0mim_\u001b[0m\u001b[0;34m)\u001b[0m\u001b[0;34m:\u001b[0m\u001b[0;34m\u001b[0m\u001b[0m\n",
      "\u001b[0;32m~/miniconda3/envs/compana18/lib/python3.7/site-packages/sympy/polys/rootoftools.py\u001b[0m in \u001b[0;36m_eval_evalf\u001b[0;34m(self, prec, **kwargs)\u001b[0m\n\u001b[1;32m    857\u001b[0m         \u001b[0;34m\"\"\"Evaluate this complex root to the given precision.\"\"\"\u001b[0m\u001b[0;34m\u001b[0m\u001b[0m\n\u001b[1;32m    858\u001b[0m         \u001b[0;31m# all kwargs are ignored\u001b[0m\u001b[0;34m\u001b[0m\u001b[0;34m\u001b[0m\u001b[0m\n\u001b[0;32m--> 859\u001b[0;31m         \u001b[0;32mreturn\u001b[0m \u001b[0mself\u001b[0m\u001b[0;34m.\u001b[0m\u001b[0meval_rational\u001b[0m\u001b[0;34m(\u001b[0m\u001b[0mn\u001b[0m\u001b[0;34m=\u001b[0m\u001b[0mprec_to_dps\u001b[0m\u001b[0;34m(\u001b[0m\u001b[0mprec\u001b[0m\u001b[0;34m)\u001b[0m\u001b[0;34m)\u001b[0m\u001b[0;34m.\u001b[0m\u001b[0m_evalf\u001b[0m\u001b[0;34m(\u001b[0m\u001b[0mprec\u001b[0m\u001b[0;34m)\u001b[0m\u001b[0;34m\u001b[0m\u001b[0m\n\u001b[0m\u001b[1;32m    860\u001b[0m \u001b[0;34m\u001b[0m\u001b[0m\n\u001b[1;32m    861\u001b[0m     \u001b[0;32mdef\u001b[0m \u001b[0meval_rational\u001b[0m\u001b[0;34m(\u001b[0m\u001b[0mself\u001b[0m\u001b[0;34m,\u001b[0m \u001b[0mdx\u001b[0m\u001b[0;34m=\u001b[0m\u001b[0;32mNone\u001b[0m\u001b[0;34m,\u001b[0m \u001b[0mdy\u001b[0m\u001b[0;34m=\u001b[0m\u001b[0;32mNone\u001b[0m\u001b[0;34m,\u001b[0m \u001b[0mn\u001b[0m\u001b[0;34m=\u001b[0m\u001b[0;36m15\u001b[0m\u001b[0;34m)\u001b[0m\u001b[0;34m:\u001b[0m\u001b[0;34m\u001b[0m\u001b[0m\n",
      "\u001b[0;32m~/miniconda3/envs/compana18/lib/python3.7/site-packages/sympy/polys/rootoftools.py\u001b[0m in \u001b[0;36meval_rational\u001b[0;34m(self, dx, dy, n)\u001b[0m\n\u001b[1;32m    928\u001b[0m                     \u001b[0mdx\u001b[0m \u001b[0;34m=\u001b[0m \u001b[0mabs\u001b[0m\u001b[0;34m(\u001b[0m\u001b[0minterval\u001b[0m\u001b[0;34m.\u001b[0m\u001b[0mcenter\u001b[0m\u001b[0;34m[\u001b[0m\u001b[0;36m0\u001b[0m\u001b[0;34m]\u001b[0m\u001b[0;34m*\u001b[0m\u001b[0mrtol\u001b[0m\u001b[0;34m)\u001b[0m\u001b[0;34m\u001b[0m\u001b[0m\n\u001b[1;32m    929\u001b[0m                     \u001b[0mdy\u001b[0m \u001b[0;34m=\u001b[0m \u001b[0mabs\u001b[0m\u001b[0;34m(\u001b[0m\u001b[0minterval\u001b[0m\u001b[0;34m.\u001b[0m\u001b[0mcenter\u001b[0m\u001b[0;34m[\u001b[0m\u001b[0;36m1\u001b[0m\u001b[0;34m]\u001b[0m\u001b[0;34m*\u001b[0m\u001b[0mrtol\u001b[0m\u001b[0;34m)\u001b[0m\u001b[0;34m\u001b[0m\u001b[0m\n\u001b[0;32m--> 930\u001b[0;31m                 \u001b[0minterval\u001b[0m \u001b[0;34m=\u001b[0m \u001b[0minterval\u001b[0m\u001b[0;34m.\u001b[0m\u001b[0mrefine_size\u001b[0m\u001b[0;34m(\u001b[0m\u001b[0mdx\u001b[0m\u001b[0;34m,\u001b[0m \u001b[0mdy\u001b[0m\u001b[0;34m)\u001b[0m\u001b[0;34m\u001b[0m\u001b[0m\n\u001b[0m\u001b[1;32m    931\u001b[0m                 \u001b[0mc\u001b[0m \u001b[0;34m=\u001b[0m \u001b[0minterval\u001b[0m\u001b[0;34m.\u001b[0m\u001b[0mcenter\u001b[0m\u001b[0;34m\u001b[0m\u001b[0m\n\u001b[1;32m    932\u001b[0m                 \u001b[0mreal\u001b[0m\u001b[0;34m,\u001b[0m \u001b[0mimag\u001b[0m \u001b[0;34m=\u001b[0m \u001b[0mmap\u001b[0m\u001b[0;34m(\u001b[0m\u001b[0mRational\u001b[0m\u001b[0;34m,\u001b[0m \u001b[0mc\u001b[0m\u001b[0;34m)\u001b[0m\u001b[0;34m\u001b[0m\u001b[0m\n",
      "\u001b[0;32m~/miniconda3/envs/compana18/lib/python3.7/site-packages/sympy/polys/rootisolation.py\u001b[0m in \u001b[0;36mrefine_size\u001b[0;34m(self, dx, dy)\u001b[0m\n\u001b[1;32m   2054\u001b[0m         \u001b[0mexpr\u001b[0m \u001b[0;34m=\u001b[0m \u001b[0mself\u001b[0m\u001b[0;34m\u001b[0m\u001b[0m\n\u001b[1;32m   2055\u001b[0m         \u001b[0;32mwhile\u001b[0m \u001b[0;32mnot\u001b[0m \u001b[0;34m(\u001b[0m\u001b[0mexpr\u001b[0m\u001b[0;34m.\u001b[0m\u001b[0mdx\u001b[0m \u001b[0;34m<\u001b[0m \u001b[0mdx\u001b[0m \u001b[0;32mand\u001b[0m \u001b[0mexpr\u001b[0m\u001b[0;34m.\u001b[0m\u001b[0mdy\u001b[0m \u001b[0;34m<\u001b[0m \u001b[0mdy\u001b[0m\u001b[0;34m)\u001b[0m\u001b[0;34m:\u001b[0m\u001b[0;34m\u001b[0m\u001b[0m\n\u001b[0;32m-> 2056\u001b[0;31m             \u001b[0mexpr\u001b[0m \u001b[0;34m=\u001b[0m \u001b[0mexpr\u001b[0m\u001b[0;34m.\u001b[0m\u001b[0m_inner_refine\u001b[0m\u001b[0;34m(\u001b[0m\u001b[0;34m)\u001b[0m\u001b[0;34m\u001b[0m\u001b[0m\n\u001b[0m\u001b[1;32m   2057\u001b[0m \u001b[0;34m\u001b[0m\u001b[0m\n\u001b[1;32m   2058\u001b[0m         \u001b[0;32mreturn\u001b[0m \u001b[0mexpr\u001b[0m\u001b[0;34m\u001b[0m\u001b[0m\n",
      "\u001b[0;32m~/miniconda3/envs/compana18/lib/python3.7/site-packages/sympy/polys/rootisolation.py\u001b[0m in \u001b[0;36m_inner_refine\u001b[0;34m(self)\u001b[0m\n\u001b[1;32m   2024\u001b[0m \u001b[0;34m\u001b[0m\u001b[0m\n\u001b[1;32m   2025\u001b[0m         \u001b[0;32mif\u001b[0m \u001b[0ms\u001b[0m \u001b[0;34m-\u001b[0m \u001b[0mu\u001b[0m \u001b[0;34m>\u001b[0m \u001b[0mt\u001b[0m \u001b[0;34m-\u001b[0m \u001b[0mv\u001b[0m\u001b[0;34m:\u001b[0m\u001b[0;34m\u001b[0m\u001b[0m\n\u001b[0;32m-> 2026\u001b[0;31m             \u001b[0mD_L\u001b[0m\u001b[0;34m,\u001b[0m \u001b[0mD_R\u001b[0m \u001b[0;34m=\u001b[0m \u001b[0m_vertical_bisection\u001b[0m\u001b[0;34m(\u001b[0m\u001b[0;36m1\u001b[0m\u001b[0;34m,\u001b[0m \u001b[0;34m(\u001b[0m\u001b[0mu\u001b[0m\u001b[0;34m,\u001b[0m \u001b[0mv\u001b[0m\u001b[0;34m)\u001b[0m\u001b[0;34m,\u001b[0m \u001b[0;34m(\u001b[0m\u001b[0ms\u001b[0m\u001b[0;34m,\u001b[0m \u001b[0mt\u001b[0m\u001b[0;34m)\u001b[0m\u001b[0;34m,\u001b[0m \u001b[0mI\u001b[0m\u001b[0;34m,\u001b[0m \u001b[0mQ\u001b[0m\u001b[0;34m,\u001b[0m \u001b[0mF1\u001b[0m\u001b[0;34m,\u001b[0m \u001b[0mF2\u001b[0m\u001b[0;34m,\u001b[0m \u001b[0mf1\u001b[0m\u001b[0;34m,\u001b[0m \u001b[0mf2\u001b[0m\u001b[0;34m,\u001b[0m \u001b[0mdom\u001b[0m\u001b[0;34m)\u001b[0m\u001b[0;34m\u001b[0m\u001b[0m\n\u001b[0m\u001b[1;32m   2027\u001b[0m \u001b[0;34m\u001b[0m\u001b[0m\n\u001b[1;32m   2028\u001b[0m             \u001b[0;32mif\u001b[0m \u001b[0mD_L\u001b[0m\u001b[0;34m[\u001b[0m\u001b[0;36m0\u001b[0m\u001b[0;34m]\u001b[0m \u001b[0;34m==\u001b[0m \u001b[0;36m1\u001b[0m\u001b[0;34m:\u001b[0m\u001b[0;34m\u001b[0m\u001b[0m\n",
      "\u001b[0;32m~/miniconda3/envs/compana18/lib/python3.7/site-packages/sympy/polys/rootisolation.py\u001b[0m in \u001b[0;36m_vertical_bisection\u001b[0;34m(N, a, b, I, Q, F1, F2, f1, f2, F)\u001b[0m\n\u001b[1;32m   1285\u001b[0m     \u001b[0mf2V\u001b[0m \u001b[0;34m=\u001b[0m \u001b[0mdmp_eval_in\u001b[0m\u001b[0;34m(\u001b[0m\u001b[0mf2\u001b[0m\u001b[0;34m,\u001b[0m \u001b[0mx\u001b[0m\u001b[0;34m,\u001b[0m \u001b[0;36m0\u001b[0m\u001b[0;34m,\u001b[0m \u001b[0;36m1\u001b[0m\u001b[0;34m,\u001b[0m \u001b[0mF\u001b[0m\u001b[0;34m)\u001b[0m\u001b[0;34m\u001b[0m\u001b[0m\n\u001b[1;32m   1286\u001b[0m \u001b[0;34m\u001b[0m\u001b[0m\n\u001b[0;32m-> 1287\u001b[0;31m     \u001b[0mI_V\u001b[0m \u001b[0;34m=\u001b[0m \u001b[0mdup_isolate_real_roots_list\u001b[0m\u001b[0;34m(\u001b[0m\u001b[0;34m[\u001b[0m\u001b[0mf1V\u001b[0m\u001b[0;34m,\u001b[0m \u001b[0mf2V\u001b[0m\u001b[0;34m]\u001b[0m\u001b[0;34m,\u001b[0m \u001b[0mF\u001b[0m\u001b[0;34m,\u001b[0m \u001b[0minf\u001b[0m\u001b[0;34m=\u001b[0m\u001b[0mv\u001b[0m\u001b[0;34m,\u001b[0m \u001b[0msup\u001b[0m\u001b[0;34m=\u001b[0m\u001b[0mt\u001b[0m\u001b[0;34m,\u001b[0m \u001b[0mfast\u001b[0m\u001b[0;34m=\u001b[0m\u001b[0;32mTrue\u001b[0m\u001b[0;34m,\u001b[0m \u001b[0mstrict\u001b[0m\u001b[0;34m=\u001b[0m\u001b[0;32mTrue\u001b[0m\u001b[0;34m,\u001b[0m \u001b[0mbasis\u001b[0m\u001b[0;34m=\u001b[0m\u001b[0;32mTrue\u001b[0m\u001b[0;34m)\u001b[0m\u001b[0;34m\u001b[0m\u001b[0m\n\u001b[0m\u001b[1;32m   1288\u001b[0m \u001b[0;34m\u001b[0m\u001b[0m\n\u001b[1;32m   1289\u001b[0m     \u001b[0mI_L1_L\u001b[0m\u001b[0;34m,\u001b[0m \u001b[0mI_L1_R\u001b[0m \u001b[0;34m=\u001b[0m \u001b[0;34m[\u001b[0m\u001b[0;34m]\u001b[0m\u001b[0;34m,\u001b[0m \u001b[0;34m[\u001b[0m\u001b[0;34m]\u001b[0m\u001b[0;34m\u001b[0m\u001b[0m\n",
      "\u001b[0;32m~/miniconda3/envs/compana18/lib/python3.7/site-packages/sympy/polys/rootisolation.py\u001b[0m in \u001b[0;36mdup_isolate_real_roots_list\u001b[0;34m(polys, K, eps, inf, sup, strict, basis, fast)\u001b[0m\n\u001b[1;32m    600\u001b[0m \u001b[0;34m\u001b[0m\u001b[0m\n\u001b[1;32m    601\u001b[0m     I_neg, I_pos = _real_isolate_and_disjoin(factors_list, K, eps=eps,\n\u001b[0;32m--> 602\u001b[0;31m         inf=inf, sup=sup, strict=strict, basis=basis, fast=fast)\n\u001b[0m\u001b[1;32m    603\u001b[0m \u001b[0;34m\u001b[0m\u001b[0m\n\u001b[1;32m    604\u001b[0m     \u001b[0mF\u001b[0m \u001b[0;34m=\u001b[0m \u001b[0mK\u001b[0m\u001b[0;34m.\u001b[0m\u001b[0mget_field\u001b[0m\u001b[0;34m(\u001b[0m\u001b[0;34m)\u001b[0m\u001b[0;34m\u001b[0m\u001b[0m\n",
      "\u001b[0;32m~/miniconda3/envs/compana18/lib/python3.7/site-packages/sympy/polys/rootisolation.py\u001b[0m in \u001b[0;36m_real_isolate_and_disjoin\u001b[0;34m(factors, K, eps, inf, sup, strict, basis, fast)\u001b[0m\n\u001b[1;32m    641\u001b[0m \u001b[0;34m\u001b[0m\u001b[0m\n\u001b[1;32m    642\u001b[0m     \u001b[0;32mfor\u001b[0m \u001b[0mi\u001b[0m\u001b[0;34m,\u001b[0m \u001b[0;34m(\u001b[0m\u001b[0mf\u001b[0m\u001b[0;34m,\u001b[0m \u001b[0mk\u001b[0m\u001b[0;34m)\u001b[0m \u001b[0;32min\u001b[0m \u001b[0menumerate\u001b[0m\u001b[0;34m(\u001b[0m\u001b[0mfactors\u001b[0m\u001b[0;34m)\u001b[0m\u001b[0;34m:\u001b[0m\u001b[0;34m\u001b[0m\u001b[0m\n\u001b[0;32m--> 643\u001b[0;31m         \u001b[0;32mfor\u001b[0m \u001b[0mF\u001b[0m\u001b[0;34m,\u001b[0m \u001b[0mM\u001b[0m \u001b[0;32min\u001b[0m \u001b[0mdup_inner_isolate_positive_roots\u001b[0m\u001b[0;34m(\u001b[0m\u001b[0mf\u001b[0m\u001b[0;34m,\u001b[0m \u001b[0mK\u001b[0m\u001b[0;34m,\u001b[0m \u001b[0meps\u001b[0m\u001b[0;34m=\u001b[0m\u001b[0meps\u001b[0m\u001b[0;34m,\u001b[0m \u001b[0minf\u001b[0m\u001b[0;34m=\u001b[0m\u001b[0minf\u001b[0m\u001b[0;34m,\u001b[0m \u001b[0msup\u001b[0m\u001b[0;34m=\u001b[0m\u001b[0msup\u001b[0m\u001b[0;34m,\u001b[0m \u001b[0mfast\u001b[0m\u001b[0;34m=\u001b[0m\u001b[0mfast\u001b[0m\u001b[0;34m,\u001b[0m \u001b[0mmobius\u001b[0m\u001b[0;34m=\u001b[0m\u001b[0;32mTrue\u001b[0m\u001b[0;34m)\u001b[0m\u001b[0;34m:\u001b[0m\u001b[0;34m\u001b[0m\u001b[0m\n\u001b[0m\u001b[1;32m    644\u001b[0m             \u001b[0mI_pos\u001b[0m\u001b[0;34m.\u001b[0m\u001b[0mappend\u001b[0m\u001b[0;34m(\u001b[0m\u001b[0;34m(\u001b[0m\u001b[0mF\u001b[0m\u001b[0;34m,\u001b[0m \u001b[0mM\u001b[0m\u001b[0;34m,\u001b[0m \u001b[0mk\u001b[0m\u001b[0;34m,\u001b[0m \u001b[0mf\u001b[0m\u001b[0;34m)\u001b[0m\u001b[0;34m)\u001b[0m\u001b[0;34m\u001b[0m\u001b[0m\n\u001b[1;32m    645\u001b[0m \u001b[0;34m\u001b[0m\u001b[0m\n",
      "\u001b[0;32m~/miniconda3/envs/compana18/lib/python3.7/site-packages/sympy/polys/rootisolation.py\u001b[0m in \u001b[0;36mdup_inner_isolate_positive_roots\u001b[0;34m(f, K, eps, inf, sup, fast, mobius)\u001b[0m\n\u001b[1;32m    433\u001b[0m     \u001b[0;32mif\u001b[0m \u001b[0minf\u001b[0m \u001b[0;32mis\u001b[0m \u001b[0;32mnot\u001b[0m \u001b[0;32mNone\u001b[0m \u001b[0;32mor\u001b[0m \u001b[0msup\u001b[0m \u001b[0;32mis\u001b[0m \u001b[0;32mnot\u001b[0m \u001b[0;32mNone\u001b[0m\u001b[0;34m:\u001b[0m\u001b[0;34m\u001b[0m\u001b[0m\n\u001b[1;32m    434\u001b[0m         \u001b[0;32mfor\u001b[0m \u001b[0mf\u001b[0m\u001b[0;34m,\u001b[0m \u001b[0mM\u001b[0m \u001b[0;32min\u001b[0m \u001b[0mroots\u001b[0m\u001b[0;34m:\u001b[0m\u001b[0;34m\u001b[0m\u001b[0m\n\u001b[0;32m--> 435\u001b[0;31m             \u001b[0mresult\u001b[0m \u001b[0;34m=\u001b[0m \u001b[0m_discard_if_outside_interval\u001b[0m\u001b[0;34m(\u001b[0m\u001b[0mf\u001b[0m\u001b[0;34m,\u001b[0m \u001b[0mM\u001b[0m\u001b[0;34m,\u001b[0m \u001b[0minf\u001b[0m\u001b[0;34m,\u001b[0m \u001b[0msup\u001b[0m\u001b[0;34m,\u001b[0m \u001b[0mK\u001b[0m\u001b[0;34m,\u001b[0m \u001b[0;32mFalse\u001b[0m\u001b[0;34m,\u001b[0m \u001b[0mfast\u001b[0m\u001b[0;34m,\u001b[0m \u001b[0mmobius\u001b[0m\u001b[0;34m)\u001b[0m\u001b[0;34m\u001b[0m\u001b[0m\n\u001b[0m\u001b[1;32m    436\u001b[0m \u001b[0;34m\u001b[0m\u001b[0m\n\u001b[1;32m    437\u001b[0m             \u001b[0;32mif\u001b[0m \u001b[0mresult\u001b[0m \u001b[0;32mis\u001b[0m \u001b[0;32mnot\u001b[0m \u001b[0;32mNone\u001b[0m\u001b[0;34m:\u001b[0m\u001b[0;34m\u001b[0m\u001b[0m\n",
      "\u001b[0;32m~/miniconda3/envs/compana18/lib/python3.7/site-packages/sympy/polys/rootisolation.py\u001b[0m in \u001b[0;36m_discard_if_outside_interval\u001b[0;34m(f, M, inf, sup, K, negative, fast, mobius)\u001b[0m\n\u001b[1;32m    420\u001b[0m             \u001b[0;32mreturn\u001b[0m \u001b[0;32mNone\u001b[0m\u001b[0;34m\u001b[0m\u001b[0m\n\u001b[1;32m    421\u001b[0m         \u001b[0;32melse\u001b[0m\u001b[0;34m:\u001b[0m\u001b[0;34m\u001b[0m\u001b[0m\n\u001b[0;32m--> 422\u001b[0;31m             \u001b[0mf\u001b[0m\u001b[0;34m,\u001b[0m \u001b[0mM\u001b[0m \u001b[0;34m=\u001b[0m \u001b[0mdup_step_refine_real_root\u001b[0m\u001b[0;34m(\u001b[0m\u001b[0mf\u001b[0m\u001b[0;34m,\u001b[0m \u001b[0mM\u001b[0m\u001b[0;34m,\u001b[0m \u001b[0mK\u001b[0m\u001b[0;34m,\u001b[0m \u001b[0mfast\u001b[0m\u001b[0;34m=\u001b[0m\u001b[0mfast\u001b[0m\u001b[0;34m)\u001b[0m\u001b[0;34m\u001b[0m\u001b[0m\n\u001b[0m\u001b[1;32m    423\u001b[0m \u001b[0;34m\u001b[0m\u001b[0m\n\u001b[1;32m    424\u001b[0m \u001b[0;32mdef\u001b[0m \u001b[0mdup_inner_isolate_positive_roots\u001b[0m\u001b[0;34m(\u001b[0m\u001b[0mf\u001b[0m\u001b[0;34m,\u001b[0m \u001b[0mK\u001b[0m\u001b[0;34m,\u001b[0m \u001b[0meps\u001b[0m\u001b[0;34m=\u001b[0m\u001b[0;32mNone\u001b[0m\u001b[0;34m,\u001b[0m \u001b[0minf\u001b[0m\u001b[0;34m=\u001b[0m\u001b[0;32mNone\u001b[0m\u001b[0;34m,\u001b[0m \u001b[0msup\u001b[0m\u001b[0;34m=\u001b[0m\u001b[0;32mNone\u001b[0m\u001b[0;34m,\u001b[0m \u001b[0mfast\u001b[0m\u001b[0;34m=\u001b[0m\u001b[0;32mFalse\u001b[0m\u001b[0;34m,\u001b[0m \u001b[0mmobius\u001b[0m\u001b[0;34m=\u001b[0m\u001b[0;32mFalse\u001b[0m\u001b[0;34m)\u001b[0m\u001b[0;34m:\u001b[0m\u001b[0;34m\u001b[0m\u001b[0m\n",
      "\u001b[0;32m~/miniconda3/envs/compana18/lib/python3.7/site-packages/sympy/polys/rootisolation.py\u001b[0m in \u001b[0;36mdup_step_refine_real_root\u001b[0;34m(f, M, K, fast)\u001b[0m\n\u001b[1;32m    185\u001b[0m         \u001b[0;32mreturn\u001b[0m \u001b[0mf\u001b[0m\u001b[0;34m,\u001b[0m \u001b[0;34m(\u001b[0m\u001b[0mb1\u001b[0m\u001b[0;34m,\u001b[0m \u001b[0mb1\u001b[0m\u001b[0;34m,\u001b[0m \u001b[0md1\u001b[0m\u001b[0;34m,\u001b[0m \u001b[0md1\u001b[0m\u001b[0;34m)\u001b[0m\u001b[0;34m\u001b[0m\u001b[0m\n\u001b[1;32m    186\u001b[0m \u001b[0;34m\u001b[0m\u001b[0m\n\u001b[0;32m--> 187\u001b[0;31m     \u001b[0mk\u001b[0m \u001b[0;34m=\u001b[0m \u001b[0mdup_sign_variations\u001b[0m\u001b[0;34m(\u001b[0m\u001b[0mf\u001b[0m\u001b[0;34m,\u001b[0m \u001b[0mK\u001b[0m\u001b[0;34m)\u001b[0m\u001b[0;34m\u001b[0m\u001b[0m\n\u001b[0m\u001b[1;32m    188\u001b[0m \u001b[0;34m\u001b[0m\u001b[0m\n\u001b[1;32m    189\u001b[0m     \u001b[0;32mif\u001b[0m \u001b[0mk\u001b[0m \u001b[0;34m==\u001b[0m \u001b[0;36m1\u001b[0m\u001b[0;34m:\u001b[0m\u001b[0;34m\u001b[0m\u001b[0m\n",
      "\u001b[0;32m~/miniconda3/envs/compana18/lib/python3.7/site-packages/sympy/polys/densetools.py\u001b[0m in \u001b[0;36mdup_sign_variations\u001b[0;34m(f, K)\u001b[0m\n\u001b[1;32m   1159\u001b[0m     \u001b[0;32mfor\u001b[0m \u001b[0mcoeff\u001b[0m \u001b[0;32min\u001b[0m \u001b[0mf\u001b[0m\u001b[0;34m:\u001b[0m\u001b[0;34m\u001b[0m\u001b[0m\n\u001b[1;32m   1160\u001b[0m         \u001b[0;32mif\u001b[0m \u001b[0mK\u001b[0m\u001b[0;34m.\u001b[0m\u001b[0mis_negative\u001b[0m\u001b[0;34m(\u001b[0m\u001b[0mcoeff\u001b[0m\u001b[0;34m*\u001b[0m\u001b[0mprev\u001b[0m\u001b[0;34m)\u001b[0m\u001b[0;34m:\u001b[0m\u001b[0;34m\u001b[0m\u001b[0m\n\u001b[0;32m-> 1161\u001b[0;31m             \u001b[0mk\u001b[0m \u001b[0;34m+=\u001b[0m \u001b[0;36m1\u001b[0m\u001b[0;34m\u001b[0m\u001b[0m\n\u001b[0m\u001b[1;32m   1162\u001b[0m \u001b[0;34m\u001b[0m\u001b[0m\n\u001b[1;32m   1163\u001b[0m         \u001b[0;32mif\u001b[0m \u001b[0mcoeff\u001b[0m\u001b[0;34m:\u001b[0m\u001b[0;34m\u001b[0m\u001b[0m\n",
      "\u001b[0;31mKeyboardInterrupt\u001b[0m: "
     ]
    }
   ],
   "source": [
    "for l in Lsg:\n",
    "    display(glg.subs(x,l).simplify())"
   ]
  },
  {
   "cell_type": "code",
   "execution_count": 58,
   "metadata": {
    "slideshow": {
     "slide_type": "fragment"
    }
   },
   "outputs": [
    {
     "data": {
      "image/png": "[encoded data removed]",
      "text/latex": [
       "$$7 + \\operatorname{CRootOf} {\\left(r^{5} - 20 r + 7, 3\\right)}^{5} - 20 \\operatorname{CRootOf} {\\left(r^{5} - 20 r + 7, 3\\right)}$$"
      ],
      "text/plain": [
       "                             5                               \n",
       "           ⎛ 5              ⎞              ⎛ 5              ⎞\n",
       "7 + CRootOf⎝r  - 20⋅r + 7, 3⎠  - 20⋅CRootOf⎝r  - 20⋅r + 7, 3⎠"
      ]
     },
     "execution_count": 58,
     "metadata": {},
     "output_type": "execute_result"
    }
   ],
   "source": [
    "alpha = glg.lhs.subs(x,l).simplify()\n",
    "alpha"
   ]
  },
  {
   "cell_type": "markdown",
   "metadata": {
    "slideshow": {
     "slide_type": "fragment"
    }
   },
   "source": [
    "Das ist genau das Polynom, dessen Nullstelle $\\alpha$ ist.  `sympy` kann das sehen, wenn man ein Hilfsmittel aus der Algebra einsetzt."
   ]
  },
  {
   "cell_type": "markdown",
   "metadata": {
    "slideshow": {
     "slide_type": "slide"
    }
   },
   "source": [
    "Das Minimalpolynom von $\\alpha$ ist ein Polynom $p$ minimalen Grades mit ganzen Koeffizienten mit $p(\\alpha)=0$.  \n",
    "\n",
    "Existiert nicht immer.  Thema der Algebra."
   ]
  },
  {
   "cell_type": "code",
   "execution_count": 61,
   "metadata": {
    "slideshow": {
     "slide_type": ""
    }
   },
   "outputs": [
    {
     "data": {
      "image/png": "[encoded data removed]",
      "text/latex": [
       "$$x - 18$$"
      ],
      "text/plain": [
       "x - 18"
      ]
     },
     "execution_count": 61,
     "metadata": {},
     "output_type": "execute_result"
    }
   ],
   "source": [
    "minimal_polynomial(18)"
   ]
  },
  {
   "cell_type": "code",
   "execution_count": 64,
   "metadata": {
    "slideshow": {
     "slide_type": "fragment"
    }
   },
   "outputs": [
    {
     "data": {
      "image/png": "[encoded data removed]",
      "text/latex": [
       "$$2 x^{2} - 3$$"
      ],
      "text/plain": [
       "   2    \n",
       "2⋅x  - 3"
      ]
     },
     "execution_count": 64,
     "metadata": {},
     "output_type": "execute_result"
    }
   ],
   "source": [
    "minimal_polynomial(sqrt(Rational(3,2)))"
   ]
  },
  {
   "cell_type": "code",
   "execution_count": null,
   "metadata": {
    "slideshow": {
     "slide_type": "fragment"
    }
   },
   "outputs": [],
   "source": [
    "#minimal_polynomial(pi)\n",
    "# NotAlgebraic Error"
   ]
  },
  {
   "cell_type": "code",
   "execution_count": 65,
   "metadata": {},
   "outputs": [
    {
     "data": {
      "image/png": "[encoded data removed]",
      "text/latex": [
       "$$x$$"
      ],
      "text/plain": [
       "x"
      ]
     },
     "execution_count": 65,
     "metadata": {},
     "output_type": "execute_result"
    }
   ],
   "source": [
    "minimal_polynomial(0)"
   ]
  },
  {
   "cell_type": "code",
   "execution_count": 68,
   "metadata": {
    "slideshow": {
     "slide_type": "slide"
    }
   },
   "outputs": [
    {
     "data": {
      "image/png": "[encoded data removed]",
      "text/latex": [
       "$$x$$"
      ],
      "text/plain": [
       "x"
      ]
     },
     "metadata": {},
     "output_type": "display_data"
    },
    {
     "data": {
      "image/png": "[encoded data removed]",
      "text/latex": [
       "$$x$$"
      ],
      "text/plain": [
       "x"
      ]
     },
     "metadata": {},
     "output_type": "display_data"
    },
    {
     "data": {
      "image/png": "[encoded data removed]",
      "text/latex": [
       "$$x$$"
      ],
      "text/plain": [
       "x"
      ]
     },
     "metadata": {},
     "output_type": "display_data"
    },
    {
     "data": {
      "image/png": "[encoded data removed]",
      "text/latex": [
       "$$x$$"
      ],
      "text/plain": [
       "x"
      ]
     },
     "metadata": {},
     "output_type": "display_data"
    },
    {
     "data": {
      "image/png": "[encoded data removed]",
      "text/latex": [
       "$$x$$"
      ],
      "text/plain": [
       "x"
      ]
     },
     "metadata": {},
     "output_type": "display_data"
    }
   ],
   "source": [
    "for l in Lsg:\n",
    "    display(minimal_polynomial(glg.lhs.subs(x,l)))"
   ]
  },
  {
   "cell_type": "code",
   "execution_count": 69,
   "metadata": {
    "slideshow": {
     "slide_type": "slide"
    }
   },
   "outputs": [
    {
     "data": {
      "image/png": "[encoded data removed]",
      "text/latex": [
       "$$\\left\\{\\frac{13}{3} + \\frac{4 \\sqrt{37} \\cos{\\left (\\frac{\\operatorname{atan}{\\left (\\frac{3 \\sqrt{227127}}{3305} \\right )}}{3} \\right )}}{3}, - \\frac{\\sqrt{37} \\cos{\\left (\\frac{\\operatorname{atan}{\\left (\\frac{3 \\sqrt{227127}}{3305} \\right )}}{3} \\right )}}{3} + \\frac{148 \\Re{\\left(\\frac{1}{\\left(- \\frac{1}{2} - \\frac{\\sqrt{3} i}{2}\\right) \\sqrt[3]{\\frac{3305}{54} + \\frac{\\sqrt{227127} i}{18}}}\\right)}}{9} + \\frac{\\sqrt{111} \\sin{\\left (\\frac{\\operatorname{atan}{\\left (\\frac{3 \\sqrt{227127}}{3305} \\right )}}{3} \\right )}}{3} + \\frac{13}{3} + i \\left(- \\frac{\\sqrt{111} \\cos{\\left (\\frac{\\operatorname{atan}{\\left (\\frac{3 \\sqrt{227127}}{3305} \\right )}}{3} \\right )}}{3} - \\frac{\\sqrt{37} \\sin{\\left (\\frac{\\operatorname{atan}{\\left (\\frac{3 \\sqrt{227127}}{3305} \\right )}}{3} \\right )}}{3} + \\frac{148 \\Im{\\left(\\frac{1}{\\left(- \\frac{1}{2} - \\frac{\\sqrt{3} i}{2}\\right) \\sqrt[3]{\\frac{3305}{54} + \\frac{\\sqrt{227127} i}{18}}}\\right)}}{9}\\right), \\frac{148 \\Re{\\left(\\frac{1}{\\left(- \\frac{1}{2} + \\frac{\\sqrt{3} i}{2}\\right) \\sqrt[3]{\\frac{3305}{54} + \\frac{\\sqrt{227127} i}{18}}}\\right)}}{9} - \\frac{\\sqrt{37} \\cos{\\left (\\frac{\\operatorname{atan}{\\left (\\frac{3 \\sqrt{227127}}{3305} \\right )}}{3} \\right )}}{3} - \\frac{\\sqrt{111} \\sin{\\left (\\frac{\\operatorname{atan}{\\left (\\frac{3 \\sqrt{227127}}{3305} \\right )}}{3} \\right )}}{3} + \\frac{13}{3} + i \\left(\\frac{148 \\Im{\\left(\\frac{1}{\\left(- \\frac{1}{2} + \\frac{\\sqrt{3} i}{2}\\right) \\sqrt[3]{\\frac{3305}{54} + \\frac{\\sqrt{227127} i}{18}}}\\right)}}{9} - \\frac{\\sqrt{37} \\sin{\\left (\\frac{\\operatorname{atan}{\\left (\\frac{3 \\sqrt{227127}}{3305} \\right )}}{3} \\right )}}{3} + \\frac{\\sqrt{111} \\cos{\\left (\\frac{\\operatorname{atan}{\\left (\\frac{3 \\sqrt{227127}}{3305} \\right )}}{3} \\right )}}{3}\\right)\\right\\}$$"
      ],
      "text/plain": [
       "⎧                                                                    ⎛        \n",
       "⎪              ⎛    ⎛3⋅√227127⎞⎞           ⎛    ⎛3⋅√227127⎞⎞   148⋅re⎜────────\n",
       "⎪              ⎜atan⎜─────────⎟⎟           ⎜atan⎜─────────⎟⎟         ⎜        \n",
       "⎪              ⎜    ⎝   3305  ⎠⎟           ⎜    ⎝   3305  ⎠⎟         ⎜⎛  1   √\n",
       "⎨     4⋅√37⋅cos⎜───────────────⎟    √37⋅cos⎜───────────────⎟         ⎜⎜- ─ - ─\n",
       "⎪13            ⎝       3       ⎠           ⎝       3       ⎠         ⎝⎝  2    \n",
       "⎪── + ──────────────────────────, - ──────────────────────── + ───────────────\n",
       "⎪3                3                            3                              \n",
       "⎩                                                                             \n",
       "\n",
       "         1                 ⎞                                      ⎛           \n",
       "───────────────────────────⎟           ⎛    ⎛3⋅√227127⎞⎞          ⎜          ⎛\n",
       "         __________________⎟           ⎜atan⎜─────────⎟⎟          ⎜          ⎜\n",
       "3⋅ⅈ⎞    ╱ 3305   √227127⋅ⅈ ⎟           ⎜    ⎝   3305  ⎠⎟          ⎜          ⎜\n",
       "───⎟⋅3 ╱  ──── + ───────── ⎟   √111⋅sin⎜───────────────⎟          ⎜  √111⋅cos⎜\n",
       "2  ⎠ ╲╱    54        18    ⎠           ⎝       3       ⎠   13     ⎜          ⎝\n",
       "──────────────────────────── + ───────────────────────── + ── + ⅈ⋅⎜- ─────────\n",
       "      9                                    3               3      ⎝           \n",
       "                                                                              \n",
       "\n",
       "                                                    ⎛                 1       \n",
       "    ⎛3⋅√227127⎞⎞          ⎛    ⎛3⋅√227127⎞⎞   148⋅im⎜─────────────────────────\n",
       "atan⎜─────────⎟⎟          ⎜atan⎜─────────⎟⎟         ⎜                 ________\n",
       "    ⎝   3305  ⎠⎟          ⎜    ⎝   3305  ⎠⎟         ⎜⎛  1   √3⋅ⅈ⎞    ╱ 3305   \n",
       "───────────────⎟   √37⋅sin⎜───────────────⎟         ⎜⎜- ─ - ────⎟⋅3 ╱  ──── + \n",
       "       3       ⎠          ⎝       3       ⎠         ⎝⎝  2    2  ⎠ ╲╱    54    \n",
       "──────────────── - ──────────────────────── + ────────────────────────────────\n",
       "   3                          3                                    9          \n",
       "                                                                              \n",
       "\n",
       "          ⎞⎞        ⎛                 1                 ⎞                     \n",
       "──────────⎟⎟  148⋅re⎜───────────────────────────────────⎟          ⎛    ⎛3⋅√22\n",
       "__________⎟⎟        ⎜                 __________________⎟          ⎜atan⎜─────\n",
       "√227127⋅ⅈ ⎟⎟        ⎜⎛  1   √3⋅ⅈ⎞    ╱ 3305   √227127⋅ⅈ ⎟          ⎜    ⎝   33\n",
       "───────── ⎟⎟        ⎜⎜- ─ + ────⎟⋅3 ╱  ──── + ───────── ⎟   √37⋅cos⎜──────────\n",
       "    18    ⎠⎟        ⎝⎝  2    2  ⎠ ╲╱    54        18    ⎠          ⎝       3  \n",
       "───────────⎟, ─────────────────────────────────────────── - ──────────────────\n",
       "           ⎠                       9                                   3      \n",
       "                                                                              \n",
       "\n",
       "                                            ⎛      ⎛                 1        \n",
       "7127⎞⎞           ⎛    ⎛3⋅√227127⎞⎞          ⎜148⋅im⎜──────────────────────────\n",
       "────⎟⎟           ⎜atan⎜─────────⎟⎟          ⎜      ⎜                 _________\n",
       "05  ⎠⎟           ⎜    ⎝   3305  ⎠⎟          ⎜      ⎜⎛  1   √3⋅ⅈ⎞    ╱ 3305   √\n",
       "─────⎟   √111⋅sin⎜───────────────⎟          ⎜      ⎜⎜- ─ + ────⎟⋅3 ╱  ──── + ─\n",
       "     ⎠           ⎝       3       ⎠   13     ⎜      ⎝⎝  2    2  ⎠ ╲╱    54     \n",
       "────── - ───────────────────────── + ── + ⅈ⋅⎜─────────────────────────────────\n",
       "                     3               3      ⎝                     9           \n",
       "                                                                              \n",
       "\n",
       "         ⎞                                                       ⎞⎫\n",
       "─────────⎟          ⎛    ⎛3⋅√227127⎞⎞           ⎛    ⎛3⋅√227127⎞⎞⎟⎪\n",
       "_________⎟          ⎜atan⎜─────────⎟⎟           ⎜atan⎜─────────⎟⎟⎟⎪\n",
       "227127⋅ⅈ ⎟          ⎜    ⎝   3305  ⎠⎟           ⎜    ⎝   3305  ⎠⎟⎟⎪\n",
       "──────── ⎟   √37⋅sin⎜───────────────⎟   √111⋅cos⎜───────────────⎟⎟⎬\n",
       "   18    ⎠          ⎝       3       ⎠           ⎝       3       ⎠⎟⎪\n",
       "────────── - ──────────────────────── + ─────────────────────────⎟⎪\n",
       "                        3                           3            ⎠⎪\n",
       "                                                                  ⎭"
      ]
     },
     "execution_count": 69,
     "metadata": {},
     "output_type": "execute_result"
    }
   ],
   "source": [
    "q = x**3 - 13*x**2 + 7*x + 10\n",
    "glg =Eq(q,0)\n",
    "solveset(glg)"
   ]
  },
  {
   "cell_type": "code",
   "execution_count": 70,
   "metadata": {
    "slideshow": {
     "slide_type": "slide"
    }
   },
   "outputs": [],
   "source": [
    "plt.figure()\n",
    "xn = np.linspace(-1, 13) \n",
    "qn = lambdify(x, q)\n",
    "plt.plot(xn, qn(xn));"
   ]
  },
  {
   "cell_type": "code",
   "execution_count": 71,
   "metadata": {
    "slideshow": {
     "slide_type": "slide"
    }
   },
   "outputs": [
    {
     "data": {
      "image/png": "[encoded data removed]",
      "text/latex": [
       "$$\\mathbb{R} \\cap \\left\\{- \\frac{\\sqrt{37} \\cos{\\left (\\frac{\\operatorname{atan}{\\left (\\frac{3 \\sqrt{227127}}{3305} \\right )}}{3} \\right )}}{3} + \\frac{148 \\Re{\\left(\\frac{1}{\\left(- \\frac{1}{2} - \\frac{\\sqrt{3} i}{2}\\right) \\sqrt[3]{\\frac{3305}{54} + \\frac{\\sqrt{227127} i}{18}}}\\right)}}{9} + \\frac{\\sqrt{111} \\sin{\\left (\\frac{\\operatorname{atan}{\\left (\\frac{3 \\sqrt{227127}}{3305} \\right )}}{3} \\right )}}{3} + \\frac{13}{3} + i \\left(- \\frac{\\sqrt{111} \\cos{\\left (\\frac{\\operatorname{atan}{\\left (\\frac{3 \\sqrt{227127}}{3305} \\right )}}{3} \\right )}}{3} - \\frac{\\sqrt{37} \\sin{\\left (\\frac{\\operatorname{atan}{\\left (\\frac{3 \\sqrt{227127}}{3305} \\right )}}{3} \\right )}}{3} + \\frac{148 \\Im{\\left(\\frac{1}{\\left(- \\frac{1}{2} - \\frac{\\sqrt{3} i}{2}\\right) \\sqrt[3]{\\frac{3305}{54} + \\frac{\\sqrt{227127} i}{18}}}\\right)}}{9}\\right)\\right\\} \\cup \\left\\{\\frac{13}{3} + \\frac{4 \\sqrt{37} \\cos{\\left (\\frac{\\operatorname{atan}{\\left (\\frac{3 \\sqrt{227127}}{3305} \\right )}}{3} \\right )}}{3}, \\frac{148 \\Re{\\left(\\frac{1}{\\left(- \\frac{1}{2} + \\frac{\\sqrt{3} i}{2}\\right) \\sqrt[3]{\\frac{3305}{54} + \\frac{\\sqrt{227127} i}{18}}}\\right)}}{9} - \\frac{\\sqrt{37} \\cos{\\left (\\frac{\\operatorname{atan}{\\left (\\frac{3 \\sqrt{227127}}{3305} \\right )}}{3} \\right )}}{3} - \\frac{\\sqrt{111} \\sin{\\left (\\frac{\\operatorname{atan}{\\left (\\frac{3 \\sqrt{227127}}{3305} \\right )}}{3} \\right )}}{3} + \\frac{13}{3} + i \\left(\\frac{148 \\Im{\\left(\\frac{1}{\\left(- \\frac{1}{2} + \\frac{\\sqrt{3} i}{2}\\right) \\sqrt[3]{\\frac{3305}{54} + \\frac{\\sqrt{227127} i}{18}}}\\right)}}{9} - \\frac{\\sqrt{37} \\sin{\\left (\\frac{\\operatorname{atan}{\\left (\\frac{3 \\sqrt{227127}}{3305} \\right )}}{3} \\right )}}{3} + \\frac{\\sqrt{111} \\cos{\\left (\\frac{\\operatorname{atan}{\\left (\\frac{3 \\sqrt{227127}}{3305} \\right )}}{3} \\right )}}{3}\\right)\\right\\}$$"
      ],
      "text/plain": [
       "⎛    ⎧                                   ⎛                 1                 ⎞\n",
       "⎜    ⎪         ⎛    ⎛3⋅√227127⎞⎞   148⋅re⎜───────────────────────────────────⎟\n",
       "⎜    ⎪         ⎜atan⎜─────────⎟⎟         ⎜                 __________________⎟\n",
       "⎜    ⎪         ⎜    ⎝   3305  ⎠⎟         ⎜⎛  1   √3⋅ⅈ⎞    ╱ 3305   √227127⋅ⅈ ⎟\n",
       "⎜    ⎨  √37⋅cos⎜───────────────⎟         ⎜⎜- ─ - ────⎟⋅3 ╱  ──── + ───────── ⎟\n",
       "⎜    ⎪         ⎝       3       ⎠         ⎝⎝  2    2  ⎠ ╲╱    54        18    ⎠\n",
       "⎜ℝ ∩ ⎪- ──────────────────────── + ───────────────────────────────────────────\n",
       "⎜    ⎪             3                                    9                     \n",
       "⎝    ⎩                                                                        \n",
       "\n",
       "                                      ⎛                                       \n",
       "           ⎛    ⎛3⋅√227127⎞⎞          ⎜          ⎛    ⎛3⋅√227127⎞⎞          ⎛ \n",
       "           ⎜atan⎜─────────⎟⎟          ⎜          ⎜atan⎜─────────⎟⎟          ⎜a\n",
       "           ⎜    ⎝   3305  ⎠⎟          ⎜          ⎜    ⎝   3305  ⎠⎟          ⎜ \n",
       "   √111⋅sin⎜───────────────⎟          ⎜  √111⋅cos⎜───────────────⎟   √37⋅sin⎜─\n",
       "           ⎝       3       ⎠   13     ⎜          ⎝       3       ⎠          ⎝ \n",
       " + ───────────────────────── + ── + ⅈ⋅⎜- ───────────────────────── - ─────────\n",
       "               3               3      ⎝              3                        \n",
       "                                                                              \n",
       "\n",
       "                        ⎛                 1                 ⎞⎞⎫⎞   ⎧          \n",
       "   ⎛3⋅√227127⎞⎞   148⋅im⎜───────────────────────────────────⎟⎟⎪⎟   ⎪          \n",
       "tan⎜─────────⎟⎟         ⎜                 __________________⎟⎟⎪⎟   ⎪          \n",
       "   ⎝   3305  ⎠⎟         ⎜⎛  1   √3⋅ⅈ⎞    ╱ 3305   √227127⋅ⅈ ⎟⎟⎪⎟   ⎪          \n",
       "──────────────⎟         ⎜⎜- ─ - ────⎟⋅3 ╱  ──── + ───────── ⎟⎟⎬⎟   ⎨     4⋅√37\n",
       "      3       ⎠         ⎝⎝  2    2  ⎠ ╲╱    54        18    ⎠⎟⎪⎟   ⎪13        \n",
       "─────────────── + ───────────────────────────────────────────⎟⎪⎟ ∪ ⎪── + ─────\n",
       "  3                                    9                     ⎠⎪⎟   ⎪3         \n",
       "                                                              ⎭⎠   ⎩          \n",
       "\n",
       "                             ⎛                 1                 ⎞            \n",
       "    ⎛    ⎛3⋅√227127⎞⎞  148⋅re⎜───────────────────────────────────⎟          ⎛ \n",
       "    ⎜atan⎜─────────⎟⎟        ⎜                 __________________⎟          ⎜a\n",
       "    ⎜    ⎝   3305  ⎠⎟        ⎜⎛  1   √3⋅ⅈ⎞    ╱ 3305   √227127⋅ⅈ ⎟          ⎜ \n",
       "⋅cos⎜───────────────⎟        ⎜⎜- ─ + ────⎟⋅3 ╱  ──── + ───────── ⎟   √37⋅cos⎜─\n",
       "    ⎝       3       ⎠        ⎝⎝  2    2  ⎠ ╲╱    54        18    ⎠          ⎝ \n",
       "─────────────────────, ─────────────────────────────────────────── - ─────────\n",
       "       3                                    9                                 \n",
       "                                                                              \n",
       "\n",
       "                                                     ⎛      ⎛                 \n",
       "   ⎛3⋅√227127⎞⎞           ⎛    ⎛3⋅√227127⎞⎞          ⎜148⋅im⎜─────────────────\n",
       "tan⎜─────────⎟⎟           ⎜atan⎜─────────⎟⎟          ⎜      ⎜                 \n",
       "   ⎝   3305  ⎠⎟           ⎜    ⎝   3305  ⎠⎟          ⎜      ⎜⎛  1   √3⋅ⅈ⎞    ╱\n",
       "──────────────⎟   √111⋅sin⎜───────────────⎟          ⎜      ⎜⎜- ─ + ────⎟⋅3 ╱ \n",
       "      3       ⎠           ⎝       3       ⎠   13     ⎜      ⎝⎝  2    2  ⎠ ╲╱  \n",
       "─────────────── - ───────────────────────── + ── + ⅈ⋅⎜────────────────────────\n",
       "  3                           3               3      ⎝                     9  \n",
       "                                                                              \n",
       "\n",
       "1                 ⎞                                                       ⎞⎫\n",
       "──────────────────⎟          ⎛    ⎛3⋅√227127⎞⎞           ⎛    ⎛3⋅√227127⎞⎞⎟⎪\n",
       "__________________⎟          ⎜atan⎜─────────⎟⎟           ⎜atan⎜─────────⎟⎟⎟⎪\n",
       " 3305   √227127⋅ⅈ ⎟          ⎜    ⎝   3305  ⎠⎟           ⎜    ⎝   3305  ⎠⎟⎟⎪\n",
       " ──── + ───────── ⎟   √37⋅sin⎜───────────────⎟   √111⋅cos⎜───────────────⎟⎟⎬\n",
       "  54        18    ⎠          ⎝       3       ⎠           ⎝       3       ⎠⎟⎪\n",
       "─────────────────── - ──────────────────────── + ─────────────────────────⎟⎪\n",
       "                                 3                           3            ⎠⎪\n",
       "                                                                           ⎭"
      ]
     },
     "execution_count": 71,
     "metadata": {},
     "output_type": "execute_result"
    }
   ],
   "source": [
    "solveset(glg, domain=Reals)"
   ]
  },
  {
   "cell_type": "markdown",
   "metadata": {
    "slideshow": {
     "slide_type": "fragment"
    }
   },
   "source": [
    "Das heißt, er weiß nicht, welche Lösungen reell sind.\n",
    "\n",
    "Die alte Funktion, `solve`, ist hier besser."
   ]
  },
  {
   "cell_type": "code",
   "execution_count": 72,
   "metadata": {
    "slideshow": {
     "slide_type": "slide"
    }
   },
   "outputs": [
    {
     "data": {
      "image/png": "[encoded data removed]",
      "text/latex": [
       "$$\\left [ \\frac{13}{3} + \\left(- \\frac{1}{2} - \\frac{\\sqrt{3} i}{2}\\right) \\sqrt[3]{\\frac{3305}{54} + \\frac{\\sqrt{227127} i}{18}} + \\frac{148}{9 \\left(- \\frac{1}{2} - \\frac{\\sqrt{3} i}{2}\\right) \\sqrt[3]{\\frac{3305}{54} + \\frac{\\sqrt{227127} i}{18}}}, \\quad \\frac{13}{3} + \\frac{148}{9 \\left(- \\frac{1}{2} + \\frac{\\sqrt{3} i}{2}\\right) \\sqrt[3]{\\frac{3305}{54} + \\frac{\\sqrt{227127} i}{18}}} + \\left(- \\frac{1}{2} + \\frac{\\sqrt{3} i}{2}\\right) \\sqrt[3]{\\frac{3305}{54} + \\frac{\\sqrt{227127} i}{18}}, \\quad \\frac{13}{3} + \\frac{148}{9 \\sqrt[3]{\\frac{3305}{54} + \\frac{\\sqrt{227127} i}{18}}} + \\sqrt[3]{\\frac{3305}{54} + \\frac{\\sqrt{227127} i}{18}}\\right ]$$"
      ],
      "text/plain": [
       "⎡                      __________________                                     \n",
       "⎢13   ⎛  1   √3⋅ⅈ⎞    ╱ 3305   √227127⋅ⅈ                     148              \n",
       "⎢── + ⎜- ─ - ────⎟⋅3 ╱  ──── + ─────────  + ──────────────────────────────────\n",
       "⎢3    ⎝  2    2  ⎠ ╲╱    54        18                          _______________\n",
       "⎢                                             ⎛  1   √3⋅ⅈ⎞    ╱ 3305   √227127\n",
       "⎢                                           9⋅⎜- ─ - ────⎟⋅3 ╱  ──── + ───────\n",
       "⎣                                             ⎝  2    2  ⎠ ╲╱    54        18 \n",
       "\n",
       "                                                                   ___________\n",
       "     13                    148                    ⎛  1   √3⋅ⅈ⎞    ╱ 3305   √22\n",
       "───, ── + ───────────────────────────────────── + ⎜- ─ + ────⎟⋅3 ╱  ──── + ───\n",
       "___  3                       __________________   ⎝  2    2  ⎠ ╲╱    54       \n",
       "⋅ⅈ          ⎛  1   √3⋅ⅈ⎞    ╱ 3305   √227127⋅ⅈ                                \n",
       "──        9⋅⎜- ─ + ────⎟⋅3 ╱  ──── + ─────────                                \n",
       "            ⎝  2    2  ⎠ ╲╱    54        18                                   \n",
       "\n",
       "_______                                      __________________⎤\n",
       "7127⋅ⅈ   13             148                 ╱ 3305   √227127⋅ⅈ ⎥\n",
       "────── , ── + ──────────────────────── + 3 ╱  ──── + ───────── ⎥\n",
       " 18      3          __________________   ╲╱    54        18    ⎥\n",
       "                   ╱ 3305   √227127⋅ⅈ                          ⎥\n",
       "              9⋅3 ╱  ──── + ─────────                          ⎥\n",
       "                ╲╱    54        18                             ⎦"
      ]
     },
     "execution_count": 72,
     "metadata": {},
     "output_type": "execute_result"
    }
   ],
   "source": [
    "lsg = solve(glg)\n",
    "lsg"
   ]
  },
  {
   "cell_type": "code",
   "execution_count": 73,
   "metadata": {
    "slideshow": {
     "slide_type": "slide"
    }
   },
   "outputs": [
    {
     "data": {
      "image/png": "[encoded data removed]",
      "text/latex": [
       "$$\\left [ \\operatorname{CRootOf} {\\left(x^{3} - 13 x^{2} + 7 x + 10, 0\\right)}, \\quad \\operatorname{CRootOf} {\\left(x^{3} - 13 x^{2} + 7 x + 10, 1\\right)}, \\quad \\operatorname{CRootOf} {\\left(x^{3} - 13 x^{2} + 7 x + 10, 2\\right)}\\right ]$$"
      ],
      "text/plain": [
       "⎡       ⎛ 3       2              ⎞         ⎛ 3       2              ⎞         \n",
       "⎣CRootOf⎝x  - 13⋅x  + 7⋅x + 10, 0⎠, CRootOf⎝x  - 13⋅x  + 7⋅x + 10, 1⎠, CRootOf\n",
       "\n",
       "⎛ 3       2              ⎞⎤\n",
       "⎝x  - 13⋅x  + 7⋅x + 10, 2⎠⎦"
      ]
     },
     "execution_count": 73,
     "metadata": {},
     "output_type": "execute_result"
    }
   ],
   "source": [
    "lsg = solve(glg, cubics=False)\n",
    "lsg "
   ]
  },
  {
   "cell_type": "code",
   "execution_count": 74,
   "metadata": {
    "slideshow": {
     "slide_type": "fragment"
    }
   },
   "outputs": [
    {
     "data": {
      "text/plain": [
       "(-1, 0)"
      ]
     },
     "metadata": {},
     "output_type": "display_data"
    },
    {
     "data": {
      "text/plain": [
       "(1, 2)"
      ]
     },
     "metadata": {},
     "output_type": "display_data"
    },
    {
     "data": {
      "text/plain": [
       "(12, 13)"
      ]
     },
     "metadata": {},
     "output_type": "display_data"
    }
   ],
   "source": [
    "for l in lsg:\n",
    "    display(l._get_interval())"
   ]
  },
  {
   "cell_type": "code",
   "execution_count": 75,
   "metadata": {
    "slideshow": {
     "slide_type": "slide"
    }
   },
   "outputs": [
    {
     "data": {
      "image/png": "[encoded data removed]",
      "text/latex": [
       "$$\\left\\{x = 2 y, x^{2} + y^{2} = 1\\right\\}$$"
      ],
      "text/plain": [
       "⎧          2    2    ⎫\n",
       "⎨x = 2⋅y, x  + y  = 1⎬\n",
       "⎩                    ⎭"
      ]
     },
     "execution_count": 75,
     "metadata": {},
     "output_type": "execute_result"
    }
   ],
   "source": [
    "Glg1 = Eq(x, 2*y)\n",
    "Glg2 = Eq(x**2+y**2, 1)\n",
    "Gls = {Glg1, Glg2}\n",
    "Gls"
   ]
  },
  {
   "cell_type": "markdown",
   "metadata": {},
   "source": [
    "Für Gleichungssysteme gibt es vorerst nur `solve` mit einem etwas anderen API"
   ]
  },
  {
   "cell_type": "code",
   "execution_count": 76,
   "metadata": {
    "slideshow": {
     "slide_type": ""
    }
   },
   "outputs": [
    {
     "data": {
      "image/png": "[encoded data removed]",
      "text/latex": [
       "$$\\left [ \\left \\{ x : - \\frac{2 \\sqrt{5}}{5}, \\quad y : - \\frac{\\sqrt{5}}{5}\\right \\}, \\quad \\left \\{ x : \\frac{2 \\sqrt{5}}{5}, \\quad y : \\frac{\\sqrt{5}}{5}\\right \\}\\right ]$$"
      ],
      "text/plain": [
       "⎡⎧   -2⋅√5      -√5 ⎫  ⎧   2⋅√5     √5⎫⎤\n",
       "⎢⎨x: ──────, y: ────⎬, ⎨x: ────, y: ──⎬⎥\n",
       "⎣⎩     5         5  ⎭  ⎩    5       5 ⎭⎦"
      ]
     },
     "execution_count": 76,
     "metadata": {},
     "output_type": "execute_result"
    }
   ],
   "source": [
    "Lsg = solve(Gls)\n",
    "Lsg   # Ausgabe als Dictionary, wenn Daten als Menge gegeben"
   ]
  },
  {
   "cell_type": "code",
   "execution_count": 77,
   "metadata": {
    "slideshow": {
     "slide_type": "slide"
    }
   },
   "outputs": [
    {
     "data": {
      "image/png": "[encoded data removed]",
      "text/latex": [
       "$$\\left [ \\mathrm{True}, \\quad \\mathrm{True}\\right ]$$"
      ],
      "text/plain": [
       "[True, True]"
      ]
     },
     "metadata": {},
     "output_type": "display_data"
    },
    {
     "data": {
      "image/png": "[encoded data removed]",
      "text/latex": [
       "$$\\left [ \\mathrm{True}, \\quad \\mathrm{True}\\right ]$$"
      ],
      "text/plain": [
       "[True, True]"
      ]
     },
     "metadata": {},
     "output_type": "display_data"
    }
   ],
   "source": [
    "for l in Lsg:\n",
    "    display([glg.subs(l) for glg in Gls])"
   ]
  },
  {
   "cell_type": "code",
   "execution_count": 78,
   "metadata": {
    "slideshow": {
     "slide_type": "slide"
    }
   },
   "outputs": [
    {
     "data": {
      "image/png": "[encoded data removed]",
      "text/latex": [
       "$$\\left\\{x = a y, x^{2} + y^{2} = 1\\right\\}$$"
      ],
      "text/plain": [
       "⎧          2    2    ⎫\n",
       "⎨x = a⋅y, x  + y  = 1⎬\n",
       "⎩                    ⎭"
      ]
     },
     "execution_count": 78,
     "metadata": {},
     "output_type": "execute_result"
    }
   ],
   "source": [
    "a = Symbol('a')\n",
    "Glg1 = Eq(x, a*y)\n",
    "Gls = {Glg1, Glg2}\n",
    "Gls"
   ]
  },
  {
   "cell_type": "code",
   "execution_count": 79,
   "metadata": {},
   "outputs": [
    {
     "data": {
      "image/png": "[encoded data removed]",
      "text/latex": [
       "$$\\left [ \\left \\{ a : - \\frac{\\sqrt{- \\left(y - 1\\right) \\left(y + 1\\right)}}{y}, \\quad x : - \\sqrt{- \\left(y - 1\\right) \\left(y + 1\\right)}\\right \\}, \\quad \\left \\{ a : \\frac{\\sqrt{- \\left(y - 1\\right) \\left(y + 1\\right)}}{y}, \\quad x : \\sqrt{- \\left(y - 1\\right) \\left(y + 1\\right)}\\right \\}\\right ]$$"
      ],
      "text/plain": [
       "⎡⎧      __________________                           ⎫  ⎧     ________________\n",
       "⎢⎪   -╲╱ -(y - 1)⋅(y + 1)          __________________⎪  ⎪   ╲╱ -(y - 1)⋅(y + 1\n",
       "⎢⎨a: ──────────────────────, x: -╲╱ -(y - 1)⋅(y + 1) ⎬, ⎨a: ──────────────────\n",
       "⎢⎪             y                                     ⎪  ⎪            y        \n",
       "⎣⎩                                                   ⎭  ⎩                     \n",
       "\n",
       "__                         ⎫⎤\n",
       ")        __________________⎪⎥\n",
       "──, x: ╲╱ -(y - 1)⋅(y + 1) ⎬⎥\n",
       "                           ⎪⎥\n",
       "                           ⎭⎦"
      ]
     },
     "execution_count": 79,
     "metadata": {},
     "output_type": "execute_result"
    }
   ],
   "source": [
    "solve(Gls)"
   ]
  },
  {
   "cell_type": "code",
   "execution_count": 80,
   "metadata": {
    "slideshow": {
     "slide_type": "fragment"
    }
   },
   "outputs": [
    {
     "data": {
      "image/png": "[encoded data removed]",
      "text/latex": [
       "$$\\left [ \\left \\{ x : - a \\sqrt{\\frac{1}{a^{2} + 1}}, \\quad y : - \\sqrt{\\frac{1}{a^{2} + 1}}\\right \\}, \\quad \\left \\{ x : a \\sqrt{\\frac{1}{a^{2} + 1}}, \\quad y : \\sqrt{\\frac{1}{a^{2} + 1}}\\right \\}\\right ]$$"
      ],
      "text/plain": [
       "⎡⎧           ________           ________⎫  ⎧          ________          ______\n",
       "⎢⎪          ╱   1              ╱   1    ⎪  ⎪         ╱   1             ╱   1  \n",
       "⎢⎨x: -a⋅   ╱  ────── , y: -   ╱  ────── ⎬, ⎨x: a⋅   ╱  ────── , y:    ╱  ─────\n",
       "⎢⎪        ╱    2             ╱    2     ⎪  ⎪       ╱    2            ╱    2   \n",
       "⎣⎩      ╲╱    a  + 1       ╲╱    a  + 1 ⎭  ⎩     ╲╱    a  + 1      ╲╱    a  + \n",
       "\n",
       "__⎫⎤\n",
       "  ⎪⎥\n",
       "─ ⎬⎥\n",
       "  ⎪⎥\n",
       "1 ⎭⎦"
      ]
     },
     "execution_count": 80,
     "metadata": {},
     "output_type": "execute_result"
    }
   ],
   "source": [
    "Lsg = solve(Gls, {x,y})\n",
    "Lsg"
   ]
  },
  {
   "cell_type": "code",
   "execution_count": 81,
   "metadata": {
    "slideshow": {
     "slide_type": "slide"
    }
   },
   "outputs": [
    {
     "data": {
      "image/png": "[encoded data removed]",
      "text/latex": [
       "$$\\left [ \\mathrm{True}, \\quad \\frac{a^{2}}{a^{2} + 1} + \\frac{1}{a^{2} + 1} = 1\\right ]$$"
      ],
      "text/plain": [
       "⎡         2               ⎤\n",
       "⎢        a        1       ⎥\n",
       "⎢True, ────── + ────── = 1⎥\n",
       "⎢       2        2        ⎥\n",
       "⎣      a  + 1   a  + 1    ⎦"
      ]
     },
     "metadata": {},
     "output_type": "display_data"
    },
    {
     "data": {
      "image/png": "[encoded data removed]",
      "text/latex": [
       "$$\\left [ \\mathrm{True}, \\quad \\frac{a^{2}}{a^{2} + 1} + \\frac{1}{a^{2} + 1} = 1\\right ]$$"
      ],
      "text/plain": [
       "⎡         2               ⎤\n",
       "⎢        a        1       ⎥\n",
       "⎢True, ────── + ────── = 1⎥\n",
       "⎢       2        2        ⎥\n",
       "⎣      a  + 1   a  + 1    ⎦"
      ]
     },
     "metadata": {},
     "output_type": "display_data"
    }
   ],
   "source": [
    "for l in Lsg:\n",
    "    display([glg.subs(l) for glg in Gls])"
   ]
  },
  {
   "cell_type": "code",
   "execution_count": 82,
   "metadata": {},
   "outputs": [
    {
     "data": {
      "image/png": "[encoded data removed]",
      "text/latex": [
       "$$\\left [ \\mathrm{True}, \\quad \\mathrm{True}\\right ]$$"
      ],
      "text/plain": [
       "[True, True]"
      ]
     },
     "metadata": {},
     "output_type": "display_data"
    },
    {
     "data": {
      "image/png": "[encoded data removed]",
      "text/latex": [
       "$$\\left [ \\mathrm{True}, \\quad \\mathrm{True}\\right ]$$"
      ],
      "text/plain": [
       "[True, True]"
      ]
     },
     "metadata": {},
     "output_type": "display_data"
    }
   ],
   "source": [
    "for l in Lsg:\n",
    "    display([glg.subs(l).simplify() for glg in Gls])"
   ]
  }
 ],
 "metadata": {
  "celltoolbar": "Slideshow",
  "kernelspec": {
   "display_name": "Python 3",
   "language": "python",
   "name": "python3"
  },
  "language_info": {
   "codemirror_mode": {
    "name": "ipython",
    "version": 3
   },
   "file_extension": ".py",
   "mimetype": "text/x-python",
   "name": "python",
   "nbconvert_exporter": "python",
   "pygments_lexer": "ipython3",
   "version": "3.7.0"
  }
 },
 "nbformat": 4,
 "nbformat_minor": 2
}
