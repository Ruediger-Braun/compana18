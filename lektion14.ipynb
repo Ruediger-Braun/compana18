{
 "cells": [
  {
   "cell_type": "code",
   "execution_count": null,
   "metadata": {},
   "outputs": [],
   "source": [
    "import numpy as np\n",
    "from sympy import *\n",
    "from scipy.spatial import Delaunay \n",
    "from mayavi import mlab\n",
    "init_printing()"
   ]
  },
  {
   "cell_type": "code",
   "execution_count": null,
   "metadata": {},
   "outputs": [],
   "source": [
    "rn = np.linspace(0, 5*np.pi)\n",
    "theta_n = np.linspace(0, 2*np.pi)\n",
    "R, Theta = np.meshgrid(rn, theta_n)\n",
    "X = R*np.cos(Theta)\n",
    "Y = R*np.sin(Theta)\n",
    "W = np.cos(np.sqrt(X**2+Y**2))"
   ]
  },
  {
   "cell_type": "code",
   "execution_count": null,
   "metadata": {},
   "outputs": [],
   "source": [
    "mlab.mesh(X, Y, W)\n",
    "mlab.show()"
   ]
  },
  {
   "cell_type": "code",
   "execution_count": null,
   "metadata": {},
   "outputs": [],
   "source": [
    "mlab.mesh(X, Y, W, scalars=1/(R+10), colormap='inferno')\n",
    "mlab.show()"
   ]
  },
  {
   "cell_type": "code",
   "execution_count": null,
   "metadata": {},
   "outputs": [],
   "source": []
  },
  {
   "cell_type": "code",
   "execution_count": null,
   "metadata": {},
   "outputs": [],
   "source": []
  },
  {
   "cell_type": "code",
   "execution_count": null,
   "metadata": {},
   "outputs": [],
   "source": []
  },
  {
   "cell_type": "code",
   "execution_count": null,
   "metadata": {},
   "outputs": [],
   "source": [
    "x = [0, 1, 0, 0]\n",
    "y = [0, 0, 0, 1]\n",
    "z = [0, 0, 1, 0]\n",
    "dreiecke = [[0,1,2], [0,1,3], [0,2,3],[1,2,3]]\n",
    "mlab.triangular_mesh(x, y, z, dreiecke, colormap='viridis')\n",
    "mlab.show()"
   ]
  },
  {
   "cell_type": "code",
   "execution_count": null,
   "metadata": {},
   "outputs": [],
   "source": [
    "mlab.triangular_mesh(x, y, z, dreiecke, scalars=np.arange(4), colormap='hot')\n",
    "# legt die Farben der Ecken fest\n",
    "mlab.show()"
   ]
  },
  {
   "cell_type": "code",
   "execution_count": null,
   "metadata": {},
   "outputs": [],
   "source": [
    "z = Symbol('z')"
   ]
  },
  {
   "cell_type": "code",
   "execution_count": null,
   "metadata": {},
   "outputs": [],
   "source": [
    "v = z/(1+z**4)\n",
    "pole = [complex(p.n()) for p in solveset(Eq(denom(v), 0))]"
   ]
  },
  {
   "cell_type": "code",
   "execution_count": null,
   "metadata": {},
   "outputs": [],
   "source": [
    "pole"
   ]
  },
  {
   "cell_type": "code",
   "execution_count": null,
   "metadata": {},
   "outputs": [],
   "source": [
    "epsilon = .07\n",
    "\n",
    "def dreieck_gueltig(simplex, d):\n",
    "    punkte = [d.points[nr] for nr in simplex]\n",
    "    for p in punkte:\n",
    "        z = p[0] + 1j*p[1]\n",
    "        for pol in pole:\n",
    "            if abs(pol-z) < .999*epsilon:\n",
    "                return False\n",
    "    return True\n",
    "\n",
    "def plot_rational_curve():\n",
    "    r = np.linspace(0, 2, 100)\n",
    "    phi = np.linspace(0, 2*np.pi, 400)\n",
    "    R, Phi = np.meshgrid(r, phi)\n",
    "    Rf = R.flatten()\n",
    "    Phi_f = Phi.flatten()\n",
    "    Z = Rf*np.exp(1j*Phi_f)\n",
    "    tn = np.linspace(0, 2*np.pi, 120)\n",
    "    for pol in pole:\n",
    "        z_neu = pol + epsilon*np.exp(1j*tn)\n",
    "        Z = np.hstack([Z, z_neu])\n",
    "    X = Z.real\n",
    "    Y = Z.imag\n",
    "    V = Z / (1+Z**4)\n",
    "    W = abs(V)\n",
    "    Theta = np.angle(V)\n",
    "    d = Delaunay(np.array([X, Y]).T)\n",
    "    simplices = [s for s in d.simplices if dreieck_gueltig(s, d)] \n",
    "    mlab.triangular_mesh(X, Y, W, simplices,\n",
    "                         scalars=Theta, colormap='hsv')"
   ]
  },
  {
   "cell_type": "code",
   "execution_count": null,
   "metadata": {},
   "outputs": [],
   "source": [
    "plot_rational_curve()\n",
    "mlab.show()"
   ]
  },
  {
   "cell_type": "code",
   "execution_count": null,
   "metadata": {},
   "outputs": [],
   "source": [
    "def plot_moebiusband():\n",
    "    t = sympy.Symbol('t')\n",
    "    s = sympy.Symbol('s')\n",
    "    M = sympy.Matrix([ 3*sympy.cos(t) + s*sympy.sin(t/2),\n",
    "                       3*sympy.sin(t),\n",
    "                       s*sympy.cos(t/2)])\n",
    "    sn = np.linspace(-1, 1)\n",
    "    tn = np.linspace(0, 2*np.pi)\n",
    "    S1, T1 = np.meshgrid(sn, tn)\n",
    "    Sn, Tn = S1.T, T1.T\n",
    "    fn = [sympy.lambdify((s,t), M[j], 'numpy') for j in range(3)]\n",
    "    Xn = [fn[j](Sn, Tn) for j in range(3)]\n",
    "    mlab.mesh(Xn[0], Xn[1], Xn[2], color=(1,0,0))\n",
    "    return M"
   ]
  },
  {
   "cell_type": "code",
   "execution_count": null,
   "metadata": {},
   "outputs": [],
   "source": [
    "def plot_normale(M):\n",
    "    s = sympy.Symbol('s')\n",
    "    t = sympy.Symbol('t')\n",
    "    seele = M.subs(s, 0)\n",
    "    Mt = seele.diff(t)\n",
    "    Ms = M.diff(s)\n",
    "    display(Mt, Ms)\n",
    "    N = Mt.cross(Ms)\n",
    "    display(N)\n",
    "    N_ein = seele + s*N/N.norm()\n",
    "    sn = np.linspace(0.05, 1)\n",
    "    tn = np.linspace(0, 2*np.pi)\n",
    "    S1, T1 = np.meshgrid(sn, tn)\n",
    "    Sn, Tn = S1.T, T1.T\n",
    "    Nn = [sympy.lambdify((s,t), N_ein[j], 'numpy') for j in range(3)]\n",
    "    Xn = [Nn[j](Sn, Tn) for j in range(3)]\n",
    "    mlab.mesh(Xn[0], Xn[1], Xn[2], color=(1,.8,0))"
   ]
  },
  {
   "cell_type": "code",
   "execution_count": null,
   "metadata": {},
   "outputs": [],
   "source": [
    "test_triangular_mesh('hsv')\n",
    "mlab.show()"
   ]
  },
  {
   "cell_type": "code",
   "execution_count": null,
   "metadata": {},
   "outputs": [],
   "source": [
    "M = plot_moebiusband()\n",
    "plot_normale(M)\n",
    "mlab.show()"
   ]
  },
  {
   "cell_type": "code",
   "execution_count": null,
   "metadata": {},
   "outputs": [],
   "source": [
    "import matplotlib.pyplot as plt\n",
    "import numpy as np"
   ]
  },
  {
   "cell_type": "code",
   "execution_count": null,
   "metadata": {},
   "outputs": [],
   "source": [
    "?Delaunay"
   ]
  },
  {
   "cell_type": "code",
   "execution_count": null,
   "metadata": {},
   "outputs": [],
   "source": [
    "r = np.linspace(1,3,10)\n",
    "theta = np.linspace(0, 2*np.pi, 20)\n",
    "R, Theta = np.meshgrid(r, theta)"
   ]
  },
  {
   "cell_type": "code",
   "execution_count": null,
   "metadata": {},
   "outputs": [],
   "source": [
    "X = R*np.cos(Theta)\n",
    "Y = R*np.sin(Theta)\n",
    "plt.plot(X, Y, 'o')\n",
    "plt.axis('equal')"
   ]
  },
  {
   "cell_type": "code",
   "execution_count": null,
   "metadata": {},
   "outputs": [],
   "source": [
    "plt.plot(X.flatten(), Y.flatten(), '-')\n",
    "plt.axis('equal');"
   ]
  },
  {
   "cell_type": "code",
   "execution_count": null,
   "metadata": {},
   "outputs": [],
   "source": [
    "punkte = list(zip(X.flatten(), Y.flatten()))\n",
    "dreiecke = Delaunay(punkte);"
   ]
  },
  {
   "cell_type": "code",
   "execution_count": null,
   "metadata": {},
   "outputs": [],
   "source": [
    "d = dreiecke.simplices[0]\n",
    "d"
   ]
  },
  {
   "cell_type": "code",
   "execution_count": null,
   "metadata": {},
   "outputs": [],
   "source": [
    "def plot_strecke(p1, p2, polar):\n",
    "    if polar:\n",
    "        x = [p*np.cos(t) for p, t in [p1, p2]]\n",
    "        y = [p*np.sin(t) for p, t in [p1, p2]]\n",
    "    else:\n",
    "        x = [p1[0], p2[0]]\n",
    "        y = [p1[1], p2[1]]\n",
    "    plt.plot(x, y, 'k')\n",
    "\n",
    "def plot_dreieck(dreieck, dreiecke, polar=False):\n",
    "    punkte = [dreiecke.points[nr] for nr in dreieck]\n",
    "    for j in range(3):\n",
    "        plot_strecke(punkte[j], punkte[(j+1)%3], polar)  "
   ]
  },
  {
   "cell_type": "code",
   "execution_count": null,
   "metadata": {},
   "outputs": [],
   "source": [
    "plot_dreieck(dreiecke.simplices[0], dreiecke)"
   ]
  },
  {
   "cell_type": "code",
   "execution_count": null,
   "metadata": {},
   "outputs": [],
   "source": [
    "for dreieck in dreiecke.simplices:\n",
    "    plot_dreieck(dreieck, dreiecke)\n",
    "    plt.axis('equal')"
   ]
  },
  {
   "cell_type": "markdown",
   "metadata": {},
   "source": [
    "Delaunay trianguliert immer die konvexe Hülle"
   ]
  },
  {
   "cell_type": "code",
   "execution_count": null,
   "metadata": {},
   "outputs": [],
   "source": [
    "d = Delaunay(list(zip(R.flatten(), Theta.flatten())))"
   ]
  },
  {
   "cell_type": "code",
   "execution_count": null,
   "metadata": {},
   "outputs": [],
   "source": [
    "for dreieck in d.simplices:\n",
    "    plot_dreieck(dreieck, d, polar=True)\n",
    "    plt.axis('equal')"
   ]
  },
  {
   "cell_type": "code",
   "execution_count": null,
   "metadata": {},
   "outputs": [],
   "source": []
  }
 ],
 "metadata": {
  "kernelspec": {
   "display_name": "Python 3",
   "language": "python",
   "name": "python3"
  },
  "language_info": {
   "codemirror_mode": {
    "name": "ipython",
    "version": 3
   },
   "file_extension": ".py",
   "mimetype": "text/x-python",
   "name": "python",
   "nbconvert_exporter": "python",
   "pygments_lexer": "ipython3",
   "version": "3.6.7"
  }
 },
 "nbformat": 4,
 "nbformat_minor": 2
}
