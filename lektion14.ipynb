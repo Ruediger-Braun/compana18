{
 "cells": [
  {
   "cell_type": "markdown",
   "metadata": {
    "slideshow": {
     "slide_type": "slide"
    }
   },
   "source": [
    "# Computergestützte Mathematik zur Analysis\n",
    "\n",
    "31.01.2019\n",
    "\n",
    "&copy; Rüdiger W. Braun"
   ]
  },
  {
   "cell_type": "markdown",
   "metadata": {},
   "source": [
    "Bitte lesen Sie die Hinweise zur [Klausurdurchführung](https://github.com/Ruediger-Braun/compana18#prufungsdurchfuhrung)"
   ]
  },
  {
   "cell_type": "code",
   "execution_count": null,
   "metadata": {
    "slideshow": {
     "slide_type": "slide"
    }
   },
   "outputs": [],
   "source": [
    "import numpy as np\n",
    "from sympy import *\n",
    "import matplotlib.pyplot as plt\n",
    "from scipy.spatial import Delaunay \n",
    "from mayavi import mlab\n",
    "init_printing()\n",
    "mlab.init_notebook()"
   ]
  },
  {
   "cell_type": "markdown",
   "metadata": {
    "slideshow": {
     "slide_type": "slide"
    }
   },
   "source": [
    "# benutzerspezifische trigonometrische Vereinfachungen"
   ]
  },
  {
   "cell_type": "markdown",
   "metadata": {},
   "source": [
    "Aufgabe:  ersetze $\\sin(x) + \\sin(y)$ durch\n",
    "$2 \\sin{\\left (\\frac{x}{2} + \\frac{y}{2} \\right )} \\cos{\\left (\\frac{x}{2} - \\frac{y}{2} \\right )}$"
   ]
  },
  {
   "cell_type": "code",
   "execution_count": null,
   "metadata": {},
   "outputs": [],
   "source": [
    "x = Symbol('x')\n",
    "y = Symbol('y')\n",
    "b = sin(x) + sin(y)\n",
    "b"
   ]
  },
  {
   "cell_type": "code",
   "execution_count": null,
   "metadata": {},
   "outputs": [],
   "source": [
    "b.count_ops(visual=True)"
   ]
  },
  {
   "cell_type": "code",
   "execution_count": null,
   "metadata": {
    "slideshow": {
     "slide_type": "slide"
    }
   },
   "outputs": [],
   "source": [
    "def my_measure(expr):\n",
    "    opc = expr.count_ops(visual=True)\n",
    "    print(opc)   # zur Fehlersuche\n",
    "    wert = {}\n",
    "    wert['ADD'] = 1\n",
    "    wert['SIN'] = 1\n",
    "    wert['MUL'] = -100  # Multiplikationen werden belohnt\n",
    "    return opc.subs(wert)"
   ]
  },
  {
   "cell_type": "code",
   "execution_count": null,
   "metadata": {},
   "outputs": [],
   "source": [
    "my_measure(b)"
   ]
  },
  {
   "cell_type": "code",
   "execution_count": null,
   "metadata": {
    "slideshow": {
     "slide_type": "fragment"
    }
   },
   "outputs": [],
   "source": [
    "b.trigsimp(method='fu', measure=my_measure)  \n",
    "# TypeError, weil nicht genügend Werte vereinbart sind"
   ]
  },
  {
   "cell_type": "code",
   "execution_count": null,
   "metadata": {
    "slideshow": {
     "slide_type": "slide"
    }
   },
   "outputs": [],
   "source": [
    "def my_measure(expr):\n",
    "    opc = expr.count_ops(visual=True)\n",
    "    wert = {}\n",
    "    wert['ADD'] = 1\n",
    "    wert['SIN'] = 1\n",
    "    wert['MUL'] = -100\n",
    "    wert['COS'] = 1\n",
    "    wert['DIV'] = 1 \n",
    "    wert['SUB'] = 1\n",
    "    return opc.subs(wert)"
   ]
  },
  {
   "cell_type": "code",
   "execution_count": null,
   "metadata": {},
   "outputs": [],
   "source": [
    "b.trigsimp(method='fu', measure=my_measure)"
   ]
  },
  {
   "cell_type": "code",
   "execution_count": null,
   "metadata": {
    "slideshow": {
     "slide_type": "fragment"
    }
   },
   "outputs": [],
   "source": [
    "_.trigsimp()"
   ]
  },
  {
   "cell_type": "code",
   "execution_count": null,
   "metadata": {
    "slideshow": {
     "slide_type": "slide"
    }
   },
   "outputs": [],
   "source": [
    "e = tan(x) + cot(y)\n",
    "e.simplify()"
   ]
  },
  {
   "cell_type": "code",
   "execution_count": null,
   "metadata": {},
   "outputs": [],
   "source": [
    "def my_measure(expr):\n",
    "    opc = expr.count_ops(visual=True)\n",
    "    wert = {}\n",
    "    wert['ADD'] = 1\n",
    "    wert['SIN'] = 1\n",
    "    wert['COS'] = 1\n",
    "    wert['TAN'] = 100\n",
    "    wert['COT'] = 100\n",
    "    wert['DIV'] = 1\n",
    "    return opc.subs(wert)"
   ]
  },
  {
   "cell_type": "code",
   "execution_count": null,
   "metadata": {
    "slideshow": {
     "slide_type": "slide"
    }
   },
   "outputs": [],
   "source": [
    "e1 = e.trigsimp(method='fu', measure=my_measure)\n",
    "e1"
   ]
  },
  {
   "cell_type": "code",
   "execution_count": null,
   "metadata": {
    "slideshow": {
     "slide_type": "fragment"
    }
   },
   "outputs": [],
   "source": [
    "e2 = e1.ratsimp()\n",
    "e2"
   ]
  },
  {
   "cell_type": "code",
   "execution_count": null,
   "metadata": {
    "slideshow": {
     "slide_type": "fragment"
    }
   },
   "outputs": [],
   "source": [
    "numer(e2).trigsimp() / denom(e2)"
   ]
  },
  {
   "cell_type": "markdown",
   "metadata": {
    "slideshow": {
     "slide_type": "slide"
    }
   },
   "source": [
    "# Mayavi"
   ]
  },
  {
   "cell_type": "code",
   "execution_count": null,
   "metadata": {},
   "outputs": [],
   "source": [
    "rn = np.linspace(0, 5*np.pi)\n",
    "theta_n = np.linspace(0, 2*np.pi)\n",
    "R, Theta = np.meshgrid(rn, theta_n)\n",
    "X = R*np.cos(Theta)\n",
    "Y = R*np.sin(Theta)\n",
    "W = np.cos(np.sqrt(X**2+Y**2))"
   ]
  },
  {
   "cell_type": "code",
   "execution_count": null,
   "metadata": {
    "slideshow": {
     "slide_type": "slide"
    }
   },
   "outputs": [],
   "source": [
    "mlab.mesh(X, Y, W)"
   ]
  },
  {
   "cell_type": "code",
   "execution_count": null,
   "metadata": {
    "slideshow": {
     "slide_type": "slide"
    }
   },
   "outputs": [],
   "source": [
    "mlab.close()\n",
    "mlab.mesh(X, Y, W, scalars=1/(R+10), colormap='inferno')"
   ]
  },
  {
   "cell_type": "code",
   "execution_count": null,
   "metadata": {
    "slideshow": {
     "slide_type": "slide"
    }
   },
   "outputs": [],
   "source": [
    "def moebiusband():\n",
    "    t = Symbol('t')  # Winkel theta gegen die Ebene\n",
    "    s = Symbol('s')  # Seele\n",
    "    M = Matrix([ 3*cos(t) + s*sin(t/2),\n",
    "                       3*sin(t),\n",
    "                       s*cos(t/2)])\n",
    "    sn = np.linspace(-1, 1)\n",
    "    tn = np.linspace(0, 2*np.pi)\n",
    "    S1, T1 = np.meshgrid(sn, tn)\n",
    "    Sn, Tn = S1.T, T1.T\n",
    "    fn = [lambdify((s,t), M[j], 'numpy') for j in range(3)]\n",
    "    Xn = [fn[j](Sn, Tn) for j in range(3)]\n",
    "    return M, Xn, T1 "
   ]
  },
  {
   "cell_type": "code",
   "execution_count": null,
   "metadata": {
    "slideshow": {
     "slide_type": "slide"
    }
   },
   "outputs": [],
   "source": [
    "def normale(M):\n",
    "    s = Symbol('s')\n",
    "    t = Symbol('t')\n",
    "    seele = M.subs(s, 0)\n",
    "    Mt = seele.diff(t)\n",
    "    Ms = M.diff(s)\n",
    "    display(Mt, Ms)\n",
    "    N = Mt.cross(Ms)\n",
    "    display(N)\n",
    "    N_ein = seele + s*N/N.norm()\n",
    "    sn = np.linspace(0.05, 1)\n",
    "    tn = np.linspace(0, 2*np.pi)\n",
    "    S1, T1 = np.meshgrid(sn, tn)\n",
    "    Sn, Tn = S1.T, T1.T\n",
    "    Nn = [lambdify((s,t), N_ein[j], 'numpy') for j in range(3)]\n",
    "    Xn = [Nn[j](Sn, Tn) for j in range(3)]\n",
    "    return Xn"
   ]
  },
  {
   "cell_type": "code",
   "execution_count": null,
   "metadata": {
    "slideshow": {
     "slide_type": "slide"
    }
   },
   "outputs": [],
   "source": [
    "M, Xn, T1 = moebiusband()\n",
    "Nn = normale(M)"
   ]
  },
  {
   "cell_type": "code",
   "execution_count": null,
   "metadata": {
    "slideshow": {
     "slide_type": "slide"
    }
   },
   "outputs": [],
   "source": [
    "mlab.close()\n",
    "mlab.mesh(Xn[0], Xn[1], Xn[2], scalars=T1)"
   ]
  },
  {
   "cell_type": "code",
   "execution_count": null,
   "metadata": {
    "slideshow": {
     "slide_type": "slide"
    }
   },
   "outputs": [],
   "source": [
    "mlab.mesh(Nn[0], Nn[1], Nn[2], color=(0, .3, 0)) "
   ]
  },
  {
   "cell_type": "code",
   "execution_count": null,
   "metadata": {
    "slideshow": {
     "slide_type": "slide"
    }
   },
   "outputs": [],
   "source": [
    "mlab.close()\n",
    "x = [0, 1, 0, 0]\n",
    "y = [0, 0, 0, 1]\n",
    "z = [0, 0, 1, 0]\n",
    "dreiecke = [[0,1,2], [0,1,3], [0,2,3],[1,2,3]]\n",
    "mlab.triangular_mesh(x, y, z, dreiecke, colormap='viridis')"
   ]
  },
  {
   "cell_type": "code",
   "execution_count": null,
   "metadata": {
    "slideshow": {
     "slide_type": "slide"
    }
   },
   "outputs": [],
   "source": [
    "mlab.close()\n",
    "mlab.triangular_mesh(x, y, z, dreiecke, scalars=np.arange(4), colormap='hot')\n",
    "# legt die Farben der Ecken fest"
   ]
  },
  {
   "cell_type": "markdown",
   "metadata": {
    "slideshow": {
     "slide_type": "slide"
    }
   },
   "source": [
    "Triangulierungen"
   ]
  },
  {
   "cell_type": "code",
   "execution_count": null,
   "metadata": {},
   "outputs": [],
   "source": [
    "from scipy.spatial import Delaunay"
   ]
  },
  {
   "cell_type": "code",
   "execution_count": null,
   "metadata": {},
   "outputs": [],
   "source": [
    "r = np.linspace(1,3,10)\n",
    "theta = np.linspace(0, 2*np.pi, 20)\n",
    "R, Theta = np.meshgrid(r, theta)"
   ]
  },
  {
   "cell_type": "code",
   "execution_count": null,
   "metadata": {},
   "outputs": [],
   "source": [
    "X = R*np.cos(Theta)\n",
    "Y = R*np.sin(Theta)\n",
    "Xf = X.flatten()\n",
    "Yf = Y.flatten()"
   ]
  },
  {
   "cell_type": "code",
   "execution_count": null,
   "metadata": {
    "slideshow": {
     "slide_type": "slide"
    }
   },
   "outputs": [],
   "source": [
    "punkte = np.vstack([Xf, Yf]).T\n",
    "dreiecke = Delaunay(punkte);"
   ]
  },
  {
   "cell_type": "code",
   "execution_count": null,
   "metadata": {},
   "outputs": [],
   "source": [
    "d = dreiecke.simplices[0]\n",
    "d"
   ]
  },
  {
   "cell_type": "code",
   "execution_count": null,
   "metadata": {
    "slideshow": {
     "slide_type": "slide"
    }
   },
   "outputs": [],
   "source": [
    "plt.triplot(Xf, Yf, dreiecke.simplices)\n",
    "plt.axis('equal');"
   ]
  },
  {
   "cell_type": "markdown",
   "metadata": {},
   "source": [
    "Delaunay trianguliert immer die konvexe Hülle"
   ]
  },
  {
   "cell_type": "code",
   "execution_count": null,
   "metadata": {
    "slideshow": {
     "slide_type": "slide"
    }
   },
   "outputs": [],
   "source": [
    "z = Symbol('z')"
   ]
  },
  {
   "cell_type": "code",
   "execution_count": null,
   "metadata": {},
   "outputs": [],
   "source": [
    "v = z/(1+z**4)\n",
    "pole = [complex(p.n()) for p in solveset(Eq(denom(v), 0))]"
   ]
  },
  {
   "cell_type": "code",
   "execution_count": null,
   "metadata": {},
   "outputs": [],
   "source": [
    "v"
   ]
  },
  {
   "cell_type": "code",
   "execution_count": null,
   "metadata": {},
   "outputs": [],
   "source": [
    "pole"
   ]
  },
  {
   "cell_type": "code",
   "execution_count": null,
   "metadata": {
    "slideshow": {
     "slide_type": "slide"
    }
   },
   "outputs": [],
   "source": [
    "epsilon = .07\n",
    "r = np.linspace(0, 2, 100)\n",
    "phi = np.linspace(0, 2*np.pi, 400)\n",
    "R, Phi = np.meshgrid(r, phi)\n",
    "Rf = R.flatten()\n",
    "Phi_f = Phi.flatten()\n",
    "Z = Rf*np.exp(1j*Phi_f)\n",
    "\n",
    "tn = np.linspace(0, 2*np.pi, 120) # kleine Kreise um die Pole\n",
    "for pol in pole:\n",
    "    z_neu = pol + epsilon*np.exp(1j*tn)\n",
    "    Z = np.hstack([Z, z_neu])\n",
    "X = Z.real\n",
    "Y = Z.imag\n",
    "V = Z / (1+Z**4)\n",
    "W = abs(V)\n",
    "Theta = np.angle(V)\n",
    "d = Delaunay(np.array([X, Y]).T)"
   ]
  },
  {
   "cell_type": "code",
   "execution_count": null,
   "metadata": {
    "slideshow": {
     "slide_type": "slide"
    }
   },
   "outputs": [],
   "source": [
    "plt.figure(figsize=(4,4))\n",
    "plt.triplot(X, Y, d.simplices)\n",
    "plt.axis(xmin=.6, xmax=.8, ymin=.6, ymax=.8);"
   ]
  },
  {
   "cell_type": "code",
   "execution_count": null,
   "metadata": {
    "slideshow": {
     "slide_type": "slide"
    }
   },
   "outputs": [],
   "source": [
    "def dreieck_gueltig(simplex, d):\n",
    "    punkte = [d.points[nr] for nr in simplex]\n",
    "    for p in punkte:\n",
    "        z = p[0] + 1j*p[1]\n",
    "        for pol in pole:\n",
    "            if abs(pol-z) < .999*epsilon:\n",
    "                return False\n",
    "    return True\n",
    "\n",
    "simplices = [s for s in d.simplices if dreieck_gueltig(s, d)]\n",
    "plt.figure(figsize=(4,4))\n",
    "plt.triplot(X, Y, simplices)\n",
    "plt.axis(xmin=.6, xmax=.8, ymin=.6, ymax=.8);"
   ]
  },
  {
   "cell_type": "code",
   "execution_count": null,
   "metadata": {
    "slideshow": {
     "slide_type": "slide"
    }
   },
   "outputs": [],
   "source": [
    "mlab.close()\n",
    "mlab.triangular_mesh(X, Y, W, simplices, \n",
    "                         scalars=Theta, colormap='hsv')"
   ]
  },
  {
   "cell_type": "markdown",
   "metadata": {
    "slideshow": {
     "slide_type": "slide"
    }
   },
   "source": [
    "Ein Beispiel aus Lektion 5"
   ]
  },
  {
   "cell_type": "code",
   "execution_count": null,
   "metadata": {
    "scrolled": true
   },
   "outputs": [],
   "source": [
    "xn = np.linspace(-1.8, 1.2)\n",
    "yn = np.linspace(-1.3, 1.3)\n",
    "zn = np.linspace(-1.3, 1.3)\n",
    "X, Y, Z = np.meshgrid(xn, yn, zn)\n",
    "H = Y**2 - (X-1)*(X+1)**2 - Z**2\n",
    "mlab.close()\n",
    "mlab.contour3d(H, contours=[0])"
   ]
  }
 ],
 "metadata": {
  "celltoolbar": "Slideshow",
  "kernelspec": {
   "display_name": "Python 3",
   "language": "python",
   "name": "python3"
  },
  "language_info": {
   "codemirror_mode": {
    "name": "ipython",
    "version": 3
   },
   "file_extension": ".py",
   "mimetype": "text/x-python",
   "name": "python",
   "nbconvert_exporter": "python",
   "pygments_lexer": "ipython3",
   "version": "3.6.8"
  }
 },
 "nbformat": 4,
 "nbformat_minor": 2
}
