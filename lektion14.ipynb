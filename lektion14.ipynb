{
 "cells": [
  {
   "cell_type": "code",
   "execution_count": null,
   "metadata": {},
   "outputs": [],
   "source": [
    "from mayavi import mlab\n",
    "import numpy"
   ]
  },
  {
   "cell_type": "code",
   "execution_count": null,
   "metadata": {},
   "outputs": [],
   "source": [
    "from numpy import pi, sin, cos, mgrid\n",
    "dphi, dtheta = pi/250.0, pi/250.0\n",
    "[phi,theta] = mgrid[0:pi+dphi*1.5:dphi,0:2*pi+dtheta*1.5:dtheta]\n",
    "m0 = 4; m1 = 3; m2 = 2; m3 = 3; m4 = 6; m5 = 2; m6 = 6; m7 = 4;\n",
    "r = sin(m0*phi)**m1 + cos(m2*phi)**m3 + sin(m4*theta)**m5 + cos(m6*theta)**m7\n",
    "x = r*sin(phi)*cos(theta)\n",
    "y = r*cos(phi)\n",
    "z = r*sin(phi)*sin(theta)"
   ]
  },
  {
   "cell_type": "code",
   "execution_count": null,
   "metadata": {},
   "outputs": [],
   "source": [
    "s = mlab.mesh(x, y, z)\n",
    "mlab.show()"
   ]
  },
  {
   "cell_type": "code",
   "execution_count": null,
   "metadata": {},
   "outputs": [],
   "source": [
    "import numpy as np\n",
    "from scipy.spatial import Delaunay \n",
    "from mayavi import mlab\n",
    "import sympy\n",
    "sympy.init_printing()"
   ]
  },
  {
   "cell_type": "code",
   "execution_count": null,
   "metadata": {},
   "outputs": [],
   "source": [
    "def test_triangular_mesh(cmap):\n",
    "    \"\"\"An example of a cone, ie a non-regular mesh defined by its\n",
    "        triangles.\n",
    "    \"\"\"\n",
    "    n = 80\n",
    "    t = np.linspace(-np.pi, np.pi, n)\n",
    "    z = np.exp(1j * t)\n",
    "    x = z.real.copy()\n",
    "    y = z.imag.copy()\n",
    "    z = np.zeros_like(x)\n",
    "\n",
    "    triangles = [(0, i, i + 1) for i in range(1, n)]\n",
    "    x = np.r_[0, x]\n",
    "    y = np.r_[0, y]\n",
    "    z = np.r_[1, z]\n",
    "    t = np.r_[0, t]\n",
    "\n",
    "    return mlab.triangular_mesh(x, y, z, triangles, scalars=t, colormap=cmap)"
   ]
  },
  {
   "cell_type": "code",
   "execution_count": null,
   "metadata": {},
   "outputs": [],
   "source": [
    "def plot_rational_curve():\n",
    "    r = np.linspace(0, 2, 100)\n",
    "    phi = np.linspace(0, 2*np.pi, 400)\n",
    "    R, Phi = np.meshgrid(r, phi)\n",
    "    Z = R*np.exp(1j*Phi)\n",
    "    V = Z / (1+Z**4)\n",
    "    W = abs(V)\n",
    "    B = W < 4\n",
    "    Rf = R[B].flatten()\n",
    "    Phi_f = Phi[B].flatten()\n",
    "    Zf = Z[B].flatten()\n",
    "    Xf = Zf.real\n",
    "    Yf = Zf.imag\n",
    "    Vf = V[B].flatten()\n",
    "    Wf = abs(Vf)\n",
    "    Theta_f = np.angle(Vf)\n",
    "    dreiecke = Delaunay(np.array([Rf, Phi_f]).T)\n",
    "    mlab.triangular_mesh(Xf, Yf, Wf, dreiecke.simplices,\n",
    "                         scalars=Theta_f, colormap='hsv')\n",
    "\n"
   ]
  },
  {
   "cell_type": "code",
   "execution_count": null,
   "metadata": {},
   "outputs": [],
   "source": [
    "def plot_moebiusband():\n",
    "    t = sympy.Symbol('t')\n",
    "    s = sympy.Symbol('s')\n",
    "    M = sympy.Matrix([ 3*sympy.cos(t) + s*sympy.sin(t/2),\n",
    "                       3*sympy.sin(t),\n",
    "                       s*sympy.cos(t/2)])\n",
    "    sn = np.linspace(-1, 1)\n",
    "    tn = np.linspace(0, 2*np.pi)\n",
    "    S1, T1 = np.meshgrid(sn, tn)\n",
    "    Sn, Tn = S1.T, T1.T\n",
    "    fn = [sympy.lambdify((s,t), M[j], 'numpy') for j in range(3)]\n",
    "    Xn = [fn[j](Sn, Tn) for j in range(3)]\n",
    "    mlab.mesh(Xn[0], Xn[1], Xn[2], color=(1,0,0))\n",
    "    return M"
   ]
  },
  {
   "cell_type": "code",
   "execution_count": null,
   "metadata": {},
   "outputs": [],
   "source": [
    "def plot_normale(M):\n",
    "    s = sympy.Symbol('s')\n",
    "    t = sympy.Symbol('t')\n",
    "    seele = M.subs(s, 0)\n",
    "    Mt = seele.diff(t)\n",
    "    Ms = M.diff(s)\n",
    "    display(Mt, Ms)\n",
    "    N = Mt.cross(Ms)\n",
    "    display(N)\n",
    "    N_ein = seele + s*N/N.norm()\n",
    "    sn = np.linspace(0.05, 1)\n",
    "    tn = np.linspace(0, 2*np.pi)\n",
    "    S1, T1 = np.meshgrid(sn, tn)\n",
    "    Sn, Tn = S1.T, T1.T\n",
    "    Nn = [sympy.lambdify((s,t), N_ein[j], 'numpy') for j in range(3)]\n",
    "    Xn = [Nn[j](Sn, Tn) for j in range(3)]\n",
    "    mlab.mesh(Xn[0], Xn[1], Xn[2], color=(1,.8,0))"
   ]
  },
  {
   "cell_type": "code",
   "execution_count": null,
   "metadata": {},
   "outputs": [],
   "source": [
    "test_triangular_mesh('hsv')\n",
    "mlab.show()"
   ]
  },
  {
   "cell_type": "code",
   "execution_count": null,
   "metadata": {},
   "outputs": [],
   "source": [
    "plot_rational_curve()\n",
    "mlab.show()"
   ]
  },
  {
   "cell_type": "code",
   "execution_count": null,
   "metadata": {},
   "outputs": [],
   "source": [
    "M = plot_moebiusband()\n",
    "plot_normale(M)\n",
    "mlab.show()"
   ]
  },
  {
   "cell_type": "code",
   "execution_count": null,
   "metadata": {},
   "outputs": [],
   "source": []
  }
 ],
 "metadata": {
  "kernelspec": {
   "display_name": "Python 3",
   "language": "python",
   "name": "python3"
  },
  "language_info": {
   "codemirror_mode": {
    "name": "ipython",
    "version": 3
   },
   "file_extension": ".py",
   "mimetype": "text/x-python",
   "name": "python",
   "nbconvert_exporter": "python",
   "pygments_lexer": "ipython3",
   "version": "3.6.6"
  }
 },
 "nbformat": 4,
 "nbformat_minor": 2
}
